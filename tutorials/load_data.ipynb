{
  "cells": [
    {
      "cell_type": "markdown",
      "metadata": {
        "id": "9hVIN7QW2etU"
      },
      "source": [
        "First, `pip install`"
      ]
    },
    {
      "cell_type": "code",
      "execution_count": 1,
      "metadata": {
        "colab": {
          "base_uri": "https://localhost:8080/"
        },
        "id": "QkzAsRon2ZIw",
        "outputId": "6c93bdbc-4d0b-4d46-fc11-b46a3d272317"
      },
      "outputs": [],
      "source": [
        "# !pip install relbench==1.0.0"
      ]
    },
    {
      "cell_type": "code",
      "execution_count": 3,
      "metadata": {
        "colab": {
          "base_uri": "https://localhost:8080/",
          "height": 36
        },
        "execution": {
          "iopub.execute_input": "2024-07-26T00:05:49.632075Z",
          "iopub.status.busy": "2024-07-26T00:05:49.631608Z",
          "iopub.status.idle": "2024-07-26T00:05:50.292148Z",
          "shell.execute_reply": "2024-07-26T00:05:50.291507Z",
          "shell.execute_reply.started": "2024-07-26T00:05:49.632018Z"
        },
        "id": "qUk7KqNI9Avp",
        "outputId": "6610d779-9b5b-4a1f-b525-a7610eb52d2b"
      },
      "outputs": [
        {
          "data": {
            "application/vnd.google.colaboratory.intrinsic+json": {
              "type": "string"
            },
            "text/plain": [
              "'1.0.0'"
            ]
          },
          "execution_count": 3,
          "metadata": {},
          "output_type": "execute_result"
        }
      ],
      "source": [
        "import relbench\n",
        "\n",
        "relbench.__version__"
      ]
    },
    {
      "cell_type": "markdown",
      "metadata": {
        "id": "yLfAfxNO-LBV"
      },
      "source": [
        "To start we can check all of the databases currently available in RelBench by printing:"
      ]
    },
    {
      "cell_type": "code",
      "execution_count": 2,
      "metadata": {
        "colab": {
          "base_uri": "https://localhost:8080/"
        },
        "id": "ApqEZu5--HJy",
        "outputId": "78289489-0ab2-4cd4-fce3-ca91d6ffde42"
      },
      "outputs": [
        {
          "data": {
            "text/plain": [
              "['rel-amazon',\n",
              " 'rel-avito',\n",
              " 'rel-event',\n",
              " 'rel-f1',\n",
              " 'rel-hm',\n",
              " 'rel-stack',\n",
              " 'rel-trial']"
            ]
          },
          "execution_count": 2,
          "metadata": {},
          "output_type": "execute_result"
        }
      ],
      "source": [
        "from relbench.datasets import get_dataset_names\n",
        "\n",
        "get_dataset_names()"
      ]
    },
    {
      "cell_type": "markdown",
      "metadata": {
        "id": "foOR0gDJ2j1s"
      },
      "source": [
        "# Get dataset\n",
        "\n",
        "Let's start with the F1 dataset since it's the smallest and is easy to work with. All it takes is one line!\n"
      ]
    },
    {
      "cell_type": "code",
      "execution_count": 3,
      "metadata": {
        "colab": {
          "base_uri": "https://localhost:8080/"
        },
        "id": "RsAPkjOk2hDn",
        "outputId": "3c647770-a96d-4e2f-df4e-5e67bc14ee1b"
      },
      "outputs": [],
      "source": [
        "from relbench.datasets import get_dataset\n",
        "\n",
        "dataset = get_dataset(name=\"rel-f1\", download=True)"
      ]
    },
    {
      "cell_type": "markdown",
      "metadata": {
        "id": "M3dJVd8A2sOt"
      },
      "source": [
        "Use `download=True` the first time you load a patricular dataset to automatically download the data from the RelBench server onto your machine.\n",
        "\n",
        "Now we have loaded the database, let's start poking around to see what's inside."
      ]
    },
    {
      "cell_type": "markdown",
      "metadata": {
        "id": "lgeqc7x82596"
      },
      "source": [
        "# Val / Test cutoffs\n",
        "\n",
        "We can check the val/test time cutoffs as follows:"
      ]
    },
    {
      "cell_type": "code",
      "execution_count": 4,
      "metadata": {
        "colab": {
          "base_uri": "https://localhost:8080/"
        },
        "id": "239e0MQB2yMO",
        "outputId": "de172140-0f71-48a0-891f-a214cf4862c1"
      },
      "outputs": [
        {
          "data": {
            "text/plain": [
              "(Timestamp('2005-01-01 00:00:00'), Timestamp('2010-01-01 00:00:00'))"
            ]
          },
          "execution_count": 4,
          "metadata": {},
          "output_type": "execute_result"
        }
      ],
      "source": [
        "dataset.val_timestamp, dataset.test_timestamp"
      ]
    },
    {
      "cell_type": "markdown",
      "metadata": {
        "id": "-75pIuTV3Ae6"
      },
      "source": [
        "This means that information upto 2005 can be used for training, and upto 2010 can be used for validation.\n",
        "\n",
        "Note that it is a RelBench design choice to make the validation and test cutoffs a dataset property, _not_ a task-specific property. In other words, all tasks for a given database use the same time splits.\n",
        "\n",
        "\n",
        "# Load database\n",
        "\n",
        "Next we check out the database itself..."
      ]
    },
    {
      "cell_type": "code",
      "execution_count": 5,
      "metadata": {
        "colab": {
          "base_uri": "https://localhost:8080/"
        },
        "id": "dm1f8YDF273p",
        "outputId": "31116b31-a37c-4e1d-9f57-f10c19b85cb6"
      },
      "outputs": [
        {
          "name": "stdout",
          "output_type": "stream",
          "text": [
            "Loading Database object from C:\\Users\\andrea\\AppData\\Local\\relbench\\relbench\\Cache/rel-f1/db...\n",
            "Done in 0.24 seconds.\n"
          ]
        }
      ],
      "source": [
        "db = dataset.get_db()"
      ]
    },
    {
      "cell_type": "markdown",
      "metadata": {
        "id": "kpBRvvqb3FXQ"
      },
      "source": [
        "*This* returns a RelBench `Database` object. By default, the rows with timestamp > test_timestamp are excluded to prevent accidental test set leakage.\n",
        "The complete database can be loaded with `database.get_db(upto_test_timestamp=False)`."
      ]
    },
    {
      "cell_type": "markdown",
      "metadata": {
        "id": "H9mRPjk33JfQ"
      },
      "source": [
        "With this we can double check the full timespan of the database:"
      ]
    },
    {
      "cell_type": "code",
      "execution_count": 6,
      "metadata": {
        "colab": {
          "base_uri": "https://localhost:8080/"
        },
        "id": "Ahk12agU3HLA",
        "outputId": "693916d7-e26f-40ca-ef39-809d63601e21"
      },
      "outputs": [
        {
          "data": {
            "text/plain": [
              "(Timestamp('1950-05-13 00:00:00'), Timestamp('2009-11-01 11:00:00'))"
            ]
          },
          "execution_count": 6,
          "metadata": {},
          "output_type": "execute_result"
        }
      ],
      "source": [
        "db.min_timestamp, db.max_timestamp"
      ]
    },
    {
      "cell_type": "markdown",
      "metadata": {
        "id": "oKmC3R-H3OIU"
      },
      "source": [
        "1950 is the first season for F1! So we have data for the full history of F1. Note that the `max_timestamp` is the same as `test_timestamp`."
      ]
    },
    {
      "cell_type": "markdown",
      "metadata": {
        "id": "zmGcKvxX3SO5"
      },
      "source": [
        "Next let's check out the tables in the database.\n",
        "\n",
        "More info on the schemas for F1 and all other datasets can be found at https://relbench.stanford.edu/."
      ]
    },
    {
      "cell_type": "markdown",
      "metadata": {
        "id": "7RobvEoY3XQt"
      },
      "source": [
        "We have the following tables:"
      ]
    },
    {
      "cell_type": "code",
      "execution_count": 7,
      "metadata": {
        "colab": {
          "base_uri": "https://localhost:8080/"
        },
        "id": "LyAdmIry3UFl",
        "outputId": "d56181b5-6f2e-435d-c491-a2b52336e178"
      },
      "outputs": [
        {
          "data": {
            "text/plain": [
              "dict_keys(['circuits', 'constructors', 'constructor_results', 'constructor_standings', 'drivers', 'qualifying', 'races', 'results', 'standings'])"
            ]
          },
          "execution_count": 7,
          "metadata": {},
          "output_type": "execute_result"
        }
      ],
      "source": [
        "db.table_dict.keys()"
      ]
    },
    {
      "cell_type": "markdown",
      "metadata": {
        "id": "3sdJ6OgukDrL"
      },
      "source": [
        "That's 9 tables total! Let's look more closely at one of them."
      ]
    },
    {
      "cell_type": "code",
      "execution_count": 8,
      "metadata": {
        "colab": {
          "base_uri": "https://localhost:8080/"
        },
        "id": "n0OGtbMy3Y2n",
        "outputId": "5330ba58-06cb-407f-a758-781a6023b9d1"
      },
      "outputs": [
        {
          "data": {
            "text/plain": [
              "Table(df=\n",
              "     driverId        driverRef code  forename     surname        dob  \\\n",
              "0           0         hamilton  HAM     Lewis    Hamilton 1985-01-07   \n",
              "1           1         heidfeld  HEI      Nick    Heidfeld 1977-05-10   \n",
              "2           2          rosberg  ROS      Nico     Rosberg 1985-06-27   \n",
              "3           3           alonso  ALO  Fernando      Alonso 1981-07-29   \n",
              "4           4       kovalainen  KOV    Heikki  Kovalainen 1981-10-19   \n",
              "..        ...              ...  ...       ...         ...        ...   \n",
              "852       852  mick_schumacher  MSC      Mick  Schumacher 1999-03-22   \n",
              "853       853             zhou  ZHO    Guanyu        Zhou 1999-05-30   \n",
              "854       854         de_vries  DEV      Nyck    de Vries 1995-02-06   \n",
              "855       855          piastri  PIA     Oscar     Piastri 2001-04-06   \n",
              "856       856         sargeant  SAR     Logan    Sargeant 2000-12-31   \n",
              "\n",
              "    nationality  \n",
              "0       British  \n",
              "1        German  \n",
              "2        German  \n",
              "3       Spanish  \n",
              "4       Finnish  \n",
              "..          ...  \n",
              "852      German  \n",
              "853     Chinese  \n",
              "854       Dutch  \n",
              "855  Australian  \n",
              "856    American  \n",
              "\n",
              "[857 rows x 7 columns],\n",
              "  fkey_col_to_pkey_table={},\n",
              "  pkey_col=driverId,\n",
              "  time_col=None)"
            ]
          },
          "execution_count": 8,
          "metadata": {},
          "output_type": "execute_result"
        }
      ],
      "source": [
        "table = db.table_dict[\"drivers\"]\n",
        "table"
      ]
    },
    {
      "cell_type": "markdown",
      "metadata": {
        "id": "ZPEZo1TNkMaU"
      },
      "source": [
        "The `drivers` table stores information on all F1 drivers that ever competed in a race. Note that the table comes with multiple bits of information:\n",
        "- The table itself, `table.df` which is simply a Pandas DataFrame.\n",
        "- The primary key column, `table.pkey_col`, which indicates that the `driverId` column holds the primary key for this particular table in the database.\n",
        "- The primary time column, `table.time_col` which, if the entity is an event, records the time an event happened. In the case of drivers, they are non-temporal entities, so `table.time_col=None`.\n",
        "- The other tables that foreign keys points to `table.fkey_col_to_pkey_table`. If the table has any foreign key columns, then this dict indicates which table we foreign key corresponds to. Again in the case of drivers this is not applicable.\n",
        "\n",
        "We can start to explore the data a little, e.g., check out the oldest and youngest ever F1 drivers, spanning 3 centuries!"
      ]
    },
    {
      "cell_type": "code",
      "execution_count": 9,
      "metadata": {
        "colab": {
          "base_uri": "https://localhost:8080/",
          "height": 303
        },
        "id": "paE62mcKkDCF",
        "outputId": "f9acae17-5e3c-4c9f-bf36-2c9eeb1e5c7f"
      },
      "outputs": [
        {
          "data": {
            "text/plain": [
              "driverId                       855\n",
              "driverRef                  piastri\n",
              "code                           PIA\n",
              "forename                     Oscar\n",
              "surname                    Piastri\n",
              "dob            2001-04-06 00:00:00\n",
              "nationality             Australian\n",
              "Name: 855, dtype: object"
            ]
          },
          "execution_count": 9,
          "metadata": {},
          "output_type": "execute_result"
        }
      ],
      "source": [
        "table.df.iloc[table.df[\"dob\"].idxmax()]"
      ]
    },
    {
      "cell_type": "code",
      "execution_count": 12,
      "metadata": {
        "colab": {
          "base_uri": "https://localhost:8080/",
          "height": 303
        },
        "id": "pqxywakH29js",
        "outputId": "3dde957f-5dac-448b-89e1-3ace9ebf6279"
      },
      "outputs": [
        {
          "data": {
            "text/html": [
              "<div>\n",
              "<style scoped>\n",
              "    .dataframe tbody tr th:only-of-type {\n",
              "        vertical-align: middle;\n",
              "    }\n",
              "\n",
              "    .dataframe tbody tr th {\n",
              "        vertical-align: top;\n",
              "    }\n",
              "\n",
              "    .dataframe thead th {\n",
              "        text-align: right;\n",
              "    }\n",
              "</style>\n",
              "<table border=\"1\" class=\"dataframe\">\n",
              "  <thead>\n",
              "    <tr style=\"text-align: right;\">\n",
              "      <th></th>\n",
              "      <th>741</th>\n",
              "    </tr>\n",
              "  </thead>\n",
              "  <tbody>\n",
              "    <tr>\n",
              "      <th>driverId</th>\n",
              "      <td>741</td>\n",
              "    </tr>\n",
              "    <tr>\n",
              "      <th>driverRef</th>\n",
              "      <td>etancelin</td>\n",
              "    </tr>\n",
              "    <tr>\n",
              "      <th>code</th>\n",
              "      <td>\\N</td>\n",
              "    </tr>\n",
              "    <tr>\n",
              "      <th>forename</th>\n",
              "      <td>Philippe</td>\n",
              "    </tr>\n",
              "    <tr>\n",
              "      <th>surname</th>\n",
              "      <td>Étancelin</td>\n",
              "    </tr>\n",
              "    <tr>\n",
              "      <th>dob</th>\n",
              "      <td>1896-12-28 00:00:00</td>\n",
              "    </tr>\n",
              "    <tr>\n",
              "      <th>nationality</th>\n",
              "      <td>French</td>\n",
              "    </tr>\n",
              "  </tbody>\n",
              "</table>\n",
              "</div><br><label><b>dtype:</b> object</label>"
            ],
            "text/plain": [
              "driverId                       741\n",
              "driverRef                etancelin\n",
              "code                            \\N\n",
              "forename                  Philippe\n",
              "surname                  Étancelin\n",
              "dob            1896-12-28 00:00:00\n",
              "nationality                 French\n",
              "Name: 741, dtype: object"
            ]
          },
          "execution_count": 12,
          "metadata": {},
          "output_type": "execute_result"
        }
      ],
      "source": [
        "table.df.iloc[table.df[\"dob\"].idxmin()]"
      ]
    },
    {
      "cell_type": "markdown",
      "metadata": {
        "id": "VJ3Se_Irkff1"
      },
      "source": [
        "Going back to the `table.time_col` and `table.fkey_col_to_pkey_table`, the `results` table contains a non-trivial example."
      ]
    },
    {
      "cell_type": "code",
      "execution_count": 13,
      "metadata": {
        "colab": {
          "base_uri": "https://localhost:8080/",
          "height": 423
        },
        "id": "DSmDQc3Pke5c",
        "outputId": "607577e9-1766-434a-b00d-eabf70a36ac3"
      },
      "outputs": [
        {
          "data": {
            "application/vnd.google.colaboratory.intrinsic+json": {
              "summary": "{\n  \"name\": \"table\",\n  \"rows\": 20323,\n  \"fields\": [\n    {\n      \"column\": \"resultId\",\n      \"properties\": {\n        \"dtype\": \"Int64\",\n        \"num_unique_values\": 20323,\n        \"samples\": [\n          8086,\n          10911,\n          3018\n        ],\n        \"semantic_type\": \"\",\n        \"description\": \"\"\n      }\n    },\n    {\n      \"column\": \"raceId\",\n      \"properties\": {\n        \"dtype\": \"Int64\",\n        \"num_unique_values\": 820,\n        \"samples\": [\n          641,\n          333,\n          67\n        ],\n        \"semantic_type\": \"\",\n        \"description\": \"\"\n      }\n    },\n    {\n      \"column\": \"driverId\",\n      \"properties\": {\n        \"dtype\": \"Int64\",\n        \"num_unique_values\": 806,\n        \"samples\": [\n          141,\n          600,\n          561\n        ],\n        \"semantic_type\": \"\",\n        \"description\": \"\"\n      }\n    },\n    {\n      \"column\": \"constructorId\",\n      \"properties\": {\n        \"dtype\": \"Int64\",\n        \"num_unique_values\": 199,\n        \"samples\": [\n          33,\n          105,\n          80\n        ],\n        \"semantic_type\": \"\",\n        \"description\": \"\"\n      }\n    },\n    {\n      \"column\": \"number\",\n      \"properties\": {\n        \"dtype\": \"number\",\n        \"std\": 12.618109254667374,\n        \"min\": 0.0,\n        \"max\": 208.0,\n        \"num_unique_values\": 128,\n        \"samples\": [\n          58.0,\n          62.0,\n          23.0\n        ],\n        \"semantic_type\": \"\",\n        \"description\": \"\"\n      }\n    },\n    {\n      \"column\": \"grid\",\n      \"properties\": {\n        \"dtype\": \"number\",\n        \"std\": 7,\n        \"min\": 0,\n        \"max\": 34,\n        \"num_unique_values\": 35,\n        \"samples\": [\n          29,\n          9,\n          28\n        ],\n        \"semantic_type\": \"\",\n        \"description\": \"\"\n      }\n    },\n    {\n      \"column\": \"position\",\n      \"properties\": {\n        \"dtype\": \"number\",\n        \"std\": 4.368745850543267,\n        \"min\": 1.0,\n        \"max\": 33.0,\n        \"num_unique_values\": 33,\n        \"samples\": [\n          26.0,\n          19.0,\n          31.0\n        ],\n        \"semantic_type\": \"\",\n        \"description\": \"\"\n      }\n    },\n    {\n      \"column\": \"positionOrder\",\n      \"properties\": {\n        \"dtype\": \"number\",\n        \"std\": 8,\n        \"min\": 1,\n        \"max\": 39,\n        \"num_unique_values\": 39,\n        \"samples\": [\n          34,\n          38,\n          19\n        ],\n        \"semantic_type\": \"\",\n        \"description\": \"\"\n      }\n    },\n    {\n      \"column\": \"points\",\n      \"properties\": {\n        \"dtype\": \"number\",\n        \"std\": 2.3409589523699865,\n        \"min\": 0.0,\n        \"max\": 10.0,\n        \"num_unique_values\": 23,\n        \"samples\": [\n          4.14,\n          7.0,\n          0.0\n        ],\n        \"semantic_type\": \"\",\n        \"description\": \"\"\n      }\n    },\n    {\n      \"column\": \"laps\",\n      \"properties\": {\n        \"dtype\": \"number\",\n        \"std\": 32,\n        \"min\": 0,\n        \"max\": 200,\n        \"num_unique_values\": 172,\n        \"samples\": [\n          80,\n          146,\n          134\n        ],\n        \"semantic_type\": \"\",\n        \"description\": \"\"\n      }\n    },\n    {\n      \"column\": \"milliseconds\",\n      \"properties\": {\n        \"dtype\": \"number\",\n        \"std\": 1863478.9976882066,\n        \"min\": 1474899.0,\n        \"max\": 15090540.0,\n        \"num_unique_values\": 4340,\n        \"samples\": [\n          7276534.0,\n          6101558.0,\n          5954029.0\n        ],\n        \"semantic_type\": \"\",\n        \"description\": \"\"\n      }\n    },\n    {\n      \"column\": \"fastestLap\",\n      \"properties\": {\n        \"dtype\": \"number\",\n        \"std\": 18.11551748888179,\n        \"min\": 2.0,\n        \"max\": 77.0,\n        \"num_unique_values\": 76,\n        \"samples\": [\n          10.0,\n          18.0,\n          29.0\n        ],\n        \"semantic_type\": \"\",\n        \"description\": \"\"\n      }\n    },\n    {\n      \"column\": \"rank\",\n      \"properties\": {\n        \"dtype\": \"number\",\n        \"std\": 5.7908007802836625,\n        \"min\": 1.0,\n        \"max\": 22.0,\n        \"num_unique_values\": 22,\n        \"samples\": [\n          14.0,\n          3.0,\n          16.0\n        ],\n        \"semantic_type\": \"\",\n        \"description\": \"\"\n      }\n    },\n    {\n      \"column\": \"statusId\",\n      \"properties\": {\n        \"dtype\": \"number\",\n        \"std\": 27,\n        \"min\": 1,\n        \"max\": 127,\n        \"num_unique_values\": 125,\n        \"samples\": [\n          67,\n          80,\n          31\n        ],\n        \"semantic_type\": \"\",\n        \"description\": \"\"\n      }\n    },\n    {\n      \"column\": \"date\",\n      \"properties\": {\n        \"dtype\": \"date\",\n        \"min\": \"1950-05-13 00:00:00\",\n        \"max\": \"2009-11-01 11:00:00\",\n        \"num_unique_values\": 820,\n        \"samples\": [\n          \"1999-08-29 00:00:00\",\n          \"1980-05-18 00:00:00\",\n          \"1958-05-30 00:00:00\"\n        ],\n        \"semantic_type\": \"\",\n        \"description\": \"\"\n      }\n    }\n  ]\n}",
              "type": "dataframe"
            },
            "text/html": [
              "\n",
              "  <div id=\"df-0798da30-30e7-43c9-82eb-14b69f6fa71e\" class=\"colab-df-container\">\n",
              "    <div>\n",
              "<style scoped>\n",
              "    .dataframe tbody tr th:only-of-type {\n",
              "        vertical-align: middle;\n",
              "    }\n",
              "\n",
              "    .dataframe tbody tr th {\n",
              "        vertical-align: top;\n",
              "    }\n",
              "\n",
              "    .dataframe thead th {\n",
              "        text-align: right;\n",
              "    }\n",
              "</style>\n",
              "<table border=\"1\" class=\"dataframe\">\n",
              "  <thead>\n",
              "    <tr style=\"text-align: right;\">\n",
              "      <th></th>\n",
              "      <th>resultId</th>\n",
              "      <th>raceId</th>\n",
              "      <th>driverId</th>\n",
              "      <th>constructorId</th>\n",
              "      <th>number</th>\n",
              "      <th>grid</th>\n",
              "      <th>position</th>\n",
              "      <th>positionOrder</th>\n",
              "      <th>points</th>\n",
              "      <th>laps</th>\n",
              "      <th>milliseconds</th>\n",
              "      <th>fastestLap</th>\n",
              "      <th>rank</th>\n",
              "      <th>statusId</th>\n",
              "      <th>date</th>\n",
              "    </tr>\n",
              "  </thead>\n",
              "  <tbody>\n",
              "    <tr>\n",
              "      <th>0</th>\n",
              "      <td>0</td>\n",
              "      <td>0</td>\n",
              "      <td>660</td>\n",
              "      <td>152</td>\n",
              "      <td>18.0</td>\n",
              "      <td>21</td>\n",
              "      <td>11.0</td>\n",
              "      <td>11</td>\n",
              "      <td>0.0</td>\n",
              "      <td>64</td>\n",
              "      <td>NaN</td>\n",
              "      <td>NaN</td>\n",
              "      <td>NaN</td>\n",
              "      <td>16</td>\n",
              "      <td>1950-05-13 00:00:00</td>\n",
              "    </tr>\n",
              "    <tr>\n",
              "      <th>1</th>\n",
              "      <td>1</td>\n",
              "      <td>0</td>\n",
              "      <td>790</td>\n",
              "      <td>149</td>\n",
              "      <td>8.0</td>\n",
              "      <td>12</td>\n",
              "      <td>NaN</td>\n",
              "      <td>21</td>\n",
              "      <td>0.0</td>\n",
              "      <td>2</td>\n",
              "      <td>NaN</td>\n",
              "      <td>NaN</td>\n",
              "      <td>NaN</td>\n",
              "      <td>126</td>\n",
              "      <td>1950-05-13 00:00:00</td>\n",
              "    </tr>\n",
              "    <tr>\n",
              "      <th>2</th>\n",
              "      <td>2</td>\n",
              "      <td>0</td>\n",
              "      <td>579</td>\n",
              "      <td>49</td>\n",
              "      <td>1.0</td>\n",
              "      <td>3</td>\n",
              "      <td>NaN</td>\n",
              "      <td>12</td>\n",
              "      <td>0.0</td>\n",
              "      <td>62</td>\n",
              "      <td>NaN</td>\n",
              "      <td>NaN</td>\n",
              "      <td>NaN</td>\n",
              "      <td>44</td>\n",
              "      <td>1950-05-13 00:00:00</td>\n",
              "    </tr>\n",
              "    <tr>\n",
              "      <th>3</th>\n",
              "      <td>3</td>\n",
              "      <td>0</td>\n",
              "      <td>661</td>\n",
              "      <td>149</td>\n",
              "      <td>9.0</td>\n",
              "      <td>10</td>\n",
              "      <td>NaN</td>\n",
              "      <td>20</td>\n",
              "      <td>0.0</td>\n",
              "      <td>5</td>\n",
              "      <td>NaN</td>\n",
              "      <td>NaN</td>\n",
              "      <td>NaN</td>\n",
              "      <td>6</td>\n",
              "      <td>1950-05-13 00:00:00</td>\n",
              "    </tr>\n",
              "    <tr>\n",
              "      <th>4</th>\n",
              "      <td>4</td>\n",
              "      <td>0</td>\n",
              "      <td>789</td>\n",
              "      <td>152</td>\n",
              "      <td>17.0</td>\n",
              "      <td>7</td>\n",
              "      <td>NaN</td>\n",
              "      <td>19</td>\n",
              "      <td>0.0</td>\n",
              "      <td>8</td>\n",
              "      <td>NaN</td>\n",
              "      <td>NaN</td>\n",
              "      <td>NaN</td>\n",
              "      <td>51</td>\n",
              "      <td>1950-05-13 00:00:00</td>\n",
              "    </tr>\n",
              "    <tr>\n",
              "      <th>...</th>\n",
              "      <td>...</td>\n",
              "      <td>...</td>\n",
              "      <td>...</td>\n",
              "      <td>...</td>\n",
              "      <td>...</td>\n",
              "      <td>...</td>\n",
              "      <td>...</td>\n",
              "      <td>...</td>\n",
              "      <td>...</td>\n",
              "      <td>...</td>\n",
              "      <td>...</td>\n",
              "      <td>...</td>\n",
              "      <td>...</td>\n",
              "      <td>...</td>\n",
              "      <td>...</td>\n",
              "    </tr>\n",
              "    <tr>\n",
              "      <th>20318</th>\n",
              "      <td>20318</td>\n",
              "      <td>819</td>\n",
              "      <td>1</td>\n",
              "      <td>1</td>\n",
              "      <td>6.0</td>\n",
              "      <td>8</td>\n",
              "      <td>5.0</td>\n",
              "      <td>5</td>\n",
              "      <td>4.0</td>\n",
              "      <td>55</td>\n",
              "      <td>5669667.0</td>\n",
              "      <td>54.0</td>\n",
              "      <td>7.0</td>\n",
              "      <td>1</td>\n",
              "      <td>2009-11-01 11:00:00</td>\n",
              "    </tr>\n",
              "    <tr>\n",
              "      <th>20319</th>\n",
              "      <td>20319</td>\n",
              "      <td>819</td>\n",
              "      <td>21</td>\n",
              "      <td>22</td>\n",
              "      <td>23.0</td>\n",
              "      <td>4</td>\n",
              "      <td>4.0</td>\n",
              "      <td>4</td>\n",
              "      <td>5.0</td>\n",
              "      <td>55</td>\n",
              "      <td>5666149.0</td>\n",
              "      <td>54.0</td>\n",
              "      <td>4.0</td>\n",
              "      <td>1</td>\n",
              "      <td>2009-11-01 11:00:00</td>\n",
              "    </tr>\n",
              "    <tr>\n",
              "      <th>20320</th>\n",
              "      <td>20320</td>\n",
              "      <td>819</td>\n",
              "      <td>17</td>\n",
              "      <td>22</td>\n",
              "      <td>22.0</td>\n",
              "      <td>5</td>\n",
              "      <td>3.0</td>\n",
              "      <td>3</td>\n",
              "      <td>6.0</td>\n",
              "      <td>55</td>\n",
              "      <td>5661881.0</td>\n",
              "      <td>49.0</td>\n",
              "      <td>6.0</td>\n",
              "      <td>1</td>\n",
              "      <td>2009-11-01 11:00:00</td>\n",
              "    </tr>\n",
              "    <tr>\n",
              "      <th>20321</th>\n",
              "      <td>20321</td>\n",
              "      <td>819</td>\n",
              "      <td>16</td>\n",
              "      <td>8</td>\n",
              "      <td>14.0</td>\n",
              "      <td>3</td>\n",
              "      <td>2.0</td>\n",
              "      <td>2</td>\n",
              "      <td>8.0</td>\n",
              "      <td>55</td>\n",
              "      <td>5661271.0</td>\n",
              "      <td>14.0</td>\n",
              "      <td>5.0</td>\n",
              "      <td>1</td>\n",
              "      <td>2009-11-01 11:00:00</td>\n",
              "    </tr>\n",
              "    <tr>\n",
              "      <th>20322</th>\n",
              "      <td>20322</td>\n",
              "      <td>819</td>\n",
              "      <td>2</td>\n",
              "      <td>2</td>\n",
              "      <td>16.0</td>\n",
              "      <td>9</td>\n",
              "      <td>9.0</td>\n",
              "      <td>9</td>\n",
              "      <td>0.0</td>\n",
              "      <td>55</td>\n",
              "      <td>5689355.0</td>\n",
              "      <td>49.0</td>\n",
              "      <td>15.0</td>\n",
              "      <td>1</td>\n",
              "      <td>2009-11-01 11:00:00</td>\n",
              "    </tr>\n",
              "  </tbody>\n",
              "</table>\n",
              "<p>20323 rows × 15 columns</p>\n",
              "</div>\n",
              "    <div class=\"colab-df-buttons\">\n",
              "\n",
              "  <div class=\"colab-df-container\">\n",
              "    <button class=\"colab-df-convert\" onclick=\"convertToInteractive('df-0798da30-30e7-43c9-82eb-14b69f6fa71e')\"\n",
              "            title=\"Convert this dataframe to an interactive table.\"\n",
              "            style=\"display:none;\">\n",
              "\n",
              "  <svg xmlns=\"http://www.w3.org/2000/svg\" height=\"24px\" viewBox=\"0 -960 960 960\">\n",
              "    <path d=\"M120-120v-720h720v720H120Zm60-500h600v-160H180v160Zm220 220h160v-160H400v160Zm0 220h160v-160H400v160ZM180-400h160v-160H180v160Zm440 0h160v-160H620v160ZM180-180h160v-160H180v160Zm440 0h160v-160H620v160Z\"/>\n",
              "  </svg>\n",
              "    </button>\n",
              "\n",
              "  <style>\n",
              "    .colab-df-container {\n",
              "      display:flex;\n",
              "      gap: 12px;\n",
              "    }\n",
              "\n",
              "    .colab-df-convert {\n",
              "      background-color: #E8F0FE;\n",
              "      border: none;\n",
              "      border-radius: 50%;\n",
              "      cursor: pointer;\n",
              "      display: none;\n",
              "      fill: #1967D2;\n",
              "      height: 32px;\n",
              "      padding: 0 0 0 0;\n",
              "      width: 32px;\n",
              "    }\n",
              "\n",
              "    .colab-df-convert:hover {\n",
              "      background-color: #E2EBFA;\n",
              "      box-shadow: 0px 1px 2px rgba(60, 64, 67, 0.3), 0px 1px 3px 1px rgba(60, 64, 67, 0.15);\n",
              "      fill: #174EA6;\n",
              "    }\n",
              "\n",
              "    .colab-df-buttons div {\n",
              "      margin-bottom: 4px;\n",
              "    }\n",
              "\n",
              "    [theme=dark] .colab-df-convert {\n",
              "      background-color: #3B4455;\n",
              "      fill: #D2E3FC;\n",
              "    }\n",
              "\n",
              "    [theme=dark] .colab-df-convert:hover {\n",
              "      background-color: #434B5C;\n",
              "      box-shadow: 0px 1px 3px 1px rgba(0, 0, 0, 0.15);\n",
              "      filter: drop-shadow(0px 1px 2px rgba(0, 0, 0, 0.3));\n",
              "      fill: #FFFFFF;\n",
              "    }\n",
              "  </style>\n",
              "\n",
              "    <script>\n",
              "      const buttonEl =\n",
              "        document.querySelector('#df-0798da30-30e7-43c9-82eb-14b69f6fa71e button.colab-df-convert');\n",
              "      buttonEl.style.display =\n",
              "        google.colab.kernel.accessAllowed ? 'block' : 'none';\n",
              "\n",
              "      async function convertToInteractive(key) {\n",
              "        const element = document.querySelector('#df-0798da30-30e7-43c9-82eb-14b69f6fa71e');\n",
              "        const dataTable =\n",
              "          await google.colab.kernel.invokeFunction('convertToInteractive',\n",
              "                                                    [key], {});\n",
              "        if (!dataTable) return;\n",
              "\n",
              "        const docLinkHtml = 'Like what you see? Visit the ' +\n",
              "          '<a target=\"_blank\" href=https://colab.research.google.com/notebooks/data_table.ipynb>data table notebook</a>'\n",
              "          + ' to learn more about interactive tables.';\n",
              "        element.innerHTML = '';\n",
              "        dataTable['output_type'] = 'display_data';\n",
              "        await google.colab.output.renderOutput(dataTable, element);\n",
              "        const docLink = document.createElement('div');\n",
              "        docLink.innerHTML = docLinkHtml;\n",
              "        element.appendChild(docLink);\n",
              "      }\n",
              "    </script>\n",
              "  </div>\n",
              "\n",
              "\n",
              "<div id=\"df-1e5f8278-e180-4c48-ac99-c516e0f80327\">\n",
              "  <button class=\"colab-df-quickchart\" onclick=\"quickchart('df-1e5f8278-e180-4c48-ac99-c516e0f80327')\"\n",
              "            title=\"Suggest charts\"\n",
              "            style=\"display:none;\">\n",
              "\n",
              "<svg xmlns=\"http://www.w3.org/2000/svg\" height=\"24px\"viewBox=\"0 0 24 24\"\n",
              "     width=\"24px\">\n",
              "    <g>\n",
              "        <path d=\"M19 3H5c-1.1 0-2 .9-2 2v14c0 1.1.9 2 2 2h14c1.1 0 2-.9 2-2V5c0-1.1-.9-2-2-2zM9 17H7v-7h2v7zm4 0h-2V7h2v10zm4 0h-2v-4h2v4z\"/>\n",
              "    </g>\n",
              "</svg>\n",
              "  </button>\n",
              "\n",
              "<style>\n",
              "  .colab-df-quickchart {\n",
              "      --bg-color: #E8F0FE;\n",
              "      --fill-color: #1967D2;\n",
              "      --hover-bg-color: #E2EBFA;\n",
              "      --hover-fill-color: #174EA6;\n",
              "      --disabled-fill-color: #AAA;\n",
              "      --disabled-bg-color: #DDD;\n",
              "  }\n",
              "\n",
              "  [theme=dark] .colab-df-quickchart {\n",
              "      --bg-color: #3B4455;\n",
              "      --fill-color: #D2E3FC;\n",
              "      --hover-bg-color: #434B5C;\n",
              "      --hover-fill-color: #FFFFFF;\n",
              "      --disabled-bg-color: #3B4455;\n",
              "      --disabled-fill-color: #666;\n",
              "  }\n",
              "\n",
              "  .colab-df-quickchart {\n",
              "    background-color: var(--bg-color);\n",
              "    border: none;\n",
              "    border-radius: 50%;\n",
              "    cursor: pointer;\n",
              "    display: none;\n",
              "    fill: var(--fill-color);\n",
              "    height: 32px;\n",
              "    padding: 0;\n",
              "    width: 32px;\n",
              "  }\n",
              "\n",
              "  .colab-df-quickchart:hover {\n",
              "    background-color: var(--hover-bg-color);\n",
              "    box-shadow: 0 1px 2px rgba(60, 64, 67, 0.3), 0 1px 3px 1px rgba(60, 64, 67, 0.15);\n",
              "    fill: var(--button-hover-fill-color);\n",
              "  }\n",
              "\n",
              "  .colab-df-quickchart-complete:disabled,\n",
              "  .colab-df-quickchart-complete:disabled:hover {\n",
              "    background-color: var(--disabled-bg-color);\n",
              "    fill: var(--disabled-fill-color);\n",
              "    box-shadow: none;\n",
              "  }\n",
              "\n",
              "  .colab-df-spinner {\n",
              "    border: 2px solid var(--fill-color);\n",
              "    border-color: transparent;\n",
              "    border-bottom-color: var(--fill-color);\n",
              "    animation:\n",
              "      spin 1s steps(1) infinite;\n",
              "  }\n",
              "\n",
              "  @keyframes spin {\n",
              "    0% {\n",
              "      border-color: transparent;\n",
              "      border-bottom-color: var(--fill-color);\n",
              "      border-left-color: var(--fill-color);\n",
              "    }\n",
              "    20% {\n",
              "      border-color: transparent;\n",
              "      border-left-color: var(--fill-color);\n",
              "      border-top-color: var(--fill-color);\n",
              "    }\n",
              "    30% {\n",
              "      border-color: transparent;\n",
              "      border-left-color: var(--fill-color);\n",
              "      border-top-color: var(--fill-color);\n",
              "      border-right-color: var(--fill-color);\n",
              "    }\n",
              "    40% {\n",
              "      border-color: transparent;\n",
              "      border-right-color: var(--fill-color);\n",
              "      border-top-color: var(--fill-color);\n",
              "    }\n",
              "    60% {\n",
              "      border-color: transparent;\n",
              "      border-right-color: var(--fill-color);\n",
              "    }\n",
              "    80% {\n",
              "      border-color: transparent;\n",
              "      border-right-color: var(--fill-color);\n",
              "      border-bottom-color: var(--fill-color);\n",
              "    }\n",
              "    90% {\n",
              "      border-color: transparent;\n",
              "      border-bottom-color: var(--fill-color);\n",
              "    }\n",
              "  }\n",
              "</style>\n",
              "\n",
              "  <script>\n",
              "    async function quickchart(key) {\n",
              "      const quickchartButtonEl =\n",
              "        document.querySelector('#' + key + ' button');\n",
              "      quickchartButtonEl.disabled = true;  // To prevent multiple clicks.\n",
              "      quickchartButtonEl.classList.add('colab-df-spinner');\n",
              "      try {\n",
              "        const charts = await google.colab.kernel.invokeFunction(\n",
              "            'suggestCharts', [key], {});\n",
              "      } catch (error) {\n",
              "        console.error('Error during call to suggestCharts:', error);\n",
              "      }\n",
              "      quickchartButtonEl.classList.remove('colab-df-spinner');\n",
              "      quickchartButtonEl.classList.add('colab-df-quickchart-complete');\n",
              "    }\n",
              "    (() => {\n",
              "      let quickchartButtonEl =\n",
              "        document.querySelector('#df-1e5f8278-e180-4c48-ac99-c516e0f80327 button');\n",
              "      quickchartButtonEl.style.display =\n",
              "        google.colab.kernel.accessAllowed ? 'block' : 'none';\n",
              "    })();\n",
              "  </script>\n",
              "</div>\n",
              "\n",
              "    </div>\n",
              "  </div>\n"
            ],
            "text/plain": [
              "       resultId  raceId  driverId  constructorId  number  grid  position  \\\n",
              "0             0       0       660            152    18.0    21      11.0   \n",
              "1             1       0       790            149     8.0    12       NaN   \n",
              "2             2       0       579             49     1.0     3       NaN   \n",
              "3             3       0       661            149     9.0    10       NaN   \n",
              "4             4       0       789            152    17.0     7       NaN   \n",
              "...         ...     ...       ...            ...     ...   ...       ...   \n",
              "20318     20318     819         1              1     6.0     8       5.0   \n",
              "20319     20319     819        21             22    23.0     4       4.0   \n",
              "20320     20320     819        17             22    22.0     5       3.0   \n",
              "20321     20321     819        16              8    14.0     3       2.0   \n",
              "20322     20322     819         2              2    16.0     9       9.0   \n",
              "\n",
              "       positionOrder  points  laps  milliseconds  fastestLap  rank  statusId  \\\n",
              "0                 11     0.0    64           NaN         NaN   NaN        16   \n",
              "1                 21     0.0     2           NaN         NaN   NaN       126   \n",
              "2                 12     0.0    62           NaN         NaN   NaN        44   \n",
              "3                 20     0.0     5           NaN         NaN   NaN         6   \n",
              "4                 19     0.0     8           NaN         NaN   NaN        51   \n",
              "...              ...     ...   ...           ...         ...   ...       ...   \n",
              "20318              5     4.0    55     5669667.0        54.0   7.0         1   \n",
              "20319              4     5.0    55     5666149.0        54.0   4.0         1   \n",
              "20320              3     6.0    55     5661881.0        49.0   6.0         1   \n",
              "20321              2     8.0    55     5661271.0        14.0   5.0         1   \n",
              "20322              9     0.0    55     5689355.0        49.0  15.0         1   \n",
              "\n",
              "                     date  \n",
              "0     1950-05-13 00:00:00  \n",
              "1     1950-05-13 00:00:00  \n",
              "2     1950-05-13 00:00:00  \n",
              "3     1950-05-13 00:00:00  \n",
              "4     1950-05-13 00:00:00  \n",
              "...                   ...  \n",
              "20318 2009-11-01 11:00:00  \n",
              "20319 2009-11-01 11:00:00  \n",
              "20320 2009-11-01 11:00:00  \n",
              "20321 2009-11-01 11:00:00  \n",
              "20322 2009-11-01 11:00:00  \n",
              "\n",
              "[20323 rows x 15 columns]"
            ]
          },
          "execution_count": 13,
          "metadata": {},
          "output_type": "execute_result"
        }
      ],
      "source": [
        "table = db.table_dict[\"results\"]\n",
        "table.df"
      ]
    },
    {
      "cell_type": "markdown",
      "metadata": {
        "id": "pc23JvAykj7c"
      },
      "source": [
        "Here we start to notice certain data artifacts that might be good to keep in mind for later when doing ML modeling. For instance, the `milliseconds` and `fastestLap` columns seem to only have been collected for more recent races, with `NaN` features for earlier races."
      ]
    },
    {
      "cell_type": "markdown",
      "metadata": {
        "id": "NBzQPRJvkqUh"
      },
      "source": [
        "# Loading a task\n",
        "\n",
        "Each RelBench dataset comes with multiple pre-defined predictive tasks. For any given RelBench dataset, you can check all the associated tasks with:"
      ]
    },
    {
      "cell_type": "code",
      "execution_count": 14,
      "metadata": {
        "colab": {
          "base_uri": "https://localhost:8080/"
        },
        "id": "TyHERgUAkjU8",
        "outputId": "3cef8a48-bbbb-447e-d57c-d89bf3c7c6ef"
      },
      "outputs": [
        {
          "data": {
            "text/plain": [
              "['driver-position', 'driver-dnf', 'driver-top3']"
            ]
          },
          "execution_count": 14,
          "metadata": {},
          "output_type": "execute_result"
        }
      ],
      "source": [
        "from relbench.tasks import get_task_names, get_task\n",
        "\n",
        "get_task_names(\"rel-f1\")"
      ]
    },
    {
      "cell_type": "markdown",
      "metadata": {
        "id": "aV6Ks72nku6y"
      },
      "source": [
        "Check out https://relbench.stanford.edu/ for detailed descriptions of what each task is. As an example, let's use `driver-top3` where the task is, for a given driver and a given timestamp, to predict whether that driver will finish in the top 3 in some race in the next 30 days.\n",
        "\n",
        "The task itself is instantiated by calling:"
      ]
    },
    {
      "cell_type": "code",
      "execution_count": 15,
      "metadata": {
        "colab": {
          "base_uri": "https://localhost:8080/"
        },
        "id": "IbVQxxdxktyU",
        "outputId": "a2d23e3c-7001-41f5-dbab-cd5e669b433d"
      },
      "outputs": [
        {
          "name": "stderr",
          "output_type": "stream",
          "text": [
            "Downloading file 'rel-f1/tasks/driver-top3.zip' from 'https://relbench.stanford.edu/download/rel-f1/tasks/driver-top3.zip' to '/root/.cache/relbench'.\n",
            "100%|█████████████████████████████████████| 10.3k/10.3k [00:00<00:00, 7.86MB/s]\n",
            "Unzipping contents of '/root/.cache/relbench/rel-f1/tasks/driver-top3.zip' to '/root/.cache/relbench/rel-f1/tasks/.'\n"
          ]
        }
      ],
      "source": [
        "task = get_task(\"rel-f1\", \"driver-top3\", download=True)"
      ]
    },
    {
      "cell_type": "markdown",
      "metadata": {
        "id": "hkyvGxbSk0Tr"
      },
      "source": [
        "Next we load the train / val / test labels. **Each task table contains triples (timestamp, Id, label)** indicating the entity the label is associated to, the timepoint at which the prediction is made, an the label itself. The task table also indicates which database table it is \"attached\" to - in this case the the `drivers` table."
      ]
    },
    {
      "cell_type": "code",
      "execution_count": 16,
      "metadata": {
        "colab": {
          "base_uri": "https://localhost:8080/"
        },
        "id": "k90T-Oq1kx89",
        "outputId": "e5cd2aeb-f585-480c-a5db-77bfb7b8cb0b"
      },
      "outputs": [
        {
          "data": {
            "text/plain": [
              "Table(df=\n",
              "           date  driverId  qualifying\n",
              "0    2004-08-04        12           0\n",
              "1    2004-08-04        20           0\n",
              "2    2004-07-05        10           0\n",
              "3    2004-07-05        47           0\n",
              "4    2004-06-05        31           0\n",
              "...         ...       ...         ...\n",
              "1348 1994-03-30        80           0\n",
              "1349 1994-03-30        48           0\n",
              "1350 1994-03-30        77           0\n",
              "1351 1994-02-28        43           0\n",
              "1352 1994-02-28        56           0\n",
              "\n",
              "[1353 rows x 3 columns],\n",
              "  fkey_col_to_pkey_table={'driverId': 'drivers'},\n",
              "  pkey_col=None,\n",
              "  time_col=date)"
            ]
          },
          "execution_count": 16,
          "metadata": {},
          "output_type": "execute_result"
        }
      ],
      "source": [
        "task.get_table(\"train\")"
      ]
    },
    {
      "cell_type": "markdown",
      "metadata": {
        "id": "-GuWKV6Hk4Pz"
      },
      "source": [
        "The test table is handled differently, with the labels being hidden by default to prevent accidental test set leakage."
      ]
    },
    {
      "cell_type": "code",
      "execution_count": 17,
      "metadata": {
        "colab": {
          "base_uri": "https://localhost:8080/"
        },
        "id": "o3m1ROIDk2NC",
        "outputId": "71c0f849-4650-47e9-c3d0-9855f2fa139c"
      },
      "outputs": [
        {
          "data": {
            "text/plain": [
              "Table(df=\n",
              "          date  driverId\n",
              "0   2013-03-16       814\n",
              "1   2012-11-16         9\n",
              "2   2012-11-16        17\n",
              "3   2012-10-17         0\n",
              "4   2012-09-17       816\n",
              "..         ...       ...\n",
              "721 2010-07-30        14\n",
              "722 2010-06-30       154\n",
              "723 2010-06-30        14\n",
              "724 2010-05-01        14\n",
              "725 2010-05-01       154\n",
              "\n",
              "[726 rows x 2 columns],\n",
              "  fkey_col_to_pkey_table={'driverId': 'drivers'},\n",
              "  pkey_col=None,\n",
              "  time_col=date)"
            ]
          },
          "execution_count": 17,
          "metadata": {},
          "output_type": "execute_result"
        }
      ],
      "source": [
        "task.get_table(\"test\")"
      ]
    },
    {
      "cell_type": "markdown",
      "metadata": {
        "id": "QgnTWc2Kk9gY"
      },
      "source": [
        "If strictly needed, test labels can be retrieved by calling:"
      ]
    },
    {
      "cell_type": "code",
      "execution_count": null,
      "metadata": {
        "colab": {
          "base_uri": "https://localhost:8080/"
        },
        "id": "dhh0H7rBk6GL",
        "outputId": "ab97da4e-0a64-4a19-fc66-d0c7c5c84bd5"
      },
      "outputs": [
        {
          "data": {
            "text/plain": [
              "Table(df=\n",
              "          date  driverId  qualifying\n",
              "0   2013-03-16       814           0\n",
              "1   2012-11-16         9           0\n",
              "2   2012-11-16        17           1\n",
              "3   2012-10-17         0           1\n",
              "4   2012-09-17       816           0\n",
              "..         ...       ...         ...\n",
              "721 2010-07-30        14           0\n",
              "722 2010-06-30       154           0\n",
              "723 2010-06-30        14           0\n",
              "724 2010-05-01        14           0\n",
              "725 2010-05-01       154           0\n",
              "\n",
              "[726 rows x 3 columns],\n",
              "  fkey_col_to_pkey_table={'driverId': 'drivers'},\n",
              "  pkey_col=None,\n",
              "  time_col=date)"
            ]
          },
          "execution_count": 18,
          "metadata": {},
          "output_type": "execute_result"
        }
      ],
      "source": [
        "task.get_table(\"test\", mask_input_cols=False)"
      ]
    },
    {
      "cell_type": "code",
      "execution_count": null,
      "metadata": {
        "id": "XCyVAj1Q6E0Z"
      },
      "outputs": [],
      "source": []
    }
  ],
  "metadata": {
    "colab": {
      "provenance": []
    },
    "kernelspec": {
      "display_name": "venv",
      "language": "python",
      "name": "python3"
    },
    "language_info": {
      "codemirror_mode": {
        "name": "ipython",
        "version": 3
      },
      "file_extension": ".py",
      "mimetype": "text/x-python",
      "name": "python",
      "nbconvert_exporter": "python",
      "pygments_lexer": "ipython3",
      "version": "3.10.0"
    }
  },
  "nbformat": 4,
  "nbformat_minor": 0
}
