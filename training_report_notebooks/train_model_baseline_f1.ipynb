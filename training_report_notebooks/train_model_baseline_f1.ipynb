{
  "cells": [
    {
      "cell_type": "markdown",
      "metadata": {
        "colab_type": "text",
        "id": "view-in-github"
      },
      "source": [
        "<a href=\"https://colab.research.google.com/github/Andrea-1704/Pytorch_Geometric_tutorial/blob/main/train_model_baseline_f1.ipynb\" target=\"_parent\"><img src=\"https://colab.research.google.com/assets/colab-badge.svg\" alt=\"Open In Colab\"/></a>"
      ]
    },
    {
      "cell_type": "code",
      "execution_count": 1,
      "metadata": {
        "colab": {
          "base_uri": "https://localhost:8080/"
        },
        "id": "zNziUzq9nTdU",
        "outputId": "6716be7d-c2cb-439e-d8e6-674183246c2a"
      },
      "outputs": [],
      "source": [
        "# !pip install torch-scatter -f https://data.pyg.org/whl/torch-2.4.0+cpu.html\n",
        "# !pip install torch-sparse -f https://data.pyg.org/whl/torch-2.4.0+cpu.html\n",
        "# !pip install torch-cluster -f https://data.pyg.org/whl/torch-2.4.0+cpu.html\n",
        "# !pip install torch-spline-conv -f https://data.pyg.org/whl/torch-2.4.0+cpu.html\n",
        "# !pip install torch-geometric==2.6.0 -f https://data.pyg.org/whl/torch-2.4.0+cpu.html\n",
        "# !pip install pyg-lib -f https://data.pyg.org/whl/torch-2.4.0+cpu.html\n",
        "\n",
        "# !pip install pytorch_frame[full]==1.2.2\n",
        "# !pip install relbench[full]==1.0.0\n",
        "# !pip uninstall -y pyg_lib torch  # Uninstall current versions\n",
        "# !pip install torch==2.6.0  # Reinstall your desired PyTorch version\n",
        "# !pip install --no-cache-dir git+https://github.com/pyg-team/pyg-lib.git # Install pyg-lib; --no-cache-dir ensures a fresh install"
      ]
    },
    {
      "cell_type": "code",
      "execution_count": 2,
      "metadata": {
        "colab": {
          "base_uri": "https://localhost:8080/",
          "height": 35
        },
        "id": "F454ta1Zg0Oq",
        "outputId": "4843dbd5-7637-430f-e320-2d0f62bfe094"
      },
      "outputs": [
        {
          "data": {
            "text/plain": [
              "'1.0.0'"
            ]
          },
          "execution_count": 2,
          "metadata": {},
          "output_type": "execute_result"
        }
      ],
      "source": [
        "import os\n",
        "import torch\n",
        "import relbench\n",
        "\n",
        "relbench.__version__"
      ]
    },
    {
      "cell_type": "code",
      "execution_count": 3,
      "metadata": {
        "id": "6DWB-Kf6nl2y"
      },
      "outputs": [],
      "source": [
        "import numpy as np\n",
        "\n",
        "from torch.nn import BCEWithLogitsLoss, L1Loss\n",
        "from relbench.datasets import get_dataset\n",
        "from relbench.tasks import get_task\n",
        "\n",
        "dataset = get_dataset(\"rel-f1\", download=True)\n",
        "task = get_task(\"rel-f1\", \"driver-position\", download=True)\n",
        "\n",
        "train_table = task.get_table(\"train\")\n",
        "val_table = task.get_table(\"val\")\n",
        "test_table = task.get_table(\"test\")\n",
        "\n",
        "out_channels = 1\n",
        "loss_fn = L1Loss()\n",
        "tune_metric = \"mae\"\n",
        "higher_is_better = False"
      ]
    },
    {
      "cell_type": "markdown",
      "metadata": {
        "id": "UKFT5H51j_Um"
      },
      "source": [
        "Let's check out the training table just to make sure it looks fine."
      ]
    },
    {
      "cell_type": "code",
      "execution_count": 4,
      "metadata": {
        "colab": {
          "base_uri": "https://localhost:8080/"
        },
        "id": "ABN_fdN3kAB9",
        "outputId": "95345755-7493-43f4-92cb-e6107cfae269"
      },
      "outputs": [
        {
          "data": {
            "text/plain": [
              "Table(df=\n",
              "           date  driverId  position\n",
              "0    2004-07-05        10     10.75\n",
              "1    2004-07-05        47     12.00\n",
              "2    2004-03-07         7     15.00\n",
              "3    2004-01-07        10      9.00\n",
              "4    2003-09-09        52     13.00\n",
              "...         ...       ...       ...\n",
              "7448 1995-08-22        96     15.75\n",
              "7449 1975-06-08       228      8.00\n",
              "7450 1965-05-31       418     16.00\n",
              "7451 1961-08-20       467     37.00\n",
              "7452 1954-05-29       677     30.00\n",
              "\n",
              "[7453 rows x 3 columns],\n",
              "  fkey_col_to_pkey_table={'driverId': 'drivers'},\n",
              "  pkey_col=None,\n",
              "  time_col=date)"
            ]
          },
          "execution_count": 4,
          "metadata": {},
          "output_type": "execute_result"
        }
      ],
      "source": [
        "train_table"
      ]
    },
    {
      "cell_type": "markdown",
      "metadata": {
        "id": "qQhuHIdHkOxv"
      },
      "source": [
        "Note that to load the data we did not require any deep learning libraries. Now we introduce the PyTorch Frame library, which is useful for encoding individual tables into initial node features."
      ]
    },
    {
      "cell_type": "code",
      "execution_count": 5,
      "metadata": {
        "colab": {
          "base_uri": "https://localhost:8080/"
        },
        "id": "qNzfdwsrkPIo",
        "outputId": "e68ea332-481b-4a28-d807-12d0721b8925"
      },
      "outputs": [
        {
          "name": "stderr",
          "output_type": "stream",
          "text": [
            "c:\\Users\\andrea\\Desktop\\Tesi (GNN)\\Laboratori GNNs\\venv\\lib\\site-packages\\torch_geometric\\typing.py:86: UserWarning: An issue occurred while importing 'torch-scatter'. Disabling its usage. Stacktrace: [WinError 127] Impossibile trovare la procedura specificata\n",
            "  warnings.warn(f\"An issue occurred while importing 'torch-scatter'. \"\n",
            "c:\\Users\\andrea\\Desktop\\Tesi (GNN)\\Laboratori GNNs\\venv\\lib\\site-packages\\torch_geometric\\typing.py:97: UserWarning: An issue occurred while importing 'torch-cluster'. Disabling its usage. Stacktrace: [WinError 127] Impossibile trovare la procedura specificata\n",
            "  warnings.warn(f\"An issue occurred while importing 'torch-cluster'. \"\n",
            "c:\\Users\\andrea\\Desktop\\Tesi (GNN)\\Laboratori GNNs\\venv\\lib\\site-packages\\torch_geometric\\typing.py:113: UserWarning: An issue occurred while importing 'torch-spline-conv'. Disabling its usage. Stacktrace: [WinError 127] Impossibile trovare la procedura specificata\n",
            "  warnings.warn(\n",
            "c:\\Users\\andrea\\Desktop\\Tesi (GNN)\\Laboratori GNNs\\venv\\lib\\site-packages\\torch_geometric\\typing.py:124: UserWarning: An issue occurred while importing 'torch-sparse'. Disabling its usage. Stacktrace: [WinError 127] Impossibile trovare la procedura specificata\n",
            "  warnings.warn(f\"An issue occurred while importing 'torch-sparse'. \"\n",
            "c:\\Users\\andrea\\Desktop\\Tesi (GNN)\\Laboratori GNNs\\venv\\lib\\site-packages\\tqdm\\auto.py:21: TqdmWarning: IProgress not found. Please update jupyter and ipywidgets. See https://ipywidgets.readthedocs.io/en/stable/user_install.html\n",
            "  from .autonotebook import tqdm as notebook_tqdm\n"
          ]
        },
        {
          "name": "stdout",
          "output_type": "stream",
          "text": [
            "cpu\n"
          ]
        }
      ],
      "source": [
        "import os\n",
        "import math\n",
        "import numpy as np\n",
        "from tqdm import tqdm\n",
        "\n",
        "import torch\n",
        "import torch_geometric\n",
        "import torch_frame\n",
        "\n",
        "# Some book keeping\n",
        "from torch_geometric.seed import seed_everything\n",
        "\n",
        "seed_everything(42)\n",
        "\n",
        "\n",
        "device = torch.device(\"cuda\" if torch.cuda.is_available() else \"cpu\")\n",
        "print(device)  # check that it's cuda if you want it to run in reasonable time!\n",
        "root_dir = \"./data\""
      ]
    },
    {
      "cell_type": "markdown",
      "metadata": {
        "id": "0Y79g5H0kVjX"
      },
      "source": [
        "The first big move is to build a graph out of the database. Here we use our pre-prepared conversion function.\n",
        "\n",
        "The source code can be found at: https://github.com/snap-stanford/relbench/blob/main/relbench/modeling/graph.py\n",
        "\n",
        "Each node in the graph corresonds to a single row in the database. Crucially, PyTorch Frame stores whole tables as objects in a way that is compatibile with PyG minibatch sampling, meaning we can sample subgraphs as in https://arxiv.org/abs/1706.02216, and retrieve the relevant raw features.\n",
        "\n",
        "PyTorch Frame also stores the `stype` (i.e., modality) of each column, and any specialized feature encoders (e.g., text encoders) to be used later. So we need to configure the `stype` for each column, for which we use a function that tries to automatically detect the `stype`."
      ]
    },
    {
      "cell_type": "code",
      "execution_count": 6,
      "metadata": {
        "colab": {
          "base_uri": "https://localhost:8080/"
        },
        "id": "kiV3TGI-kRuy",
        "outputId": "9d4686c6-baf3-48f8-b084-25f28cff0858"
      },
      "outputs": [
        {
          "name": "stdout",
          "output_type": "stream",
          "text": [
            "Loading Database object from C:\\Users\\andrea\\AppData\\Local\\relbench\\relbench\\Cache/rel-f1/db...\n",
            "Done in 0.08 seconds.\n"
          ]
        },
        {
          "data": {
            "text/plain": [
              "{'circuits': {'circuitId': <stype.numerical: 'numerical'>,\n",
              "  'circuitRef': <stype.text_embedded: 'text_embedded'>,\n",
              "  'name': <stype.text_embedded: 'text_embedded'>,\n",
              "  'location': <stype.text_embedded: 'text_embedded'>,\n",
              "  'country': <stype.text_embedded: 'text_embedded'>,\n",
              "  'lat': <stype.numerical: 'numerical'>,\n",
              "  'lng': <stype.numerical: 'numerical'>,\n",
              "  'alt': <stype.numerical: 'numerical'>},\n",
              " 'constructors': {'constructorId': <stype.numerical: 'numerical'>,\n",
              "  'constructorRef': <stype.text_embedded: 'text_embedded'>,\n",
              "  'name': <stype.text_embedded: 'text_embedded'>,\n",
              "  'nationality': <stype.text_embedded: 'text_embedded'>},\n",
              " 'constructor_results': {'constructorResultsId': <stype.numerical: 'numerical'>,\n",
              "  'raceId': <stype.numerical: 'numerical'>,\n",
              "  'constructorId': <stype.numerical: 'numerical'>,\n",
              "  'points': <stype.numerical: 'numerical'>,\n",
              "  'date': <stype.timestamp: 'timestamp'>},\n",
              " 'constructor_standings': {'constructorStandingsId': <stype.numerical: 'numerical'>,\n",
              "  'raceId': <stype.numerical: 'numerical'>,\n",
              "  'constructorId': <stype.numerical: 'numerical'>,\n",
              "  'points': <stype.numerical: 'numerical'>,\n",
              "  'position': <stype.numerical: 'numerical'>,\n",
              "  'wins': <stype.numerical: 'numerical'>,\n",
              "  'date': <stype.timestamp: 'timestamp'>},\n",
              " 'drivers': {'driverId': <stype.numerical: 'numerical'>,\n",
              "  'driverRef': <stype.text_embedded: 'text_embedded'>,\n",
              "  'code': <stype.text_embedded: 'text_embedded'>,\n",
              "  'forename': <stype.text_embedded: 'text_embedded'>,\n",
              "  'surname': <stype.text_embedded: 'text_embedded'>,\n",
              "  'dob': <stype.timestamp: 'timestamp'>,\n",
              "  'nationality': <stype.text_embedded: 'text_embedded'>},\n",
              " 'qualifying': {'qualifyId': <stype.numerical: 'numerical'>,\n",
              "  'raceId': <stype.numerical: 'numerical'>,\n",
              "  'driverId': <stype.numerical: 'numerical'>,\n",
              "  'constructorId': <stype.numerical: 'numerical'>,\n",
              "  'number': <stype.numerical: 'numerical'>,\n",
              "  'position': <stype.categorical: 'categorical'>,\n",
              "  'date': <stype.timestamp: 'timestamp'>},\n",
              " 'races': {'raceId': <stype.numerical: 'numerical'>,\n",
              "  'year': <stype.categorical: 'categorical'>,\n",
              "  'round': <stype.numerical: 'numerical'>,\n",
              "  'circuitId': <stype.numerical: 'numerical'>,\n",
              "  'name': <stype.text_embedded: 'text_embedded'>,\n",
              "  'date': <stype.timestamp: 'timestamp'>,\n",
              "  'time': <stype.timestamp: 'timestamp'>},\n",
              " 'results': {'resultId': <stype.numerical: 'numerical'>,\n",
              "  'raceId': <stype.numerical: 'numerical'>,\n",
              "  'driverId': <stype.numerical: 'numerical'>,\n",
              "  'constructorId': <stype.numerical: 'numerical'>,\n",
              "  'number': <stype.numerical: 'numerical'>,\n",
              "  'grid': <stype.numerical: 'numerical'>,\n",
              "  'position': <stype.numerical: 'numerical'>,\n",
              "  'positionOrder': <stype.numerical: 'numerical'>,\n",
              "  'points': <stype.numerical: 'numerical'>,\n",
              "  'laps': <stype.numerical: 'numerical'>,\n",
              "  'milliseconds': <stype.numerical: 'numerical'>,\n",
              "  'fastestLap': <stype.numerical: 'numerical'>,\n",
              "  'rank': <stype.numerical: 'numerical'>,\n",
              "  'statusId': <stype.numerical: 'numerical'>,\n",
              "  'date': <stype.timestamp: 'timestamp'>},\n",
              " 'standings': {'driverStandingsId': <stype.numerical: 'numerical'>,\n",
              "  'raceId': <stype.numerical: 'numerical'>,\n",
              "  'driverId': <stype.numerical: 'numerical'>,\n",
              "  'points': <stype.numerical: 'numerical'>,\n",
              "  'position': <stype.numerical: 'numerical'>,\n",
              "  'wins': <stype.numerical: 'numerical'>,\n",
              "  'date': <stype.timestamp: 'timestamp'>}}"
            ]
          },
          "execution_count": 6,
          "metadata": {},
          "output_type": "execute_result"
        }
      ],
      "source": [
        "from relbench.modeling.utils import get_stype_proposal\n",
        "\n",
        "db = dataset.get_db()\n",
        "col_to_stype_dict = get_stype_proposal(db)\n",
        "col_to_stype_dict"
      ]
    },
    {
      "cell_type": "markdown",
      "metadata": {
        "id": "Sm3uYXqXkbZt"
      },
      "source": [
        "If trying a new dataset, you should definitely check through this dict of `stype`s to check that look right, and manually change any mistakes by the auto-detection function.\n",
        "\n",
        "Next we also define our text encoding model, which we use GloVe embeddings for speed and convenience. Feel free to try alternatives here."
      ]
    },
    {
      "cell_type": "code",
      "execution_count": 7,
      "metadata": {
        "id": "QQHYmgIxkX1j"
      },
      "outputs": [],
      "source": [
        "# import torch\n",
        "# from typing import List, Optional\n",
        "# from sentence_transformers import SentenceTransformer\n",
        "# from torch import Tensor\n",
        "\n",
        "\n",
        "# class GloveTextEmbedding:\n",
        "#     def __init__(self, device: Optional[torch.device\n",
        "#                                        ] = None):\n",
        "#         self.model = SentenceTransformer(\n",
        "#             \"sentence-transformers/average_word_embeddings_glove.6B.300d\",\n",
        "#             device=device,\n",
        "#         )\n",
        "\n",
        "#     def __call__(self, sentences: List[str]) -> Tensor:\n",
        "#         return torch.from_numpy(self.model.encode(sentences))\n",
        "\n",
        "import torch\n",
        "import numpy as np\n",
        "from collections import defaultdict\n",
        "import requests\n",
        "from io import StringIO\n",
        "\n",
        "class LightweightGloveEmbedder:\n",
        "    def __init__(self, device=None):\n",
        "        self.device = device\n",
        "        self.embeddings = defaultdict(lambda: np.zeros(300))\n",
        "        self._load_embeddings()\n",
        "\n",
        "    def _load_embeddings(self):\n",
        "        try:\n",
        "            #(senza bisogno di estrarre zip)\n",
        "            url = \"https://huggingface.co/stanfordnlp/glove/resolve/main/glove.6B.300d.txt\"\n",
        "            response = requests.get(url)\n",
        "            response.raise_for_status()\n",
        "\n",
        "            for line in StringIO(response.text):\n",
        "                parts = line.split()\n",
        "                word = parts[0]\n",
        "                vector = np.array(parts[1:], dtype=np.float32)\n",
        "                self.embeddings[word] = vector\n",
        "        except Exception as e:\n",
        "            print(f\"Warning: Couldn't load GloVe embeddings ({str(e)}). Using zero vectors.\")\n",
        "\n",
        "    def __call__(self, sentences):\n",
        "        results = []\n",
        "        for text in sentences:\n",
        "            words = text.lower().split()\n",
        "            vectors = [self.embeddings[w] for w in words if w in self.embeddings]\n",
        "            if vectors:\n",
        "                avg_vector = np.mean(vectors, axis=0)\n",
        "            else:\n",
        "                avg_vector = np.zeros(300)\n",
        "            results.append(avg_vector)\n",
        "\n",
        "        tensor = torch.tensor(np.array(results), dtype=torch.float32)\n",
        "        return tensor.to(self.device) if self.device else tensor"
      ]
    },
    {
      "cell_type": "code",
      "execution_count": 8,
      "metadata": {
        "colab": {
          "base_uri": "https://localhost:8080/"
        },
        "id": "L-BBpUrakdwY",
        "outputId": "520fd668-67b2-455a-86ea-c18a1643e095"
      },
      "outputs": [
        {
          "name": "stdout",
          "output_type": "stream",
          "text": [
            "Warning: Couldn't load GloVe embeddings (404 Client Error: Not Found for url: https://huggingface.co/stanfordnlp/glove/resolve/main/glove.6B.300d.txt). Using zero vectors.\n"
          ]
        },
        {
          "name": "stderr",
          "output_type": "stream",
          "text": [
            "c:\\Users\\andrea\\Desktop\\Tesi (GNN)\\Laboratori GNNs\\venv\\lib\\site-packages\\torch_frame\\utils\\io.py:113: UserWarning: Weights only load failed. Please file an issue to make `torch.load(weights_only=True)` compatible in your case. Please use `torch.serialization.add_safe_globals([scalar])` to allowlist this global.\n",
            "  warnings.warn(f\"{warn_msg} Please use \"\n",
            "c:\\Users\\andrea\\Desktop\\Tesi (GNN)\\Laboratori GNNs\\venv\\lib\\site-packages\\torch_frame\\utils\\io.py:113: UserWarning: Weights only load failed. Please file an issue to make `torch.load(weights_only=True)` compatible in your case. Please use `torch.serialization.add_safe_globals([scalar])` to allowlist this global.\n",
            "  warnings.warn(f\"{warn_msg} Please use \"\n",
            "c:\\Users\\andrea\\Desktop\\Tesi (GNN)\\Laboratori GNNs\\venv\\lib\\site-packages\\torch_frame\\utils\\io.py:113: UserWarning: Weights only load failed. Please file an issue to make `torch.load(weights_only=True)` compatible in your case. Please use `torch.serialization.add_safe_globals([scalar])` to allowlist this global.\n",
            "  warnings.warn(f\"{warn_msg} Please use \"\n",
            "c:\\Users\\andrea\\Desktop\\Tesi (GNN)\\Laboratori GNNs\\venv\\lib\\site-packages\\torch_frame\\utils\\io.py:113: UserWarning: Weights only load failed. Please file an issue to make `torch.load(weights_only=True)` compatible in your case. Please use `torch.serialization.add_safe_globals([scalar])` to allowlist this global.\n",
            "  warnings.warn(f\"{warn_msg} Please use \"\n",
            "c:\\Users\\andrea\\Desktop\\Tesi (GNN)\\Laboratori GNNs\\venv\\lib\\site-packages\\torch_frame\\utils\\io.py:113: UserWarning: Weights only load failed. Please file an issue to make `torch.load(weights_only=True)` compatible in your case. Please use `torch.serialization.add_safe_globals([scalar])` to allowlist this global.\n",
            "  warnings.warn(f\"{warn_msg} Please use \"\n",
            "c:\\Users\\andrea\\Desktop\\Tesi (GNN)\\Laboratori GNNs\\venv\\lib\\site-packages\\torch_frame\\utils\\io.py:113: UserWarning: Weights only load failed. Please file an issue to make `torch.load(weights_only=True)` compatible in your case. Please use `torch.serialization.add_safe_globals([scalar])` to allowlist this global.\n",
            "  warnings.warn(f\"{warn_msg} Please use \"\n",
            "c:\\Users\\andrea\\Desktop\\Tesi (GNN)\\Laboratori GNNs\\venv\\lib\\site-packages\\torch_frame\\utils\\io.py:113: UserWarning: Weights only load failed. Please file an issue to make `torch.load(weights_only=True)` compatible in your case. Please use `torch.serialization.add_safe_globals([scalar])` to allowlist this global.\n",
            "  warnings.warn(f\"{warn_msg} Please use \"\n"
          ]
        }
      ],
      "source": [
        "from torch_frame.config.text_embedder import TextEmbedderConfig\n",
        "from relbench.modeling.graph import make_pkey_fkey_graph\n",
        "\n",
        "text_embedder_cfg = TextEmbedderConfig(\n",
        "    text_embedder=LightweightGloveEmbedder(device=device), batch_size=256\n",
        ")\n",
        "\n",
        "data, col_stats_dict = make_pkey_fkey_graph(\n",
        "    #Solution if not working: !pip install --upgrade torch torchvision transformers\n",
        "    db,\n",
        "    col_to_stype_dict=col_to_stype_dict,  # speficied column types\n",
        "    text_embedder_cfg=text_embedder_cfg,  # our chosen text encoder\n",
        "    cache_dir=os.path.join(\n",
        "        root_dir, f\"rel-f1_materialized_cache\"\n",
        "    ),  # store materialized graph for convenience\n",
        ")"
      ]
    },
    {
      "cell_type": "markdown",
      "metadata": {
        "id": "mwQejmg0kzOg"
      },
      "source": [
        "We can now check out `data`, our main graph object. `data` is a heterogeneous and temporal graph, with node types given by the table it originates from."
      ]
    },
    {
      "cell_type": "code",
      "execution_count": 9,
      "metadata": {
        "colab": {
          "base_uri": "https://localhost:8080/"
        },
        "id": "Gt4a8lw1kufy",
        "outputId": "248afeff-dc57-43e7-a2b4-00e9eb49ed49"
      },
      "outputs": [
        {
          "data": {
            "text/plain": [
              "HeteroData(\n",
              "  circuits={ tf=TensorFrame([77, 7]) },\n",
              "  constructors={ tf=TensorFrame([211, 3]) },\n",
              "  constructor_results={\n",
              "    tf=TensorFrame([9408, 2]),\n",
              "    time=[9408],\n",
              "  },\n",
              "  constructor_standings={\n",
              "    tf=TensorFrame([10170, 4]),\n",
              "    time=[10170],\n",
              "  },\n",
              "  drivers={ tf=TensorFrame([857, 6]) },\n",
              "  qualifying={\n",
              "    tf=TensorFrame([4082, 3]),\n",
              "    time=[4082],\n",
              "  },\n",
              "  races={\n",
              "    tf=TensorFrame([820, 5]),\n",
              "    time=[820],\n",
              "  },\n",
              "  results={\n",
              "    tf=TensorFrame([20323, 11]),\n",
              "    time=[20323],\n",
              "  },\n",
              "  standings={\n",
              "    tf=TensorFrame([28115, 4]),\n",
              "    time=[28115],\n",
              "  },\n",
              "  (constructor_results, f2p_raceId, races)={ edge_index=[2, 9408] },\n",
              "  (races, rev_f2p_raceId, constructor_results)={ edge_index=[2, 9408] },\n",
              "  (constructor_results, f2p_constructorId, constructors)={ edge_index=[2, 9408] },\n",
              "  (constructors, rev_f2p_constructorId, constructor_results)={ edge_index=[2, 9408] },\n",
              "  (constructor_standings, f2p_raceId, races)={ edge_index=[2, 10170] },\n",
              "  (races, rev_f2p_raceId, constructor_standings)={ edge_index=[2, 10170] },\n",
              "  (constructor_standings, f2p_constructorId, constructors)={ edge_index=[2, 10170] },\n",
              "  (constructors, rev_f2p_constructorId, constructor_standings)={ edge_index=[2, 10170] },\n",
              "  (qualifying, f2p_raceId, races)={ edge_index=[2, 4082] },\n",
              "  (races, rev_f2p_raceId, qualifying)={ edge_index=[2, 4082] },\n",
              "  (qualifying, f2p_driverId, drivers)={ edge_index=[2, 4082] },\n",
              "  (drivers, rev_f2p_driverId, qualifying)={ edge_index=[2, 4082] },\n",
              "  (qualifying, f2p_constructorId, constructors)={ edge_index=[2, 4082] },\n",
              "  (constructors, rev_f2p_constructorId, qualifying)={ edge_index=[2, 4082] },\n",
              "  (races, f2p_circuitId, circuits)={ edge_index=[2, 820] },\n",
              "  (circuits, rev_f2p_circuitId, races)={ edge_index=[2, 820] },\n",
              "  (results, f2p_raceId, races)={ edge_index=[2, 20323] },\n",
              "  (races, rev_f2p_raceId, results)={ edge_index=[2, 20323] },\n",
              "  (results, f2p_driverId, drivers)={ edge_index=[2, 20323] },\n",
              "  (drivers, rev_f2p_driverId, results)={ edge_index=[2, 20323] },\n",
              "  (results, f2p_constructorId, constructors)={ edge_index=[2, 20323] },\n",
              "  (constructors, rev_f2p_constructorId, results)={ edge_index=[2, 20323] },\n",
              "  (standings, f2p_raceId, races)={ edge_index=[2, 28115] },\n",
              "  (races, rev_f2p_raceId, standings)={ edge_index=[2, 28115] },\n",
              "  (standings, f2p_driverId, drivers)={ edge_index=[2, 28115] },\n",
              "  (drivers, rev_f2p_driverId, standings)={ edge_index=[2, 28115] }\n",
              ")"
            ]
          },
          "execution_count": 9,
          "metadata": {},
          "output_type": "execute_result"
        }
      ],
      "source": [
        "data"
      ]
    },
    {
      "cell_type": "markdown",
      "metadata": {
        "id": "yd6DqCXgk41x"
      },
      "source": [
        "We can also check out the TensorFrame for one table like this:"
      ]
    },
    {
      "cell_type": "code",
      "execution_count": 10,
      "metadata": {
        "colab": {
          "base_uri": "https://localhost:8080/"
        },
        "id": "-mMQTQeLk1rl",
        "outputId": "b106d0e6-9eb1-4999-c283-fa957e9f5efa"
      },
      "outputs": [
        {
          "data": {
            "text/plain": [
              "TensorFrame(\n",
              "  num_cols=5,\n",
              "  num_rows=820,\n",
              "  categorical (1): ['year'],\n",
              "  numerical (1): ['round'],\n",
              "  timestamp (2): ['date', 'time'],\n",
              "  embedding (1): ['name'],\n",
              "  has_target=False,\n",
              "  device='cpu',\n",
              ")"
            ]
          },
          "execution_count": 10,
          "metadata": {},
          "output_type": "execute_result"
        }
      ],
      "source": [
        "data[\"races\"].tf"
      ]
    },
    {
      "cell_type": "markdown",
      "metadata": {
        "id": "1kbysKXMk-3X"
      },
      "source": [
        "This may be a little confusing at first, as in graph ML it is more standard to associate to the graph object `data` a tensor, e.g., `data.x` for which `data.x[idx]` is a 1D array/tensor storing all the features for node with index `idx`.\n",
        "\n",
        "But actually this `data` object behaves similarly. For a given node type, e.g., `races` again, `data['races']` stores two pieces of information\n"
      ]
    },
    {
      "cell_type": "code",
      "execution_count": 11,
      "metadata": {
        "colab": {
          "base_uri": "https://localhost:8080/"
        },
        "id": "cDIcp7L5k6pU",
        "outputId": "0cef0148-aed1-4ff0-f2c0-90f60f2257b0"
      },
      "outputs": [
        {
          "data": {
            "text/plain": [
              "['tf', 'time']"
            ]
          },
          "execution_count": 11,
          "metadata": {},
          "output_type": "execute_result"
        }
      ],
      "source": [
        "list(data[\"races\"].keys())"
      ]
    },
    {
      "cell_type": "markdown",
      "metadata": {
        "id": "Z18qPRPllB1H"
      },
      "source": [
        "A `TensorFrame` object, and a timestamp for each node. The `TensorFrame` object acts analogously to the usual tensor of node features, and you can simply use indexing to retrieve the features of a single row (node), or group of nodes."
      ]
    },
    {
      "cell_type": "code",
      "execution_count": 12,
      "metadata": {
        "colab": {
          "base_uri": "https://localhost:8080/"
        },
        "id": "Im8bhNh5lFG6",
        "outputId": "d2d86c31-82d5-4cb7-bc73-0cce649672db"
      },
      "outputs": [
        {
          "data": {
            "text/plain": [
              "TensorFrame(\n",
              "  num_cols=5,\n",
              "  num_rows=1,\n",
              "  categorical (1): ['year'],\n",
              "  numerical (1): ['round'],\n",
              "  timestamp (2): ['date', 'time'],\n",
              "  embedding (1): ['name'],\n",
              "  has_target=False,\n",
              "  device='cpu',\n",
              ")"
            ]
          },
          "execution_count": 12,
          "metadata": {},
          "output_type": "execute_result"
        }
      ],
      "source": [
        "data[\"races\"].tf[10]"
      ]
    },
    {
      "cell_type": "code",
      "execution_count": 13,
      "metadata": {
        "colab": {
          "base_uri": "https://localhost:8080/"
        },
        "id": "eYZ28pzNlG4s",
        "outputId": "e3b1dc23-8dff-4c62-8297-fddb0e0961d2"
      },
      "outputs": [
        {
          "data": {
            "text/plain": [
              "TensorFrame(\n",
              "  num_cols=5,\n",
              "  num_rows=10,\n",
              "  categorical (1): ['year'],\n",
              "  numerical (1): ['round'],\n",
              "  timestamp (2): ['date', 'time'],\n",
              "  embedding (1): ['name'],\n",
              "  has_target=False,\n",
              "  device='cpu',\n",
              ")"
            ]
          },
          "execution_count": 13,
          "metadata": {},
          "output_type": "execute_result"
        }
      ],
      "source": [
        "data[\"races\"].tf[10:20]"
      ]
    },
    {
      "cell_type": "markdown",
      "metadata": {
        "id": "Ql15svcelK3A"
      },
      "source": [
        "We can also check the edge indices between two different node types, such as `races` amd `circuits`. Note that the edges are also heterogenous, so we also need to specify which edge type we want to look at. Here we look at `f2p_curcuitId`, which are the directed edges pointing _from_ a race (the `f` stands for `foreign key`), _to_ the circuit at which te race happened (the `p` stands for `primary key`)."
      ]
    },
    {
      "cell_type": "code",
      "execution_count": 14,
      "metadata": {
        "colab": {
          "base_uri": "https://localhost:8080/"
        },
        "id": "TynkD36QlInL",
        "outputId": "50bf70ff-2980-43e2-c53e-020acb0480f3"
      },
      "outputs": [
        {
          "data": {
            "text/plain": [
              "{'edge_index': tensor([[  0,   1,   2,  ..., 817, 818, 819],\n",
              "        [  8,   5,  18,  ...,  21,  17,  23]])}"
            ]
          },
          "execution_count": 14,
          "metadata": {},
          "output_type": "execute_result"
        }
      ],
      "source": [
        "data[(\"races\", \"f2p_circuitId\", \"circuits\")]"
      ]
    },
    {
      "cell_type": "markdown",
      "metadata": {
        "id": "Xx4V5KCelNxl"
      },
      "source": [
        "Now we are ready to instantiate our data loaders. For this we will need to import PyTorch Geometric, our GNN library. Whilst we're at it let's add a seed.\n"
      ]
    },
    {
      "cell_type": "code",
      "execution_count": 15,
      "metadata": {
        "id": "HUHVG-g6lM-b"
      },
      "outputs": [],
      "source": [
        "from relbench.modeling.graph import get_node_train_table_input, make_pkey_fkey_graph\n",
        "from torch_geometric.loader import NeighborLoader\n",
        "\n",
        "loader_dict = {}\n",
        "\n",
        "for split, table in [\n",
        "    (\"train\", train_table),\n",
        "    (\"val\", val_table),\n",
        "    (\"test\", test_table),\n",
        "]:\n",
        "    table_input = get_node_train_table_input(\n",
        "        table=table,\n",
        "        task=task,\n",
        "    )\n",
        "    entity_table = table_input.nodes[0]\n",
        "    loader_dict[split] = NeighborLoader(\n",
        "        data,\n",
        "        num_neighbors=[\n",
        "            128 for i in range(2)\n",
        "        ],  # we sample subgraphs of depth 2, 128 neighbors per node.\n",
        "        time_attr=\"time\",\n",
        "        input_nodes=table_input.nodes,\n",
        "        input_time=table_input.time,\n",
        "        transform=table_input.transform,\n",
        "        batch_size=512,\n",
        "        temporal_strategy=\"uniform\",\n",
        "        shuffle=split == \"train\",\n",
        "        num_workers=0,\n",
        "        persistent_workers=False,\n",
        "    )"
      ]
    },
    {
      "cell_type": "markdown",
      "metadata": {
        "id": "BQc8BWsGludR"
      },
      "source": [
        "Now we need our model...\n",
        "\n",
        "\n"
      ]
    },
    {
      "cell_type": "code",
      "execution_count": 16,
      "metadata": {
        "id": "u3m3jEqClQnw"
      },
      "outputs": [],
      "source": [
        "from torch.nn import BCEWithLogitsLoss\n",
        "import copy\n",
        "from typing import Any, Dict, List\n",
        "\n",
        "import torch\n",
        "from torch import Tensor\n",
        "from torch.nn import Embedding, ModuleDict\n",
        "from torch_frame.data.stats import StatType\n",
        "from torch_geometric.data import HeteroData\n",
        "from torch_geometric.nn import MLP\n",
        "from torch_geometric.typing import NodeType\n",
        "\n",
        "from relbench.modeling.nn import HeteroEncoder, HeteroGraphSAGE, HeteroTemporalEncoder\n",
        "\n",
        "\n",
        "class Model(torch.nn.Module):\n",
        "\n",
        "    def __init__(\n",
        "        self,\n",
        "        data: HeteroData,\n",
        "        col_stats_dict: Dict[str, Dict[str, Dict[StatType, Any]]],\n",
        "        num_layers: int,\n",
        "        channels: int,\n",
        "        out_channels: int,\n",
        "        aggr: str,\n",
        "        norm: str,\n",
        "        # List of node types to add shallow embeddings to input\n",
        "        shallow_list: List[NodeType] = [],\n",
        "        # ID awareness\n",
        "        id_awareness: bool = False,\n",
        "    ):\n",
        "        super().__init__()\n",
        "\n",
        "        self.encoder = HeteroEncoder(\n",
        "            channels=channels,\n",
        "            node_to_col_names_dict={\n",
        "                node_type: data[node_type].tf.col_names_dict\n",
        "                for node_type in data.node_types\n",
        "            },\n",
        "            node_to_col_stats=col_stats_dict,\n",
        "        )\n",
        "        self.temporal_encoder = HeteroTemporalEncoder(\n",
        "            node_types=[\n",
        "                node_type for node_type in data.node_types if \"time\" in data[node_type]\n",
        "            ],\n",
        "            channels=channels,\n",
        "        )\n",
        "        self.gnn = HeteroGraphSAGE(\n",
        "            node_types=data.node_types,\n",
        "            edge_types=data.edge_types,\n",
        "            channels=channels,\n",
        "            aggr=aggr,\n",
        "            num_layers=num_layers,\n",
        "        )\n",
        "        self.head = MLP(\n",
        "            channels,\n",
        "            out_channels=out_channels,\n",
        "            norm=norm,\n",
        "            num_layers=1,\n",
        "        )\n",
        "        self.embedding_dict = ModuleDict(\n",
        "            {\n",
        "                node: Embedding(data.num_nodes_dict[node], channels)\n",
        "                for node in shallow_list\n",
        "            }\n",
        "        )\n",
        "\n",
        "        self.id_awareness_emb = None\n",
        "        if id_awareness:\n",
        "            self.id_awareness_emb = torch.nn.Embedding(1, channels)\n",
        "        self.reset_parameters()\n",
        "\n",
        "    def reset_parameters(self):\n",
        "        self.encoder.reset_parameters()\n",
        "        self.temporal_encoder.reset_parameters()\n",
        "        self.gnn.reset_parameters()\n",
        "        self.head.reset_parameters()\n",
        "        for embedding in self.embedding_dict.values():\n",
        "            torch.nn.init.normal_(embedding.weight, std=0.1)\n",
        "        if self.id_awareness_emb is not None:\n",
        "            self.id_awareness_emb.reset_parameters()\n",
        "\n",
        "    def forward(\n",
        "        self,\n",
        "        batch: HeteroData,\n",
        "        entity_table: NodeType,\n",
        "    ) -> Tensor:\n",
        "        seed_time = batch[entity_table].seed_time\n",
        "        x_dict = self.encoder(batch.tf_dict)\n",
        "\n",
        "        rel_time_dict = self.temporal_encoder(\n",
        "            seed_time, batch.time_dict, batch.batch_dict\n",
        "        )\n",
        "\n",
        "        for node_type, rel_time in rel_time_dict.items():\n",
        "            x_dict[node_type] = x_dict[node_type] + rel_time\n",
        "\n",
        "        for node_type, embedding in self.embedding_dict.items():\n",
        "            x_dict[node_type] = x_dict[node_type] + embedding(batch[node_type].n_id)\n",
        "\n",
        "        x_dict = self.gnn(\n",
        "            x_dict,\n",
        "            batch.edge_index_dict,\n",
        "            batch.num_sampled_nodes_dict,\n",
        "            batch.num_sampled_edges_dict,\n",
        "        )\n",
        "\n",
        "        return self.head(x_dict[entity_table][: seed_time.size(0)])\n",
        "\n",
        "    def forward_dst_readout(\n",
        "        self,\n",
        "        batch: HeteroData,\n",
        "        entity_table: NodeType,\n",
        "        dst_table: NodeType,\n",
        "    ) -> Tensor:\n",
        "        if self.id_awareness_emb is None:\n",
        "            raise RuntimeError(\n",
        "                \"id_awareness must be set True to use forward_dst_readout\"\n",
        "            )\n",
        "        seed_time = batch[entity_table].seed_time\n",
        "        x_dict = self.encoder(batch.tf_dict)\n",
        "        # Add ID-awareness to the root node\n",
        "        x_dict[entity_table][: seed_time.size(0)] += self.id_awareness_emb.weight\n",
        "\n",
        "        rel_time_dict = self.temporal_encoder(\n",
        "            seed_time, batch.time_dict, batch.batch_dict\n",
        "        )\n",
        "\n",
        "        for node_type, rel_time in rel_time_dict.items():\n",
        "            x_dict[node_type] = x_dict[node_type] + rel_time\n",
        "\n",
        "        for node_type, embedding in self.embedding_dict.items():\n",
        "            x_dict[node_type] = x_dict[node_type] + embedding(batch[node_type].n_id)\n",
        "\n",
        "        x_dict = self.gnn(\n",
        "            x_dict,\n",
        "            batch.edge_index_dict,\n",
        "        )\n",
        "\n",
        "        return self.head(x_dict[dst_table])\n",
        "\n",
        "\n",
        "model = Model(\n",
        "    data=data,\n",
        "    col_stats_dict=col_stats_dict,\n",
        "    num_layers=3,\n",
        "    channels=128,\n",
        "    out_channels=1,\n",
        "    aggr=\"sum\",\n",
        "    norm=\"batch_norm\",\n",
        ").to(device)\n",
        "\n",
        "\n",
        "# Aumentare il learning rate per velocizzare l'addestramento\n",
        "optimizer = torch.optim.Adam(model.parameters(), lr=0.001, weight_decay=0.0001)\n",
        "#scheduler = torch.optim.lr_scheduler.StepLR(optimizer, step_size=10, gamma=0.1)"
      ]
    },
    {
      "cell_type": "markdown",
      "metadata": {
        "id": "Vl-6So7Llb-p"
      },
      "source": [
        "We also need standard train/test loops"
      ]
    },
    {
      "cell_type": "code",
      "execution_count": 17,
      "metadata": {
        "id": "SAHRIr15lVs6"
      },
      "outputs": [],
      "source": [
        "def train(model, optimizer) -> float:\n",
        "    model.train()\n",
        "\n",
        "    loss_accum = count_accum = 0\n",
        "    for batch in tqdm(loader_dict[\"train\"]):\n",
        "        batch = batch.to(device)\n",
        "\n",
        "        optimizer.zero_grad()\n",
        "        pred = model(\n",
        "            batch,\n",
        "            task.entity_table,\n",
        "        )\n",
        "        pred = pred.view(-1) if pred.size(1) == 1 else pred\n",
        "\n",
        "        loss = loss_fn(pred.float(), batch[entity_table].y.float())\n",
        "        loss.backward()\n",
        "        optimizer.step()\n",
        "\n",
        "        loss_accum += loss.detach().item() * pred.size(0)\n",
        "        count_accum += pred.size(0)\n",
        "\n",
        "    return loss_accum / count_accum\n",
        "\n",
        "\n",
        "@torch.no_grad()\n",
        "def test(model, loader: NeighborLoader) -> np.ndarray:\n",
        "    model.eval()\n",
        "\n",
        "    pred_list = []\n",
        "    for batch in loader:\n",
        "        batch = batch.to(device)\n",
        "        pred = model(\n",
        "            batch,\n",
        "            task.entity_table,\n",
        "        )\n",
        "        pred = pred.view(-1) if pred.size(1) == 1 else pred\n",
        "        pred_list.append(pred.detach().cpu())\n",
        "    return torch.cat(pred_list, dim=0).numpy()"
      ]
    },
    {
      "cell_type": "markdown",
      "metadata": {
        "id": "4s-p7dW1ledd"
      },
      "source": [
        "Now we are ready to train!"
      ]
    },
    {
      "cell_type": "code",
      "execution_count": 18,
      "metadata": {
        "colab": {
          "base_uri": "https://localhost:8080/"
        },
        "id": "y4BqE2KzvojP",
        "outputId": "5cd6000f-4783-45ed-9245-4450cb28cf4e"
      },
      "outputs": [
        {
          "name": "stdout",
          "output_type": "stream",
          "text": [
            "torch-sparse e pyg-lib importati con successo!\n"
          ]
        }
      ],
      "source": [
        "#import torch_sparse\n",
        "import pyg_lib\n",
        "print(\"torch-sparse e pyg-lib importati con successo!\")\n",
        "\n",
        "#solution if doesn't work:\n",
        "# !pip install torch==2.5.0 -f https://download.pytorch.org/whl/cpu/torch_stable.html\n",
        "# !pip install pyg_lib -f https://data.pyg.org/whl/torch-2.0.0+cpu.html"
      ]
    },
    {
      "cell_type": "code",
      "execution_count": 19,
      "metadata": {
        "id": "Uzkt7AS2GzpH"
      },
      "outputs": [],
      "source": [
        "import numpy as np\n",
        "\n",
        "def rmse(true, pred):\n",
        "    \"\"\"Calculate the Root Mean Squared Error (RMSE).\"\"\"\n",
        "    return np.sqrt(np.mean((true - pred)**2)) # Calculate RMSE manually"
      ]
    },
    {
      "cell_type": "code",
      "execution_count": 20,
      "metadata": {
        "id": "qZOOyAblHwI4"
      },
      "outputs": [],
      "source": [
        "import numpy as np\n",
        "\n",
        "def custom_evaluate(pred: np.ndarray, target_table, metrics) -> dict:\n",
        "    \"\"\"Custom evaluation function to replace task.evaluate.\"\"\"\n",
        "\n",
        "    # Extract target values from the target table\n",
        "    target = target_table.df[task.target_col].to_numpy()\n",
        "\n",
        "    # Check for length mismatch\n",
        "    if len(pred) != len(target):\n",
        "        raise ValueError(\n",
        "            f\"The length of pred and target must be the same (got \"\n",
        "            f\"{len(pred)} and {len(target)}, respectively).\"\n",
        "        )\n",
        "\n",
        "    # Calculate metrics\n",
        "    results = {}\n",
        "    for metric_fn in metrics:\n",
        "        if metric_fn.__name__ == \"rmse\":  # Handle RMSE specifically\n",
        "            results[\"rmse\"] = np.sqrt(np.mean((target - pred)**2))\n",
        "        else:  # Handle other metrics (if any)\n",
        "            results[metric_fn.__name__] = metric_fn(target, pred)\n",
        "\n",
        "    return results"
      ]
    },
    {
      "cell_type": "code",
      "execution_count": 21,
      "metadata": {},
      "outputs": [],
      "source": [
        "from sklearn.metrics import mean_squared_error\n",
        "def training_function(model, optimizer, epochs):\n",
        "    state_dict = None\n",
        "    best_val_metric = -math.inf if higher_is_better else math.inf\n",
        "    for epoch in range(1, epochs + 1):\n",
        "        train_loss = train(model, optimizer)\n",
        "        val_pred = test(model, loader_dict[\"val\"])\n",
        "        #val_metrics = task.evaluate(val_pred, val_table)\n",
        "        val_metrics = custom_evaluate(val_pred, val_table, task.metrics)\n",
        "        if epoch % 10 == 0:\n",
        "            print(f\"Epoch: {epoch:02d}, Train loss: {train_loss}, Val metrics: {val_metrics}\")\n",
        "        #print(f\"Epoch: {epoch:02d}, Train loss: {train_loss}, Val metrics: {val_metrics}\")\n",
        "\n",
        "        if (higher_is_better and val_metrics[tune_metric] > best_val_metric) or (\n",
        "            not higher_is_better and val_metrics[tune_metric] < best_val_metric\n",
        "        ):\n",
        "            best_val_metric = val_metrics[tune_metric]\n",
        "            state_dict = copy.deepcopy(model.state_dict())\n",
        "\n",
        "\n",
        "    model.load_state_dict(state_dict)\n",
        "    val_pred = test(model, loader_dict[\"val\"])\n",
        "    val_metrics = custom_evaluate(val_pred, val_table, task.metrics)\n",
        "    print(f\"Best Val metrics for parameters {optimizer}, are: {val_metrics}\")"
      ]
    },
    {
      "cell_type": "code",
      "execution_count": 22,
      "metadata": {},
      "outputs": [
        {
          "name": "stdout",
          "output_type": "stream",
          "text": [
            "Training with lr=1e-05, num_layers=1, weight_decay=0.0001\n"
          ]
        },
        {
          "name": "stderr",
          "output_type": "stream",
          "text": [
            "100%|██████████| 15/15 [00:37<00:00,  2.47s/it]\n",
            "100%|██████████| 15/15 [00:28<00:00,  1.89s/it]\n",
            "100%|██████████| 15/15 [00:27<00:00,  1.86s/it]\n",
            "100%|██████████| 15/15 [00:29<00:00,  2.00s/it]\n",
            "100%|██████████| 15/15 [00:27<00:00,  1.85s/it]\n",
            "100%|██████████| 15/15 [00:28<00:00,  1.92s/it]\n",
            "100%|██████████| 15/15 [00:27<00:00,  1.83s/it]\n",
            "100%|██████████| 15/15 [00:28<00:00,  1.89s/it]\n",
            "100%|██████████| 15/15 [00:29<00:00,  1.96s/it]\n",
            "100%|██████████| 15/15 [00:29<00:00,  1.94s/it]\n"
          ]
        },
        {
          "name": "stdout",
          "output_type": "stream",
          "text": [
            "Epoch: 10, Train loss: 10.912191345438004, Val metrics: {'r2': -2.900536957201681, 'mae': 7.982709887096224, 'rmse': 9.156141342243709}\n"
          ]
        },
        {
          "name": "stderr",
          "output_type": "stream",
          "text": [
            "100%|██████████| 15/15 [00:29<00:00,  1.94s/it]\n",
            "100%|██████████| 15/15 [00:29<00:00,  1.94s/it]\n",
            "100%|██████████| 15/15 [00:29<00:00,  1.94s/it]\n",
            "100%|██████████| 15/15 [00:29<00:00,  1.94s/it]\n",
            "100%|██████████| 15/15 [00:29<00:00,  1.94s/it]\n",
            "100%|██████████| 15/15 [00:29<00:00,  1.95s/it]\n",
            "100%|██████████| 15/15 [00:29<00:00,  1.94s/it]\n",
            "100%|██████████| 15/15 [00:28<00:00,  1.93s/it]\n",
            "100%|██████████| 15/15 [00:28<00:00,  1.90s/it]\n",
            "100%|██████████| 15/15 [00:28<00:00,  1.89s/it]\n"
          ]
        },
        {
          "name": "stdout",
          "output_type": "stream",
          "text": [
            "Epoch: 20, Train loss: 10.451081446124677, Val metrics: {'r2': -2.57944782742444, 'mae': 7.597954436597143, 'rmse': 8.77118574373598}\n"
          ]
        },
        {
          "name": "stderr",
          "output_type": "stream",
          "text": [
            "100%|██████████| 15/15 [00:29<00:00,  1.97s/it]\n",
            "100%|██████████| 15/15 [00:29<00:00,  2.00s/it]\n",
            "100%|██████████| 15/15 [00:29<00:00,  1.96s/it]\n",
            "100%|██████████| 15/15 [00:29<00:00,  1.94s/it]\n",
            "100%|██████████| 15/15 [00:28<00:00,  1.89s/it]\n",
            "100%|██████████| 15/15 [00:29<00:00,  1.96s/it]\n",
            "100%|██████████| 15/15 [00:28<00:00,  1.91s/it]\n",
            "100%|██████████| 15/15 [00:29<00:00,  1.95s/it]\n",
            "100%|██████████| 15/15 [00:29<00:00,  1.97s/it]\n",
            "100%|██████████| 15/15 [00:28<00:00,  1.93s/it]\n"
          ]
        },
        {
          "name": "stdout",
          "output_type": "stream",
          "text": [
            "Epoch: 30, Train loss: 10.222325577474226, Val metrics: {'r2': -2.4100599706199946, 'mae': 7.386786082241642, 'rmse': 8.561134064154226}\n",
            "Best Val metrics for parameters Adam (\n",
            "Parameter Group 0\n",
            "    amsgrad: False\n",
            "    betas: (0.9, 0.999)\n",
            "    capturable: False\n",
            "    differentiable: False\n",
            "    eps: 1e-08\n",
            "    foreach: None\n",
            "    fused: None\n",
            "    lr: 1e-05\n",
            "    maximize: False\n",
            "    weight_decay: 0.0001\n",
            "), are: {'r2': -2.4100600948896673, 'mae': 7.386790659973919, 'rmse': 8.561134220146984}\n",
            "Training with lr=1e-05, num_layers=1, weight_decay=0.001\n"
          ]
        },
        {
          "name": "stderr",
          "output_type": "stream",
          "text": [
            "100%|██████████| 15/15 [00:29<00:00,  1.95s/it]\n",
            "100%|██████████| 15/15 [00:28<00:00,  1.91s/it]\n",
            "100%|██████████| 15/15 [00:28<00:00,  1.91s/it]\n",
            "100%|██████████| 15/15 [00:28<00:00,  1.92s/it]\n",
            "100%|██████████| 15/15 [00:28<00:00,  1.91s/it]\n",
            "100%|██████████| 15/15 [00:28<00:00,  1.91s/it]\n",
            "100%|██████████| 15/15 [00:28<00:00,  1.90s/it]\n",
            "100%|██████████| 15/15 [00:28<00:00,  1.89s/it]\n",
            "100%|██████████| 15/15 [00:28<00:00,  1.92s/it]\n",
            "100%|██████████| 15/15 [00:29<00:00,  1.97s/it]\n"
          ]
        },
        {
          "name": "stdout",
          "output_type": "stream",
          "text": [
            "Epoch: 10, Train loss: 11.093764135953677, Val metrics: {'r2': -2.9802018842176006, 'mae': 8.083479472837531, 'rmse': 9.249171666398407}\n"
          ]
        },
        {
          "name": "stderr",
          "output_type": "stream",
          "text": [
            "100%|██████████| 15/15 [00:29<00:00,  1.97s/it]\n",
            "100%|██████████| 15/15 [00:29<00:00,  1.95s/it]\n",
            "100%|██████████| 15/15 [00:28<00:00,  1.93s/it]\n",
            "100%|██████████| 15/15 [00:28<00:00,  1.90s/it]\n",
            "100%|██████████| 15/15 [00:28<00:00,  1.89s/it]\n",
            "100%|██████████| 15/15 [00:28<00:00,  1.91s/it]\n",
            "100%|██████████| 15/15 [00:28<00:00,  1.91s/it]\n",
            "100%|██████████| 15/15 [00:28<00:00,  1.92s/it]\n",
            "100%|██████████| 15/15 [00:28<00:00,  1.92s/it]\n",
            "100%|██████████| 15/15 [00:28<00:00,  1.89s/it]\n"
          ]
        },
        {
          "name": "stdout",
          "output_type": "stream",
          "text": [
            "Epoch: 20, Train loss: 10.515469401758917, Val metrics: {'r2': -2.626463326663894, 'mae': 7.660393466102177, 'rmse': 8.828601911650454}\n"
          ]
        },
        {
          "name": "stderr",
          "output_type": "stream",
          "text": [
            "100%|██████████| 15/15 [00:29<00:00,  1.94s/it]\n",
            "100%|██████████| 15/15 [00:29<00:00,  1.95s/it]\n",
            "100%|██████████| 15/15 [00:28<00:00,  1.93s/it]\n",
            "100%|██████████| 15/15 [00:29<00:00,  1.95s/it]\n",
            "100%|██████████| 15/15 [00:29<00:00,  1.95s/it]\n",
            "100%|██████████| 15/15 [00:29<00:00,  1.94s/it]\n",
            "100%|██████████| 15/15 [00:29<00:00,  1.94s/it]\n",
            "100%|██████████| 15/15 [00:29<00:00,  1.94s/it]\n",
            "100%|██████████| 15/15 [00:30<00:00,  2.05s/it]\n",
            "100%|██████████| 15/15 [00:29<00:00,  1.94s/it]\n"
          ]
        },
        {
          "name": "stdout",
          "output_type": "stream",
          "text": [
            "Epoch: 30, Train loss: 10.282480381774084, Val metrics: {'r2': -2.4510616770740428, 'mae': 7.441784942572166, 'rmse': 8.61244874153803}\n",
            "Best Val metrics for parameters Adam (\n",
            "Parameter Group 0\n",
            "    amsgrad: False\n",
            "    betas: (0.9, 0.999)\n",
            "    capturable: False\n",
            "    differentiable: False\n",
            "    eps: 1e-08\n",
            "    foreach: None\n",
            "    fused: None\n",
            "    lr: 1e-05\n",
            "    maximize: False\n",
            "    weight_decay: 0.001\n",
            "), are: {'r2': -2.451061764425082, 'mae': 7.441787437128081, 'rmse': 8.612448850534392}\n",
            "Training with lr=1e-05, num_layers=1, weight_decay=0.01\n"
          ]
        },
        {
          "name": "stderr",
          "output_type": "stream",
          "text": [
            "100%|██████████| 15/15 [00:28<00:00,  1.92s/it]\n",
            "100%|██████████| 15/15 [00:28<00:00,  1.91s/it]\n",
            "100%|██████████| 15/15 [00:28<00:00,  1.92s/it]\n",
            "100%|██████████| 15/15 [00:28<00:00,  1.90s/it]\n",
            "100%|██████████| 15/15 [00:28<00:00,  1.93s/it]\n",
            "100%|██████████| 15/15 [00:28<00:00,  1.89s/it]\n",
            "100%|██████████| 15/15 [00:29<00:00,  1.96s/it]\n",
            "100%|██████████| 15/15 [00:28<00:00,  1.91s/it]\n",
            "100%|██████████| 15/15 [00:28<00:00,  1.92s/it]\n",
            "100%|██████████| 15/15 [00:28<00:00,  1.91s/it]\n"
          ]
        },
        {
          "name": "stdout",
          "output_type": "stream",
          "text": [
            "Epoch: 10, Train loss: 11.054102413705191, Val metrics: {'r2': -2.940486439676911, 'mae': 8.030238974373104, 'rmse': 9.202910708357086}\n"
          ]
        },
        {
          "name": "stderr",
          "output_type": "stream",
          "text": [
            "100%|██████████| 15/15 [00:29<00:00,  1.94s/it]\n",
            "100%|██████████| 15/15 [00:28<00:00,  1.91s/it]\n",
            "100%|██████████| 15/15 [00:29<00:00,  1.96s/it]\n",
            "100%|██████████| 15/15 [00:28<00:00,  1.91s/it]\n",
            "100%|██████████| 15/15 [00:28<00:00,  1.89s/it]\n",
            "100%|██████████| 15/15 [00:28<00:00,  1.93s/it]\n",
            "100%|██████████| 15/15 [00:29<00:00,  1.97s/it]\n",
            "100%|██████████| 15/15 [00:28<00:00,  1.92s/it]\n",
            "100%|██████████| 15/15 [00:28<00:00,  1.91s/it]\n",
            "100%|██████████| 15/15 [00:28<00:00,  1.92s/it]\n"
          ]
        },
        {
          "name": "stdout",
          "output_type": "stream",
          "text": [
            "Epoch: 20, Train loss: 10.451062937958776, Val metrics: {'r2': -2.5535962917857447, 'mae': 7.56780640201403, 'rmse': 8.739454660669022}\n"
          ]
        },
        {
          "name": "stderr",
          "output_type": "stream",
          "text": [
            "100%|██████████| 15/15 [00:29<00:00,  1.94s/it]\n",
            "100%|██████████| 15/15 [00:29<00:00,  1.94s/it]\n",
            "100%|██████████| 15/15 [00:29<00:00,  1.94s/it]\n",
            "100%|██████████| 15/15 [00:28<00:00,  1.91s/it]\n",
            "100%|██████████| 15/15 [00:28<00:00,  1.91s/it]\n",
            "100%|██████████| 15/15 [00:28<00:00,  1.90s/it]\n",
            "100%|██████████| 15/15 [00:28<00:00,  1.92s/it]\n",
            "100%|██████████| 15/15 [00:29<00:00,  1.94s/it]\n",
            "100%|██████████| 15/15 [00:28<00:00,  1.90s/it]\n",
            "100%|██████████| 15/15 [00:28<00:00,  1.92s/it]\n"
          ]
        },
        {
          "name": "stdout",
          "output_type": "stream",
          "text": [
            "Epoch: 30, Train loss: 10.231522974449085, Val metrics: {'r2': -2.4040809705632227, 'mae': 7.382734667816876, 'rmse': 8.553625475115927}\n",
            "Best Val metrics for parameters Adam (\n",
            "Parameter Group 0\n",
            "    amsgrad: False\n",
            "    betas: (0.9, 0.999)\n",
            "    capturable: False\n",
            "    differentiable: False\n",
            "    eps: 1e-08\n",
            "    foreach: None\n",
            "    fused: None\n",
            "    lr: 1e-05\n",
            "    maximize: False\n",
            "    weight_decay: 0.01\n",
            "), are: {'r2': -2.404080889758068, 'mae': 7.3827318144386105, 'rmse': 8.553625373594102}\n",
            "Training with lr=1e-05, num_layers=2, weight_decay=0.0001\n"
          ]
        },
        {
          "name": "stderr",
          "output_type": "stream",
          "text": [
            "100%|██████████| 15/15 [00:39<00:00,  2.64s/it]\n",
            "100%|██████████| 15/15 [00:39<00:00,  2.64s/it]\n",
            "100%|██████████| 15/15 [00:38<00:00,  2.58s/it]\n",
            "100%|██████████| 15/15 [00:39<00:00,  2.61s/it]\n",
            "100%|██████████| 15/15 [00:39<00:00,  2.63s/it]\n",
            "100%|██████████| 15/15 [00:39<00:00,  2.64s/it]\n",
            "100%|██████████| 15/15 [00:39<00:00,  2.66s/it]\n",
            "100%|██████████| 15/15 [00:41<00:00,  2.74s/it]\n",
            "100%|██████████| 15/15 [00:38<00:00,  2.58s/it]\n",
            "100%|██████████| 15/15 [00:39<00:00,  2.63s/it]\n"
          ]
        },
        {
          "name": "stdout",
          "output_type": "stream",
          "text": [
            "Epoch: 10, Train loss: 11.297968250368324, Val metrics: {'r2': -3.131786467763324, 'mae': 8.263380173356357, 'rmse': 9.42365165578271}\n"
          ]
        },
        {
          "name": "stderr",
          "output_type": "stream",
          "text": [
            "100%|██████████| 15/15 [00:39<00:00,  2.62s/it]\n",
            "100%|██████████| 15/15 [00:39<00:00,  2.63s/it]\n",
            "100%|██████████| 15/15 [00:38<00:00,  2.59s/it]\n",
            "100%|██████████| 15/15 [00:39<00:00,  2.62s/it]\n",
            "100%|██████████| 15/15 [00:39<00:00,  2.63s/it]\n",
            "100%|██████████| 15/15 [00:39<00:00,  2.65s/it]\n",
            "100%|██████████| 15/15 [00:39<00:00,  2.63s/it]\n",
            "100%|██████████| 15/15 [00:39<00:00,  2.61s/it]\n",
            "100%|██████████| 15/15 [00:38<00:00,  2.60s/it]\n",
            "100%|██████████| 15/15 [00:39<00:00,  2.65s/it]\n"
          ]
        },
        {
          "name": "stdout",
          "output_type": "stream",
          "text": [
            "Epoch: 20, Train loss: 10.554228477216991, Val metrics: {'r2': -2.608663762821218, 'mae': 7.633798555891436, 'rmse': 8.806908797635003}\n"
          ]
        },
        {
          "name": "stderr",
          "output_type": "stream",
          "text": [
            "100%|██████████| 15/15 [00:39<00:00,  2.66s/it]\n",
            "100%|██████████| 15/15 [00:39<00:00,  2.60s/it]\n",
            "100%|██████████| 15/15 [00:39<00:00,  2.63s/it]\n",
            "100%|██████████| 15/15 [00:38<00:00,  2.59s/it]\n",
            "100%|██████████| 15/15 [00:39<00:00,  2.66s/it]\n",
            "100%|██████████| 15/15 [00:39<00:00,  2.60s/it]\n",
            "100%|██████████| 15/15 [00:39<00:00,  2.60s/it]\n",
            "100%|██████████| 15/15 [00:39<00:00,  2.63s/it]\n",
            "100%|██████████| 15/15 [00:39<00:00,  2.64s/it]\n",
            "100%|██████████| 15/15 [00:40<00:00,  2.67s/it]\n"
          ]
        },
        {
          "name": "stdout",
          "output_type": "stream",
          "text": [
            "Epoch: 30, Train loss: 10.288725934731756, Val metrics: {'r2': -2.4391319634361515, 'mae': 7.424108629729959, 'rmse': 8.597549994042385}\n",
            "Best Val metrics for parameters Adam (\n",
            "Parameter Group 0\n",
            "    amsgrad: False\n",
            "    betas: (0.9, 0.999)\n",
            "    capturable: False\n",
            "    differentiable: False\n",
            "    eps: 1e-08\n",
            "    foreach: None\n",
            "    fused: None\n",
            "    lr: 1e-05\n",
            "    maximize: False\n",
            "    weight_decay: 0.0001\n",
            "), are: {'r2': -2.439132668280458, 'mae': 7.424107712367891, 'rmse': 8.59755087506904}\n",
            "Training with lr=1e-05, num_layers=2, weight_decay=0.001\n"
          ]
        },
        {
          "name": "stderr",
          "output_type": "stream",
          "text": [
            "100%|██████████| 15/15 [00:39<00:00,  2.61s/it]\n",
            "100%|██████████| 15/15 [00:39<00:00,  2.61s/it]\n",
            "100%|██████████| 15/15 [00:38<00:00,  2.58s/it]\n",
            "100%|██████████| 15/15 [00:39<00:00,  2.65s/it]\n",
            "100%|██████████| 15/15 [00:39<00:00,  2.66s/it]\n",
            "100%|██████████| 15/15 [00:39<00:00,  2.67s/it]\n",
            "100%|██████████| 15/15 [00:39<00:00,  2.66s/it]\n",
            "100%|██████████| 15/15 [00:39<00:00,  2.62s/it]\n",
            "100%|██████████| 15/15 [00:39<00:00,  2.62s/it]\n",
            "100%|██████████| 15/15 [00:39<00:00,  2.67s/it]\n"
          ]
        },
        {
          "name": "stdout",
          "output_type": "stream",
          "text": [
            "Epoch: 10, Train loss: 11.511036768705592, Val metrics: {'r2': -3.2847969739206553, 'mae': 8.437610038678967, 'rmse': 9.59655626509369}\n"
          ]
        },
        {
          "name": "stderr",
          "output_type": "stream",
          "text": [
            "100%|██████████| 15/15 [00:39<00:00,  2.64s/it]\n",
            "100%|██████████| 15/15 [00:39<00:00,  2.61s/it]\n",
            "100%|██████████| 15/15 [00:39<00:00,  2.61s/it]\n",
            "100%|██████████| 15/15 [00:39<00:00,  2.67s/it]\n",
            "100%|██████████| 15/15 [00:39<00:00,  2.62s/it]\n",
            "100%|██████████| 15/15 [00:38<00:00,  2.59s/it]\n",
            "100%|██████████| 15/15 [00:39<00:00,  2.63s/it]\n",
            "100%|██████████| 15/15 [00:39<00:00,  2.64s/it]\n",
            "100%|██████████| 15/15 [00:39<00:00,  2.63s/it]\n",
            "100%|██████████| 15/15 [00:39<00:00,  2.64s/it]\n"
          ]
        },
        {
          "name": "stdout",
          "output_type": "stream",
          "text": [
            "Epoch: 20, Train loss: 10.929549314728458, Val metrics: {'r2': -2.902083362981859, 'mae': 7.995000913832772, 'rmse': 9.157956182988721}\n"
          ]
        },
        {
          "name": "stderr",
          "output_type": "stream",
          "text": [
            "100%|██████████| 15/15 [00:39<00:00,  2.65s/it]\n",
            "100%|██████████| 15/15 [00:38<00:00,  2.60s/it]\n",
            "100%|██████████| 15/15 [00:39<00:00,  2.61s/it]\n",
            "100%|██████████| 15/15 [00:38<00:00,  2.60s/it]\n",
            "100%|██████████| 15/15 [00:38<00:00,  2.59s/it]\n",
            "100%|██████████| 15/15 [00:38<00:00,  2.59s/it]\n",
            "100%|██████████| 15/15 [00:39<00:00,  2.61s/it]\n",
            "100%|██████████| 15/15 [00:39<00:00,  2.64s/it]\n",
            "100%|██████████| 15/15 [00:39<00:00,  2.63s/it]\n",
            "100%|██████████| 15/15 [00:39<00:00,  2.61s/it]\n"
          ]
        },
        {
          "name": "stdout",
          "output_type": "stream",
          "text": [
            "Epoch: 30, Train loss: 10.619403100663122, Val metrics: {'r2': -2.6945771541779995, 'mae': 7.74240659199003, 'rmse': 8.911127546173212}\n",
            "Best Val metrics for parameters Adam (\n",
            "Parameter Group 0\n",
            "    amsgrad: False\n",
            "    betas: (0.9, 0.999)\n",
            "    capturable: False\n",
            "    differentiable: False\n",
            "    eps: 1e-08\n",
            "    foreach: None\n",
            "    fused: None\n",
            "    lr: 1e-05\n",
            "    maximize: False\n",
            "    weight_decay: 0.001\n",
            "), are: {'r2': -2.6945771247038683, 'mae': 7.742406145731608, 'rmse': 8.911127510628177}\n",
            "Training with lr=1e-05, num_layers=2, weight_decay=0.01\n"
          ]
        },
        {
          "name": "stderr",
          "output_type": "stream",
          "text": [
            "100%|██████████| 15/15 [00:39<00:00,  2.64s/it]\n",
            "100%|██████████| 15/15 [00:43<00:00,  2.92s/it]\n",
            "100%|██████████| 15/15 [00:47<00:00,  3.19s/it]\n",
            "100%|██████████| 15/15 [00:47<00:00,  3.19s/it]\n",
            "100%|██████████| 15/15 [00:47<00:00,  3.17s/it]\n",
            "100%|██████████| 15/15 [00:46<00:00,  3.11s/it]\n",
            "100%|██████████| 15/15 [00:45<00:00,  3.02s/it]\n",
            "100%|██████████| 15/15 [00:43<00:00,  2.91s/it]\n",
            "100%|██████████| 15/15 [00:46<00:00,  3.08s/it]\n",
            "100%|██████████| 15/15 [00:45<00:00,  3.00s/it]\n"
          ]
        },
        {
          "name": "stdout",
          "output_type": "stream",
          "text": [
            "Epoch: 10, Train loss: 11.124983248959511, Val metrics: {'r2': -3.041689880551809, 'mae': 8.154093703096041, 'rmse': 9.320340594299026}\n"
          ]
        },
        {
          "name": "stderr",
          "output_type": "stream",
          "text": [
            "100%|██████████| 15/15 [00:43<00:00,  2.91s/it]\n",
            "100%|██████████| 15/15 [00:43<00:00,  2.88s/it]\n",
            "100%|██████████| 15/15 [00:43<00:00,  2.91s/it]\n",
            "100%|██████████| 15/15 [00:42<00:00,  2.85s/it]\n",
            "100%|██████████| 15/15 [00:43<00:00,  2.88s/it]\n",
            "100%|██████████| 15/15 [00:42<00:00,  2.84s/it]\n",
            "100%|██████████| 15/15 [00:43<00:00,  2.89s/it]\n",
            "100%|██████████| 15/15 [00:41<00:00,  2.80s/it]\n",
            "100%|██████████| 15/15 [00:42<00:00,  2.83s/it]\n",
            "100%|██████████| 15/15 [00:43<00:00,  2.90s/it]\n"
          ]
        },
        {
          "name": "stdout",
          "output_type": "stream",
          "text": [
            "Epoch: 20, Train loss: 10.606868938521284, Val metrics: {'r2': -2.680105171192289, 'mae': 7.72217051455715, 'rmse': 8.893657587182693}\n"
          ]
        },
        {
          "name": "stderr",
          "output_type": "stream",
          "text": [
            "100%|██████████| 15/15 [00:41<00:00,  2.77s/it]\n",
            "100%|██████████| 15/15 [00:45<00:00,  3.06s/it]\n",
            "100%|██████████| 15/15 [00:44<00:00,  2.97s/it]\n",
            "100%|██████████| 15/15 [00:49<00:00,  3.31s/it]\n",
            "100%|██████████| 15/15 [00:44<00:00,  2.97s/it]\n",
            "100%|██████████| 15/15 [01:02<00:00,  4.16s/it]\n",
            "100%|██████████| 15/15 [00:53<00:00,  3.57s/it]\n",
            "100%|██████████| 15/15 [00:46<00:00,  3.10s/it]\n",
            "100%|██████████| 15/15 [00:47<00:00,  3.15s/it]\n",
            "100%|██████████| 15/15 [00:47<00:00,  3.20s/it]\n"
          ]
        },
        {
          "name": "stdout",
          "output_type": "stream",
          "text": [
            "Epoch: 30, Train loss: 10.341997037457888, Val metrics: {'r2': -2.508406798932879, 'mae': 7.510622955722338, 'rmse': 8.683709004672558}\n",
            "Best Val metrics for parameters Adam (\n",
            "Parameter Group 0\n",
            "    amsgrad: False\n",
            "    betas: (0.9, 0.999)\n",
            "    capturable: False\n",
            "    differentiable: False\n",
            "    eps: 1e-08\n",
            "    foreach: None\n",
            "    fused: None\n",
            "    lr: 1e-05\n",
            "    maximize: False\n",
            "    weight_decay: 0.01\n",
            "), are: {'r2': -2.508396928374284, 'mae': 7.510633349147891, 'rmse': 8.683696789281962}\n",
            "Training with lr=1e-05, num_layers=3, weight_decay=0.0001\n"
          ]
        },
        {
          "name": "stderr",
          "output_type": "stream",
          "text": [
            "100%|██████████| 15/15 [00:52<00:00,  3.51s/it]\n",
            "100%|██████████| 15/15 [01:01<00:00,  4.08s/it]\n",
            "100%|██████████| 15/15 [00:59<00:00,  3.98s/it]\n",
            "100%|██████████| 15/15 [00:55<00:00,  3.70s/it]\n",
            "100%|██████████| 15/15 [00:52<00:00,  3.49s/it]\n",
            "100%|██████████| 15/15 [00:55<00:00,  3.67s/it]\n",
            "100%|██████████| 15/15 [00:53<00:00,  3.55s/it]\n",
            "100%|██████████| 15/15 [00:52<00:00,  3.48s/it]\n",
            "100%|██████████| 15/15 [00:51<00:00,  3.44s/it]\n",
            "100%|██████████| 15/15 [00:51<00:00,  3.47s/it]\n"
          ]
        },
        {
          "name": "stdout",
          "output_type": "stream",
          "text": [
            "Epoch: 10, Train loss: 10.925598039477364, Val metrics: {'r2': -2.821300580449002, 'mae': 7.879406030893167, 'rmse': 9.062664230218443}\n"
          ]
        },
        {
          "name": "stderr",
          "output_type": "stream",
          "text": [
            "100%|██████████| 15/15 [00:52<00:00,  3.48s/it]\n",
            "100%|██████████| 15/15 [00:50<00:00,  3.38s/it]\n",
            "100%|██████████| 15/15 [00:50<00:00,  3.37s/it]\n",
            "100%|██████████| 15/15 [00:51<00:00,  3.42s/it]\n",
            "100%|██████████| 15/15 [00:51<00:00,  3.44s/it]\n",
            "100%|██████████| 15/15 [00:53<00:00,  3.54s/it]\n",
            "100%|██████████| 15/15 [00:55<00:00,  3.71s/it]\n",
            "100%|██████████| 15/15 [00:56<00:00,  3.76s/it]\n",
            "100%|██████████| 15/15 [00:56<00:00,  3.78s/it]\n",
            "100%|██████████| 15/15 [00:57<00:00,  3.83s/it]\n"
          ]
        },
        {
          "name": "stdout",
          "output_type": "stream",
          "text": [
            "Epoch: 20, Train loss: 10.421111986203016, Val metrics: {'r2': -2.5529327574863476, 'mae': 7.5602483409838275, 'rmse': 8.73863869872917}\n"
          ]
        },
        {
          "name": "stderr",
          "output_type": "stream",
          "text": [
            "100%|██████████| 15/15 [00:58<00:00,  3.89s/it]\n",
            "100%|██████████| 15/15 [00:56<00:00,  3.79s/it]\n",
            "100%|██████████| 15/15 [00:52<00:00,  3.52s/it]\n",
            "100%|██████████| 15/15 [00:52<00:00,  3.48s/it]\n",
            "100%|██████████| 15/15 [00:51<00:00,  3.41s/it]\n",
            "100%|██████████| 15/15 [00:52<00:00,  3.51s/it]\n",
            "100%|██████████| 15/15 [00:51<00:00,  3.46s/it]\n",
            "100%|██████████| 15/15 [00:52<00:00,  3.47s/it]\n",
            "100%|██████████| 15/15 [00:50<00:00,  3.37s/it]\n",
            "100%|██████████| 15/15 [00:50<00:00,  3.34s/it]\n"
          ]
        },
        {
          "name": "stdout",
          "output_type": "stream",
          "text": [
            "Epoch: 30, Train loss: 10.22267908572063, Val metrics: {'r2': -2.4039316182735098, 'mae': 7.376727947268234, 'rmse': 8.553437830113669}\n",
            "Best Val metrics for parameters Adam (\n",
            "Parameter Group 0\n",
            "    amsgrad: False\n",
            "    betas: (0.9, 0.999)\n",
            "    capturable: False\n",
            "    differentiable: False\n",
            "    eps: 1e-08\n",
            "    foreach: None\n",
            "    fused: None\n",
            "    lr: 1e-05\n",
            "    maximize: False\n",
            "    weight_decay: 0.0001\n",
            "), are: {'r2': -2.4039323759765385, 'mae': 7.376730830747443, 'rmse': 8.553438782095983}\n",
            "Training with lr=1e-05, num_layers=3, weight_decay=0.001\n"
          ]
        },
        {
          "name": "stderr",
          "output_type": "stream",
          "text": [
            "100%|██████████| 15/15 [00:51<00:00,  3.44s/it]\n",
            "100%|██████████| 15/15 [00:51<00:00,  3.42s/it]\n",
            "100%|██████████| 15/15 [00:51<00:00,  3.40s/it]\n",
            "100%|██████████| 15/15 [00:50<00:00,  3.36s/it]\n",
            "100%|██████████| 15/15 [00:51<00:00,  3.46s/it]\n",
            "100%|██████████| 15/15 [00:52<00:00,  3.49s/it]\n",
            "100%|██████████| 15/15 [00:54<00:00,  3.64s/it]\n",
            "100%|██████████| 15/15 [00:52<00:00,  3.50s/it]\n",
            "100%|██████████| 15/15 [00:51<00:00,  3.43s/it]\n",
            "100%|██████████| 15/15 [00:47<00:00,  3.20s/it]\n"
          ]
        },
        {
          "name": "stdout",
          "output_type": "stream",
          "text": [
            "Epoch: 10, Train loss: 10.735405376449169, Val metrics: {'r2': -2.713136282012908, 'mae': 7.756672330402739, 'rmse': 8.933481333202709}\n"
          ]
        },
        {
          "name": "stderr",
          "output_type": "stream",
          "text": [
            "100%|██████████| 15/15 [00:48<00:00,  3.23s/it]\n",
            "100%|██████████| 15/15 [00:47<00:00,  3.20s/it]\n",
            "100%|██████████| 15/15 [00:47<00:00,  3.16s/it]\n",
            "100%|██████████| 15/15 [00:47<00:00,  3.18s/it]\n",
            "100%|██████████| 15/15 [00:47<00:00,  3.19s/it]\n",
            "100%|██████████| 15/15 [00:47<00:00,  3.14s/it]\n",
            "100%|██████████| 15/15 [00:48<00:00,  3.22s/it]\n",
            "100%|██████████| 15/15 [00:49<00:00,  3.32s/it]\n",
            "100%|██████████| 15/15 [00:49<00:00,  3.29s/it]\n",
            "100%|██████████| 15/15 [00:47<00:00,  3.16s/it]\n"
          ]
        },
        {
          "name": "stdout",
          "output_type": "stream",
          "text": [
            "Epoch: 20, Train loss: 10.268540571251924, Val metrics: {'r2': -2.434316469629199, 'mae': 7.411103267007138, 'rmse': 8.591528714256112}\n"
          ]
        },
        {
          "name": "stderr",
          "output_type": "stream",
          "text": [
            "100%|██████████| 15/15 [00:47<00:00,  3.16s/it]\n",
            "100%|██████████| 15/15 [00:47<00:00,  3.13s/it]\n",
            "100%|██████████| 15/15 [00:48<00:00,  3.20s/it]\n",
            "100%|██████████| 15/15 [00:49<00:00,  3.28s/it]\n",
            "100%|██████████| 15/15 [00:48<00:00,  3.20s/it]\n",
            "100%|██████████| 15/15 [00:47<00:00,  3.20s/it]\n",
            "100%|██████████| 15/15 [00:47<00:00,  3.16s/it]\n",
            "100%|██████████| 15/15 [00:49<00:00,  3.33s/it]\n",
            "100%|██████████| 15/15 [00:47<00:00,  3.18s/it]\n",
            "100%|██████████| 15/15 [00:47<00:00,  3.16s/it]\n"
          ]
        },
        {
          "name": "stdout",
          "output_type": "stream",
          "text": [
            "Epoch: 30, Train loss: 10.064741402972421, Val metrics: {'r2': -2.28287753979988, 'mae': 7.222444486777306, 'rmse': 8.399967987659624}\n",
            "Best Val metrics for parameters Adam (\n",
            "Parameter Group 0\n",
            "    amsgrad: False\n",
            "    betas: (0.9, 0.999)\n",
            "    capturable: False\n",
            "    differentiable: False\n",
            "    eps: 1e-08\n",
            "    foreach: None\n",
            "    fused: None\n",
            "    lr: 1e-05\n",
            "    maximize: False\n",
            "    weight_decay: 0.001\n",
            "), are: {'r2': -2.2828766335621857, 'mae': 7.222440795350568, 'rmse': 8.399966828254795}\n",
            "Training with lr=1e-05, num_layers=3, weight_decay=0.01\n"
          ]
        },
        {
          "name": "stderr",
          "output_type": "stream",
          "text": [
            "100%|██████████| 15/15 [00:48<00:00,  3.23s/it]\n",
            "100%|██████████| 15/15 [00:48<00:00,  3.21s/it]\n",
            "100%|██████████| 15/15 [00:47<00:00,  3.17s/it]\n",
            "100%|██████████| 15/15 [00:48<00:00,  3.24s/it]\n",
            "100%|██████████| 15/15 [00:48<00:00,  3.26s/it]\n",
            "100%|██████████| 15/15 [00:48<00:00,  3.25s/it]\n",
            "100%|██████████| 15/15 [00:47<00:00,  3.15s/it]\n",
            "100%|██████████| 15/15 [00:48<00:00,  3.20s/it]\n",
            "100%|██████████| 15/15 [00:46<00:00,  3.10s/it]\n",
            "100%|██████████| 15/15 [00:47<00:00,  3.14s/it]\n"
          ]
        },
        {
          "name": "stdout",
          "output_type": "stream",
          "text": [
            "Epoch: 10, Train loss: 11.25616575154333, Val metrics: {'r2': -3.0878589012115896, 'mae': 8.216388865383609, 'rmse': 9.373423475154894}\n"
          ]
        },
        {
          "name": "stderr",
          "output_type": "stream",
          "text": [
            "100%|██████████| 15/15 [00:48<00:00,  3.20s/it]\n",
            "100%|██████████| 15/15 [00:48<00:00,  3.23s/it]\n",
            "100%|██████████| 15/15 [00:47<00:00,  3.16s/it]\n",
            "100%|██████████| 15/15 [00:48<00:00,  3.20s/it]\n",
            "100%|██████████| 15/15 [00:47<00:00,  3.19s/it]\n",
            "100%|██████████| 15/15 [00:48<00:00,  3.22s/it]\n",
            "100%|██████████| 15/15 [00:47<00:00,  3.14s/it]\n",
            "100%|██████████| 15/15 [00:48<00:00,  3.24s/it]\n",
            "100%|██████████| 15/15 [00:48<00:00,  3.21s/it]\n",
            "100%|██████████| 15/15 [00:47<00:00,  3.20s/it]\n"
          ]
        },
        {
          "name": "stdout",
          "output_type": "stream",
          "text": [
            "Epoch: 20, Train loss: 10.59321540239816, Val metrics: {'r2': -2.730407466360438, 'mae': 7.781689645898446, 'rmse': 8.954233709377137}\n"
          ]
        },
        {
          "name": "stderr",
          "output_type": "stream",
          "text": [
            "100%|██████████| 15/15 [00:47<00:00,  3.17s/it]\n",
            "100%|██████████| 15/15 [00:47<00:00,  3.17s/it]\n",
            "100%|██████████| 15/15 [00:50<00:00,  3.34s/it]\n",
            "100%|██████████| 15/15 [00:47<00:00,  3.20s/it]\n",
            "100%|██████████| 15/15 [00:47<00:00,  3.17s/it]\n",
            "100%|██████████| 15/15 [00:46<00:00,  3.11s/it]\n",
            "100%|██████████| 15/15 [00:47<00:00,  3.19s/it]\n",
            "100%|██████████| 15/15 [00:47<00:00,  3.15s/it]\n",
            "100%|██████████| 15/15 [00:50<00:00,  3.34s/it]\n",
            "100%|██████████| 15/15 [00:48<00:00,  3.23s/it]\n"
          ]
        },
        {
          "name": "stdout",
          "output_type": "stream",
          "text": [
            "Epoch: 30, Train loss: 10.353372045384146, Val metrics: {'r2': -2.5452277671703274, 'mae': 7.554168233380927, 'rmse': 8.729158126645704}\n",
            "Best Val metrics for parameters Adam (\n",
            "Parameter Group 0\n",
            "    amsgrad: False\n",
            "    betas: (0.9, 0.999)\n",
            "    capturable: False\n",
            "    differentiable: False\n",
            "    eps: 1e-08\n",
            "    foreach: None\n",
            "    fused: None\n",
            "    lr: 1e-05\n",
            "    maximize: False\n",
            "    weight_decay: 0.01\n",
            "), are: {'r2': -2.545228150803555, 'mae': 7.55416754440379, 'rmse': 8.729158598941876}\n"
          ]
        }
      ],
      "source": [
        "#cross validation cycle:\n",
        "#possible learning rates: [0.01, 0.001, 0.0001, 0.00001]\n",
        "#possible batch sizes: [64, 256, 512]\n",
        "#possible number of layers: [1, 2, 3]\n",
        "#possible weight decay: [0.0001, 0.001, 0.01]\n",
        "\n",
        "for lr in [0.00001]:\n",
        "    #for batch_size in [64, 256, 512]:#63\n",
        "        for num_layers in [1, 2, 3]:#2\n",
        "            for weight_decay in [0.0001, 0.001, 0.01]:#0.001\n",
        "                model = Model(\n",
        "                    data=data,\n",
        "                    col_stats_dict=col_stats_dict,\n",
        "                    num_layers=num_layers,\n",
        "                    channels=128,\n",
        "                    out_channels=1,\n",
        "                    aggr=\"sum\",\n",
        "                    norm=\"batch_norm\",\n",
        "                ).to(device)\n",
        "                print(f\"Training with lr={lr}, num_layers={num_layers}, weight_decay={weight_decay}\")\n",
        "                optimizer = torch.optim.Adam(model.parameters(), lr=lr, weight_decay=weight_decay)\n",
        "                training_function(model, optimizer, epochs=30) # Set epochs to a smaller number for testing"
      ]
    },
    {
      "cell_type": "code",
      "execution_count": 23,
      "metadata": {
        "colab": {
          "base_uri": "https://localhost:8080/",
          "height": 911
        },
        "id": "yF3W68Eqlew_",
        "outputId": "91ae72b2-0964-4a72-f100-acebbec7c95f"
      },
      "outputs": [],
      "source": [
        "# from sklearn.metrics import mean_squared_error\n",
        "# epochs = 30\n",
        "# state_dict = None\n",
        "# best_val_metric = -math.inf if higher_is_better else math.inf\n",
        "# for epoch in range(1, epochs + 1):\n",
        "#     train_loss = train(model, optimizer)\n",
        "#     val_pred = test(model, loader_dict[\"val\"])\n",
        "#     #val_metrics = task.evaluate(val_pred, val_table)\n",
        "#     val_metrics = custom_evaluate(val_pred, val_table, task.metrics)\n",
        "#     print(f\"Epoch: {epoch:02d}, Train loss: {train_loss}, Val metrics: {val_metrics}\")\n",
        "\n",
        "#     if (higher_is_better and val_metrics[tune_metric] > best_val_metric) or (\n",
        "#         not higher_is_better and val_metrics[tune_metric] < best_val_metric\n",
        "#     ):\n",
        "#         best_val_metric = val_metrics[tune_metric]\n",
        "#         state_dict = copy.deepcopy(model.state_dict())\n",
        "\n",
        "\n",
        "# model.load_state_dict(state_dict)\n",
        "# val_pred = test(loader_dict[\"val\"])\n",
        "# val_metrics = custom_evaluate(val_pred, val_table, task.metrics)\n",
        "# print(f\"Best Val metrics: {val_metrics}\")\n",
        "\n",
        "# # test_pred = test(loader_dict[\"test\"])\n",
        "# # test_metrics = custom_evaluate(test_pred, test_table, task.metrics)\n",
        "# # print(f\"Best test metrics: {test_metrics}\")"
      ]
    },
    {
      "cell_type": "code",
      "execution_count": 24,
      "metadata": {},
      "outputs": [],
      "source": [
        "#test_pred = test(loader_dict[\"test\"])\n",
        "#test_metrics = custom_evaluate(test_pred, test_table, task.metrics)\n",
        "#print(f\"Best test metrics: {test_metrics}\")"
      ]
    }
  ],
  "metadata": {
    "colab": {
      "include_colab_link": true,
      "provenance": []
    },
    "kernelspec": {
      "display_name": "venv",
      "language": "python",
      "name": "python3"
    },
    "language_info": {
      "codemirror_mode": {
        "name": "ipython",
        "version": 3
      },
      "file_extension": ".py",
      "mimetype": "text/x-python",
      "name": "python",
      "nbconvert_exporter": "python",
      "pygments_lexer": "ipython3",
      "version": "3.10.0"
    }
  },
  "nbformat": 4,
  "nbformat_minor": 0
}
