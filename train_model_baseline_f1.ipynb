{
  "cells": [
    {
      "cell_type": "markdown",
      "metadata": {
        "colab_type": "text",
        "id": "view-in-github"
      },
      "source": [
        "<a href=\"https://colab.research.google.com/github/Andrea-1704/Pytorch_Geometric_tutorial/blob/main/train_model_baseline_f1.ipynb\" target=\"_parent\"><img src=\"https://colab.research.google.com/assets/colab-badge.svg\" alt=\"Open In Colab\"/></a>"
      ]
    },
    {
      "cell_type": "code",
      "execution_count": 96,
      "metadata": {
        "colab": {
          "base_uri": "https://localhost:8080/"
        },
        "id": "zNziUzq9nTdU",
        "outputId": "6716be7d-c2cb-439e-d8e6-674183246c2a"
      },
      "outputs": [],
      "source": [
        "# !pip install torch-scatter -f https://data.pyg.org/whl/torch-2.4.0+cpu.html\n",
        "# !pip install torch-sparse -f https://data.pyg.org/whl/torch-2.4.0+cpu.html\n",
        "# !pip install torch-cluster -f https://data.pyg.org/whl/torch-2.4.0+cpu.html\n",
        "# !pip install torch-spline-conv -f https://data.pyg.org/whl/torch-2.4.0+cpu.html\n",
        "# !pip install torch-geometric==2.6.0 -f https://data.pyg.org/whl/torch-2.4.0+cpu.html\n",
        "# !pip install pyg-lib -f https://data.pyg.org/whl/torch-2.4.0+cpu.html\n",
        "\n",
        "# !pip install pytorch_frame[full]==1.2.2\n",
        "# !pip install relbench[full]==1.0.0\n",
        "# !pip uninstall -y pyg_lib torch  # Uninstall current versions\n",
        "# !pip install torch==2.6.0  # Reinstall your desired PyTorch version\n",
        "# !pip install --no-cache-dir git+https://github.com/pyg-team/pyg-lib.git # Install pyg-lib; --no-cache-dir ensures a fresh install"
      ]
    },
    {
      "cell_type": "code",
      "execution_count": 97,
      "metadata": {
        "colab": {
          "base_uri": "https://localhost:8080/",
          "height": 35
        },
        "id": "F454ta1Zg0Oq",
        "outputId": "4843dbd5-7637-430f-e320-2d0f62bfe094"
      },
      "outputs": [
        {
          "data": {
            "text/plain": [
              "'1.0.0'"
            ]
          },
          "execution_count": 97,
          "metadata": {},
          "output_type": "execute_result"
        }
      ],
      "source": [
        "import os\n",
        "import torch\n",
        "import relbench\n",
        "\n",
        "relbench.__version__"
      ]
    },
    {
      "cell_type": "code",
      "execution_count": 98,
      "metadata": {
        "id": "6DWB-Kf6nl2y"
      },
      "outputs": [],
      "source": [
        "import numpy as np\n",
        "\n",
        "from torch.nn import BCEWithLogitsLoss, L1Loss\n",
        "from relbench.datasets import get_dataset\n",
        "from relbench.tasks import get_task\n",
        "\n",
        "dataset = get_dataset(\"rel-f1\", download=True)\n",
        "task = get_task(\"rel-f1\", \"driver-position\", download=True)\n",
        "\n",
        "train_table = task.get_table(\"train\")\n",
        "val_table = task.get_table(\"val\")\n",
        "test_table = task.get_table(\"test\")\n",
        "\n",
        "out_channels = 1\n",
        "loss_fn = L1Loss()\n",
        "tune_metric = \"mae\"\n",
        "higher_is_better = False"
      ]
    },
    {
      "cell_type": "markdown",
      "metadata": {
        "id": "UKFT5H51j_Um"
      },
      "source": [
        "Let's check out the training table just to make sure it looks fine."
      ]
    },
    {
      "cell_type": "code",
      "execution_count": 99,
      "metadata": {
        "colab": {
          "base_uri": "https://localhost:8080/"
        },
        "id": "ABN_fdN3kAB9",
        "outputId": "95345755-7493-43f4-92cb-e6107cfae269"
      },
      "outputs": [
        {
          "data": {
            "text/plain": [
              "Table(df=\n",
              "           date  driverId  position\n",
              "0    2004-07-05        10     10.75\n",
              "1    2004-07-05        47     12.00\n",
              "2    2004-03-07         7     15.00\n",
              "3    2004-01-07        10      9.00\n",
              "4    2003-09-09        52     13.00\n",
              "...         ...       ...       ...\n",
              "7448 1995-08-22        96     15.75\n",
              "7449 1975-06-08       228      8.00\n",
              "7450 1965-05-31       418     16.00\n",
              "7451 1961-08-20       467     37.00\n",
              "7452 1954-05-29       677     30.00\n",
              "\n",
              "[7453 rows x 3 columns],\n",
              "  fkey_col_to_pkey_table={'driverId': 'drivers'},\n",
              "  pkey_col=None,\n",
              "  time_col=date)"
            ]
          },
          "execution_count": 99,
          "metadata": {},
          "output_type": "execute_result"
        }
      ],
      "source": [
        "train_table"
      ]
    },
    {
      "cell_type": "markdown",
      "metadata": {
        "id": "qQhuHIdHkOxv"
      },
      "source": [
        "Note that to load the data we did not require any deep learning libraries. Now we introduce the PyTorch Frame library, which is useful for encoding individual tables into initial node features."
      ]
    },
    {
      "cell_type": "code",
      "execution_count": 100,
      "metadata": {
        "colab": {
          "base_uri": "https://localhost:8080/"
        },
        "id": "qNzfdwsrkPIo",
        "outputId": "e68ea332-481b-4a28-d807-12d0721b8925"
      },
      "outputs": [
        {
          "name": "stdout",
          "output_type": "stream",
          "text": [
            "cpu\n"
          ]
        }
      ],
      "source": [
        "import os\n",
        "import math\n",
        "import numpy as np\n",
        "from tqdm import tqdm\n",
        "\n",
        "import torch\n",
        "import torch_geometric\n",
        "import torch_frame\n",
        "\n",
        "# Some book keeping\n",
        "from torch_geometric.seed import seed_everything\n",
        "\n",
        "seed_everything(42)\n",
        "\n",
        "\n",
        "device = torch.device(\"cuda\" if torch.cuda.is_available() else \"cpu\")\n",
        "print(device)  # check that it's cuda if you want it to run in reasonable time!\n",
        "root_dir = \"./data\""
      ]
    },
    {
      "cell_type": "markdown",
      "metadata": {
        "id": "0Y79g5H0kVjX"
      },
      "source": [
        "The first big move is to build a graph out of the database. Here we use our pre-prepared conversion function.\n",
        "\n",
        "The source code can be found at: https://github.com/snap-stanford/relbench/blob/main/relbench/modeling/graph.py\n",
        "\n",
        "Each node in the graph corresonds to a single row in the database. Crucially, PyTorch Frame stores whole tables as objects in a way that is compatibile with PyG minibatch sampling, meaning we can sample subgraphs as in https://arxiv.org/abs/1706.02216, and retrieve the relevant raw features.\n",
        "\n",
        "PyTorch Frame also stores the `stype` (i.e., modality) of each column, and any specialized feature encoders (e.g., text encoders) to be used later. So we need to configure the `stype` for each column, for which we use a function that tries to automatically detect the `stype`."
      ]
    },
    {
      "cell_type": "code",
      "execution_count": 101,
      "metadata": {
        "colab": {
          "base_uri": "https://localhost:8080/"
        },
        "id": "kiV3TGI-kRuy",
        "outputId": "9d4686c6-baf3-48f8-b084-25f28cff0858"
      },
      "outputs": [
        {
          "data": {
            "text/plain": [
              "{'circuits': {'circuitId': <stype.numerical: 'numerical'>,\n",
              "  'circuitRef': <stype.text_embedded: 'text_embedded'>,\n",
              "  'name': <stype.text_embedded: 'text_embedded'>,\n",
              "  'location': <stype.text_embedded: 'text_embedded'>,\n",
              "  'country': <stype.text_embedded: 'text_embedded'>,\n",
              "  'lat': <stype.numerical: 'numerical'>,\n",
              "  'lng': <stype.numerical: 'numerical'>,\n",
              "  'alt': <stype.numerical: 'numerical'>},\n",
              " 'constructors': {'constructorId': <stype.numerical: 'numerical'>,\n",
              "  'constructorRef': <stype.text_embedded: 'text_embedded'>,\n",
              "  'name': <stype.text_embedded: 'text_embedded'>,\n",
              "  'nationality': <stype.text_embedded: 'text_embedded'>},\n",
              " 'constructor_results': {'constructorResultsId': <stype.numerical: 'numerical'>,\n",
              "  'raceId': <stype.numerical: 'numerical'>,\n",
              "  'constructorId': <stype.numerical: 'numerical'>,\n",
              "  'points': <stype.numerical: 'numerical'>,\n",
              "  'date': <stype.timestamp: 'timestamp'>},\n",
              " 'constructor_standings': {'constructorStandingsId': <stype.numerical: 'numerical'>,\n",
              "  'raceId': <stype.numerical: 'numerical'>,\n",
              "  'constructorId': <stype.numerical: 'numerical'>,\n",
              "  'points': <stype.numerical: 'numerical'>,\n",
              "  'position': <stype.numerical: 'numerical'>,\n",
              "  'wins': <stype.numerical: 'numerical'>,\n",
              "  'date': <stype.timestamp: 'timestamp'>},\n",
              " 'drivers': {'driverId': <stype.numerical: 'numerical'>,\n",
              "  'driverRef': <stype.text_embedded: 'text_embedded'>,\n",
              "  'code': <stype.text_embedded: 'text_embedded'>,\n",
              "  'forename': <stype.text_embedded: 'text_embedded'>,\n",
              "  'surname': <stype.text_embedded: 'text_embedded'>,\n",
              "  'dob': <stype.timestamp: 'timestamp'>,\n",
              "  'nationality': <stype.text_embedded: 'text_embedded'>},\n",
              " 'qualifying': {'qualifyId': <stype.numerical: 'numerical'>,\n",
              "  'raceId': <stype.numerical: 'numerical'>,\n",
              "  'driverId': <stype.numerical: 'numerical'>,\n",
              "  'constructorId': <stype.numerical: 'numerical'>,\n",
              "  'number': <stype.numerical: 'numerical'>,\n",
              "  'position': <stype.categorical: 'categorical'>,\n",
              "  'date': <stype.timestamp: 'timestamp'>},\n",
              " 'races': {'raceId': <stype.numerical: 'numerical'>,\n",
              "  'year': <stype.categorical: 'categorical'>,\n",
              "  'round': <stype.numerical: 'numerical'>,\n",
              "  'circuitId': <stype.numerical: 'numerical'>,\n",
              "  'name': <stype.text_embedded: 'text_embedded'>,\n",
              "  'date': <stype.timestamp: 'timestamp'>,\n",
              "  'time': <stype.timestamp: 'timestamp'>},\n",
              " 'results': {'resultId': <stype.numerical: 'numerical'>,\n",
              "  'raceId': <stype.numerical: 'numerical'>,\n",
              "  'driverId': <stype.numerical: 'numerical'>,\n",
              "  'constructorId': <stype.numerical: 'numerical'>,\n",
              "  'number': <stype.numerical: 'numerical'>,\n",
              "  'grid': <stype.numerical: 'numerical'>,\n",
              "  'position': <stype.numerical: 'numerical'>,\n",
              "  'positionOrder': <stype.numerical: 'numerical'>,\n",
              "  'points': <stype.numerical: 'numerical'>,\n",
              "  'laps': <stype.numerical: 'numerical'>,\n",
              "  'milliseconds': <stype.numerical: 'numerical'>,\n",
              "  'fastestLap': <stype.numerical: 'numerical'>,\n",
              "  'rank': <stype.numerical: 'numerical'>,\n",
              "  'statusId': <stype.numerical: 'numerical'>,\n",
              "  'date': <stype.timestamp: 'timestamp'>},\n",
              " 'standings': {'driverStandingsId': <stype.numerical: 'numerical'>,\n",
              "  'raceId': <stype.numerical: 'numerical'>,\n",
              "  'driverId': <stype.numerical: 'numerical'>,\n",
              "  'points': <stype.numerical: 'numerical'>,\n",
              "  'position': <stype.numerical: 'numerical'>,\n",
              "  'wins': <stype.numerical: 'numerical'>,\n",
              "  'date': <stype.timestamp: 'timestamp'>}}"
            ]
          },
          "execution_count": 101,
          "metadata": {},
          "output_type": "execute_result"
        }
      ],
      "source": [
        "from relbench.modeling.utils import get_stype_proposal\n",
        "\n",
        "db = dataset.get_db()\n",
        "col_to_stype_dict = get_stype_proposal(db)\n",
        "col_to_stype_dict"
      ]
    },
    {
      "cell_type": "markdown",
      "metadata": {
        "id": "Sm3uYXqXkbZt"
      },
      "source": [
        "If trying a new dataset, you should definitely check through this dict of `stype`s to check that look right, and manually change any mistakes by the auto-detection function.\n",
        "\n",
        "Next we also define our text encoding model, which we use GloVe embeddings for speed and convenience. Feel free to try alternatives here."
      ]
    },
    {
      "cell_type": "code",
      "execution_count": 102,
      "metadata": {
        "id": "QQHYmgIxkX1j"
      },
      "outputs": [],
      "source": [
        "# import torch\n",
        "# from typing import List, Optional\n",
        "# from sentence_transformers import SentenceTransformer\n",
        "# from torch import Tensor\n",
        "\n",
        "\n",
        "# class GloveTextEmbedding:\n",
        "#     def __init__(self, device: Optional[torch.device\n",
        "#                                        ] = None):\n",
        "#         self.model = SentenceTransformer(\n",
        "#             \"sentence-transformers/average_word_embeddings_glove.6B.300d\",\n",
        "#             device=device,\n",
        "#         )\n",
        "\n",
        "#     def __call__(self, sentences: List[str]) -> Tensor:\n",
        "#         return torch.from_numpy(self.model.encode(sentences))\n",
        "\n",
        "import torch\n",
        "import numpy as np\n",
        "from collections import defaultdict\n",
        "import requests\n",
        "from io import StringIO\n",
        "\n",
        "class LightweightGloveEmbedder:\n",
        "    def __init__(self, device=None):\n",
        "        self.device = device\n",
        "        self.embeddings = defaultdict(lambda: np.zeros(300))\n",
        "        self._load_embeddings()\n",
        "\n",
        "    def _load_embeddings(self):\n",
        "        try:\n",
        "            #(senza bisogno di estrarre zip)\n",
        "            url = \"https://huggingface.co/stanfordnlp/glove/resolve/main/glove.6B.300d.txt\"\n",
        "            response = requests.get(url)\n",
        "            response.raise_for_status()\n",
        "\n",
        "            for line in StringIO(response.text):\n",
        "                parts = line.split()\n",
        "                word = parts[0]\n",
        "                vector = np.array(parts[1:], dtype=np.float32)\n",
        "                self.embeddings[word] = vector\n",
        "        except Exception as e:\n",
        "            print(f\"Warning: Couldn't load GloVe embeddings ({str(e)}). Using zero vectors.\")\n",
        "\n",
        "    def __call__(self, sentences):\n",
        "        results = []\n",
        "        for text in sentences:\n",
        "            words = text.lower().split()\n",
        "            vectors = [self.embeddings[w] for w in words if w in self.embeddings]\n",
        "            if vectors:\n",
        "                avg_vector = np.mean(vectors, axis=0)\n",
        "            else:\n",
        "                avg_vector = np.zeros(300)\n",
        "            results.append(avg_vector)\n",
        "\n",
        "        tensor = torch.tensor(np.array(results), dtype=torch.float32)\n",
        "        return tensor.to(self.device) if self.device else tensor"
      ]
    },
    {
      "cell_type": "code",
      "execution_count": 103,
      "metadata": {
        "colab": {
          "base_uri": "https://localhost:8080/"
        },
        "id": "L-BBpUrakdwY",
        "outputId": "520fd668-67b2-455a-86ea-c18a1643e095"
      },
      "outputs": [
        {
          "name": "stdout",
          "output_type": "stream",
          "text": [
            "Warning: Couldn't load GloVe embeddings (404 Client Error: Not Found for url: https://huggingface.co/stanfordnlp/glove/resolve/main/glove.6B.300d.txt). Using zero vectors.\n"
          ]
        },
        {
          "name": "stderr",
          "output_type": "stream",
          "text": [
            "c:\\Users\\andrea\\Desktop\\Tesi (GNN)\\Laboratori GNNs\\venv\\lib\\site-packages\\torch_frame\\utils\\io.py:113: UserWarning: Weights only load failed. Please file an issue to make `torch.load(weights_only=True)` compatible in your case. Please use `torch.serialization.add_safe_globals([scalar])` to allowlist this global.\n",
            "  warnings.warn(f\"{warn_msg} Please use \"\n",
            "c:\\Users\\andrea\\Desktop\\Tesi (GNN)\\Laboratori GNNs\\venv\\lib\\site-packages\\torch_frame\\utils\\io.py:113: UserWarning: Weights only load failed. Please file an issue to make `torch.load(weights_only=True)` compatible in your case. Please use `torch.serialization.add_safe_globals([scalar])` to allowlist this global.\n",
            "  warnings.warn(f\"{warn_msg} Please use \"\n",
            "c:\\Users\\andrea\\Desktop\\Tesi (GNN)\\Laboratori GNNs\\venv\\lib\\site-packages\\torch_frame\\utils\\io.py:113: UserWarning: Weights only load failed. Please file an issue to make `torch.load(weights_only=True)` compatible in your case. Please use `torch.serialization.add_safe_globals([scalar])` to allowlist this global.\n",
            "  warnings.warn(f\"{warn_msg} Please use \"\n",
            "c:\\Users\\andrea\\Desktop\\Tesi (GNN)\\Laboratori GNNs\\venv\\lib\\site-packages\\torch_frame\\utils\\io.py:113: UserWarning: Weights only load failed. Please file an issue to make `torch.load(weights_only=True)` compatible in your case. Please use `torch.serialization.add_safe_globals([scalar])` to allowlist this global.\n",
            "  warnings.warn(f\"{warn_msg} Please use \"\n",
            "c:\\Users\\andrea\\Desktop\\Tesi (GNN)\\Laboratori GNNs\\venv\\lib\\site-packages\\torch_frame\\utils\\io.py:113: UserWarning: Weights only load failed. Please file an issue to make `torch.load(weights_only=True)` compatible in your case. Please use `torch.serialization.add_safe_globals([scalar])` to allowlist this global.\n",
            "  warnings.warn(f\"{warn_msg} Please use \"\n",
            "c:\\Users\\andrea\\Desktop\\Tesi (GNN)\\Laboratori GNNs\\venv\\lib\\site-packages\\torch_frame\\utils\\io.py:113: UserWarning: Weights only load failed. Please file an issue to make `torch.load(weights_only=True)` compatible in your case. Please use `torch.serialization.add_safe_globals([scalar])` to allowlist this global.\n",
            "  warnings.warn(f\"{warn_msg} Please use \"\n",
            "c:\\Users\\andrea\\Desktop\\Tesi (GNN)\\Laboratori GNNs\\venv\\lib\\site-packages\\torch_frame\\utils\\io.py:113: UserWarning: Weights only load failed. Please file an issue to make `torch.load(weights_only=True)` compatible in your case. Please use `torch.serialization.add_safe_globals([scalar])` to allowlist this global.\n",
            "  warnings.warn(f\"{warn_msg} Please use \"\n"
          ]
        }
      ],
      "source": [
        "from torch_frame.config.text_embedder import TextEmbedderConfig\n",
        "from relbench.modeling.graph import make_pkey_fkey_graph\n",
        "\n",
        "text_embedder_cfg = TextEmbedderConfig(\n",
        "    text_embedder=LightweightGloveEmbedder(device=device), batch_size=256\n",
        ")\n",
        "\n",
        "data, col_stats_dict = make_pkey_fkey_graph(\n",
        "    #Solution if not working: !pip install --upgrade torch torchvision transformers\n",
        "    db,\n",
        "    col_to_stype_dict=col_to_stype_dict,  # speficied column types\n",
        "    text_embedder_cfg=text_embedder_cfg,  # our chosen text encoder\n",
        "    cache_dir=os.path.join(\n",
        "        root_dir, f\"rel-f1_materialized_cache\"\n",
        "    ),  # store materialized graph for convenience\n",
        ")"
      ]
    },
    {
      "cell_type": "markdown",
      "metadata": {
        "id": "mwQejmg0kzOg"
      },
      "source": [
        "We can now check out `data`, our main graph object. `data` is a heterogeneous and temporal graph, with node types given by the table it originates from."
      ]
    },
    {
      "cell_type": "code",
      "execution_count": 104,
      "metadata": {
        "colab": {
          "base_uri": "https://localhost:8080/"
        },
        "id": "Gt4a8lw1kufy",
        "outputId": "248afeff-dc57-43e7-a2b4-00e9eb49ed49"
      },
      "outputs": [
        {
          "data": {
            "text/plain": [
              "HeteroData(\n",
              "  circuits={ tf=TensorFrame([77, 7]) },\n",
              "  constructors={ tf=TensorFrame([211, 3]) },\n",
              "  constructor_results={\n",
              "    tf=TensorFrame([9408, 2]),\n",
              "    time=[9408],\n",
              "  },\n",
              "  constructor_standings={\n",
              "    tf=TensorFrame([10170, 4]),\n",
              "    time=[10170],\n",
              "  },\n",
              "  drivers={ tf=TensorFrame([857, 6]) },\n",
              "  qualifying={\n",
              "    tf=TensorFrame([4082, 3]),\n",
              "    time=[4082],\n",
              "  },\n",
              "  races={\n",
              "    tf=TensorFrame([820, 5]),\n",
              "    time=[820],\n",
              "  },\n",
              "  results={\n",
              "    tf=TensorFrame([20323, 11]),\n",
              "    time=[20323],\n",
              "  },\n",
              "  standings={\n",
              "    tf=TensorFrame([28115, 4]),\n",
              "    time=[28115],\n",
              "  },\n",
              "  (constructor_results, f2p_raceId, races)={ edge_index=[2, 9408] },\n",
              "  (races, rev_f2p_raceId, constructor_results)={ edge_index=[2, 9408] },\n",
              "  (constructor_results, f2p_constructorId, constructors)={ edge_index=[2, 9408] },\n",
              "  (constructors, rev_f2p_constructorId, constructor_results)={ edge_index=[2, 9408] },\n",
              "  (constructor_standings, f2p_raceId, races)={ edge_index=[2, 10170] },\n",
              "  (races, rev_f2p_raceId, constructor_standings)={ edge_index=[2, 10170] },\n",
              "  (constructor_standings, f2p_constructorId, constructors)={ edge_index=[2, 10170] },\n",
              "  (constructors, rev_f2p_constructorId, constructor_standings)={ edge_index=[2, 10170] },\n",
              "  (qualifying, f2p_raceId, races)={ edge_index=[2, 4082] },\n",
              "  (races, rev_f2p_raceId, qualifying)={ edge_index=[2, 4082] },\n",
              "  (qualifying, f2p_driverId, drivers)={ edge_index=[2, 4082] },\n",
              "  (drivers, rev_f2p_driverId, qualifying)={ edge_index=[2, 4082] },\n",
              "  (qualifying, f2p_constructorId, constructors)={ edge_index=[2, 4082] },\n",
              "  (constructors, rev_f2p_constructorId, qualifying)={ edge_index=[2, 4082] },\n",
              "  (races, f2p_circuitId, circuits)={ edge_index=[2, 820] },\n",
              "  (circuits, rev_f2p_circuitId, races)={ edge_index=[2, 820] },\n",
              "  (results, f2p_raceId, races)={ edge_index=[2, 20323] },\n",
              "  (races, rev_f2p_raceId, results)={ edge_index=[2, 20323] },\n",
              "  (results, f2p_driverId, drivers)={ edge_index=[2, 20323] },\n",
              "  (drivers, rev_f2p_driverId, results)={ edge_index=[2, 20323] },\n",
              "  (results, f2p_constructorId, constructors)={ edge_index=[2, 20323] },\n",
              "  (constructors, rev_f2p_constructorId, results)={ edge_index=[2, 20323] },\n",
              "  (standings, f2p_raceId, races)={ edge_index=[2, 28115] },\n",
              "  (races, rev_f2p_raceId, standings)={ edge_index=[2, 28115] },\n",
              "  (standings, f2p_driverId, drivers)={ edge_index=[2, 28115] },\n",
              "  (drivers, rev_f2p_driverId, standings)={ edge_index=[2, 28115] }\n",
              ")"
            ]
          },
          "execution_count": 104,
          "metadata": {},
          "output_type": "execute_result"
        }
      ],
      "source": [
        "data"
      ]
    },
    {
      "cell_type": "markdown",
      "metadata": {
        "id": "yd6DqCXgk41x"
      },
      "source": [
        "We can also check out the TensorFrame for one table like this:"
      ]
    },
    {
      "cell_type": "code",
      "execution_count": 105,
      "metadata": {
        "colab": {
          "base_uri": "https://localhost:8080/"
        },
        "id": "-mMQTQeLk1rl",
        "outputId": "b106d0e6-9eb1-4999-c283-fa957e9f5efa"
      },
      "outputs": [
        {
          "data": {
            "text/plain": [
              "TensorFrame(\n",
              "  num_cols=5,\n",
              "  num_rows=820,\n",
              "  categorical (1): ['year'],\n",
              "  numerical (1): ['round'],\n",
              "  timestamp (2): ['date', 'time'],\n",
              "  embedding (1): ['name'],\n",
              "  has_target=False,\n",
              "  device='cpu',\n",
              ")"
            ]
          },
          "execution_count": 105,
          "metadata": {},
          "output_type": "execute_result"
        }
      ],
      "source": [
        "data[\"races\"].tf"
      ]
    },
    {
      "cell_type": "markdown",
      "metadata": {
        "id": "1kbysKXMk-3X"
      },
      "source": [
        "This may be a little confusing at first, as in graph ML it is more standard to associate to the graph object `data` a tensor, e.g., `data.x` for which `data.x[idx]` is a 1D array/tensor storing all the features for node with index `idx`.\n",
        "\n",
        "But actually this `data` object behaves similarly. For a given node type, e.g., `races` again, `data['races']` stores two pieces of information\n"
      ]
    },
    {
      "cell_type": "code",
      "execution_count": 106,
      "metadata": {
        "colab": {
          "base_uri": "https://localhost:8080/"
        },
        "id": "cDIcp7L5k6pU",
        "outputId": "0cef0148-aed1-4ff0-f2c0-90f60f2257b0"
      },
      "outputs": [
        {
          "data": {
            "text/plain": [
              "['tf', 'time']"
            ]
          },
          "execution_count": 106,
          "metadata": {},
          "output_type": "execute_result"
        }
      ],
      "source": [
        "list(data[\"races\"].keys())"
      ]
    },
    {
      "cell_type": "markdown",
      "metadata": {
        "id": "Z18qPRPllB1H"
      },
      "source": [
        "A `TensorFrame` object, and a timestamp for each node. The `TensorFrame` object acts analogously to the usual tensor of node features, and you can simply use indexing to retrieve the features of a single row (node), or group of nodes."
      ]
    },
    {
      "cell_type": "code",
      "execution_count": 107,
      "metadata": {
        "colab": {
          "base_uri": "https://localhost:8080/"
        },
        "id": "Im8bhNh5lFG6",
        "outputId": "d2d86c31-82d5-4cb7-bc73-0cce649672db"
      },
      "outputs": [
        {
          "data": {
            "text/plain": [
              "TensorFrame(\n",
              "  num_cols=5,\n",
              "  num_rows=1,\n",
              "  categorical (1): ['year'],\n",
              "  numerical (1): ['round'],\n",
              "  timestamp (2): ['date', 'time'],\n",
              "  embedding (1): ['name'],\n",
              "  has_target=False,\n",
              "  device='cpu',\n",
              ")"
            ]
          },
          "execution_count": 107,
          "metadata": {},
          "output_type": "execute_result"
        }
      ],
      "source": [
        "data[\"races\"].tf[10]"
      ]
    },
    {
      "cell_type": "code",
      "execution_count": 108,
      "metadata": {
        "colab": {
          "base_uri": "https://localhost:8080/"
        },
        "id": "eYZ28pzNlG4s",
        "outputId": "e3b1dc23-8dff-4c62-8297-fddb0e0961d2"
      },
      "outputs": [
        {
          "data": {
            "text/plain": [
              "TensorFrame(\n",
              "  num_cols=5,\n",
              "  num_rows=10,\n",
              "  categorical (1): ['year'],\n",
              "  numerical (1): ['round'],\n",
              "  timestamp (2): ['date', 'time'],\n",
              "  embedding (1): ['name'],\n",
              "  has_target=False,\n",
              "  device='cpu',\n",
              ")"
            ]
          },
          "execution_count": 108,
          "metadata": {},
          "output_type": "execute_result"
        }
      ],
      "source": [
        "data[\"races\"].tf[10:20]"
      ]
    },
    {
      "cell_type": "markdown",
      "metadata": {
        "id": "Ql15svcelK3A"
      },
      "source": [
        "We can also check the edge indices between two different node types, such as `races` amd `circuits`. Note that the edges are also heterogenous, so we also need to specify which edge type we want to look at. Here we look at `f2p_curcuitId`, which are the directed edges pointing _from_ a race (the `f` stands for `foreign key`), _to_ the circuit at which te race happened (the `p` stands for `primary key`)."
      ]
    },
    {
      "cell_type": "code",
      "execution_count": 109,
      "metadata": {
        "colab": {
          "base_uri": "https://localhost:8080/"
        },
        "id": "TynkD36QlInL",
        "outputId": "50bf70ff-2980-43e2-c53e-020acb0480f3"
      },
      "outputs": [
        {
          "data": {
            "text/plain": [
              "{'edge_index': tensor([[  0,   1,   2,  ..., 817, 818, 819],\n",
              "        [  8,   5,  18,  ...,  21,  17,  23]])}"
            ]
          },
          "execution_count": 109,
          "metadata": {},
          "output_type": "execute_result"
        }
      ],
      "source": [
        "data[(\"races\", \"f2p_circuitId\", \"circuits\")]"
      ]
    },
    {
      "cell_type": "markdown",
      "metadata": {
        "id": "Xx4V5KCelNxl"
      },
      "source": [
        "Now we are ready to instantiate our data loaders. For this we will need to import PyTorch Geometric, our GNN library. Whilst we're at it let's add a seed.\n"
      ]
    },
    {
      "cell_type": "code",
      "execution_count": 110,
      "metadata": {
        "id": "HUHVG-g6lM-b"
      },
      "outputs": [],
      "source": [
        "from relbench.modeling.graph import get_node_train_table_input, make_pkey_fkey_graph\n",
        "from torch_geometric.loader import NeighborLoader\n",
        "\n",
        "loader_dict = {}\n",
        "\n",
        "for split, table in [\n",
        "    (\"train\", train_table),\n",
        "    (\"val\", val_table),\n",
        "    (\"test\", test_table),\n",
        "]:\n",
        "    table_input = get_node_train_table_input(\n",
        "        table=table,\n",
        "        task=task,\n",
        "    )\n",
        "    entity_table = table_input.nodes[0]\n",
        "    loader_dict[split] = NeighborLoader(\n",
        "        data,\n",
        "        num_neighbors=[\n",
        "            128 for i in range(2)\n",
        "        ],  # we sample subgraphs of depth 2, 128 neighbors per node.\n",
        "        time_attr=\"time\",\n",
        "        input_nodes=table_input.nodes,\n",
        "        input_time=table_input.time,\n",
        "        transform=table_input.transform,\n",
        "        batch_size=512,\n",
        "        temporal_strategy=\"uniform\",\n",
        "        shuffle=split == \"train\",\n",
        "        num_workers=0,\n",
        "        persistent_workers=False,\n",
        "    )"
      ]
    },
    {
      "cell_type": "markdown",
      "metadata": {
        "id": "BQc8BWsGludR"
      },
      "source": [
        "Now we need our model...\n",
        "\n",
        "\n"
      ]
    },
    {
      "cell_type": "code",
      "execution_count": 111,
      "metadata": {
        "id": "u3m3jEqClQnw"
      },
      "outputs": [],
      "source": [
        "from torch.nn import BCEWithLogitsLoss\n",
        "import copy\n",
        "from typing import Any, Dict, List\n",
        "\n",
        "import torch\n",
        "from torch import Tensor\n",
        "from torch.nn import Embedding, ModuleDict\n",
        "from torch_frame.data.stats import StatType\n",
        "from torch_geometric.data import HeteroData\n",
        "from torch_geometric.nn import MLP\n",
        "from torch_geometric.typing import NodeType\n",
        "\n",
        "from relbench.modeling.nn import HeteroEncoder, HeteroGraphSAGE, HeteroTemporalEncoder\n",
        "\n",
        "\n",
        "class Model(torch.nn.Module):\n",
        "\n",
        "    def __init__(\n",
        "        self,\n",
        "        data: HeteroData,\n",
        "        col_stats_dict: Dict[str, Dict[str, Dict[StatType, Any]]],\n",
        "        num_layers: int,\n",
        "        channels: int,\n",
        "        out_channels: int,\n",
        "        aggr: str,\n",
        "        norm: str,\n",
        "        # List of node types to add shallow embeddings to input\n",
        "        shallow_list: List[NodeType] = [],\n",
        "        # ID awareness\n",
        "        id_awareness: bool = False,\n",
        "    ):\n",
        "        super().__init__()\n",
        "\n",
        "        self.encoder = HeteroEncoder(\n",
        "            channels=channels,\n",
        "            node_to_col_names_dict={\n",
        "                node_type: data[node_type].tf.col_names_dict\n",
        "                for node_type in data.node_types\n",
        "            },\n",
        "            node_to_col_stats=col_stats_dict,\n",
        "        )\n",
        "        self.temporal_encoder = HeteroTemporalEncoder(\n",
        "            node_types=[\n",
        "                node_type for node_type in data.node_types if \"time\" in data[node_type]\n",
        "            ],\n",
        "            channels=channels,\n",
        "        )\n",
        "        self.gnn = HeteroGraphSAGE(\n",
        "            node_types=data.node_types,\n",
        "            edge_types=data.edge_types,\n",
        "            channels=channels,\n",
        "            aggr=aggr,\n",
        "            num_layers=num_layers,\n",
        "        )\n",
        "        self.head = MLP(\n",
        "            channels,\n",
        "            out_channels=out_channels,\n",
        "            norm=norm,\n",
        "            num_layers=1,\n",
        "        )\n",
        "        self.embedding_dict = ModuleDict(\n",
        "            {\n",
        "                node: Embedding(data.num_nodes_dict[node], channels)\n",
        "                for node in shallow_list\n",
        "            }\n",
        "        )\n",
        "\n",
        "        self.id_awareness_emb = None\n",
        "        if id_awareness:\n",
        "            self.id_awareness_emb = torch.nn.Embedding(1, channels)\n",
        "        self.reset_parameters()\n",
        "\n",
        "    def reset_parameters(self):\n",
        "        self.encoder.reset_parameters()\n",
        "        self.temporal_encoder.reset_parameters()\n",
        "        self.gnn.reset_parameters()\n",
        "        self.head.reset_parameters()\n",
        "        for embedding in self.embedding_dict.values():\n",
        "            torch.nn.init.normal_(embedding.weight, std=0.1)\n",
        "        if self.id_awareness_emb is not None:\n",
        "            self.id_awareness_emb.reset_parameters()\n",
        "\n",
        "    def forward(\n",
        "        self,\n",
        "        batch: HeteroData,\n",
        "        entity_table: NodeType,\n",
        "    ) -> Tensor:\n",
        "        seed_time = batch[entity_table].seed_time\n",
        "        x_dict = self.encoder(batch.tf_dict)\n",
        "\n",
        "        rel_time_dict = self.temporal_encoder(\n",
        "            seed_time, batch.time_dict, batch.batch_dict\n",
        "        )\n",
        "\n",
        "        for node_type, rel_time in rel_time_dict.items():\n",
        "            x_dict[node_type] = x_dict[node_type] + rel_time\n",
        "\n",
        "        for node_type, embedding in self.embedding_dict.items():\n",
        "            x_dict[node_type] = x_dict[node_type] + embedding(batch[node_type].n_id)\n",
        "\n",
        "        x_dict = self.gnn(\n",
        "            x_dict,\n",
        "            batch.edge_index_dict,\n",
        "            batch.num_sampled_nodes_dict,\n",
        "            batch.num_sampled_edges_dict,\n",
        "        )\n",
        "\n",
        "        return self.head(x_dict[entity_table][: seed_time.size(0)])\n",
        "\n",
        "    def forward_dst_readout(\n",
        "        self,\n",
        "        batch: HeteroData,\n",
        "        entity_table: NodeType,\n",
        "        dst_table: NodeType,\n",
        "    ) -> Tensor:\n",
        "        if self.id_awareness_emb is None:\n",
        "            raise RuntimeError(\n",
        "                \"id_awareness must be set True to use forward_dst_readout\"\n",
        "            )\n",
        "        seed_time = batch[entity_table].seed_time\n",
        "        x_dict = self.encoder(batch.tf_dict)\n",
        "        # Add ID-awareness to the root node\n",
        "        x_dict[entity_table][: seed_time.size(0)] += self.id_awareness_emb.weight\n",
        "\n",
        "        rel_time_dict = self.temporal_encoder(\n",
        "            seed_time, batch.time_dict, batch.batch_dict\n",
        "        )\n",
        "\n",
        "        for node_type, rel_time in rel_time_dict.items():\n",
        "            x_dict[node_type] = x_dict[node_type] + rel_time\n",
        "\n",
        "        for node_type, embedding in self.embedding_dict.items():\n",
        "            x_dict[node_type] = x_dict[node_type] + embedding(batch[node_type].n_id)\n",
        "\n",
        "        x_dict = self.gnn(\n",
        "            x_dict,\n",
        "            batch.edge_index_dict,\n",
        "        )\n",
        "\n",
        "        return self.head(x_dict[dst_table])\n",
        "\n",
        "\n",
        "model = Model(\n",
        "    data=data,\n",
        "    col_stats_dict=col_stats_dict,\n",
        "    num_layers=3,\n",
        "    channels=128,\n",
        "    out_channels=1,\n",
        "    aggr=\"sum\",\n",
        "    norm=\"batch_norm\",\n",
        ").to(device)\n",
        "\n",
        "\n",
        "# Aumentare il learning rate per velocizzare l'addestramento\n",
        "optimizer = torch.optim.Adam(model.parameters(), lr=0.001, weight_decay=0.0001)\n",
        "#scheduler = torch.optim.lr_scheduler.StepLR(optimizer, step_size=10, gamma=0.1)"
      ]
    },
    {
      "cell_type": "markdown",
      "metadata": {
        "id": "Vl-6So7Llb-p"
      },
      "source": [
        "We also need standard train/test loops"
      ]
    },
    {
      "cell_type": "code",
      "execution_count": 112,
      "metadata": {
        "id": "SAHRIr15lVs6"
      },
      "outputs": [],
      "source": [
        "def train(model, optimizer) -> float:\n",
        "    model.train()\n",
        "\n",
        "    loss_accum = count_accum = 0\n",
        "    for batch in tqdm(loader_dict[\"train\"]):\n",
        "        batch = batch.to(device)\n",
        "\n",
        "        optimizer.zero_grad()\n",
        "        pred = model(\n",
        "            batch,\n",
        "            task.entity_table,\n",
        "        )\n",
        "        pred = pred.view(-1) if pred.size(1) == 1 else pred\n",
        "\n",
        "        loss = loss_fn(pred.float(), batch[entity_table].y.float())\n",
        "        loss.backward()\n",
        "        optimizer.step()\n",
        "\n",
        "        loss_accum += loss.detach().item() * pred.size(0)\n",
        "        count_accum += pred.size(0)\n",
        "\n",
        "    return loss_accum / count_accum\n",
        "\n",
        "\n",
        "@torch.no_grad()\n",
        "def test(model, loader: NeighborLoader) -> np.ndarray:\n",
        "    model.eval()\n",
        "\n",
        "    pred_list = []\n",
        "    for batch in loader:\n",
        "        batch = batch.to(device)\n",
        "        pred = model(\n",
        "            batch,\n",
        "            task.entity_table,\n",
        "        )\n",
        "        pred = pred.view(-1) if pred.size(1) == 1 else pred\n",
        "        pred_list.append(pred.detach().cpu())\n",
        "    return torch.cat(pred_list, dim=0).numpy()"
      ]
    },
    {
      "cell_type": "markdown",
      "metadata": {
        "id": "4s-p7dW1ledd"
      },
      "source": [
        "Now we are ready to train!"
      ]
    },
    {
      "cell_type": "code",
      "execution_count": 113,
      "metadata": {
        "colab": {
          "base_uri": "https://localhost:8080/"
        },
        "id": "y4BqE2KzvojP",
        "outputId": "5cd6000f-4783-45ed-9245-4450cb28cf4e"
      },
      "outputs": [
        {
          "name": "stdout",
          "output_type": "stream",
          "text": [
            "torch-sparse e pyg-lib importati con successo!\n"
          ]
        }
      ],
      "source": [
        "#import torch_sparse\n",
        "import pyg_lib\n",
        "print(\"torch-sparse e pyg-lib importati con successo!\")\n",
        "\n",
        "#solution if doesn't work:\n",
        "# !pip install torch==2.5.0 -f https://download.pytorch.org/whl/cpu/torch_stable.html\n",
        "# !pip install pyg_lib -f https://data.pyg.org/whl/torch-2.0.0+cpu.html"
      ]
    },
    {
      "cell_type": "code",
      "execution_count": null,
      "metadata": {
        "id": "Uzkt7AS2GzpH"
      },
      "outputs": [],
      "source": [
        "import numpy as np\n",
        "\n",
        "def rmse(true, pred):\n",
        "    \"\"\"Calculate the Root Mean Squared Error (RMSE).\"\"\"\n",
        "    return np.sqrt(np.mean((true - pred)**2)) # Calculate RMSE manually"
      ]
    },
    {
      "cell_type": "code",
      "execution_count": 115,
      "metadata": {
        "id": "qZOOyAblHwI4"
      },
      "outputs": [],
      "source": [
        "import numpy as np\n",
        "\n",
        "def custom_evaluate(pred: np.ndarray, target_table, metrics) -> dict:\n",
        "    \"\"\"Custom evaluation function to replace task.evaluate.\"\"\"\n",
        "\n",
        "    # Extract target values from the target table\n",
        "    target = target_table.df[task.target_col].to_numpy()\n",
        "\n",
        "    # Check for length mismatch\n",
        "    if len(pred) != len(target):\n",
        "        raise ValueError(\n",
        "            f\"The length of pred and target must be the same (got \"\n",
        "            f\"{len(pred)} and {len(target)}, respectively).\"\n",
        "        )\n",
        "\n",
        "    # Calculate metrics\n",
        "    results = {}\n",
        "    for metric_fn in metrics:\n",
        "        if metric_fn.__name__ == \"rmse\":  # Handle RMSE specifically\n",
        "            results[\"rmse\"] = np.sqrt(np.mean((target - pred)**2))\n",
        "        else:  # Handle other metrics (if any)\n",
        "            results[metric_fn.__name__] = metric_fn(target, pred)\n",
        "\n",
        "    return results"
      ]
    },
    {
      "cell_type": "code",
      "execution_count": 118,
      "metadata": {},
      "outputs": [],
      "source": [
        "from sklearn.metrics import mean_squared_error\n",
        "def training_function(model, optimizer, epochs):\n",
        "    state_dict = None\n",
        "    best_val_metric = -math.inf if higher_is_better else math.inf\n",
        "    for epoch in range(1, epochs + 1):\n",
        "        train_loss = train(model, optimizer)\n",
        "        val_pred = test(model, loader_dict[\"val\"])\n",
        "        #val_metrics = task.evaluate(val_pred, val_table)\n",
        "        val_metrics = custom_evaluate(val_pred, val_table, task.metrics)\n",
        "        if epoch % 10 == 0:\n",
        "            print(f\"Epoch: {epoch:02d}, Train loss: {train_loss}, Val metrics: {val_metrics}\")\n",
        "        #print(f\"Epoch: {epoch:02d}, Train loss: {train_loss}, Val metrics: {val_metrics}\")\n",
        "\n",
        "        if (higher_is_better and val_metrics[tune_metric] > best_val_metric) or (\n",
        "            not higher_is_better and val_metrics[tune_metric] < best_val_metric\n",
        "        ):\n",
        "            best_val_metric = val_metrics[tune_metric]\n",
        "            state_dict = copy.deepcopy(model.state_dict())\n",
        "\n",
        "\n",
        "    model.load_state_dict(state_dict)\n",
        "    val_pred = test(model, loader_dict[\"val\"])\n",
        "    val_metrics = custom_evaluate(val_pred, val_table, task.metrics)\n",
        "    print(f\"Best Val metrics for parameters {optimizer}, are: {val_metrics}\")"
      ]
    },
    {
      "cell_type": "code",
      "execution_count": null,
      "metadata": {},
      "outputs": [
        {
          "name": "stdout",
          "output_type": "stream",
          "text": [
            "Training with lr=0.01, batch_size=64, num_layers=1, weight_decay=0.0001\n"
          ]
        },
        {
          "name": "stderr",
          "output_type": "stream",
          "text": [
            "100%|██████████| 15/15 [00:42<00:00,  2.84s/it]\n",
            "100%|██████████| 15/15 [00:39<00:00,  2.65s/it]\n",
            "100%|██████████| 15/15 [00:39<00:00,  2.64s/it]\n",
            "100%|██████████| 15/15 [00:37<00:00,  2.50s/it]\n",
            "100%|██████████| 15/15 [00:40<00:00,  2.68s/it]\n",
            "100%|██████████| 15/15 [00:39<00:00,  2.60s/it]\n",
            "100%|██████████| 15/15 [00:41<00:00,  2.73s/it]\n",
            "100%|██████████| 15/15 [00:38<00:00,  2.56s/it]\n",
            "100%|██████████| 15/15 [00:37<00:00,  2.48s/it]\n",
            "100%|██████████| 15/15 [00:37<00:00,  2.48s/it]\n"
          ]
        },
        {
          "name": "stdout",
          "output_type": "stream",
          "text": [
            "Epoch: 10, Train loss: 4.715019811228204, Val metrics: {'r2': 0.17295864867199406, 'mae': 3.414325943260728, 'rmse': 4.216129110871048}\n"
          ]
        },
        {
          "name": "stderr",
          "output_type": "stream",
          "text": [
            "100%|██████████| 15/15 [00:37<00:00,  2.47s/it]\n",
            "100%|██████████| 15/15 [00:36<00:00,  2.46s/it]\n",
            "100%|██████████| 15/15 [00:37<00:00,  2.48s/it]\n",
            "100%|██████████| 15/15 [00:36<00:00,  2.47s/it]\n",
            "100%|██████████| 15/15 [00:36<00:00,  2.45s/it]\n",
            "100%|██████████| 15/15 [00:37<00:00,  2.49s/it]\n",
            "100%|██████████| 15/15 [00:38<00:00,  2.54s/it]\n",
            "100%|██████████| 15/15 [00:37<00:00,  2.48s/it]\n",
            "100%|██████████| 15/15 [00:36<00:00,  2.44s/it]\n",
            "100%|██████████| 15/15 [00:36<00:00,  2.45s/it]\n"
          ]
        },
        {
          "name": "stdout",
          "output_type": "stream",
          "text": [
            "Epoch: 20, Train loss: 4.624289946733314, Val metrics: {'r2': 0.2245874497108068, 'mae': 3.3160237009714826, 'rmse': 4.082410784368737}\n"
          ]
        },
        {
          "name": "stderr",
          "output_type": "stream",
          "text": [
            "100%|██████████| 15/15 [00:36<00:00,  2.45s/it]\n",
            "100%|██████████| 15/15 [00:37<00:00,  2.52s/it]\n",
            "100%|██████████| 15/15 [00:40<00:00,  2.69s/it]\n",
            "100%|██████████| 15/15 [00:39<00:00,  2.66s/it]\n",
            "100%|██████████| 15/15 [00:39<00:00,  2.62s/it]\n",
            "100%|██████████| 15/15 [00:39<00:00,  2.60s/it]\n",
            "100%|██████████| 15/15 [00:38<00:00,  2.59s/it]\n",
            "100%|██████████| 15/15 [00:38<00:00,  2.53s/it]\n",
            "100%|██████████| 15/15 [00:36<00:00,  2.46s/it]\n",
            "100%|██████████| 15/15 [00:38<00:00,  2.54s/it]\n"
          ]
        },
        {
          "name": "stdout",
          "output_type": "stream",
          "text": [
            "Epoch: 30, Train loss: 4.562363066481981, Val metrics: {'r2': 0.22484796084951075, 'mae': 3.3145484838950767, 'rmse': 4.081724954082386}\n",
            "Best Val metrics for parameters Adam (\n",
            "Parameter Group 0\n",
            "    amsgrad: False\n",
            "    betas: (0.9, 0.999)\n",
            "    capturable: False\n",
            "    differentiable: False\n",
            "    eps: 1e-08\n",
            "    foreach: None\n",
            "    fused: None\n",
            "    lr: 0.01\n",
            "    maximize: False\n",
            "    weight_decay: 0.0001\n",
            "), are: {'r2': 0.2606419061108145, 'mae': 3.1794068120524495, 'rmse': 3.98637091392763}\n",
            "Training with lr=0.01, batch_size=64, num_layers=1, weight_decay=0.001\n"
          ]
        },
        {
          "name": "stderr",
          "output_type": "stream",
          "text": [
            "100%|██████████| 15/15 [00:38<00:00,  2.59s/it]\n",
            "100%|██████████| 15/15 [00:39<00:00,  2.63s/it]\n",
            "100%|██████████| 15/15 [00:38<00:00,  2.53s/it]\n",
            "100%|██████████| 15/15 [00:38<00:00,  2.53s/it]\n",
            "100%|██████████| 15/15 [00:37<00:00,  2.52s/it]\n",
            "100%|██████████| 15/15 [00:37<00:00,  2.52s/it]\n",
            "100%|██████████| 15/15 [00:38<00:00,  2.55s/it]\n",
            "100%|██████████| 15/15 [1:10:34<00:00, 282.30s/it]  \n",
            "100%|██████████| 15/15 [00:54<00:00,  3.60s/it]\n",
            "100%|██████████| 15/15 [00:43<00:00,  2.88s/it]\n"
          ]
        },
        {
          "name": "stdout",
          "output_type": "stream",
          "text": [
            "Epoch: 10, Train loss: 4.775664592227503, Val metrics: {'r2': 0.23461380365867845, 'mae': 3.2419972002466437, 'rmse': 4.055931413386523}\n"
          ]
        },
        {
          "name": "stderr",
          "output_type": "stream",
          "text": [
            "100%|██████████| 15/15 [00:41<00:00,  2.76s/it]\n",
            "100%|██████████| 15/15 [00:39<00:00,  2.62s/it]\n",
            "100%|██████████| 15/15 [00:39<00:00,  2.61s/it]\n",
            "100%|██████████| 15/15 [00:37<00:00,  2.51s/it]\n",
            "100%|██████████| 15/15 [00:38<00:00,  2.58s/it]\n",
            "100%|██████████| 15/15 [00:40<00:00,  2.72s/it]\n",
            "100%|██████████| 15/15 [00:39<00:00,  2.62s/it]\n",
            "100%|██████████| 15/15 [00:41<00:00,  2.79s/it]\n",
            "100%|██████████| 15/15 [00:39<00:00,  2.60s/it]\n",
            "100%|██████████| 15/15 [00:37<00:00,  2.52s/it]\n"
          ]
        },
        {
          "name": "stdout",
          "output_type": "stream",
          "text": [
            "Epoch: 20, Train loss: 4.706908728889886, Val metrics: {'r2': 0.03913946095156229, 'mae': 3.674321864235776, 'rmse': 4.544440991938481}\n"
          ]
        },
        {
          "name": "stderr",
          "output_type": "stream",
          "text": [
            "100%|██████████| 15/15 [00:37<00:00,  2.53s/it]\n",
            "100%|██████████| 15/15 [00:37<00:00,  2.53s/it]\n",
            "100%|██████████| 15/15 [00:37<00:00,  2.51s/it]\n",
            "100%|██████████| 15/15 [00:36<00:00,  2.40s/it]\n",
            "100%|██████████| 15/15 [00:37<00:00,  2.49s/it]\n",
            "100%|██████████| 15/15 [00:36<00:00,  2.46s/it]\n",
            "100%|██████████| 15/15 [00:36<00:00,  2.41s/it]\n",
            "100%|██████████| 15/15 [00:41<00:00,  2.76s/it]\n",
            "100%|██████████| 15/15 [00:40<00:00,  2.70s/it]\n",
            "100%|██████████| 15/15 [00:38<00:00,  2.58s/it]\n"
          ]
        },
        {
          "name": "stdout",
          "output_type": "stream",
          "text": [
            "Epoch: 30, Train loss: 4.62941832115678, Val metrics: {'r2': 0.23153465680778496, 'mae': 3.2264753205344614, 'rmse': 4.064081725666284}\n",
            "Best Val metrics for parameters Adam (\n",
            "Parameter Group 0\n",
            "    amsgrad: False\n",
            "    betas: (0.9, 0.999)\n",
            "    capturable: False\n",
            "    differentiable: False\n",
            "    eps: 1e-08\n",
            "    foreach: None\n",
            "    fused: None\n",
            "    lr: 0.01\n",
            "    maximize: False\n",
            "    weight_decay: 0.001\n",
            "), are: {'r2': 0.23154158149795634, 'mae': 3.226451022862274, 'rmse': 4.064063414775345}\n",
            "Training with lr=0.01, batch_size=64, num_layers=1, weight_decay=0.01\n"
          ]
        },
        {
          "name": "stderr",
          "output_type": "stream",
          "text": [
            "100%|██████████| 15/15 [00:38<00:00,  2.55s/it]\n",
            "100%|██████████| 15/15 [00:38<00:00,  2.55s/it]\n",
            "100%|██████████| 15/15 [00:38<00:00,  2.54s/it]\n",
            "100%|██████████| 15/15 [00:40<00:00,  2.71s/it]\n",
            "100%|██████████| 15/15 [00:40<00:00,  2.72s/it]\n",
            "100%|██████████| 15/15 [00:37<00:00,  2.51s/it]\n",
            "100%|██████████| 15/15 [00:39<00:00,  2.63s/it]\n",
            "100%|██████████| 15/15 [00:38<00:00,  2.59s/it]\n",
            "100%|██████████| 15/15 [00:37<00:00,  2.51s/it]\n",
            "100%|██████████| 15/15 [00:36<00:00,  2.42s/it]\n"
          ]
        },
        {
          "name": "stdout",
          "output_type": "stream",
          "text": [
            "Epoch: 10, Train loss: 5.354104249537847, Val metrics: {'r2': -0.01180169229689132, 'mae': 3.698910526792925, 'rmse': 4.663349768349577}\n"
          ]
        },
        {
          "name": "stderr",
          "output_type": "stream",
          "text": [
            "100%|██████████| 15/15 [00:36<00:00,  2.44s/it]\n",
            "100%|██████████| 15/15 [00:36<00:00,  2.46s/it]\n",
            "100%|██████████| 15/15 [00:36<00:00,  2.43s/it]\n",
            "100%|██████████| 15/15 [00:35<00:00,  2.39s/it]\n",
            "100%|██████████| 15/15 [00:36<00:00,  2.44s/it]\n",
            "100%|██████████| 15/15 [00:36<00:00,  2.45s/it]\n",
            "100%|██████████| 15/15 [00:35<00:00,  2.40s/it]\n",
            "100%|██████████| 15/15 [00:36<00:00,  2.42s/it]\n",
            "100%|██████████| 15/15 [00:36<00:00,  2.45s/it]\n",
            "100%|██████████| 15/15 [00:37<00:00,  2.49s/it]\n"
          ]
        },
        {
          "name": "stdout",
          "output_type": "stream",
          "text": [
            "Epoch: 20, Train loss: 5.357466547469652, Val metrics: {'r2': -0.05468104349717273, 'mae': 3.783880331106957, 'rmse': 4.761138988802862}\n"
          ]
        },
        {
          "name": "stderr",
          "output_type": "stream",
          "text": [
            "100%|██████████| 15/15 [00:36<00:00,  2.46s/it]\n",
            "100%|██████████| 15/15 [00:36<00:00,  2.47s/it]\n",
            "100%|██████████| 15/15 [00:39<00:00,  2.65s/it]\n",
            "100%|██████████| 15/15 [00:36<00:00,  2.42s/it]\n",
            "100%|██████████| 15/15 [00:36<00:00,  2.44s/it]\n",
            "100%|██████████| 15/15 [00:37<00:00,  2.49s/it]\n",
            "100%|██████████| 15/15 [00:37<00:00,  2.47s/it]\n",
            "100%|██████████| 15/15 [00:36<00:00,  2.44s/it]\n",
            "100%|██████████| 15/15 [00:37<00:00,  2.50s/it]\n",
            "100%|██████████| 15/15 [00:37<00:00,  2.47s/it]\n"
          ]
        },
        {
          "name": "stdout",
          "output_type": "stream",
          "text": [
            "Epoch: 30, Train loss: 5.352868330809761, Val metrics: {'r2': 0.03689763726324258, 'mae': 3.6462300308879882, 'rmse': 4.5497393154509}\n",
            "Best Val metrics for parameters Adam (\n",
            "Parameter Group 0\n",
            "    amsgrad: False\n",
            "    betas: (0.9, 0.999)\n",
            "    capturable: False\n",
            "    differentiable: False\n",
            "    eps: 1e-08\n",
            "    foreach: None\n",
            "    fused: None\n",
            "    lr: 0.01\n",
            "    maximize: False\n",
            "    weight_decay: 0.01\n",
            "), are: {'r2': 0.07576927441938386, 'mae': 3.613990901929184, 'rmse': 4.4569780042104075}\n",
            "Training with lr=0.01, batch_size=64, num_layers=2, weight_decay=0.0001\n"
          ]
        },
        {
          "name": "stderr",
          "output_type": "stream",
          "text": [
            "100%|██████████| 15/15 [00:50<00:00,  3.35s/it]\n",
            "100%|██████████| 15/15 [00:49<00:00,  3.32s/it]\n",
            "100%|██████████| 15/15 [00:49<00:00,  3.30s/it]\n",
            "100%|██████████| 15/15 [00:52<00:00,  3.47s/it]\n",
            "100%|██████████| 15/15 [00:50<00:00,  3.40s/it]\n",
            "100%|██████████| 15/15 [00:50<00:00,  3.37s/it]\n",
            "100%|██████████| 15/15 [00:50<00:00,  3.38s/it]\n",
            "100%|██████████| 15/15 [00:49<00:00,  3.31s/it]\n",
            "100%|██████████| 15/15 [00:54<00:00,  3.66s/it]\n",
            "100%|██████████| 15/15 [00:54<00:00,  3.65s/it]\n"
          ]
        },
        {
          "name": "stdout",
          "output_type": "stream",
          "text": [
            "Epoch: 10, Train loss: 4.9576012443635635, Val metrics: {'r2': 0.03405893059961751, 'mae': 3.7604957328928896, 'rmse': 4.5564394715922}\n"
          ]
        },
        {
          "name": "stderr",
          "output_type": "stream",
          "text": [
            "100%|██████████| 15/15 [00:53<00:00,  3.54s/it]\n",
            "100%|██████████| 15/15 [00:53<00:00,  3.54s/it]\n",
            "100%|██████████| 15/15 [00:53<00:00,  3.56s/it]\n",
            "100%|██████████| 15/15 [00:45<00:00,  3.05s/it]\n",
            "100%|██████████| 15/15 [00:46<00:00,  3.11s/it]\n",
            "100%|██████████| 15/15 [00:43<00:00,  2.93s/it]\n",
            "100%|██████████| 15/15 [00:37<00:00,  2.53s/it]\n",
            "100%|██████████| 15/15 [00:38<00:00,  2.55s/it]\n",
            "100%|██████████| 15/15 [00:38<00:00,  2.57s/it]\n",
            "100%|██████████| 15/15 [00:37<00:00,  2.48s/it]\n"
          ]
        },
        {
          "name": "stdout",
          "output_type": "stream",
          "text": [
            "Epoch: 20, Train loss: 4.559219457088149, Val metrics: {'r2': 0.19348013482700366, 'mae': 3.309520045900313, 'rmse': 4.163492858382095}\n"
          ]
        },
        {
          "name": "stderr",
          "output_type": "stream",
          "text": [
            "100%|██████████| 15/15 [00:39<00:00,  2.66s/it]\n",
            "100%|██████████| 15/15 [00:39<00:00,  2.60s/it]\n",
            "100%|██████████| 15/15 [00:35<00:00,  2.38s/it]\n",
            "100%|██████████| 15/15 [00:41<00:00,  2.79s/it]\n",
            "100%|██████████| 15/15 [00:42<00:00,  2.82s/it]\n",
            "100%|██████████| 15/15 [00:42<00:00,  2.84s/it]\n",
            "100%|██████████| 15/15 [00:39<00:00,  2.65s/it]\n",
            "100%|██████████| 15/15 [00:39<00:00,  2.65s/it]\n",
            "100%|██████████| 15/15 [00:38<00:00,  2.54s/it]\n",
            "100%|██████████| 15/15 [00:43<00:00,  2.88s/it]\n"
          ]
        },
        {
          "name": "stdout",
          "output_type": "stream",
          "text": [
            "Epoch: 30, Train loss: 4.441678850247398, Val metrics: {'r2': 0.15378380029387317, 'mae': 3.337718051994492, 'rmse': 4.264724264893487}\n",
            "Best Val metrics for parameters Adam (\n",
            "Parameter Group 0\n",
            "    amsgrad: False\n",
            "    betas: (0.9, 0.999)\n",
            "    capturable: False\n",
            "    differentiable: False\n",
            "    eps: 1e-08\n",
            "    foreach: None\n",
            "    fused: None\n",
            "    lr: 0.01\n",
            "    maximize: False\n",
            "    weight_decay: 0.0001\n",
            "), are: {'r2': 0.2813563480264931, 'mae': 3.119801810716261, 'rmse': 3.930131541526131}\n",
            "Training with lr=0.01, batch_size=64, num_layers=2, weight_decay=0.001\n"
          ]
        },
        {
          "name": "stderr",
          "output_type": "stream",
          "text": [
            "100%|██████████| 15/15 [00:46<00:00,  3.08s/it]\n",
            "100%|██████████| 15/15 [00:42<00:00,  2.84s/it]\n",
            "100%|██████████| 15/15 [00:45<00:00,  3.05s/it]\n",
            "100%|██████████| 15/15 [00:48<00:00,  3.22s/it]\n",
            "100%|██████████| 15/15 [00:44<00:00,  2.98s/it]\n",
            "100%|██████████| 15/15 [00:45<00:00,  3.04s/it]\n",
            "100%|██████████| 15/15 [00:47<00:00,  3.14s/it]\n",
            "100%|██████████| 15/15 [00:43<00:00,  2.91s/it]\n",
            "100%|██████████| 15/15 [00:46<00:00,  3.07s/it]\n",
            "100%|██████████| 15/15 [00:46<00:00,  3.12s/it]\n"
          ]
        },
        {
          "name": "stdout",
          "output_type": "stream",
          "text": [
            "Epoch: 10, Train loss: 5.291034174368523, Val metrics: {'r2': 0.18679562040873343, 'mae': 3.3381658931851943, 'rmse': 4.180710970811227}\n"
          ]
        },
        {
          "name": "stderr",
          "output_type": "stream",
          "text": [
            "100%|██████████| 15/15 [00:47<00:00,  3.19s/it]\n",
            "100%|██████████| 15/15 [00:47<00:00,  3.14s/it]\n",
            "100%|██████████| 15/15 [00:45<00:00,  3.04s/it]\n",
            "100%|██████████| 15/15 [00:51<00:00,  3.44s/it]\n",
            "100%|██████████| 15/15 [00:35<00:00,  2.36s/it]\n",
            "100%|██████████| 15/15 [00:35<00:00,  2.39s/it]\n",
            "100%|██████████| 15/15 [00:36<00:00,  2.44s/it]\n",
            "100%|██████████| 15/15 [00:37<00:00,  2.47s/it]\n",
            "100%|██████████| 15/15 [00:39<00:00,  2.61s/it]\n",
            "100%|██████████| 15/15 [00:39<00:00,  2.62s/it]\n"
          ]
        },
        {
          "name": "stdout",
          "output_type": "stream",
          "text": [
            "Epoch: 20, Train loss: 4.718007189370507, Val metrics: {'r2': 0.28805778389930137, 'mae': 3.131959939687827, 'rmse': 3.9117641542210237}\n"
          ]
        },
        {
          "name": "stderr",
          "output_type": "stream",
          "text": [
            "100%|██████████| 15/15 [00:38<00:00,  2.55s/it]\n",
            "100%|██████████| 15/15 [00:37<00:00,  2.52s/it]\n",
            "100%|██████████| 15/15 [00:36<00:00,  2.42s/it]\n",
            "100%|██████████| 15/15 [00:36<00:00,  2.43s/it]\n",
            "100%|██████████| 15/15 [00:37<00:00,  2.47s/it]\n",
            "100%|██████████| 15/15 [00:36<00:00,  2.43s/it]\n",
            "100%|██████████| 15/15 [00:38<00:00,  2.57s/it]\n",
            "100%|██████████| 15/15 [00:40<00:00,  2.72s/it]\n",
            "100%|██████████| 15/15 [00:40<00:00,  2.68s/it]\n",
            "100%|██████████| 15/15 [00:36<00:00,  2.45s/it]\n"
          ]
        },
        {
          "name": "stdout",
          "output_type": "stream",
          "text": [
            "Epoch: 30, Train loss: 4.532936638415332, Val metrics: {'r2': 0.3423971986165205, 'mae': 2.9444610241499434, 'rmse': 3.7595175536625134}\n",
            "Best Val metrics for parameters Adam (\n",
            "Parameter Group 0\n",
            "    amsgrad: False\n",
            "    betas: (0.9, 0.999)\n",
            "    capturable: False\n",
            "    differentiable: False\n",
            "    eps: 1e-08\n",
            "    foreach: None\n",
            "    fused: None\n",
            "    lr: 0.01\n",
            "    maximize: False\n",
            "    weight_decay: 0.001\n",
            "), are: {'r2': 0.3631270821066356, 'mae': 2.8828333261575234, 'rmse': 3.6997866449461463}\n",
            "Training with lr=0.01, batch_size=64, num_layers=2, weight_decay=0.01\n"
          ]
        },
        {
          "name": "stderr",
          "output_type": "stream",
          "text": [
            "100%|██████████| 15/15 [00:36<00:00,  2.45s/it]\n",
            "100%|██████████| 15/15 [00:38<00:00,  2.56s/it]\n",
            "100%|██████████| 15/15 [00:37<00:00,  2.48s/it]\n",
            "100%|██████████| 15/15 [00:36<00:00,  2.45s/it]\n",
            "100%|██████████| 15/15 [00:36<00:00,  2.45s/it]\n",
            "100%|██████████| 15/15 [00:36<00:00,  2.46s/it]\n",
            "100%|██████████| 15/15 [00:37<00:00,  2.47s/it]\n",
            "100%|██████████| 15/15 [00:36<00:00,  2.44s/it]\n",
            "100%|██████████| 15/15 [00:37<00:00,  2.48s/it]\n",
            "100%|██████████| 15/15 [00:37<00:00,  2.49s/it]\n"
          ]
        },
        {
          "name": "stdout",
          "output_type": "stream",
          "text": [
            "Epoch: 10, Train loss: 5.360963485264289, Val metrics: {'r2': 0.07149055697455065, 'mae': 3.6543666319761106, 'rmse': 4.467282860283256}\n"
          ]
        },
        {
          "name": "stderr",
          "output_type": "stream",
          "text": [
            "100%|██████████| 15/15 [00:36<00:00,  2.43s/it]\n",
            "100%|██████████| 15/15 [00:37<00:00,  2.53s/it]\n",
            "100%|██████████| 15/15 [00:37<00:00,  2.53s/it]\n",
            "100%|██████████| 15/15 [00:38<00:00,  2.56s/it]\n",
            "100%|██████████| 15/15 [00:36<00:00,  2.46s/it]\n",
            "100%|██████████| 15/15 [00:37<00:00,  2.49s/it]\n",
            "100%|██████████| 15/15 [00:36<00:00,  2.42s/it]\n",
            "100%|██████████| 15/15 [00:36<00:00,  2.43s/it]\n",
            "100%|██████████| 15/15 [00:37<00:00,  2.49s/it]\n",
            "100%|██████████| 15/15 [00:37<00:00,  2.51s/it]\n"
          ]
        },
        {
          "name": "stdout",
          "output_type": "stream",
          "text": [
            "Epoch: 20, Train loss: 5.3519368734069275, Val metrics: {'r2': 0.06990028222616729, 'mae': 3.6492457742124063, 'rmse': 4.471106821313701}\n"
          ]
        },
        {
          "name": "stderr",
          "output_type": "stream",
          "text": [
            "100%|██████████| 15/15 [00:36<00:00,  2.45s/it]\n",
            "100%|██████████| 15/15 [00:35<00:00,  2.40s/it]\n",
            "100%|██████████| 15/15 [00:36<00:00,  2.42s/it]\n",
            "100%|██████████| 15/15 [00:37<00:00,  2.49s/it]\n",
            "100%|██████████| 15/15 [00:38<00:00,  2.55s/it]\n",
            "100%|██████████| 15/15 [00:36<00:00,  2.46s/it]\n",
            "100%|██████████| 15/15 [00:38<00:00,  2.54s/it]\n",
            "100%|██████████| 15/15 [00:37<00:00,  2.52s/it]\n",
            "100%|██████████| 15/15 [00:38<00:00,  2.57s/it]\n",
            "100%|██████████| 15/15 [00:38<00:00,  2.58s/it]\n"
          ]
        },
        {
          "name": "stdout",
          "output_type": "stream",
          "text": [
            "Epoch: 30, Train loss: 5.330863097426429, Val metrics: {'r2': 0.05055555659034694, 'mae': 3.6397459953884006, 'rmse': 4.517363809269827}\n",
            "Best Val metrics for parameters Adam (\n",
            "Parameter Group 0\n",
            "    amsgrad: False\n",
            "    betas: (0.9, 0.999)\n",
            "    capturable: False\n",
            "    differentiable: False\n",
            "    eps: 1e-08\n",
            "    foreach: None\n",
            "    fused: None\n",
            "    lr: 0.01\n",
            "    maximize: False\n",
            "    weight_decay: 0.01\n",
            "), are: {'r2': 0.08316130519952492, 'mae': 3.6108252877622107, 'rmse': 4.439118686993506}\n",
            "Training with lr=0.01, batch_size=64, num_layers=3, weight_decay=0.0001\n"
          ]
        },
        {
          "name": "stderr",
          "output_type": "stream",
          "text": [
            "100%|██████████| 15/15 [00:42<00:00,  2.85s/it]\n",
            "100%|██████████| 15/15 [00:42<00:00,  2.83s/it]\n",
            "100%|██████████| 15/15 [00:45<00:00,  3.06s/it]\n",
            "100%|██████████| 15/15 [00:45<00:00,  3.01s/it]\n",
            "100%|██████████| 15/15 [00:44<00:00,  2.95s/it]\n",
            "100%|██████████| 15/15 [00:44<00:00,  3.00s/it]\n",
            "100%|██████████| 15/15 [00:42<00:00,  2.86s/it]\n",
            "100%|██████████| 15/15 [00:42<00:00,  2.85s/it]\n",
            "100%|██████████| 15/15 [00:43<00:00,  2.89s/it]\n",
            "100%|██████████| 15/15 [00:43<00:00,  2.87s/it]\n"
          ]
        },
        {
          "name": "stdout",
          "output_type": "stream",
          "text": [
            "Epoch: 10, Train loss: 5.378232832324756, Val metrics: {'r2': 0.05045215319293339, 'mae': 3.663074410973028, 'rmse': 4.517609794198688}\n"
          ]
        },
        {
          "name": "stderr",
          "output_type": "stream",
          "text": [
            "100%|██████████| 15/15 [00:44<00:00,  2.98s/it]\n",
            "100%|██████████| 15/15 [00:43<00:00,  2.92s/it]\n",
            "100%|██████████| 15/15 [00:42<00:00,  2.85s/it]\n",
            "100%|██████████| 15/15 [00:42<00:00,  2.82s/it]\n",
            "100%|██████████| 15/15 [00:43<00:00,  2.89s/it]\n",
            "100%|██████████| 15/15 [00:43<00:00,  2.92s/it]\n",
            "100%|██████████| 15/15 [00:43<00:00,  2.91s/it]\n",
            "100%|██████████| 15/15 [00:44<00:00,  2.95s/it]\n",
            "100%|██████████| 15/15 [00:42<00:00,  2.85s/it]\n",
            "100%|██████████| 15/15 [00:43<00:00,  2.88s/it]\n"
          ]
        },
        {
          "name": "stdout",
          "output_type": "stream",
          "text": [
            "Epoch: 20, Train loss: 4.780891689984859, Val metrics: {'r2': 0.17959345592684595, 'mae': 3.4296127293853655, 'rmse': 4.199183444986032}\n"
          ]
        },
        {
          "name": "stderr",
          "output_type": "stream",
          "text": [
            "100%|██████████| 15/15 [00:43<00:00,  2.88s/it]\n",
            "100%|██████████| 15/15 [00:41<00:00,  2.79s/it]\n",
            "100%|██████████| 15/15 [00:43<00:00,  2.89s/it]\n",
            "100%|██████████| 15/15 [00:45<00:00,  3.03s/it]\n",
            "100%|██████████| 15/15 [00:44<00:00,  2.93s/it]\n",
            "100%|██████████| 15/15 [00:43<00:00,  2.92s/it]\n",
            "100%|██████████| 15/15 [00:42<00:00,  2.86s/it]\n",
            "100%|██████████| 15/15 [00:43<00:00,  2.89s/it]\n",
            "100%|██████████| 15/15 [00:42<00:00,  2.84s/it]\n",
            "100%|██████████| 15/15 [00:43<00:00,  2.93s/it]\n"
          ]
        },
        {
          "name": "stdout",
          "output_type": "stream",
          "text": [
            "Epoch: 30, Train loss: 4.622194320295347, Val metrics: {'r2': 0.23666904926412746, 'mae': 3.2351694695696325, 'rmse': 4.050482178231924}\n",
            "Best Val metrics for parameters Adam (\n",
            "Parameter Group 0\n",
            "    amsgrad: False\n",
            "    betas: (0.9, 0.999)\n",
            "    capturable: False\n",
            "    differentiable: False\n",
            "    eps: 1e-08\n",
            "    foreach: None\n",
            "    fused: None\n",
            "    lr: 0.01\n",
            "    maximize: False\n",
            "    weight_decay: 0.0001\n",
            "), are: {'r2': 0.24078990427067415, 'mae': 3.230183996800669, 'rmse': 4.039534084205288}\n",
            "Training with lr=0.01, batch_size=64, num_layers=3, weight_decay=0.001\n"
          ]
        },
        {
          "name": "stderr",
          "output_type": "stream",
          "text": [
            "100%|██████████| 15/15 [00:44<00:00,  2.98s/it]\n",
            "100%|██████████| 15/15 [00:45<00:00,  3.04s/it]\n",
            "100%|██████████| 15/15 [00:42<00:00,  2.81s/it]\n",
            "100%|██████████| 15/15 [00:42<00:00,  2.86s/it]\n",
            "100%|██████████| 15/15 [00:43<00:00,  2.91s/it]\n",
            "100%|██████████| 15/15 [00:43<00:00,  2.89s/it]\n",
            "100%|██████████| 15/15 [00:43<00:00,  2.88s/it]\n",
            "100%|██████████| 15/15 [00:43<00:00,  2.88s/it]\n",
            "100%|██████████| 15/15 [00:43<00:00,  2.87s/it]\n",
            "100%|██████████| 15/15 [00:43<00:00,  2.88s/it]\n"
          ]
        },
        {
          "name": "stdout",
          "output_type": "stream",
          "text": [
            "Epoch: 10, Train loss: 5.388765782425744, Val metrics: {'r2': 0.07039656732120703, 'mae': 3.6471987545291182, 'rmse': 4.469913809581835}\n"
          ]
        },
        {
          "name": "stderr",
          "output_type": "stream",
          "text": [
            "100%|██████████| 15/15 [00:43<00:00,  2.89s/it]\n",
            "100%|██████████| 15/15 [00:43<00:00,  2.88s/it]\n",
            "100%|██████████| 15/15 [00:42<00:00,  2.86s/it]\n",
            "100%|██████████| 15/15 [00:46<00:00,  3.09s/it]\n",
            "100%|██████████| 15/15 [00:44<00:00,  2.96s/it]\n",
            "100%|██████████| 15/15 [00:42<00:00,  2.85s/it]\n",
            "100%|██████████| 15/15 [00:42<00:00,  2.85s/it]\n",
            "100%|██████████| 15/15 [00:43<00:00,  2.88s/it]\n",
            "100%|██████████| 15/15 [00:43<00:00,  2.90s/it]\n",
            "100%|██████████| 15/15 [00:43<00:00,  2.93s/it]\n"
          ]
        },
        {
          "name": "stdout",
          "output_type": "stream",
          "text": [
            "Epoch: 20, Train loss: 5.360778009749156, Val metrics: {'r2': 0.024246819927863705, 'mae': 3.6702743569770973, 'rmse': 4.579523345528915}\n"
          ]
        },
        {
          "name": "stderr",
          "output_type": "stream",
          "text": [
            "100%|██████████| 15/15 [00:44<00:00,  2.98s/it]\n",
            "100%|██████████| 15/15 [00:42<00:00,  2.83s/it]\n",
            "100%|██████████| 15/15 [00:43<00:00,  2.90s/it]\n",
            "100%|██████████| 15/15 [00:44<00:00,  2.95s/it]\n",
            "100%|██████████| 15/15 [00:49<00:00,  3.31s/it]\n",
            "100%|██████████| 15/15 [00:44<00:00,  2.94s/it]\n",
            "100%|██████████| 15/15 [00:43<00:00,  2.89s/it]\n",
            "100%|██████████| 15/15 [00:43<00:00,  2.88s/it]\n",
            "100%|██████████| 15/15 [00:42<00:00,  2.86s/it]\n",
            "100%|██████████| 15/15 [00:44<00:00,  2.94s/it]\n"
          ]
        },
        {
          "name": "stdout",
          "output_type": "stream",
          "text": [
            "Epoch: 30, Train loss: 5.3454651297714255, Val metrics: {'r2': 0.054856670903617566, 'mae': 3.6468071362298575, 'rmse': 4.507120054060896}\n",
            "Best Val metrics for parameters Adam (\n",
            "Parameter Group 0\n",
            "    amsgrad: False\n",
            "    betas: (0.9, 0.999)\n",
            "    capturable: False\n",
            "    differentiable: False\n",
            "    eps: 1e-08\n",
            "    foreach: None\n",
            "    fused: None\n",
            "    lr: 0.01\n",
            "    maximize: False\n",
            "    weight_decay: 0.001\n",
            "), are: {'r2': 0.0613598520634121, 'mae': 3.614190682874334, 'rmse': 4.491587377481724}\n",
            "Training with lr=0.01, batch_size=64, num_layers=3, weight_decay=0.01\n"
          ]
        },
        {
          "name": "stderr",
          "output_type": "stream",
          "text": [
            "100%|██████████| 15/15 [00:45<00:00,  3.01s/it]\n",
            "100%|██████████| 15/15 [00:44<00:00,  2.97s/it]\n",
            "100%|██████████| 15/15 [00:45<00:00,  3.01s/it]\n",
            "100%|██████████| 15/15 [00:43<00:00,  2.90s/it]\n",
            "100%|██████████| 15/15 [00:43<00:00,  2.90s/it]\n",
            "100%|██████████| 15/15 [00:42<00:00,  2.84s/it]\n",
            "100%|██████████| 15/15 [00:41<00:00,  2.79s/it]\n",
            "100%|██████████| 15/15 [00:43<00:00,  2.87s/it]\n",
            "100%|██████████| 15/15 [00:42<00:00,  2.84s/it]\n",
            "100%|██████████| 15/15 [00:43<00:00,  2.89s/it]\n"
          ]
        },
        {
          "name": "stdout",
          "output_type": "stream",
          "text": [
            "Epoch: 10, Train loss: 5.384740688841439, Val metrics: {'r2': 0.005707366764352018, 'mae': 3.7003993837691658, 'rmse': 4.622824438327594}\n"
          ]
        },
        {
          "name": "stderr",
          "output_type": "stream",
          "text": [
            "100%|██████████| 15/15 [00:43<00:00,  2.90s/it]\n",
            "100%|██████████| 15/15 [00:42<00:00,  2.83s/it]\n",
            "100%|██████████| 15/15 [00:42<00:00,  2.86s/it]\n",
            "100%|██████████| 15/15 [00:42<00:00,  2.84s/it]\n",
            "100%|██████████| 15/15 [00:44<00:00,  3.00s/it]\n",
            "100%|██████████| 15/15 [00:43<00:00,  2.90s/it]\n",
            "100%|██████████| 15/15 [00:43<00:00,  2.87s/it]\n",
            "100%|██████████| 15/15 [00:42<00:00,  2.80s/it]\n",
            "100%|██████████| 15/15 [00:42<00:00,  2.85s/it]\n",
            "100%|██████████| 15/15 [00:42<00:00,  2.86s/it]\n"
          ]
        },
        {
          "name": "stdout",
          "output_type": "stream",
          "text": [
            "Epoch: 20, Train loss: 5.406435702065566, Val metrics: {'r2': 0.006868247416444095, 'mae': 3.6970173773959867, 'rmse': 4.620124974103206}\n"
          ]
        },
        {
          "name": "stderr",
          "output_type": "stream",
          "text": [
            "100%|██████████| 15/15 [00:43<00:00,  2.91s/it]\n",
            "100%|██████████| 15/15 [00:43<00:00,  2.90s/it]\n",
            "100%|██████████| 15/15 [00:43<00:00,  2.91s/it]\n",
            "100%|██████████| 15/15 [00:43<00:00,  2.91s/it]\n",
            "100%|██████████| 15/15 [00:43<00:00,  2.90s/it]\n",
            "100%|██████████| 15/15 [00:42<00:00,  2.85s/it]\n",
            "100%|██████████| 15/15 [00:43<00:00,  2.90s/it]\n",
            "100%|██████████| 15/15 [00:42<00:00,  2.85s/it]\n",
            "100%|██████████| 15/15 [00:42<00:00,  2.86s/it]\n",
            "100%|██████████| 15/15 [00:42<00:00,  2.83s/it]\n"
          ]
        },
        {
          "name": "stdout",
          "output_type": "stream",
          "text": [
            "Epoch: 30, Train loss: 5.4013509644800495, Val metrics: {'r2': -0.004803526483941667, 'mae': 3.7383522040061976, 'rmse': 4.647194665378144}\n",
            "Best Val metrics for parameters Adam (\n",
            "Parameter Group 0\n",
            "    amsgrad: False\n",
            "    betas: (0.9, 0.999)\n",
            "    capturable: False\n",
            "    differentiable: False\n",
            "    eps: 1e-08\n",
            "    foreach: None\n",
            "    fused: None\n",
            "    lr: 0.01\n",
            "    maximize: False\n",
            "    weight_decay: 0.01\n",
            "), are: {'r2': 0.07432824557068729, 'mae': 3.5969262684355123, 'rmse': 4.460451234523216}\n",
            "Training with lr=0.01, batch_size=256, num_layers=1, weight_decay=0.0001\n"
          ]
        },
        {
          "name": "stderr",
          "output_type": "stream",
          "text": [
            "100%|██████████| 15/15 [00:28<00:00,  1.88s/it]\n",
            "100%|██████████| 15/15 [00:28<00:00,  1.87s/it]\n",
            "100%|██████████| 15/15 [00:27<00:00,  1.86s/it]\n",
            "100%|██████████| 15/15 [00:27<00:00,  1.86s/it]\n",
            "100%|██████████| 15/15 [00:27<00:00,  1.85s/it]\n",
            "100%|██████████| 15/15 [00:28<00:00,  1.90s/it]\n",
            "100%|██████████| 15/15 [00:28<00:00,  1.90s/it]\n",
            "100%|██████████| 15/15 [00:28<00:00,  1.90s/it]\n",
            "100%|██████████| 15/15 [00:28<00:00,  1.88s/it]\n",
            "100%|██████████| 15/15 [00:28<00:00,  1.89s/it]\n"
          ]
        },
        {
          "name": "stdout",
          "output_type": "stream",
          "text": [
            "Epoch: 10, Train loss: 4.7693395587112954, Val metrics: {'r2': 0.17780660334735932, 'mae': 3.431564423555363, 'rmse': 4.203753886733938}\n"
          ]
        },
        {
          "name": "stderr",
          "output_type": "stream",
          "text": [
            "100%|██████████| 15/15 [00:28<00:00,  1.88s/it]\n",
            "100%|██████████| 15/15 [00:28<00:00,  1.88s/it]\n",
            "100%|██████████| 15/15 [00:28<00:00,  1.88s/it]\n",
            "100%|██████████| 15/15 [00:27<00:00,  1.85s/it]\n",
            "100%|██████████| 15/15 [00:27<00:00,  1.83s/it]\n",
            "100%|██████████| 15/15 [00:28<00:00,  1.88s/it]\n",
            "100%|██████████| 15/15 [00:28<00:00,  1.88s/it]\n",
            "100%|██████████| 15/15 [00:28<00:00,  1.92s/it]\n",
            "100%|██████████| 15/15 [00:28<00:00,  1.92s/it]\n",
            "100%|██████████| 15/15 [00:29<00:00,  1.94s/it]\n"
          ]
        },
        {
          "name": "stdout",
          "output_type": "stream",
          "text": [
            "Epoch: 20, Train loss: 4.585959805012965, Val metrics: {'r2': 0.19330837410604063, 'mae': 3.3812633979455904, 'rmse': 4.163936174471282}\n"
          ]
        },
        {
          "name": "stderr",
          "output_type": "stream",
          "text": [
            "100%|██████████| 15/15 [00:28<00:00,  1.89s/it]\n",
            "100%|██████████| 15/15 [00:27<00:00,  1.87s/it]\n",
            "100%|██████████| 15/15 [00:27<00:00,  1.86s/it]\n",
            "100%|██████████| 15/15 [00:28<00:00,  1.88s/it]\n",
            "100%|██████████| 15/15 [00:28<00:00,  1.92s/it]\n",
            "100%|██████████| 15/15 [00:28<00:00,  1.88s/it]\n",
            "100%|██████████| 15/15 [00:28<00:00,  1.88s/it]\n",
            "100%|██████████| 15/15 [00:28<00:00,  1.88s/it]\n",
            "100%|██████████| 15/15 [00:29<00:00,  1.93s/it]\n",
            "100%|██████████| 15/15 [00:28<00:00,  1.92s/it]\n"
          ]
        },
        {
          "name": "stdout",
          "output_type": "stream",
          "text": [
            "Epoch: 30, Train loss: 4.542905315174987, Val metrics: {'r2': 0.2059257262419728, 'mae': 3.37766363950435, 'rmse': 4.131244062601645}\n",
            "Best Val metrics for parameters Adam (\n",
            "Parameter Group 0\n",
            "    amsgrad: False\n",
            "    betas: (0.9, 0.999)\n",
            "    capturable: False\n",
            "    differentiable: False\n",
            "    eps: 1e-08\n",
            "    foreach: None\n",
            "    fused: None\n",
            "    lr: 0.01\n",
            "    maximize: False\n",
            "    weight_decay: 0.0001\n",
            "), are: {'r2': 0.22841228986503992, 'mae': 3.256705537157689, 'rmse': 4.07232978191857}\n",
            "Training with lr=0.01, batch_size=256, num_layers=1, weight_decay=0.001\n"
          ]
        },
        {
          "name": "stderr",
          "output_type": "stream",
          "text": [
            "100%|██████████| 15/15 [00:28<00:00,  1.90s/it]\n",
            "100%|██████████| 15/15 [00:28<00:00,  1.89s/it]\n",
            "100%|██████████| 15/15 [00:28<00:00,  1.88s/it]\n",
            "100%|██████████| 15/15 [00:27<00:00,  1.87s/it]\n",
            "100%|██████████| 15/15 [00:27<00:00,  1.85s/it]\n",
            "100%|██████████| 15/15 [00:28<00:00,  1.89s/it]\n",
            "100%|██████████| 15/15 [00:28<00:00,  1.87s/it]\n",
            "100%|██████████| 15/15 [00:27<00:00,  1.84s/it]\n",
            "100%|██████████| 15/15 [00:28<00:00,  1.90s/it]\n",
            "100%|██████████| 15/15 [00:28<00:00,  1.87s/it]\n"
          ]
        },
        {
          "name": "stdout",
          "output_type": "stream",
          "text": [
            "Epoch: 10, Train loss: 4.752082857528373, Val metrics: {'r2': 0.19436757670457727, 'mae': 3.342369352950999, 'rmse': 4.161201609874857}\n"
          ]
        },
        {
          "name": "stderr",
          "output_type": "stream",
          "text": [
            "100%|██████████| 15/15 [00:27<00:00,  1.86s/it]\n",
            "100%|██████████| 15/15 [00:28<00:00,  1.87s/it]\n",
            "100%|██████████| 15/15 [00:28<00:00,  1.89s/it]\n",
            "100%|██████████| 15/15 [00:27<00:00,  1.86s/it]\n",
            "100%|██████████| 15/15 [00:28<00:00,  1.87s/it]\n",
            "100%|██████████| 15/15 [00:28<00:00,  1.92s/it]\n",
            "100%|██████████| 15/15 [00:28<00:00,  1.89s/it]\n",
            "100%|██████████| 15/15 [00:28<00:00,  1.90s/it]\n",
            "100%|██████████| 15/15 [00:28<00:00,  1.90s/it]\n",
            "100%|██████████| 15/15 [00:28<00:00,  1.88s/it]\n"
          ]
        },
        {
          "name": "stdout",
          "output_type": "stream",
          "text": [
            "Epoch: 20, Train loss: 4.735228202942152, Val metrics: {'r2': 0.1968662772964913, 'mae': 3.367542565880255, 'rmse': 4.15474353340576}\n"
          ]
        },
        {
          "name": "stderr",
          "output_type": "stream",
          "text": [
            "100%|██████████| 15/15 [00:28<00:00,  1.92s/it]\n",
            "100%|██████████| 15/15 [00:28<00:00,  1.90s/it]\n",
            "100%|██████████| 15/15 [00:28<00:00,  1.87s/it]\n",
            "100%|██████████| 15/15 [00:27<00:00,  1.84s/it]\n",
            "100%|██████████| 15/15 [00:27<00:00,  1.84s/it]\n",
            "100%|██████████| 15/15 [00:28<00:00,  1.89s/it]\n",
            "100%|██████████| 15/15 [00:28<00:00,  1.89s/it]\n",
            "100%|██████████| 15/15 [00:28<00:00,  1.90s/it]\n",
            "100%|██████████| 15/15 [00:28<00:00,  1.88s/it]\n",
            "100%|██████████| 15/15 [00:27<00:00,  1.87s/it]\n"
          ]
        },
        {
          "name": "stdout",
          "output_type": "stream",
          "text": [
            "Epoch: 30, Train loss: 4.692958463394736, Val metrics: {'r2': 0.10971660507641379, 'mae': 3.5442913358659047, 'rmse': 4.374359039208032}\n",
            "Best Val metrics for parameters Adam (\n",
            "Parameter Group 0\n",
            "    amsgrad: False\n",
            "    betas: (0.9, 0.999)\n",
            "    capturable: False\n",
            "    differentiable: False\n",
            "    eps: 1e-08\n",
            "    foreach: None\n",
            "    fused: None\n",
            "    lr: 0.01\n",
            "    maximize: False\n",
            "    weight_decay: 0.001\n",
            "), are: {'r2': 0.24985510216691353, 'mae': 3.2356775853979483, 'rmse': 4.0153450325787245}\n",
            "Training with lr=0.01, batch_size=256, num_layers=1, weight_decay=0.01\n"
          ]
        },
        {
          "name": "stderr",
          "output_type": "stream",
          "text": [
            "100%|██████████| 15/15 [00:28<00:00,  1.88s/it]\n",
            "100%|██████████| 15/15 [00:29<00:00,  1.97s/it]\n",
            "100%|██████████| 15/15 [00:28<00:00,  1.87s/it]\n",
            "100%|██████████| 15/15 [00:28<00:00,  1.92s/it]\n",
            "100%|██████████| 15/15 [00:28<00:00,  1.87s/it]\n",
            "100%|██████████| 15/15 [00:28<00:00,  1.91s/it]\n",
            "100%|██████████| 15/15 [00:28<00:00,  1.90s/it]\n",
            "100%|██████████| 15/15 [00:28<00:00,  1.92s/it]\n",
            "100%|██████████| 15/15 [00:28<00:00,  1.89s/it]\n",
            "100%|██████████| 15/15 [00:28<00:00,  1.88s/it]\n"
          ]
        },
        {
          "name": "stdout",
          "output_type": "stream",
          "text": [
            "Epoch: 10, Train loss: 5.364065021728328, Val metrics: {'r2': -0.017072664251609027, 'mae': 3.7345785571641734, 'rmse': 4.675480829366806}\n"
          ]
        },
        {
          "name": "stderr",
          "output_type": "stream",
          "text": [
            "100%|██████████| 15/15 [00:28<00:00,  1.88s/it]\n",
            "100%|██████████| 15/15 [00:28<00:00,  1.93s/it]\n",
            "100%|██████████| 15/15 [00:28<00:00,  1.92s/it]\n",
            "100%|██████████| 15/15 [00:28<00:00,  1.92s/it]\n",
            "100%|██████████| 15/15 [00:28<00:00,  1.90s/it]\n",
            "100%|██████████| 15/15 [00:28<00:00,  1.89s/it]\n",
            "100%|██████████| 15/15 [00:29<00:00,  1.98s/it]\n",
            "100%|██████████| 15/15 [00:28<00:00,  1.91s/it]\n",
            "100%|██████████| 15/15 [00:28<00:00,  1.87s/it]\n",
            "100%|██████████| 15/15 [00:28<00:00,  1.89s/it]\n"
          ]
        },
        {
          "name": "stdout",
          "output_type": "stream",
          "text": [
            "Epoch: 20, Train loss: 5.362737955382314, Val metrics: {'r2': -0.03219243578686215, 'mae': 3.7459162176332237, 'rmse': 4.710105400592755}\n"
          ]
        },
        {
          "name": "stderr",
          "output_type": "stream",
          "text": [
            "100%|██████████| 15/15 [00:28<00:00,  1.87s/it]\n",
            "100%|██████████| 15/15 [00:28<00:00,  1.89s/it]\n",
            "100%|██████████| 15/15 [00:27<00:00,  1.86s/it]\n",
            "100%|██████████| 15/15 [00:28<00:00,  1.88s/it]\n",
            "100%|██████████| 15/15 [00:28<00:00,  1.88s/it]\n",
            "100%|██████████| 15/15 [00:28<00:00,  1.89s/it]\n",
            "100%|██████████| 15/15 [00:28<00:00,  1.87s/it]\n",
            "100%|██████████| 15/15 [00:28<00:00,  1.92s/it]\n",
            "100%|██████████| 15/15 [00:28<00:00,  1.92s/it]\n",
            "100%|██████████| 15/15 [00:27<00:00,  1.85s/it]\n"
          ]
        },
        {
          "name": "stdout",
          "output_type": "stream",
          "text": [
            "Epoch: 30, Train loss: 5.346719592941635, Val metrics: {'r2': -0.059107197727498395, 'mae': 3.7836976362851433, 'rmse': 4.771119007018017}\n",
            "Best Val metrics for parameters Adam (\n",
            "Parameter Group 0\n",
            "    amsgrad: False\n",
            "    betas: (0.9, 0.999)\n",
            "    capturable: False\n",
            "    differentiable: False\n",
            "    eps: 1e-08\n",
            "    foreach: None\n",
            "    fused: None\n",
            "    lr: 0.01\n",
            "    maximize: False\n",
            "    weight_decay: 0.01\n",
            "), are: {'r2': 0.058297547490054225, 'mae': 3.610623764211365, 'rmse': 4.498908291833697}\n",
            "Training with lr=0.01, batch_size=256, num_layers=2, weight_decay=0.0001\n"
          ]
        },
        {
          "name": "stderr",
          "output_type": "stream",
          "text": [
            "100%|██████████| 15/15 [00:37<00:00,  2.51s/it]\n",
            "100%|██████████| 15/15 [00:36<00:00,  2.46s/it]\n",
            "100%|██████████| 15/15 [00:37<00:00,  2.48s/it]\n",
            "100%|██████████| 15/15 [00:37<00:00,  2.52s/it]\n",
            "100%|██████████| 15/15 [00:37<00:00,  2.48s/it]\n",
            "100%|██████████| 15/15 [00:37<00:00,  2.52s/it]\n",
            "100%|██████████| 15/15 [00:36<00:00,  2.43s/it]\n",
            "100%|██████████| 15/15 [00:36<00:00,  2.43s/it]\n",
            "100%|██████████| 15/15 [00:36<00:00,  2.47s/it]\n",
            "100%|██████████| 15/15 [00:36<00:00,  2.41s/it]\n"
          ]
        },
        {
          "name": "stdout",
          "output_type": "stream",
          "text": [
            "Epoch: 10, Train loss: 4.782533524965066, Val metrics: {'r2': 0.24642893452360026, 'mae': 3.222266068391666, 'rmse': 4.024504311359434}\n"
          ]
        },
        {
          "name": "stderr",
          "output_type": "stream",
          "text": [
            "100%|██████████| 15/15 [00:37<00:00,  2.48s/it]\n",
            "100%|██████████| 15/15 [00:37<00:00,  2.52s/it]\n",
            "100%|██████████| 15/15 [00:37<00:00,  2.53s/it]\n",
            "100%|██████████| 15/15 [00:37<00:00,  2.52s/it]\n",
            "100%|██████████| 15/15 [00:37<00:00,  2.47s/it]\n",
            "100%|██████████| 15/15 [00:37<00:00,  2.51s/it]\n",
            "100%|██████████| 15/15 [00:36<00:00,  2.45s/it]\n",
            "100%|██████████| 15/15 [00:37<00:00,  2.48s/it]\n",
            "100%|██████████| 15/15 [00:36<00:00,  2.46s/it]\n",
            "100%|██████████| 15/15 [00:37<00:00,  2.53s/it]\n"
          ]
        },
        {
          "name": "stdout",
          "output_type": "stream",
          "text": [
            "Epoch: 20, Train loss: 4.619531183231282, Val metrics: {'r2': 0.24550478896466443, 'mae': 3.2388510319895163, 'rmse': 4.026971290508421}\n"
          ]
        },
        {
          "name": "stderr",
          "output_type": "stream",
          "text": [
            "100%|██████████| 15/15 [00:37<00:00,  2.53s/it]\n",
            "100%|██████████| 15/15 [00:36<00:00,  2.43s/it]\n",
            "100%|██████████| 15/15 [00:36<00:00,  2.43s/it]\n",
            "100%|██████████| 15/15 [00:35<00:00,  2.40s/it]\n",
            "100%|██████████| 15/15 [00:36<00:00,  2.43s/it]\n",
            "100%|██████████| 15/15 [00:37<00:00,  2.47s/it]\n",
            "100%|██████████| 15/15 [00:36<00:00,  2.46s/it]\n",
            "100%|██████████| 15/15 [00:36<00:00,  2.44s/it]\n",
            "100%|██████████| 15/15 [00:37<00:00,  2.49s/it]\n",
            "100%|██████████| 15/15 [00:37<00:00,  2.48s/it]\n"
          ]
        },
        {
          "name": "stdout",
          "output_type": "stream",
          "text": [
            "Epoch: 30, Train loss: 4.51503187932217, Val metrics: {'r2': 0.2662706885910694, 'mae': 3.1581242368949116, 'rmse': 3.9711676689956414}\n",
            "Best Val metrics for parameters Adam (\n",
            "Parameter Group 0\n",
            "    amsgrad: False\n",
            "    betas: (0.9, 0.999)\n",
            "    capturable: False\n",
            "    differentiable: False\n",
            "    eps: 1e-08\n",
            "    foreach: None\n",
            "    fused: None\n",
            "    lr: 0.01\n",
            "    maximize: False\n",
            "    weight_decay: 0.0001\n",
            "), are: {'r2': 0.27636605544959736, 'mae': 3.1364424079915407, 'rmse': 3.943753436316782}\n",
            "Training with lr=0.01, batch_size=256, num_layers=2, weight_decay=0.001\n"
          ]
        },
        {
          "name": "stderr",
          "output_type": "stream",
          "text": [
            "100%|██████████| 15/15 [00:36<00:00,  2.46s/it]\n",
            "100%|██████████| 15/15 [00:37<00:00,  2.51s/it]\n",
            "100%|██████████| 15/15 [00:36<00:00,  2.46s/it]\n",
            "100%|██████████| 15/15 [00:36<00:00,  2.46s/it]\n",
            "100%|██████████| 15/15 [00:37<00:00,  2.52s/it]\n",
            "100%|██████████| 15/15 [00:38<00:00,  2.54s/it]\n",
            "100%|██████████| 15/15 [00:38<00:00,  2.57s/it]\n",
            "100%|██████████| 15/15 [00:38<00:00,  2.57s/it]\n",
            "100%|██████████| 15/15 [00:37<00:00,  2.53s/it]\n",
            "100%|██████████| 15/15 [00:36<00:00,  2.43s/it]\n"
          ]
        },
        {
          "name": "stdout",
          "output_type": "stream",
          "text": [
            "Epoch: 10, Train loss: 4.82653762413546, Val metrics: {'r2': 0.2562792167488145, 'mae': 3.243137803456747, 'rmse': 3.9981146944907335}\n"
          ]
        },
        {
          "name": "stderr",
          "output_type": "stream",
          "text": [
            "100%|██████████| 15/15 [00:36<00:00,  2.46s/it]\n",
            "100%|██████████| 15/15 [00:36<00:00,  2.43s/it]\n",
            "100%|██████████| 15/15 [00:37<00:00,  2.47s/it]\n",
            "100%|██████████| 15/15 [00:37<00:00,  2.48s/it]\n",
            "100%|██████████| 15/15 [00:37<00:00,  2.51s/it]\n",
            "100%|██████████| 15/15 [00:37<00:00,  2.48s/it]\n",
            "100%|██████████| 15/15 [00:36<00:00,  2.44s/it]\n",
            "100%|██████████| 15/15 [00:37<00:00,  2.47s/it]\n",
            "100%|██████████| 15/15 [00:36<00:00,  2.42s/it]\n",
            "100%|██████████| 15/15 [00:36<00:00,  2.43s/it]\n"
          ]
        },
        {
          "name": "stdout",
          "output_type": "stream",
          "text": [
            "Epoch: 20, Train loss: 4.671805233279123, Val metrics: {'r2': 0.2715516429679822, 'mae': 3.1743308238053047, 'rmse': 3.956850790403455}\n"
          ]
        },
        {
          "name": "stderr",
          "output_type": "stream",
          "text": [
            "100%|██████████| 15/15 [00:37<00:00,  2.53s/it]\n",
            "100%|██████████| 15/15 [00:37<00:00,  2.49s/it]\n",
            "100%|██████████| 15/15 [00:37<00:00,  2.49s/it]\n",
            "100%|██████████| 15/15 [00:36<00:00,  2.44s/it]\n",
            "100%|██████████| 15/15 [00:37<00:00,  2.49s/it]\n",
            "100%|██████████| 15/15 [00:37<00:00,  2.48s/it]\n",
            "100%|██████████| 15/15 [00:36<00:00,  2.42s/it]\n",
            "100%|██████████| 15/15 [00:37<00:00,  2.49s/it]\n",
            "100%|██████████| 15/15 [00:37<00:00,  2.52s/it]\n",
            "100%|██████████| 15/15 [00:37<00:00,  2.49s/it]\n"
          ]
        },
        {
          "name": "stdout",
          "output_type": "stream",
          "text": [
            "Epoch: 30, Train loss: 4.583221193577449, Val metrics: {'r2': 0.335535962240452, 'mae': 2.976189119495705, 'rmse': 3.77907951649124}\n",
            "Best Val metrics for parameters Adam (\n",
            "Parameter Group 0\n",
            "    amsgrad: False\n",
            "    betas: (0.9, 0.999)\n",
            "    capturable: False\n",
            "    differentiable: False\n",
            "    eps: 1e-08\n",
            "    foreach: None\n",
            "    fused: None\n",
            "    lr: 0.01\n",
            "    maximize: False\n",
            "    weight_decay: 0.001\n",
            "), are: {'r2': 0.3487980552602903, 'mae': 2.89851381605119, 'rmse': 3.7411759518745176}\n",
            "Training with lr=0.01, batch_size=256, num_layers=2, weight_decay=0.01\n"
          ]
        },
        {
          "name": "stderr",
          "output_type": "stream",
          "text": [
            "100%|██████████| 15/15 [00:36<00:00,  2.43s/it]\n",
            "100%|██████████| 15/15 [00:37<00:00,  2.51s/it]\n",
            "100%|██████████| 15/15 [00:36<00:00,  2.45s/it]\n",
            "100%|██████████| 15/15 [00:37<00:00,  2.53s/it]\n",
            "100%|██████████| 15/15 [00:38<00:00,  2.54s/it]\n",
            "100%|██████████| 15/15 [00:37<00:00,  2.47s/it]\n",
            "100%|██████████| 15/15 [00:37<00:00,  2.50s/it]\n",
            "100%|██████████| 15/15 [00:37<00:00,  2.49s/it]\n",
            "100%|██████████| 15/15 [00:36<00:00,  2.42s/it]\n",
            "100%|██████████| 15/15 [00:36<00:00,  2.43s/it]\n"
          ]
        },
        {
          "name": "stdout",
          "output_type": "stream",
          "text": [
            "Epoch: 10, Train loss: 5.364678421453007, Val metrics: {'r2': 0.07701753137739775, 'mae': 3.608040940100619, 'rmse': 4.453967211879238}\n"
          ]
        },
        {
          "name": "stderr",
          "output_type": "stream",
          "text": [
            "100%|██████████| 15/15 [00:37<00:00,  2.48s/it]\n",
            "100%|██████████| 15/15 [00:37<00:00,  2.49s/it]\n",
            "100%|██████████| 15/15 [00:37<00:00,  2.52s/it]\n",
            "100%|██████████| 15/15 [00:36<00:00,  2.46s/it]\n",
            "100%|██████████| 15/15 [00:37<00:00,  2.47s/it]\n",
            "100%|██████████| 15/15 [00:37<00:00,  2.47s/it]\n",
            "100%|██████████| 15/15 [00:36<00:00,  2.47s/it]\n",
            "100%|██████████| 15/15 [00:38<00:00,  2.56s/it]\n",
            "100%|██████████| 15/15 [00:37<00:00,  2.51s/it]\n",
            "100%|██████████| 15/15 [00:36<00:00,  2.43s/it]\n"
          ]
        },
        {
          "name": "stdout",
          "output_type": "stream",
          "text": [
            "Epoch: 20, Train loss: 5.35905650822281, Val metrics: {'r2': 0.025000757585943112, 'mae': 3.666976605595631, 'rmse': 4.577753767739495}\n"
          ]
        },
        {
          "name": "stderr",
          "output_type": "stream",
          "text": [
            "100%|██████████| 15/15 [00:38<00:00,  2.58s/it]\n",
            "100%|██████████| 15/15 [00:37<00:00,  2.51s/it]\n",
            "100%|██████████| 15/15 [00:36<00:00,  2.45s/it]\n",
            "100%|██████████| 15/15 [00:36<00:00,  2.44s/it]\n",
            "100%|██████████| 15/15 [00:37<00:00,  2.50s/it]\n",
            "100%|██████████| 15/15 [00:36<00:00,  2.46s/it]\n",
            "100%|██████████| 15/15 [00:37<00:00,  2.48s/it]\n",
            "100%|██████████| 15/15 [00:36<00:00,  2.44s/it]\n",
            "100%|██████████| 15/15 [00:37<00:00,  2.48s/it]\n",
            "100%|██████████| 15/15 [00:37<00:00,  2.47s/it]\n"
          ]
        },
        {
          "name": "stdout",
          "output_type": "stream",
          "text": [
            "Epoch: 30, Train loss: 5.322974602136135, Val metrics: {'r2': 0.08440327058655195, 'mae': 3.624458782499284, 'rmse': 4.436111015014449}\n",
            "Best Val metrics for parameters Adam (\n",
            "Parameter Group 0\n",
            "    amsgrad: False\n",
            "    betas: (0.9, 0.999)\n",
            "    capturable: False\n",
            "    differentiable: False\n",
            "    eps: 1e-08\n",
            "    foreach: None\n",
            "    fused: None\n",
            "    lr: 0.01\n",
            "    maximize: False\n",
            "    weight_decay: 0.01\n",
            "), are: {'r2': 0.07709197056263617, 'mae': 3.6079140784824855, 'rmse': 4.453787600463636}\n",
            "Training with lr=0.01, batch_size=256, num_layers=3, weight_decay=0.0001\n"
          ]
        },
        {
          "name": "stderr",
          "output_type": "stream",
          "text": [
            "100%|██████████| 15/15 [00:42<00:00,  2.86s/it]\n",
            "100%|██████████| 15/15 [00:43<00:00,  2.91s/it]\n",
            "100%|██████████| 15/15 [00:42<00:00,  2.86s/it]\n",
            "100%|██████████| 15/15 [00:43<00:00,  2.88s/it]\n",
            "100%|██████████| 15/15 [00:45<00:00,  3.05s/it]\n",
            "100%|██████████| 15/15 [00:44<00:00,  2.98s/it]\n",
            "100%|██████████| 15/15 [00:43<00:00,  2.93s/it]\n",
            "100%|██████████| 15/15 [00:44<00:00,  2.93s/it]\n",
            "100%|██████████| 15/15 [00:42<00:00,  2.81s/it]\n",
            "100%|██████████| 15/15 [00:42<00:00,  2.82s/it]\n"
          ]
        },
        {
          "name": "stdout",
          "output_type": "stream",
          "text": [
            "Epoch: 10, Train loss: 5.381581153099319, Val metrics: {'r2': 0.08275069778021571, 'mae': 3.658758601110302, 'rmse': 4.440112608304594}\n"
          ]
        },
        {
          "name": "stderr",
          "output_type": "stream",
          "text": [
            "100%|██████████| 15/15 [00:43<00:00,  2.93s/it]\n",
            "100%|██████████| 15/15 [00:47<00:00,  3.18s/it]\n",
            "100%|██████████| 15/15 [00:43<00:00,  2.93s/it]\n",
            "100%|██████████| 15/15 [00:43<00:00,  2.93s/it]\n",
            "100%|██████████| 15/15 [00:44<00:00,  2.99s/it]\n",
            "100%|██████████| 15/15 [00:42<00:00,  2.85s/it]\n",
            "100%|██████████| 15/15 [00:42<00:00,  2.83s/it]\n",
            "100%|██████████| 15/15 [00:44<00:00,  2.96s/it]\n",
            "100%|██████████| 15/15 [00:43<00:00,  2.92s/it]\n",
            "100%|██████████| 15/15 [00:43<00:00,  2.92s/it]\n"
          ]
        },
        {
          "name": "stdout",
          "output_type": "stream",
          "text": [
            "Epoch: 20, Train loss: 4.791687535964513, Val metrics: {'r2': 0.20998780124215843, 'mae': 3.3458405054483564, 'rmse': 4.1206638561085525}\n"
          ]
        },
        {
          "name": "stderr",
          "output_type": "stream",
          "text": [
            "100%|██████████| 15/15 [00:45<00:00,  3.02s/it]\n",
            "100%|██████████| 15/15 [00:43<00:00,  2.89s/it]\n",
            "100%|██████████| 15/15 [00:43<00:00,  2.89s/it]\n",
            "100%|██████████| 15/15 [00:43<00:00,  2.87s/it]\n",
            "100%|██████████| 15/15 [00:42<00:00,  2.82s/it]\n",
            "100%|██████████| 15/15 [00:44<00:00,  2.95s/it]\n",
            "100%|██████████| 15/15 [00:42<00:00,  2.86s/it]\n",
            "100%|██████████| 15/15 [00:42<00:00,  2.84s/it]\n",
            "100%|██████████| 15/15 [00:41<00:00,  2.79s/it]\n",
            "100%|██████████| 15/15 [00:43<00:00,  2.91s/it]\n"
          ]
        },
        {
          "name": "stdout",
          "output_type": "stream",
          "text": [
            "Epoch: 30, Train loss: 4.701673754394318, Val metrics: {'r2': 0.21561771485933523, 'mae': 3.3071675643971865, 'rmse': 4.105954930973234}\n",
            "Best Val metrics for parameters Adam (\n",
            "Parameter Group 0\n",
            "    amsgrad: False\n",
            "    betas: (0.9, 0.999)\n",
            "    capturable: False\n",
            "    differentiable: False\n",
            "    eps: 1e-08\n",
            "    foreach: None\n",
            "    fused: None\n",
            "    lr: 0.01\n",
            "    maximize: False\n",
            "    weight_decay: 0.0001\n",
            "), are: {'r2': 0.24121535319707177, 'mae': 3.2064650024663788, 'rmse': 4.038402081161976}\n",
            "Training with lr=0.01, batch_size=256, num_layers=3, weight_decay=0.001\n"
          ]
        },
        {
          "name": "stderr",
          "output_type": "stream",
          "text": [
            "100%|██████████| 15/15 [00:45<00:00,  3.00s/it]\n",
            "100%|██████████| 15/15 [00:48<00:00,  3.23s/it]\n",
            "100%|██████████| 15/15 [00:44<00:00,  2.97s/it]\n",
            "100%|██████████| 15/15 [00:43<00:00,  2.89s/it]\n",
            "100%|██████████| 15/15 [00:43<00:00,  2.89s/it]\n",
            "100%|██████████| 15/15 [00:42<00:00,  2.85s/it]\n",
            "100%|██████████| 15/15 [00:43<00:00,  2.88s/it]\n",
            "100%|██████████| 15/15 [00:45<00:00,  3.01s/it]\n",
            "100%|██████████| 15/15 [00:42<00:00,  2.84s/it]\n",
            "100%|██████████| 15/15 [00:43<00:00,  2.89s/it]\n"
          ]
        },
        {
          "name": "stdout",
          "output_type": "stream",
          "text": [
            "Epoch: 10, Train loss: 5.357293134533478, Val metrics: {'r2': 0.05362632236650888, 'mae': 3.6566057677896486, 'rmse': 4.510052691311878}\n"
          ]
        },
        {
          "name": "stderr",
          "output_type": "stream",
          "text": [
            "100%|██████████| 15/15 [00:43<00:00,  2.93s/it]\n",
            "100%|██████████| 15/15 [00:42<00:00,  2.86s/it]\n",
            "100%|██████████| 15/15 [00:43<00:00,  2.91s/it]\n",
            "100%|██████████| 15/15 [00:42<00:00,  2.83s/it]\n",
            "100%|██████████| 15/15 [00:44<00:00,  2.97s/it]\n",
            "100%|██████████| 15/15 [00:42<00:00,  2.87s/it]\n",
            "100%|██████████| 15/15 [00:42<00:00,  2.81s/it]\n",
            "100%|██████████| 15/15 [00:43<00:00,  2.87s/it]\n",
            "100%|██████████| 15/15 [00:43<00:00,  2.88s/it]\n",
            "100%|██████████| 15/15 [00:43<00:00,  2.87s/it]\n"
          ]
        },
        {
          "name": "stdout",
          "output_type": "stream",
          "text": [
            "Epoch: 20, Train loss: 5.23328044298398, Val metrics: {'r2': 0.01927579077031527, 'mae': 3.787062291901512, 'rmse': 4.591173844776389}\n"
          ]
        },
        {
          "name": "stderr",
          "output_type": "stream",
          "text": [
            "100%|██████████| 15/15 [00:44<00:00,  2.98s/it]\n",
            "100%|██████████| 15/15 [00:45<00:00,  3.01s/it]\n",
            "100%|██████████| 15/15 [00:42<00:00,  2.82s/it]\n",
            "100%|██████████| 15/15 [00:43<00:00,  2.88s/it]\n",
            "100%|██████████| 15/15 [00:42<00:00,  2.86s/it]\n",
            "100%|██████████| 15/15 [00:42<00:00,  2.82s/it]\n",
            "100%|██████████| 15/15 [00:44<00:00,  2.96s/it]\n",
            "100%|██████████| 15/15 [00:44<00:00,  2.95s/it]\n",
            "100%|██████████| 15/15 [00:43<00:00,  2.89s/it]\n",
            "100%|██████████| 15/15 [00:43<00:00,  2.88s/it]\n"
          ]
        },
        {
          "name": "stdout",
          "output_type": "stream",
          "text": [
            "Epoch: 30, Train loss: 5.1527948506195465, Val metrics: {'r2': 0.048329716519086574, 'mae': 3.7283469339649757, 'rmse': 4.522655874148229}\n",
            "Best Val metrics for parameters Adam (\n",
            "Parameter Group 0\n",
            "    amsgrad: False\n",
            "    betas: (0.9, 0.999)\n",
            "    capturable: False\n",
            "    differentiable: False\n",
            "    eps: 1e-08\n",
            "    foreach: None\n",
            "    fused: None\n",
            "    lr: 0.01\n",
            "    maximize: False\n",
            "    weight_decay: 0.001\n",
            "), are: {'r2': 0.06256129931530918, 'mae': 3.6206627160927893, 'rmse': 4.488711870152585}\n",
            "Training with lr=0.01, batch_size=256, num_layers=3, weight_decay=0.01\n"
          ]
        },
        {
          "name": "stderr",
          "output_type": "stream",
          "text": [
            "100%|██████████| 15/15 [00:42<00:00,  2.86s/it]\n",
            "100%|██████████| 15/15 [00:42<00:00,  2.80s/it]\n",
            "100%|██████████| 15/15 [00:43<00:00,  2.90s/it]\n",
            "100%|██████████| 15/15 [00:42<00:00,  2.84s/it]\n",
            "100%|██████████| 15/15 [00:44<00:00,  2.97s/it]\n",
            "100%|██████████| 15/15 [00:43<00:00,  2.91s/it]\n",
            "100%|██████████| 15/15 [00:43<00:00,  2.90s/it]\n",
            "100%|██████████| 15/15 [00:44<00:00,  2.94s/it]\n",
            "100%|██████████| 15/15 [00:43<00:00,  2.89s/it]\n",
            "100%|██████████| 15/15 [00:44<00:00,  2.97s/it]\n"
          ]
        },
        {
          "name": "stdout",
          "output_type": "stream",
          "text": [
            "Epoch: 10, Train loss: 5.372421647052261, Val metrics: {'r2': 0.036514032489025405, 'mae': 3.6746300166658186, 'rmse': 4.550645308435682}\n"
          ]
        },
        {
          "name": "stderr",
          "output_type": "stream",
          "text": [
            "100%|██████████| 15/15 [00:42<00:00,  2.86s/it]\n",
            "100%|██████████| 15/15 [00:45<00:00,  3.03s/it]\n",
            "100%|██████████| 15/15 [00:42<00:00,  2.84s/it]\n",
            "100%|██████████| 15/15 [00:43<00:00,  2.93s/it]\n",
            "100%|██████████| 15/15 [00:42<00:00,  2.85s/it]\n",
            "100%|██████████| 15/15 [00:42<00:00,  2.85s/it]\n",
            "100%|██████████| 15/15 [00:43<00:00,  2.87s/it]\n",
            "100%|██████████| 15/15 [00:43<00:00,  2.92s/it]\n",
            "100%|██████████| 15/15 [00:44<00:00,  2.96s/it]\n",
            "100%|██████████| 15/15 [00:41<00:00,  2.79s/it]\n"
          ]
        },
        {
          "name": "stdout",
          "output_type": "stream",
          "text": [
            "Epoch: 20, Train loss: 5.367907638311802, Val metrics: {'r2': 0.060533127291174105, 'mae': 3.668136661277266, 'rmse': 4.493564966698805}\n"
          ]
        },
        {
          "name": "stderr",
          "output_type": "stream",
          "text": [
            "100%|██████████| 15/15 [00:42<00:00,  2.86s/it]\n",
            "100%|██████████| 15/15 [00:42<00:00,  2.82s/it]\n",
            "100%|██████████| 15/15 [00:42<00:00,  2.86s/it]\n",
            "100%|██████████| 15/15 [00:44<00:00,  2.98s/it]\n",
            "100%|██████████| 15/15 [00:42<00:00,  2.83s/it]\n",
            "100%|██████████| 15/15 [00:42<00:00,  2.81s/it]\n",
            "100%|██████████| 15/15 [00:43<00:00,  2.89s/it]\n",
            "100%|██████████| 15/15 [00:42<00:00,  2.83s/it]\n",
            "100%|██████████| 15/15 [00:41<00:00,  2.80s/it]\n",
            "100%|██████████| 15/15 [00:42<00:00,  2.85s/it]\n"
          ]
        },
        {
          "name": "stdout",
          "output_type": "stream",
          "text": [
            "Epoch: 30, Train loss: 5.360628064264471, Val metrics: {'r2': 0.05246448743918841, 'mae': 3.653013841836709, 'rmse': 4.51282027119194}\n",
            "Best Val metrics for parameters Adam (\n",
            "Parameter Group 0\n",
            "    amsgrad: False\n",
            "    betas: (0.9, 0.999)\n",
            "    capturable: False\n",
            "    differentiable: False\n",
            "    eps: 1e-08\n",
            "    foreach: None\n",
            "    fused: None\n",
            "    lr: 0.01\n",
            "    maximize: False\n",
            "    weight_decay: 0.01\n",
            "), are: {'r2': 0.0798355031040815, 'mae': 3.609738786680824, 'rmse': 4.447162776917932}\n",
            "Training with lr=0.01, batch_size=512, num_layers=1, weight_decay=0.0001\n"
          ]
        },
        {
          "name": "stderr",
          "output_type": "stream",
          "text": [
            "100%|██████████| 15/15 [00:27<00:00,  1.86s/it]\n",
            "100%|██████████| 15/15 [00:27<00:00,  1.84s/it]\n",
            "100%|██████████| 15/15 [00:28<00:00,  1.88s/it]\n",
            "100%|██████████| 15/15 [00:27<00:00,  1.86s/it]\n",
            "100%|██████████| 15/15 [00:28<00:00,  1.89s/it]\n",
            "100%|██████████| 15/15 [00:27<00:00,  1.82s/it]\n",
            "100%|██████████| 15/15 [00:28<00:00,  1.89s/it]\n",
            "100%|██████████| 15/15 [00:28<00:00,  1.88s/it]\n",
            "100%|██████████| 15/15 [00:28<00:00,  1.92s/it]\n",
            "100%|██████████| 15/15 [00:28<00:00,  1.90s/it]\n"
          ]
        },
        {
          "name": "stdout",
          "output_type": "stream",
          "text": [
            "Epoch: 10, Train loss: 4.701661598661611, Val metrics: {'r2': 0.17826040120089015, 'mae': 3.3887180051249346, 'rmse': 4.202593625780347}\n"
          ]
        },
        {
          "name": "stderr",
          "output_type": "stream",
          "text": [
            "100%|██████████| 15/15 [00:28<00:00,  1.89s/it]\n",
            "100%|██████████| 15/15 [00:28<00:00,  1.90s/it]\n",
            "100%|██████████| 15/15 [00:28<00:00,  1.92s/it]\n",
            "100%|██████████| 15/15 [00:28<00:00,  1.88s/it]\n",
            "100%|██████████| 15/15 [00:28<00:00,  1.90s/it]\n",
            "100%|██████████| 15/15 [00:28<00:00,  1.87s/it]\n",
            "100%|██████████| 15/15 [00:28<00:00,  1.88s/it]\n",
            "100%|██████████| 15/15 [00:27<00:00,  1.87s/it]\n",
            "100%|██████████| 15/15 [00:28<00:00,  1.89s/it]\n",
            "100%|██████████| 15/15 [00:27<00:00,  1.85s/it]\n"
          ]
        },
        {
          "name": "stdout",
          "output_type": "stream",
          "text": [
            "Epoch: 20, Train loss: 4.624780845821232, Val metrics: {'r2': 0.24914050528693144, 'mae': 3.202461627203381, 'rmse': 4.017257109846075}\n"
          ]
        },
        {
          "name": "stderr",
          "output_type": "stream",
          "text": [
            "100%|██████████| 15/15 [00:28<00:00,  1.87s/it]\n",
            "100%|██████████| 15/15 [00:27<00:00,  1.84s/it]\n",
            "100%|██████████| 15/15 [00:28<00:00,  1.87s/it]\n",
            "100%|██████████| 15/15 [00:27<00:00,  1.86s/it]\n",
            "100%|██████████| 15/15 [00:28<00:00,  1.89s/it]\n",
            "100%|██████████| 15/15 [00:27<00:00,  1.86s/it]\n",
            "100%|██████████| 15/15 [00:28<00:00,  1.88s/it]\n",
            "100%|██████████| 15/15 [00:28<00:00,  1.87s/it]\n",
            "100%|██████████| 15/15 [00:28<00:00,  1.88s/it]\n",
            "100%|██████████| 15/15 [00:29<00:00,  1.94s/it]\n"
          ]
        },
        {
          "name": "stdout",
          "output_type": "stream",
          "text": [
            "Epoch: 30, Train loss: 4.55334495919096, Val metrics: {'r2': 0.21496941602696373, 'mae': 3.2785713862799453, 'rmse': 4.107651384378119}\n",
            "Best Val metrics for parameters Adam (\n",
            "Parameter Group 0\n",
            "    amsgrad: False\n",
            "    betas: (0.9, 0.999)\n",
            "    capturable: False\n",
            "    differentiable: False\n",
            "    eps: 1e-08\n",
            "    foreach: None\n",
            "    fused: None\n",
            "    lr: 0.01\n",
            "    maximize: False\n",
            "    weight_decay: 0.0001\n",
            "), are: {'r2': 0.2618418996791161, 'mae': 3.1780566146075926, 'rmse': 3.983134618787069}\n",
            "Training with lr=0.01, batch_size=512, num_layers=1, weight_decay=0.001\n"
          ]
        },
        {
          "name": "stderr",
          "output_type": "stream",
          "text": [
            "100%|██████████| 15/15 [00:29<00:00,  1.95s/it]\n",
            "100%|██████████| 15/15 [00:29<00:00,  1.95s/it]\n",
            "100%|██████████| 15/15 [00:28<00:00,  1.89s/it]\n",
            "100%|██████████| 15/15 [00:28<00:00,  1.89s/it]\n",
            "100%|██████████| 15/15 [00:28<00:00,  1.88s/it]\n",
            "100%|██████████| 15/15 [00:27<00:00,  1.82s/it]\n",
            "100%|██████████| 15/15 [00:28<00:00,  1.88s/it]\n",
            "100%|██████████| 15/15 [00:28<00:00,  1.89s/it]\n",
            "100%|██████████| 15/15 [00:27<00:00,  1.85s/it]\n",
            "100%|██████████| 15/15 [00:28<00:00,  1.89s/it]\n"
          ]
        },
        {
          "name": "stdout",
          "output_type": "stream",
          "text": [
            "Epoch: 10, Train loss: 4.778997246601366, Val metrics: {'r2': 0.23146647039871382, 'mae': 3.2684394869552746, 'rmse': 4.064262025919655}\n"
          ]
        },
        {
          "name": "stderr",
          "output_type": "stream",
          "text": [
            "100%|██████████| 15/15 [00:27<00:00,  1.86s/it]\n",
            "100%|██████████| 15/15 [00:28<00:00,  1.89s/it]\n",
            "100%|██████████| 15/15 [00:28<00:00,  1.89s/it]\n",
            "100%|██████████| 15/15 [00:27<00:00,  1.85s/it]\n",
            "100%|██████████| 15/15 [00:27<00:00,  1.85s/it]\n",
            "100%|██████████| 15/15 [00:28<00:00,  1.92s/it]\n",
            "100%|██████████| 15/15 [00:28<00:00,  1.90s/it]\n",
            "100%|██████████| 15/15 [00:28<00:00,  1.88s/it]\n",
            "100%|██████████| 15/15 [00:28<00:00,  1.90s/it]\n",
            "100%|██████████| 15/15 [00:27<00:00,  1.84s/it]\n"
          ]
        },
        {
          "name": "stdout",
          "output_type": "stream",
          "text": [
            "Epoch: 20, Train loss: 4.721163988721206, Val metrics: {'r2': 0.22679801171988623, 'mae': 3.2458705273324355, 'rmse': 4.076587520921266}\n"
          ]
        },
        {
          "name": "stderr",
          "output_type": "stream",
          "text": [
            "100%|██████████| 15/15 [00:27<00:00,  1.87s/it]\n",
            "100%|██████████| 15/15 [00:28<00:00,  1.88s/it]\n",
            "100%|██████████| 15/15 [00:27<00:00,  1.86s/it]\n",
            "100%|██████████| 15/15 [00:27<00:00,  1.84s/it]\n",
            "100%|██████████| 15/15 [00:28<00:00,  1.90s/it]\n",
            "100%|██████████| 15/15 [00:27<00:00,  1.87s/it]\n",
            "100%|██████████| 15/15 [00:28<00:00,  1.87s/it]\n",
            "100%|██████████| 15/15 [00:28<00:00,  1.87s/it]\n",
            "100%|██████████| 15/15 [00:28<00:00,  1.91s/it]\n",
            "100%|██████████| 15/15 [00:28<00:00,  1.90s/it]\n"
          ]
        },
        {
          "name": "stdout",
          "output_type": "stream",
          "text": [
            "Epoch: 30, Train loss: 4.657374288609375, Val metrics: {'r2': 0.20649053134518613, 'mae': 3.305218100308894, 'rmse': 4.129774576139959}\n",
            "Best Val metrics for parameters Adam (\n",
            "Parameter Group 0\n",
            "    amsgrad: False\n",
            "    betas: (0.9, 0.999)\n",
            "    capturable: False\n",
            "    differentiable: False\n",
            "    eps: 1e-08\n",
            "    foreach: None\n",
            "    fused: None\n",
            "    lr: 0.01\n",
            "    maximize: False\n",
            "    weight_decay: 0.001\n",
            "), are: {'r2': 0.24803262691681593, 'mae': 3.2192667543848277, 'rmse': 4.020219709237527}\n",
            "Training with lr=0.01, batch_size=512, num_layers=1, weight_decay=0.01\n"
          ]
        },
        {
          "name": "stderr",
          "output_type": "stream",
          "text": [
            "100%|██████████| 15/15 [00:29<00:00,  1.94s/it]\n",
            "100%|██████████| 15/15 [00:28<00:00,  1.89s/it]\n",
            "100%|██████████| 15/15 [00:28<00:00,  1.87s/it]\n",
            "100%|██████████| 15/15 [00:27<00:00,  1.85s/it]\n",
            "100%|██████████| 15/15 [00:28<00:00,  1.90s/it]\n",
            "100%|██████████| 15/15 [00:27<00:00,  1.83s/it]\n",
            "100%|██████████| 15/15 [00:28<00:00,  1.89s/it]\n",
            "100%|██████████| 15/15 [00:27<00:00,  1.85s/it]\n",
            "100%|██████████| 15/15 [00:27<00:00,  1.86s/it]\n",
            "100%|██████████| 15/15 [00:28<00:00,  1.87s/it]\n"
          ]
        },
        {
          "name": "stdout",
          "output_type": "stream",
          "text": [
            "Epoch: 10, Train loss: 5.371441319694811, Val metrics: {'r2': -0.16232489567176356, 'mae': 3.9461342121651746, 'rmse': 4.998204942477495}\n"
          ]
        },
        {
          "name": "stderr",
          "output_type": "stream",
          "text": [
            "100%|██████████| 15/15 [00:28<00:00,  1.88s/it]\n",
            "100%|██████████| 15/15 [00:27<00:00,  1.86s/it]\n",
            "100%|██████████| 15/15 [00:28<00:00,  1.89s/it]\n",
            "100%|██████████| 15/15 [00:27<00:00,  1.86s/it]\n",
            "100%|██████████| 15/15 [00:28<00:00,  1.88s/it]\n",
            "100%|██████████| 15/15 [00:28<00:00,  1.88s/it]\n",
            "100%|██████████| 15/15 [00:28<00:00,  1.89s/it]\n",
            "100%|██████████| 15/15 [00:28<00:00,  1.87s/it]\n",
            "100%|██████████| 15/15 [00:28<00:00,  1.88s/it]\n",
            "100%|██████████| 15/15 [00:27<00:00,  1.86s/it]\n"
          ]
        },
        {
          "name": "stdout",
          "output_type": "stream",
          "text": [
            "Epoch: 20, Train loss: 5.356722805366634, Val metrics: {'r2': -0.1379048952453692, 'mae': 3.901781439032647, 'rmse': 4.945421043645566}\n"
          ]
        },
        {
          "name": "stderr",
          "output_type": "stream",
          "text": [
            "100%|██████████| 15/15 [00:27<00:00,  1.86s/it]\n",
            "100%|██████████| 15/15 [00:28<00:00,  1.90s/it]\n",
            "100%|██████████| 15/15 [00:28<00:00,  1.88s/it]\n",
            "100%|██████████| 15/15 [00:27<00:00,  1.87s/it]\n",
            "100%|██████████| 15/15 [00:27<00:00,  1.87s/it]\n",
            "100%|██████████| 15/15 [00:28<00:00,  1.89s/it]\n",
            "100%|██████████| 15/15 [00:29<00:00,  1.94s/it]\n",
            "100%|██████████| 15/15 [00:27<00:00,  1.84s/it]\n",
            "100%|██████████| 15/15 [00:28<00:00,  1.88s/it]\n",
            "100%|██████████| 15/15 [00:28<00:00,  1.91s/it]\n"
          ]
        },
        {
          "name": "stdout",
          "output_type": "stream",
          "text": [
            "Epoch: 30, Train loss: 5.353201981504443, Val metrics: {'r2': 0.034608253026815916, 'mae': 3.6412039497492703, 'rmse': 4.555143683255504}\n",
            "Best Val metrics for parameters Adam (\n",
            "Parameter Group 0\n",
            "    amsgrad: False\n",
            "    betas: (0.9, 0.999)\n",
            "    capturable: False\n",
            "    differentiable: False\n",
            "    eps: 1e-08\n",
            "    foreach: None\n",
            "    fused: None\n",
            "    lr: 0.01\n",
            "    maximize: False\n",
            "    weight_decay: 0.01\n",
            "), are: {'r2': 0.06529483823067561, 'mae': 3.6119194772296055, 'rmse': 4.482162627835575}\n",
            "Training with lr=0.01, batch_size=512, num_layers=2, weight_decay=0.0001\n"
          ]
        },
        {
          "name": "stderr",
          "output_type": "stream",
          "text": [
            "100%|██████████| 15/15 [00:38<00:00,  2.55s/it]\n",
            "100%|██████████| 15/15 [00:36<00:00,  2.42s/it]\n",
            "100%|██████████| 15/15 [00:36<00:00,  2.46s/it]\n",
            "100%|██████████| 15/15 [00:36<00:00,  2.46s/it]\n",
            "100%|██████████| 15/15 [00:36<00:00,  2.41s/it]\n",
            "100%|██████████| 15/15 [00:36<00:00,  2.43s/it]\n",
            "100%|██████████| 15/15 [00:37<00:00,  2.47s/it]\n",
            "100%|██████████| 15/15 [00:37<00:00,  2.50s/it]\n",
            "100%|██████████| 15/15 [00:36<00:00,  2.46s/it]\n",
            "100%|██████████| 15/15 [00:36<00:00,  2.44s/it]\n"
          ]
        },
        {
          "name": "stdout",
          "output_type": "stream",
          "text": [
            "Epoch: 10, Train loss: 4.828278960948756, Val metrics: {'r2': 0.19654023231937912, 'mae': 3.2812355742266597, 'rmse': 4.15558679011763}\n"
          ]
        },
        {
          "name": "stderr",
          "output_type": "stream",
          "text": [
            "100%|██████████| 15/15 [00:36<00:00,  2.46s/it]\n",
            "100%|██████████| 15/15 [00:36<00:00,  2.45s/it]\n",
            "100%|██████████| 15/15 [00:38<00:00,  2.54s/it]\n",
            "100%|██████████| 15/15 [00:36<00:00,  2.43s/it]\n",
            "100%|██████████| 15/15 [00:36<00:00,  2.46s/it]\n",
            "100%|██████████| 15/15 [00:36<00:00,  2.46s/it]\n",
            "100%|██████████| 15/15 [00:37<00:00,  2.48s/it]\n",
            "100%|██████████| 15/15 [00:36<00:00,  2.42s/it]\n",
            "100%|██████████| 15/15 [00:36<00:00,  2.44s/it]\n",
            "100%|██████████| 15/15 [00:36<00:00,  2.44s/it]\n"
          ]
        },
        {
          "name": "stdout",
          "output_type": "stream",
          "text": [
            "Epoch: 20, Train loss: 4.721970194252677, Val metrics: {'r2': 0.21669458181421486, 'mae': 3.2598696764740214, 'rmse': 4.103135460234274}\n"
          ]
        },
        {
          "name": "stderr",
          "output_type": "stream",
          "text": [
            "100%|██████████| 15/15 [00:36<00:00,  2.45s/it]\n",
            "100%|██████████| 15/15 [00:36<00:00,  2.45s/it]\n",
            "100%|██████████| 15/15 [00:36<00:00,  2.42s/it]\n",
            "100%|██████████| 15/15 [00:37<00:00,  2.48s/it]\n",
            "100%|██████████| 15/15 [00:37<00:00,  2.48s/it]\n",
            "100%|██████████| 15/15 [00:36<00:00,  2.44s/it]\n",
            "100%|██████████| 15/15 [00:38<00:00,  2.55s/it]\n",
            "100%|██████████| 15/15 [00:37<00:00,  2.52s/it]\n",
            "100%|██████████| 15/15 [00:36<00:00,  2.43s/it]\n",
            "100%|██████████| 15/15 [00:36<00:00,  2.46s/it]\n"
          ]
        },
        {
          "name": "stdout",
          "output_type": "stream",
          "text": [
            "Epoch: 30, Train loss: 4.489133723003183, Val metrics: {'r2': 0.29367414414991566, 'mae': 2.9993631777639136, 'rmse': 3.8963040670967786}\n",
            "Best Val metrics for parameters Adam (\n",
            "Parameter Group 0\n",
            "    amsgrad: False\n",
            "    betas: (0.9, 0.999)\n",
            "    capturable: False\n",
            "    differentiable: False\n",
            "    eps: 1e-08\n",
            "    foreach: None\n",
            "    fused: None\n",
            "    lr: 0.01\n",
            "    maximize: False\n",
            "    weight_decay: 0.0001\n",
            "), are: {'r2': 0.32253293076573497, 'mae': 2.9685421722605776, 'rmse': 3.815877150257943}\n",
            "Training with lr=0.01, batch_size=512, num_layers=2, weight_decay=0.001\n"
          ]
        },
        {
          "name": "stderr",
          "output_type": "stream",
          "text": [
            "100%|██████████| 15/15 [00:36<00:00,  2.46s/it]\n",
            "100%|██████████| 15/15 [00:37<00:00,  2.52s/it]\n",
            "100%|██████████| 15/15 [00:36<00:00,  2.46s/it]\n",
            "100%|██████████| 15/15 [00:37<00:00,  2.47s/it]\n",
            "100%|██████████| 15/15 [00:36<00:00,  2.43s/it]\n",
            "100%|██████████| 15/15 [00:36<00:00,  2.45s/it]\n",
            "100%|██████████| 15/15 [00:37<00:00,  2.48s/it]\n",
            "100%|██████████| 15/15 [00:36<00:00,  2.44s/it]\n",
            "100%|██████████| 15/15 [00:36<00:00,  2.45s/it]\n",
            "100%|██████████| 15/15 [00:37<00:00,  2.47s/it]\n"
          ]
        },
        {
          "name": "stdout",
          "output_type": "stream",
          "text": [
            "Epoch: 10, Train loss: 4.955460104257105, Val metrics: {'r2': 0.19433360233060892, 'mae': 3.373812867994697, 'rmse': 4.161289350093051}\n"
          ]
        },
        {
          "name": "stderr",
          "output_type": "stream",
          "text": [
            "100%|██████████| 15/15 [00:36<00:00,  2.45s/it]\n",
            "100%|██████████| 15/15 [00:36<00:00,  2.45s/it]\n",
            "100%|██████████| 15/15 [00:36<00:00,  2.43s/it]\n",
            "100%|██████████| 15/15 [00:36<00:00,  2.45s/it]\n",
            "100%|██████████| 15/15 [00:36<00:00,  2.43s/it]\n",
            "100%|██████████| 15/15 [00:37<00:00,  2.53s/it]\n",
            "100%|██████████| 15/15 [00:37<00:00,  2.50s/it]\n",
            "100%|██████████| 15/15 [00:37<00:00,  2.52s/it]\n",
            "100%|██████████| 15/15 [00:36<00:00,  2.44s/it]\n",
            "100%|██████████| 15/15 [00:36<00:00,  2.45s/it]\n"
          ]
        },
        {
          "name": "stdout",
          "output_type": "stream",
          "text": [
            "Epoch: 20, Train loss: 4.665743234028644, Val metrics: {'r2': 0.27103524537490054, 'mae': 3.1678083462482625, 'rmse': 3.9582530491958847}\n"
          ]
        },
        {
          "name": "stderr",
          "output_type": "stream",
          "text": [
            "100%|██████████| 15/15 [00:36<00:00,  2.40s/it]\n",
            "100%|██████████| 15/15 [00:35<00:00,  2.39s/it]\n",
            "100%|██████████| 15/15 [00:37<00:00,  2.49s/it]\n",
            "100%|██████████| 15/15 [00:36<00:00,  2.43s/it]\n",
            "100%|██████████| 15/15 [00:36<00:00,  2.45s/it]\n",
            "100%|██████████| 15/15 [00:36<00:00,  2.44s/it]\n",
            "100%|██████████| 15/15 [00:36<00:00,  2.46s/it]\n",
            "100%|██████████| 15/15 [00:36<00:00,  2.46s/it]\n",
            "100%|██████████| 15/15 [00:36<00:00,  2.45s/it]\n",
            "100%|██████████| 15/15 [00:36<00:00,  2.41s/it]\n"
          ]
        },
        {
          "name": "stdout",
          "output_type": "stream",
          "text": [
            "Epoch: 30, Train loss: 4.549519270102674, Val metrics: {'r2': 0.28882352292510705, 'mae': 3.083664972143486, 'rmse': 3.909659912983855}\n",
            "Best Val metrics for parameters Adam (\n",
            "Parameter Group 0\n",
            "    amsgrad: False\n",
            "    betas: (0.9, 0.999)\n",
            "    capturable: False\n",
            "    differentiable: False\n",
            "    eps: 1e-08\n",
            "    foreach: None\n",
            "    fused: None\n",
            "    lr: 0.01\n",
            "    maximize: False\n",
            "    weight_decay: 0.001\n",
            "), are: {'r2': 0.28709948582941347, 'mae': 3.038795286763407, 'rmse': 3.914395951686424}\n",
            "Training with lr=0.01, batch_size=512, num_layers=2, weight_decay=0.01\n"
          ]
        },
        {
          "name": "stderr",
          "output_type": "stream",
          "text": [
            "100%|██████████| 15/15 [00:36<00:00,  2.46s/it]\n",
            "100%|██████████| 15/15 [00:36<00:00,  2.46s/it]\n",
            "100%|██████████| 15/15 [00:35<00:00,  2.40s/it]\n",
            "100%|██████████| 15/15 [00:35<00:00,  2.40s/it]\n",
            "100%|██████████| 15/15 [00:36<00:00,  2.46s/it]\n",
            "100%|██████████| 15/15 [00:36<00:00,  2.41s/it]\n",
            "100%|██████████| 15/15 [00:36<00:00,  2.44s/it]\n",
            "100%|██████████| 15/15 [00:36<00:00,  2.44s/it]\n",
            "100%|██████████| 15/15 [00:37<00:00,  2.47s/it]\n",
            "100%|██████████| 15/15 [00:37<00:00,  2.49s/it]\n"
          ]
        },
        {
          "name": "stdout",
          "output_type": "stream",
          "text": [
            "Epoch: 10, Train loss: 5.370379221642495, Val metrics: {'r2': -0.1400971687085164, 'mae': 3.9492947840260593, 'rmse': 4.950182644772747}\n"
          ]
        },
        {
          "name": "stderr",
          "output_type": "stream",
          "text": [
            "100%|██████████| 15/15 [00:37<00:00,  2.47s/it]\n",
            "100%|██████████| 15/15 [00:37<00:00,  2.49s/it]\n",
            "100%|██████████| 15/15 [00:37<00:00,  2.50s/it]\n",
            "100%|██████████| 15/15 [00:37<00:00,  2.50s/it]\n",
            "100%|██████████| 15/15 [00:36<00:00,  2.43s/it]\n",
            "100%|██████████| 15/15 [00:37<00:00,  2.49s/it]\n",
            "100%|██████████| 15/15 [00:37<00:00,  2.50s/it]\n",
            "100%|██████████| 15/15 [00:36<00:00,  2.46s/it]\n",
            "100%|██████████| 15/15 [00:36<00:00,  2.45s/it]\n",
            "100%|██████████| 15/15 [00:36<00:00,  2.46s/it]\n"
          ]
        },
        {
          "name": "stdout",
          "output_type": "stream",
          "text": [
            "Epoch: 20, Train loss: 5.390654840166099, Val metrics: {'r2': 0.037055114592217775, 'mae': 3.6656788906895006, 'rmse': 4.549367335216463}\n"
          ]
        },
        {
          "name": "stderr",
          "output_type": "stream",
          "text": [
            "100%|██████████| 15/15 [00:37<00:00,  2.50s/it]\n",
            "100%|██████████| 15/15 [00:37<00:00,  2.47s/it]\n",
            "100%|██████████| 15/15 [00:36<00:00,  2.43s/it]\n",
            "100%|██████████| 15/15 [00:36<00:00,  2.42s/it]\n",
            "100%|██████████| 15/15 [00:37<00:00,  2.48s/it]\n",
            "100%|██████████| 15/15 [00:37<00:00,  2.47s/it]\n",
            "100%|██████████| 15/15 [00:36<00:00,  2.47s/it]\n",
            "100%|██████████| 15/15 [00:36<00:00,  2.40s/it]\n",
            "100%|██████████| 15/15 [00:37<00:00,  2.49s/it]\n",
            "100%|██████████| 15/15 [00:37<00:00,  2.49s/it]\n"
          ]
        },
        {
          "name": "stdout",
          "output_type": "stream",
          "text": [
            "Epoch: 30, Train loss: 5.391959209626399, Val metrics: {'r2': 0.07353872802738093, 'mae': 3.6256768857947015, 'rmse': 4.462353017686793}\n",
            "Best Val metrics for parameters Adam (\n",
            "Parameter Group 0\n",
            "    amsgrad: False\n",
            "    betas: (0.9, 0.999)\n",
            "    capturable: False\n",
            "    differentiable: False\n",
            "    eps: 1e-08\n",
            "    foreach: None\n",
            "    fused: None\n",
            "    lr: 0.01\n",
            "    maximize: False\n",
            "    weight_decay: 0.01\n",
            "), are: {'r2': 0.0587172422094141, 'mae': 3.598990475789021, 'rmse': 4.49790565109888}\n",
            "Training with lr=0.01, batch_size=512, num_layers=3, weight_decay=0.0001\n"
          ]
        },
        {
          "name": "stderr",
          "output_type": "stream",
          "text": [
            "100%|██████████| 15/15 [00:43<00:00,  2.93s/it]\n",
            "100%|██████████| 15/15 [00:47<00:00,  3.17s/it]\n",
            "100%|██████████| 15/15 [00:42<00:00,  2.87s/it]\n",
            "100%|██████████| 15/15 [00:44<00:00,  2.96s/it]\n",
            "100%|██████████| 15/15 [00:43<00:00,  2.89s/it]\n",
            "100%|██████████| 15/15 [00:42<00:00,  2.86s/it]\n",
            "100%|██████████| 15/15 [00:42<00:00,  2.80s/it]\n",
            "100%|██████████| 15/15 [00:43<00:00,  2.87s/it]\n",
            "100%|██████████| 15/15 [00:43<00:00,  2.92s/it]\n",
            "100%|██████████| 15/15 [00:43<00:00,  2.91s/it]\n"
          ]
        },
        {
          "name": "stdout",
          "output_type": "stream",
          "text": [
            "Epoch: 10, Train loss: 5.375393606201524, Val metrics: {'r2': 0.07583450119967683, 'mae': 3.6089889293204327, 'rmse': 4.4568207277607}\n"
          ]
        },
        {
          "name": "stderr",
          "output_type": "stream",
          "text": [
            "100%|██████████| 15/15 [00:43<00:00,  2.87s/it]\n",
            "100%|██████████| 15/15 [00:42<00:00,  2.84s/it]\n",
            "100%|██████████| 15/15 [00:42<00:00,  2.84s/it]\n",
            "100%|██████████| 15/15 [00:43<00:00,  2.93s/it]\n",
            "100%|██████████| 15/15 [00:44<00:00,  2.95s/it]\n",
            "100%|██████████| 15/15 [00:42<00:00,  2.80s/it]\n",
            "100%|██████████| 15/15 [00:48<00:00,  3.21s/it]\n",
            "100%|██████████| 15/15 [00:45<00:00,  3.00s/it]\n",
            "100%|██████████| 15/15 [00:42<00:00,  2.85s/it]\n",
            "100%|██████████| 15/15 [00:42<00:00,  2.86s/it]\n"
          ]
        },
        {
          "name": "stdout",
          "output_type": "stream",
          "text": [
            "Epoch: 20, Train loss: 4.7199374835762775, Val metrics: {'r2': 0.2434699286420744, 'mae': 3.237240088838056, 'rmse': 4.032397969452396}\n"
          ]
        },
        {
          "name": "stderr",
          "output_type": "stream",
          "text": [
            "100%|██████████| 15/15 [00:44<00:00,  2.98s/it]\n",
            "100%|██████████| 15/15 [00:43<00:00,  2.88s/it]\n",
            "100%|██████████| 15/15 [00:43<00:00,  2.87s/it]\n",
            "100%|██████████| 15/15 [00:43<00:00,  2.91s/it]\n",
            "100%|██████████| 15/15 [00:42<00:00,  2.86s/it]\n",
            "100%|██████████| 15/15 [00:42<00:00,  2.83s/it]\n",
            "100%|██████████| 15/15 [00:42<00:00,  2.83s/it]\n",
            "100%|██████████| 15/15 [00:42<00:00,  2.86s/it]\n",
            "100%|██████████| 15/15 [00:43<00:00,  2.90s/it]\n",
            "100%|██████████| 15/15 [00:41<00:00,  2.79s/it]\n"
          ]
        },
        {
          "name": "stdout",
          "output_type": "stream",
          "text": [
            "Epoch: 30, Train loss: 4.67115971662367, Val metrics: {'r2': 0.10185110784499307, 'mae': 3.541505424420517, 'rmse': 4.393639893539332}\n",
            "Best Val metrics for parameters Adam (\n",
            "Parameter Group 0\n",
            "    amsgrad: False\n",
            "    betas: (0.9, 0.999)\n",
            "    capturable: False\n",
            "    differentiable: False\n",
            "    eps: 1e-08\n",
            "    foreach: None\n",
            "    fused: None\n",
            "    lr: 0.01\n",
            "    maximize: False\n",
            "    weight_decay: 0.0001\n",
            "), are: {'r2': 0.22532392527388934, 'mae': 3.2279103271469083, 'rmse': 4.080471616615716}\n",
            "Training with lr=0.01, batch_size=512, num_layers=3, weight_decay=0.001\n"
          ]
        },
        {
          "name": "stderr",
          "output_type": "stream",
          "text": [
            "100%|██████████| 15/15 [00:43<00:00,  2.89s/it]\n",
            "100%|██████████| 15/15 [00:43<00:00,  2.87s/it]\n",
            "100%|██████████| 15/15 [00:44<00:00,  2.97s/it]\n",
            "100%|██████████| 15/15 [00:41<00:00,  2.78s/it]\n",
            "100%|██████████| 15/15 [00:43<00:00,  2.89s/it]\n",
            "100%|██████████| 15/15 [00:43<00:00,  2.88s/it]\n",
            "100%|██████████| 15/15 [00:42<00:00,  2.83s/it]\n",
            "100%|██████████| 15/15 [00:43<00:00,  2.89s/it]\n",
            "100%|██████████| 15/15 [00:42<00:00,  2.82s/it]\n",
            "100%|██████████| 15/15 [00:43<00:00,  2.92s/it]\n"
          ]
        },
        {
          "name": "stdout",
          "output_type": "stream",
          "text": [
            "Epoch: 10, Train loss: 5.384172515198638, Val metrics: {'r2': 0.05914244895193643, 'mae': 3.6771117172801824, 'rmse': 4.49688961429618}\n"
          ]
        },
        {
          "name": "stderr",
          "output_type": "stream",
          "text": [
            "100%|██████████| 15/15 [00:46<00:00,  3.09s/it]\n",
            "100%|██████████| 15/15 [00:43<00:00,  2.87s/it]\n",
            "100%|██████████| 15/15 [00:43<00:00,  2.90s/it]\n",
            "100%|██████████| 15/15 [00:43<00:00,  2.89s/it]\n",
            "100%|██████████| 15/15 [00:42<00:00,  2.84s/it]\n",
            "100%|██████████| 15/15 [00:42<00:00,  2.81s/it]\n",
            "100%|██████████| 15/15 [00:43<00:00,  2.87s/it]\n",
            "100%|██████████| 15/15 [00:43<00:00,  2.91s/it]\n",
            "100%|██████████| 15/15 [00:43<00:00,  2.89s/it]\n",
            "100%|██████████| 15/15 [00:42<00:00,  2.84s/it]\n"
          ]
        },
        {
          "name": "stdout",
          "output_type": "stream",
          "text": [
            "Epoch: 20, Train loss: 5.357860615601176, Val metrics: {'r2': 0.08018885097166284, 'mae': 3.6488696608610285, 'rmse': 4.446308828317298}\n"
          ]
        },
        {
          "name": "stderr",
          "output_type": "stream",
          "text": [
            "100%|██████████| 15/15 [00:42<00:00,  2.81s/it]\n",
            "100%|██████████| 15/15 [00:43<00:00,  2.91s/it]\n",
            "100%|██████████| 15/15 [00:42<00:00,  2.86s/it]\n",
            "100%|██████████| 15/15 [00:43<00:00,  2.89s/it]\n",
            "100%|██████████| 15/15 [00:43<00:00,  2.92s/it]\n",
            "100%|██████████| 15/15 [00:43<00:00,  2.88s/it]\n",
            "100%|██████████| 15/15 [00:42<00:00,  2.81s/it]\n",
            "100%|██████████| 15/15 [00:43<00:00,  2.89s/it]\n",
            "100%|██████████| 15/15 [00:42<00:00,  2.85s/it]\n",
            "100%|██████████| 15/15 [00:45<00:00,  3.03s/it]\n"
          ]
        },
        {
          "name": "stdout",
          "output_type": "stream",
          "text": [
            "Epoch: 30, Train loss: 5.383121734751194, Val metrics: {'r2': 0.04144198698757651, 'mae': 3.6631949091562848, 'rmse': 4.538992766425901}\n",
            "Best Val metrics for parameters Adam (\n",
            "Parameter Group 0\n",
            "    amsgrad: False\n",
            "    betas: (0.9, 0.999)\n",
            "    capturable: False\n",
            "    differentiable: False\n",
            "    eps: 1e-08\n",
            "    foreach: None\n",
            "    fused: None\n",
            "    lr: 0.01\n",
            "    maximize: False\n",
            "    weight_decay: 0.001\n",
            "), are: {'r2': 0.08361949154739667, 'mae': 3.603726545778528, 'rmse': 4.438009332770273}\n",
            "Training with lr=0.01, batch_size=512, num_layers=3, weight_decay=0.01\n"
          ]
        },
        {
          "name": "stderr",
          "output_type": "stream",
          "text": [
            "100%|██████████| 15/15 [00:46<00:00,  3.08s/it]\n",
            "100%|██████████| 15/15 [00:43<00:00,  2.92s/it]\n",
            "100%|██████████| 15/15 [00:42<00:00,  2.83s/it]\n",
            "100%|██████████| 15/15 [00:42<00:00,  2.83s/it]\n",
            "100%|██████████| 15/15 [00:42<00:00,  2.82s/it]\n",
            "100%|██████████| 15/15 [00:42<00:00,  2.81s/it]\n",
            "100%|██████████| 15/15 [00:43<00:00,  2.88s/it]\n",
            "100%|██████████| 15/15 [00:43<00:00,  2.89s/it]\n",
            "100%|██████████| 15/15 [00:43<00:00,  2.87s/it]\n",
            "100%|██████████| 15/15 [00:43<00:00,  2.88s/it]\n"
          ]
        },
        {
          "name": "stdout",
          "output_type": "stream",
          "text": [
            "Epoch: 10, Train loss: 5.389757577227408, Val metrics: {'r2': 0.08325367456404886, 'mae': 3.651408514024101, 'rmse': 4.438895065923291}\n"
          ]
        },
        {
          "name": "stderr",
          "output_type": "stream",
          "text": [
            "100%|██████████| 15/15 [00:43<00:00,  2.88s/it]\n",
            "100%|██████████| 15/15 [00:43<00:00,  2.87s/it]\n",
            "100%|██████████| 15/15 [00:42<00:00,  2.82s/it]\n",
            "100%|██████████| 15/15 [00:43<00:00,  2.87s/it]\n",
            "100%|██████████| 15/15 [00:43<00:00,  2.88s/it]\n",
            "100%|██████████| 15/15 [00:42<00:00,  2.86s/it]\n",
            "100%|██████████| 15/15 [00:42<00:00,  2.85s/it]\n",
            "100%|██████████| 15/15 [00:42<00:00,  2.83s/it]\n",
            "100%|██████████| 15/15 [00:44<00:00,  2.99s/it]\n",
            "100%|██████████| 15/15 [00:43<00:00,  2.91s/it]\n"
          ]
        },
        {
          "name": "stdout",
          "output_type": "stream",
          "text": [
            "Epoch: 20, Train loss: 5.384953480286357, Val metrics: {'r2': 0.08031157772934794, 'mae': 3.629670045785133, 'rmse': 4.4460121917359885}\n"
          ]
        },
        {
          "name": "stderr",
          "output_type": "stream",
          "text": [
            "100%|██████████| 15/15 [00:43<00:00,  2.89s/it]\n",
            "100%|██████████| 15/15 [00:42<00:00,  2.84s/it]\n",
            "100%|██████████| 15/15 [00:42<00:00,  2.80s/it]\n",
            "100%|██████████| 15/15 [00:42<00:00,  2.86s/it]\n",
            "100%|██████████| 15/15 [00:43<00:00,  2.91s/it]\n",
            "100%|██████████| 15/15 [00:42<00:00,  2.85s/it]\n",
            "100%|██████████| 15/15 [00:43<00:00,  2.88s/it]\n",
            "100%|██████████| 15/15 [00:45<00:00,  3.03s/it]\n",
            "100%|██████████| 15/15 [00:43<00:00,  2.89s/it]\n",
            "100%|██████████| 15/15 [00:43<00:00,  2.89s/it]\n"
          ]
        },
        {
          "name": "stdout",
          "output_type": "stream",
          "text": [
            "Epoch: 30, Train loss: 5.384242473921168, Val metrics: {'r2': 0.08207088665570472, 'mae': 3.6576636021982933, 'rmse': 4.441757678446909}\n",
            "Best Val metrics for parameters Adam (\n",
            "Parameter Group 0\n",
            "    amsgrad: False\n",
            "    betas: (0.9, 0.999)\n",
            "    capturable: False\n",
            "    differentiable: False\n",
            "    eps: 1e-08\n",
            "    foreach: None\n",
            "    fused: None\n",
            "    lr: 0.01\n",
            "    maximize: False\n",
            "    weight_decay: 0.01\n",
            "), are: {'r2': 0.07623565321161974, 'mae': 3.6134779381608677, 'rmse': 4.455853337904453}\n",
            "Training with lr=0.001, batch_size=64, num_layers=1, weight_decay=0.0001\n"
          ]
        },
        {
          "name": "stderr",
          "output_type": "stream",
          "text": [
            "100%|██████████| 15/15 [00:29<00:00,  1.95s/it]\n",
            "100%|██████████| 15/15 [00:28<00:00,  1.93s/it]\n",
            "100%|██████████| 15/15 [00:28<00:00,  1.91s/it]\n",
            "100%|██████████| 15/15 [00:29<00:00,  1.96s/it]\n",
            "100%|██████████| 15/15 [00:27<00:00,  1.85s/it]\n",
            "100%|██████████| 15/15 [00:28<00:00,  1.90s/it]\n",
            "100%|██████████| 15/15 [00:28<00:00,  1.87s/it]\n",
            "100%|██████████| 15/15 [00:28<00:00,  1.90s/it]\n",
            "100%|██████████| 15/15 [00:28<00:00,  1.88s/it]\n",
            "100%|██████████| 15/15 [00:28<00:00,  1.87s/it]\n"
          ]
        },
        {
          "name": "stdout",
          "output_type": "stream",
          "text": [
            "Epoch: 10, Train loss: 5.539941100198983, Val metrics: {'r2': -0.0014701940254411294, 'mae': 3.7979713512565905, 'rmse': 4.639479966474363}\n"
          ]
        },
        {
          "name": "stderr",
          "output_type": "stream",
          "text": [
            "100%|██████████| 15/15 [00:28<00:00,  1.90s/it]\n",
            "100%|██████████| 15/15 [00:27<00:00,  1.86s/it]\n",
            "100%|██████████| 15/15 [00:28<00:00,  1.90s/it]\n",
            "100%|██████████| 15/15 [00:28<00:00,  1.92s/it]\n",
            "100%|██████████| 15/15 [00:28<00:00,  1.91s/it]\n",
            "100%|██████████| 15/15 [00:28<00:00,  1.87s/it]\n",
            "100%|██████████| 15/15 [00:28<00:00,  1.92s/it]\n",
            "100%|██████████| 15/15 [00:28<00:00,  1.87s/it]\n",
            "100%|██████████| 15/15 [00:27<00:00,  1.86s/it]\n",
            "100%|██████████| 15/15 [00:27<00:00,  1.84s/it]\n"
          ]
        },
        {
          "name": "stdout",
          "output_type": "stream",
          "text": [
            "Epoch: 20, Train loss: 4.7623145615800215, Val metrics: {'r2': 0.2253255139703637, 'mae': 3.2607006431024073, 'rmse': 4.080467432522257}\n"
          ]
        },
        {
          "name": "stderr",
          "output_type": "stream",
          "text": [
            "100%|██████████| 15/15 [00:27<00:00,  1.86s/it]\n",
            "100%|██████████| 15/15 [00:27<00:00,  1.86s/it]\n",
            "100%|██████████| 15/15 [00:28<00:00,  1.88s/it]\n",
            "100%|██████████| 15/15 [00:28<00:00,  1.88s/it]\n",
            "100%|██████████| 15/15 [00:28<00:00,  1.89s/it]\n",
            "100%|██████████| 15/15 [00:28<00:00,  1.87s/it]\n",
            "100%|██████████| 15/15 [00:28<00:00,  1.89s/it]\n",
            "100%|██████████| 15/15 [00:28<00:00,  1.88s/it]\n",
            "100%|██████████| 15/15 [00:27<00:00,  1.86s/it]\n",
            "100%|██████████| 15/15 [00:28<00:00,  1.88s/it]\n"
          ]
        },
        {
          "name": "stdout",
          "output_type": "stream",
          "text": [
            "Epoch: 30, Train loss: 4.6268874885859015, Val metrics: {'r2': 0.18650037172103995, 'mae': 3.3801016715819947, 'rmse': 4.181469843636311}\n",
            "Best Val metrics for parameters Adam (\n",
            "Parameter Group 0\n",
            "    amsgrad: False\n",
            "    betas: (0.9, 0.999)\n",
            "    capturable: False\n",
            "    differentiable: False\n",
            "    eps: 1e-08\n",
            "    foreach: None\n",
            "    fused: None\n",
            "    lr: 0.001\n",
            "    maximize: False\n",
            "    weight_decay: 0.0001\n",
            "), are: {'r2': 0.23751373423324895, 'mae': 3.211928190385491, 'rmse': 4.048240471380884}\n",
            "Training with lr=0.001, batch_size=64, num_layers=1, weight_decay=0.001\n"
          ]
        },
        {
          "name": "stderr",
          "output_type": "stream",
          "text": [
            "100%|██████████| 15/15 [00:28<00:00,  1.88s/it]\n",
            "100%|██████████| 15/15 [00:28<00:00,  1.90s/it]\n",
            "100%|██████████| 15/15 [00:28<00:00,  1.89s/it]\n",
            "100%|██████████| 15/15 [00:28<00:00,  1.90s/it]\n",
            "100%|██████████| 15/15 [00:28<00:00,  1.89s/it]\n",
            "100%|██████████| 15/15 [00:28<00:00,  1.87s/it]\n",
            "100%|██████████| 15/15 [00:28<00:00,  1.89s/it]\n",
            "100%|██████████| 15/15 [00:28<00:00,  1.88s/it]\n",
            "100%|██████████| 15/15 [00:27<00:00,  1.86s/it]\n",
            "100%|██████████| 15/15 [00:28<00:00,  1.88s/it]\n"
          ]
        },
        {
          "name": "stdout",
          "output_type": "stream",
          "text": [
            "Epoch: 10, Train loss: 5.540462721598543, Val metrics: {'r2': 0.00362175323311853, 'mae': 3.7743296104028534, 'rmse': 4.6276702826227805}\n"
          ]
        },
        {
          "name": "stderr",
          "output_type": "stream",
          "text": [
            "100%|██████████| 15/15 [00:28<00:00,  1.87s/it]\n",
            "100%|██████████| 15/15 [00:27<00:00,  1.86s/it]\n",
            "100%|██████████| 15/15 [00:27<00:00,  1.86s/it]\n",
            "100%|██████████| 15/15 [00:28<00:00,  1.91s/it]\n",
            "100%|██████████| 15/15 [00:29<00:00,  1.94s/it]\n",
            "100%|██████████| 15/15 [00:27<00:00,  1.86s/it]\n",
            "100%|██████████| 15/15 [00:28<00:00,  1.90s/it]\n",
            "100%|██████████| 15/15 [00:28<00:00,  1.87s/it]\n",
            "100%|██████████| 15/15 [00:28<00:00,  1.88s/it]\n",
            "100%|██████████| 15/15 [00:27<00:00,  1.84s/it]\n"
          ]
        },
        {
          "name": "stdout",
          "output_type": "stream",
          "text": [
            "Epoch: 20, Train loss: 4.815678652158507, Val metrics: {'r2': 0.2191357648564083, 'mae': 3.2656110152612148, 'rmse': 4.096736729417484}\n"
          ]
        },
        {
          "name": "stderr",
          "output_type": "stream",
          "text": [
            "100%|██████████| 15/15 [00:28<00:00,  1.91s/it]\n",
            "100%|██████████| 15/15 [00:27<00:00,  1.86s/it]\n",
            "100%|██████████| 15/15 [00:28<00:00,  1.88s/it]\n",
            "100%|██████████| 15/15 [00:28<00:00,  1.89s/it]\n",
            "100%|██████████| 15/15 [00:28<00:00,  1.92s/it]\n",
            "100%|██████████| 15/15 [00:28<00:00,  1.88s/it]\n",
            "100%|██████████| 15/15 [00:28<00:00,  1.93s/it]\n",
            "100%|██████████| 15/15 [00:27<00:00,  1.85s/it]\n",
            "100%|██████████| 15/15 [00:27<00:00,  1.86s/it]\n",
            "100%|██████████| 15/15 [00:28<00:00,  1.88s/it]\n"
          ]
        },
        {
          "name": "stdout",
          "output_type": "stream",
          "text": [
            "Epoch: 30, Train loss: 4.64263049813704, Val metrics: {'r2': 0.22201673495252472, 'mae': 3.302420910279115, 'rmse': 4.089172365537368}\n",
            "Best Val metrics for parameters Adam (\n",
            "Parameter Group 0\n",
            "    amsgrad: False\n",
            "    betas: (0.9, 0.999)\n",
            "    capturable: False\n",
            "    differentiable: False\n",
            "    eps: 1e-08\n",
            "    foreach: None\n",
            "    fused: None\n",
            "    lr: 0.001\n",
            "    maximize: False\n",
            "    weight_decay: 0.001\n",
            "), are: {'r2': 0.25037755729378963, 'mae': 3.19553908588254, 'rmse': 4.013946500772938}\n",
            "Training with lr=0.001, batch_size=64, num_layers=1, weight_decay=0.01\n"
          ]
        },
        {
          "name": "stderr",
          "output_type": "stream",
          "text": [
            "100%|██████████| 15/15 [00:28<00:00,  1.89s/it]\n",
            "100%|██████████| 15/15 [00:28<00:00,  1.89s/it]\n",
            "100%|██████████| 15/15 [00:28<00:00,  1.91s/it]\n",
            "100%|██████████| 15/15 [00:29<00:00,  1.94s/it]\n",
            "100%|██████████| 15/15 [00:28<00:00,  1.89s/it]\n",
            "100%|██████████| 15/15 [00:27<00:00,  1.86s/it]\n",
            "100%|██████████| 15/15 [00:27<00:00,  1.84s/it]\n",
            "100%|██████████| 15/15 [00:28<00:00,  1.87s/it]\n",
            "100%|██████████| 15/15 [00:28<00:00,  1.90s/it]\n",
            "100%|██████████| 15/15 [00:27<00:00,  1.85s/it]\n"
          ]
        },
        {
          "name": "stdout",
          "output_type": "stream",
          "text": [
            "Epoch: 10, Train loss: 5.5736643078982, Val metrics: {'r2': -0.12135469012585864, 'mae': 3.9712121284398223, 'rmse': 4.909325090106245}\n"
          ]
        },
        {
          "name": "stderr",
          "output_type": "stream",
          "text": [
            "100%|██████████| 15/15 [00:28<00:00,  1.91s/it]\n",
            "100%|██████████| 15/15 [00:28<00:00,  1.87s/it]\n",
            "100%|██████████| 15/15 [00:28<00:00,  1.89s/it]\n",
            "100%|██████████| 15/15 [00:28<00:00,  1.87s/it]\n",
            "100%|██████████| 15/15 [00:29<00:00,  1.97s/it]\n",
            "100%|██████████| 15/15 [00:28<00:00,  1.89s/it]\n",
            "100%|██████████| 15/15 [00:28<00:00,  1.91s/it]\n",
            "100%|██████████| 15/15 [00:28<00:00,  1.87s/it]\n",
            "100%|██████████| 15/15 [00:28<00:00,  1.91s/it]\n",
            "100%|██████████| 15/15 [00:28<00:00,  1.88s/it]\n"
          ]
        },
        {
          "name": "stdout",
          "output_type": "stream",
          "text": [
            "Epoch: 20, Train loss: 4.85393304951508, Val metrics: {'r2': 0.22653901353221606, 'mae': 3.2639816431339854, 'rmse': 4.077270227635231}\n"
          ]
        },
        {
          "name": "stderr",
          "output_type": "stream",
          "text": [
            "100%|██████████| 15/15 [00:28<00:00,  1.92s/it]\n",
            "100%|██████████| 15/15 [00:28<00:00,  1.87s/it]\n",
            "100%|██████████| 15/15 [00:28<00:00,  1.87s/it]\n",
            "100%|██████████| 15/15 [00:28<00:00,  1.93s/it]\n",
            "100%|██████████| 15/15 [00:28<00:00,  1.90s/it]\n",
            "100%|██████████| 15/15 [00:28<00:00,  1.91s/it]\n",
            "100%|██████████| 15/15 [00:28<00:00,  1.89s/it]\n",
            "100%|██████████| 15/15 [00:28<00:00,  1.93s/it]\n",
            "100%|██████████| 15/15 [00:28<00:00,  1.92s/it]\n",
            "100%|██████████| 15/15 [00:28<00:00,  1.87s/it]\n"
          ]
        },
        {
          "name": "stdout",
          "output_type": "stream",
          "text": [
            "Epoch: 30, Train loss: 4.76791629537902, Val metrics: {'r2': 0.17820393561262804, 'mae': 3.335240304382467, 'rmse': 4.202738013275644}\n",
            "Best Val metrics for parameters Adam (\n",
            "Parameter Group 0\n",
            "    amsgrad: False\n",
            "    betas: (0.9, 0.999)\n",
            "    capturable: False\n",
            "    differentiable: False\n",
            "    eps: 1e-08\n",
            "    foreach: None\n",
            "    fused: None\n",
            "    lr: 0.001\n",
            "    maximize: False\n",
            "    weight_decay: 0.01\n",
            "), are: {'r2': 0.23699589229416174, 'mae': 3.2068353184717213, 'rmse': 4.049614917700197}\n",
            "Training with lr=0.001, batch_size=64, num_layers=2, weight_decay=0.0001\n"
          ]
        },
        {
          "name": "stderr",
          "output_type": "stream",
          "text": [
            "100%|██████████| 15/15 [00:37<00:00,  2.49s/it]\n",
            "100%|██████████| 15/15 [00:37<00:00,  2.48s/it]\n",
            "100%|██████████| 15/15 [00:37<00:00,  2.50s/it]\n",
            "100%|██████████| 15/15 [00:36<00:00,  2.46s/it]\n",
            "100%|██████████| 15/15 [00:36<00:00,  2.41s/it]\n",
            "100%|██████████| 15/15 [00:36<00:00,  2.44s/it]\n",
            "100%|██████████| 15/15 [00:37<00:00,  2.49s/it]\n",
            "100%|██████████| 15/15 [00:37<00:00,  2.52s/it]\n",
            "100%|██████████| 15/15 [00:36<00:00,  2.44s/it]\n",
            "100%|██████████| 15/15 [00:37<00:00,  2.47s/it]\n"
          ]
        },
        {
          "name": "stdout",
          "output_type": "stream",
          "text": [
            "Epoch: 10, Train loss: 5.543716941666126, Val metrics: {'r2': 0.008134939759463888, 'mae': 3.806422838021217, 'rmse': 4.617177659117296}\n"
          ]
        },
        {
          "name": "stderr",
          "output_type": "stream",
          "text": [
            "100%|██████████| 15/15 [00:37<00:00,  2.52s/it]\n",
            "100%|██████████| 15/15 [00:37<00:00,  2.50s/it]\n",
            "100%|██████████| 15/15 [00:37<00:00,  2.49s/it]\n",
            "100%|██████████| 15/15 [00:36<00:00,  2.47s/it]\n",
            "100%|██████████| 15/15 [00:36<00:00,  2.44s/it]\n",
            "100%|██████████| 15/15 [00:37<00:00,  2.48s/it]\n",
            "100%|██████████| 15/15 [00:37<00:00,  2.49s/it]\n",
            "100%|██████████| 15/15 [00:36<00:00,  2.45s/it]\n",
            "100%|██████████| 15/15 [00:37<00:00,  2.49s/it]\n",
            "100%|██████████| 15/15 [00:37<00:00,  2.49s/it]\n"
          ]
        },
        {
          "name": "stdout",
          "output_type": "stream",
          "text": [
            "Epoch: 20, Train loss: 4.744327320343022, Val metrics: {'r2': 0.24898155092941654, 'mae': 3.2072832413331303, 'rmse': 4.017682307060519}\n"
          ]
        },
        {
          "name": "stderr",
          "output_type": "stream",
          "text": [
            "100%|██████████| 15/15 [00:37<00:00,  2.51s/it]\n",
            "100%|██████████| 15/15 [00:36<00:00,  2.43s/it]\n",
            "100%|██████████| 15/15 [00:37<00:00,  2.53s/it]\n",
            "100%|██████████| 15/15 [00:36<00:00,  2.44s/it]\n",
            "100%|██████████| 15/15 [00:38<00:00,  2.54s/it]\n",
            "100%|██████████| 15/15 [00:37<00:00,  2.52s/it]\n",
            "100%|██████████| 15/15 [00:36<00:00,  2.44s/it]\n",
            "100%|██████████| 15/15 [00:36<00:00,  2.44s/it]\n",
            "100%|██████████| 15/15 [00:36<00:00,  2.44s/it]\n",
            "100%|██████████| 15/15 [00:36<00:00,  2.45s/it]\n"
          ]
        },
        {
          "name": "stdout",
          "output_type": "stream",
          "text": [
            "Epoch: 30, Train loss: 4.4603902793611985, Val metrics: {'r2': 0.31231641609158944, 'mae': 3.0290052859243266, 'rmse': 3.8445420749297705}\n",
            "Best Val metrics for parameters Adam (\n",
            "Parameter Group 0\n",
            "    amsgrad: False\n",
            "    betas: (0.9, 0.999)\n",
            "    capturable: False\n",
            "    differentiable: False\n",
            "    eps: 1e-08\n",
            "    foreach: None\n",
            "    fused: None\n",
            "    lr: 0.001\n",
            "    maximize: False\n",
            "    weight_decay: 0.0001\n",
            "), are: {'r2': 0.32634912720388065, 'mae': 2.9811224663504454, 'rmse': 3.8051144854177354}\n",
            "Training with lr=0.001, batch_size=64, num_layers=2, weight_decay=0.001\n"
          ]
        },
        {
          "name": "stderr",
          "output_type": "stream",
          "text": [
            "100%|██████████| 15/15 [00:36<00:00,  2.43s/it]\n",
            "100%|██████████| 15/15 [00:36<00:00,  2.42s/it]\n",
            "100%|██████████| 15/15 [00:37<00:00,  2.51s/it]\n",
            "100%|██████████| 15/15 [00:37<00:00,  2.49s/it]\n",
            "100%|██████████| 15/15 [00:37<00:00,  2.49s/it]\n",
            "100%|██████████| 15/15 [00:36<00:00,  2.45s/it]\n",
            "100%|██████████| 15/15 [00:37<00:00,  2.49s/it]\n",
            "100%|██████████| 15/15 [00:36<00:00,  2.44s/it]\n",
            "100%|██████████| 15/15 [00:36<00:00,  2.45s/it]\n",
            "100%|██████████| 15/15 [00:37<00:00,  2.53s/it]\n"
          ]
        },
        {
          "name": "stdout",
          "output_type": "stream",
          "text": [
            "Epoch: 10, Train loss: 5.580778615995812, Val metrics: {'r2': -0.08265885080591229, 'mae': 3.922599514213975, 'rmse': 4.8238756602445045}\n"
          ]
        },
        {
          "name": "stderr",
          "output_type": "stream",
          "text": [
            "100%|██████████| 15/15 [00:37<00:00,  2.50s/it]\n",
            "100%|██████████| 15/15 [00:37<00:00,  2.48s/it]\n",
            "100%|██████████| 15/15 [00:36<00:00,  2.41s/it]\n",
            "100%|██████████| 15/15 [00:37<00:00,  2.51s/it]\n",
            "100%|██████████| 15/15 [00:37<00:00,  2.49s/it]\n",
            "100%|██████████| 15/15 [00:35<00:00,  2.38s/it]\n",
            "100%|██████████| 15/15 [00:36<00:00,  2.40s/it]\n",
            "100%|██████████| 15/15 [00:39<00:00,  2.64s/it]\n",
            "100%|██████████| 15/15 [00:43<00:00,  2.88s/it]\n",
            "100%|██████████| 15/15 [00:38<00:00,  2.54s/it]\n"
          ]
        },
        {
          "name": "stdout",
          "output_type": "stream",
          "text": [
            "Epoch: 20, Train loss: 4.799748231848662, Val metrics: {'r2': 0.2256495676278789, 'mae': 3.1983568094058596, 'rmse': 4.079613894210165}\n"
          ]
        },
        {
          "name": "stderr",
          "output_type": "stream",
          "text": [
            "100%|██████████| 15/15 [00:36<00:00,  2.45s/it]\n",
            "100%|██████████| 15/15 [00:36<00:00,  2.43s/it]\n",
            "100%|██████████| 15/15 [00:41<00:00,  2.74s/it]\n",
            "100%|██████████| 15/15 [00:49<00:00,  3.28s/it]\n",
            "100%|██████████| 15/15 [00:49<00:00,  3.29s/it]\n",
            "100%|██████████| 15/15 [00:49<00:00,  3.28s/it]\n",
            "100%|██████████| 15/15 [00:49<00:00,  3.28s/it]\n",
            "100%|██████████| 15/15 [00:49<00:00,  3.28s/it]\n",
            "100%|██████████| 15/15 [00:48<00:00,  3.22s/it]\n",
            "100%|██████████| 15/15 [00:49<00:00,  3.27s/it]\n"
          ]
        },
        {
          "name": "stdout",
          "output_type": "stream",
          "text": [
            "Epoch: 30, Train loss: 4.602315038030746, Val metrics: {'r2': 0.24282468349526842, 'mae': 3.170453867373979, 'rmse': 4.034117220786345}\n",
            "Best Val metrics for parameters Adam (\n",
            "Parameter Group 0\n",
            "    amsgrad: False\n",
            "    betas: (0.9, 0.999)\n",
            "    capturable: False\n",
            "    differentiable: False\n",
            "    eps: 1e-08\n",
            "    foreach: None\n",
            "    fused: None\n",
            "    lr: 0.001\n",
            "    maximize: False\n",
            "    weight_decay: 0.001\n",
            "), are: {'r2': 0.3063195476574454, 'mae': 3.0142023045139146, 'rmse': 3.861268639960286}\n",
            "Training with lr=0.001, batch_size=64, num_layers=2, weight_decay=0.01\n"
          ]
        },
        {
          "name": "stderr",
          "output_type": "stream",
          "text": [
            "100%|██████████| 15/15 [00:48<00:00,  3.25s/it]\n",
            "100%|██████████| 15/15 [00:48<00:00,  3.23s/it]\n",
            "100%|██████████| 15/15 [00:49<00:00,  3.29s/it]\n",
            "100%|██████████| 15/15 [00:49<00:00,  3.28s/it]\n",
            "100%|██████████| 15/15 [00:49<00:00,  3.27s/it]\n",
            "100%|██████████| 15/15 [00:49<00:00,  3.32s/it]\n",
            "100%|██████████| 15/15 [00:49<00:00,  3.29s/it]\n",
            "100%|██████████| 15/15 [00:48<00:00,  3.22s/it]\n",
            "100%|██████████| 15/15 [00:48<00:00,  3.25s/it]\n",
            "100%|██████████| 15/15 [00:48<00:00,  3.26s/it]\n"
          ]
        },
        {
          "name": "stdout",
          "output_type": "stream",
          "text": [
            "Epoch: 10, Train loss: 5.56361628096967, Val metrics: {'r2': -0.01902937848152031, 'mae': 3.8222464567195917, 'rmse': 4.679976173825935}\n"
          ]
        },
        {
          "name": "stderr",
          "output_type": "stream",
          "text": [
            "100%|██████████| 15/15 [00:48<00:00,  3.26s/it]\n",
            "100%|██████████| 15/15 [00:48<00:00,  3.26s/it]\n",
            "100%|██████████| 15/15 [00:50<00:00,  3.35s/it]\n",
            "100%|██████████| 15/15 [00:49<00:00,  3.32s/it]\n",
            "100%|██████████| 15/15 [00:48<00:00,  3.25s/it]\n",
            "100%|██████████| 15/15 [00:48<00:00,  3.25s/it]\n",
            "100%|██████████| 15/15 [00:49<00:00,  3.29s/it]\n",
            "100%|██████████| 15/15 [00:49<00:00,  3.28s/it]\n",
            "100%|██████████| 15/15 [00:50<00:00,  3.34s/it]\n",
            "100%|██████████| 15/15 [00:49<00:00,  3.31s/it]\n"
          ]
        },
        {
          "name": "stdout",
          "output_type": "stream",
          "text": [
            "Epoch: 20, Train loss: 4.892070199888888, Val metrics: {'r2': 0.09958579095138309, 'mae': 3.482950126734589, 'rmse': 4.399177237510092}\n"
          ]
        },
        {
          "name": "stderr",
          "output_type": "stream",
          "text": [
            "100%|██████████| 15/15 [00:48<00:00,  3.24s/it]\n",
            "100%|██████████| 15/15 [00:48<00:00,  3.26s/it]\n",
            "100%|██████████| 15/15 [00:49<00:00,  3.28s/it]\n",
            "100%|██████████| 15/15 [00:48<00:00,  3.25s/it]\n",
            "100%|██████████| 15/15 [00:49<00:00,  3.28s/it]\n",
            "100%|██████████| 15/15 [00:49<00:00,  3.27s/it]\n",
            "100%|██████████| 15/15 [00:48<00:00,  3.23s/it]\n",
            "100%|██████████| 15/15 [00:49<00:00,  3.30s/it]\n",
            "100%|██████████| 15/15 [00:49<00:00,  3.28s/it]\n",
            "100%|██████████| 15/15 [00:49<00:00,  3.30s/it]\n"
          ]
        },
        {
          "name": "stdout",
          "output_type": "stream",
          "text": [
            "Epoch: 30, Train loss: 4.745660590370534, Val metrics: {'r2': 0.21444636520696414, 'mae': 3.247231364966872, 'rmse': 4.109019581178397}\n",
            "Best Val metrics for parameters Adam (\n",
            "Parameter Group 0\n",
            "    amsgrad: False\n",
            "    betas: (0.9, 0.999)\n",
            "    capturable: False\n",
            "    differentiable: False\n",
            "    eps: 1e-08\n",
            "    foreach: None\n",
            "    fused: None\n",
            "    lr: 0.001\n",
            "    maximize: False\n",
            "    weight_decay: 0.01\n",
            "), are: {'r2': 0.2771053877570717, 'mae': 3.095552860774752, 'rmse': 3.941738267265972}\n",
            "Training with lr=0.001, batch_size=64, num_layers=3, weight_decay=0.0001\n"
          ]
        },
        {
          "name": "stderr",
          "output_type": "stream",
          "text": [
            "100%|██████████| 15/15 [00:59<00:00,  3.97s/it]\n",
            "100%|██████████| 15/15 [00:59<00:00,  3.95s/it]\n",
            "100%|██████████| 15/15 [00:58<00:00,  3.92s/it]\n",
            "100%|██████████| 15/15 [00:59<00:00,  3.94s/it]\n",
            "100%|██████████| 15/15 [00:59<00:00,  3.96s/it]\n",
            "100%|██████████| 15/15 [00:58<00:00,  3.93s/it]\n",
            "100%|██████████| 15/15 [00:59<00:00,  3.94s/it]\n",
            "100%|██████████| 15/15 [00:59<00:00,  3.95s/it]\n",
            "100%|██████████| 15/15 [00:59<00:00,  3.94s/it]\n",
            "100%|██████████| 15/15 [00:59<00:00,  3.94s/it]\n"
          ]
        },
        {
          "name": "stdout",
          "output_type": "stream",
          "text": [
            "Epoch: 10, Train loss: 5.541952397668824, Val metrics: {'r2': 0.0033414430407567863, 'mae': 3.820986205478788, 'rmse': 4.628321185997231}\n"
          ]
        },
        {
          "name": "stderr",
          "output_type": "stream",
          "text": [
            "100%|██████████| 15/15 [00:59<00:00,  3.97s/it]\n",
            "100%|██████████| 15/15 [00:58<00:00,  3.93s/it]\n",
            "100%|██████████| 15/15 [00:58<00:00,  3.93s/it]\n",
            "100%|██████████| 15/15 [01:01<00:00,  4.12s/it]\n",
            "100%|██████████| 15/15 [00:59<00:00,  3.97s/it]\n",
            "100%|██████████| 15/15 [00:59<00:00,  3.96s/it]\n",
            "100%|██████████| 15/15 [00:59<00:00,  3.95s/it]\n",
            "100%|██████████| 15/15 [00:59<00:00,  3.94s/it]\n",
            "100%|██████████| 15/15 [00:59<00:00,  3.95s/it]\n",
            "100%|██████████| 15/15 [00:58<00:00,  3.91s/it]\n"
          ]
        },
        {
          "name": "stdout",
          "output_type": "stream",
          "text": [
            "Epoch: 20, Train loss: 4.741588611659085, Val metrics: {'r2': 0.2564918160745545, 'mae': 3.1786083857218426, 'rmse': 3.997543204987611}\n"
          ]
        },
        {
          "name": "stderr",
          "output_type": "stream",
          "text": [
            "100%|██████████| 15/15 [00:59<00:00,  3.98s/it]\n",
            "100%|██████████| 15/15 [00:58<00:00,  3.92s/it]\n",
            "100%|██████████| 15/15 [00:59<00:00,  3.94s/it]\n",
            "100%|██████████| 15/15 [00:58<00:00,  3.92s/it]\n",
            "100%|██████████| 15/15 [00:59<00:00,  3.98s/it]\n",
            "100%|██████████| 15/15 [00:59<00:00,  3.94s/it]\n",
            "100%|██████████| 15/15 [01:00<00:00,  4.06s/it]\n",
            "100%|██████████| 15/15 [01:00<00:00,  4.03s/it]\n",
            "100%|██████████| 15/15 [01:01<00:00,  4.11s/it]\n",
            "100%|██████████| 15/15 [00:59<00:00,  3.97s/it]\n"
          ]
        },
        {
          "name": "stdout",
          "output_type": "stream",
          "text": [
            "Epoch: 30, Train loss: 4.476248323621485, Val metrics: {'r2': 0.30126864555344446, 'mae': 3.071587730744081, 'rmse': 3.875300689480596}\n",
            "Best Val metrics for parameters Adam (\n",
            "Parameter Group 0\n",
            "    amsgrad: False\n",
            "    betas: (0.9, 0.999)\n",
            "    capturable: False\n",
            "    differentiable: False\n",
            "    eps: 1e-08\n",
            "    foreach: None\n",
            "    fused: None\n",
            "    lr: 0.001\n",
            "    maximize: False\n",
            "    weight_decay: 0.0001\n",
            "), are: {'r2': 0.30119884220715065, 'mae': 3.0717664309637343, 'rmse': 3.8754942561487207}\n",
            "Training with lr=0.001, batch_size=64, num_layers=3, weight_decay=0.001\n"
          ]
        },
        {
          "name": "stderr",
          "output_type": "stream",
          "text": [
            "100%|██████████| 15/15 [00:43<00:00,  2.87s/it]\n",
            "100%|██████████| 15/15 [00:41<00:00,  2.74s/it]\n",
            "100%|██████████| 15/15 [00:46<00:00,  3.09s/it]\n",
            "100%|██████████| 15/15 [00:55<00:00,  3.72s/it]\n",
            "100%|██████████| 15/15 [00:45<00:00,  3.02s/it]\n",
            "100%|██████████| 15/15 [00:42<00:00,  2.80s/it]\n",
            "100%|██████████| 15/15 [00:45<00:00,  3.05s/it]\n",
            "100%|██████████| 15/15 [00:49<00:00,  3.27s/it]\n",
            "100%|██████████| 15/15 [00:48<00:00,  3.24s/it]\n",
            "100%|██████████| 15/15 [00:46<00:00,  3.13s/it]\n"
          ]
        },
        {
          "name": "stdout",
          "output_type": "stream",
          "text": [
            "Epoch: 10, Train loss: 5.537154013624643, Val metrics: {'r2': -0.003755084253776353, 'mae': 3.817653105078973, 'rmse': 4.644769521231005}\n"
          ]
        },
        {
          "name": "stderr",
          "output_type": "stream",
          "text": [
            "100%|██████████| 15/15 [00:46<00:00,  3.13s/it]\n",
            "100%|██████████| 15/15 [00:49<00:00,  3.29s/it]\n",
            "100%|██████████| 15/15 [00:53<00:00,  3.55s/it]\n",
            "100%|██████████| 15/15 [00:51<00:00,  3.46s/it]\n",
            "100%|██████████| 15/15 [00:51<00:00,  3.42s/it]\n",
            "100%|██████████| 15/15 [00:49<00:00,  3.27s/it]\n",
            "100%|██████████| 15/15 [00:47<00:00,  3.17s/it]\n",
            "100%|██████████| 15/15 [00:47<00:00,  3.20s/it]\n",
            "100%|██████████| 15/15 [00:48<00:00,  3.24s/it]\n",
            "100%|██████████| 15/15 [00:44<00:00,  2.97s/it]\n"
          ]
        },
        {
          "name": "stdout",
          "output_type": "stream",
          "text": [
            "Epoch: 20, Train loss: 4.800659618648957, Val metrics: {'r2': 0.21460523811399712, 'mae': 3.223352687838242, 'rmse': 4.108604049464815}\n"
          ]
        },
        {
          "name": "stderr",
          "output_type": "stream",
          "text": [
            "100%|██████████| 15/15 [00:46<00:00,  3.13s/it]\n",
            "100%|██████████| 15/15 [00:49<00:00,  3.30s/it]\n",
            "100%|██████████| 15/15 [00:48<00:00,  3.24s/it]\n",
            "100%|██████████| 15/15 [00:47<00:00,  3.19s/it]\n",
            "100%|██████████| 15/15 [00:46<00:00,  3.08s/it]\n",
            "100%|██████████| 15/15 [00:48<00:00,  3.23s/it]\n",
            "100%|██████████| 15/15 [00:48<00:00,  3.24s/it]\n",
            "100%|██████████| 15/15 [00:49<00:00,  3.33s/it]\n",
            "100%|██████████| 15/15 [00:52<00:00,  3.53s/it]\n",
            "100%|██████████| 15/15 [00:49<00:00,  3.31s/it]\n"
          ]
        },
        {
          "name": "stdout",
          "output_type": "stream",
          "text": [
            "Epoch: 30, Train loss: 4.610908536963474, Val metrics: {'r2': 0.2542244530216491, 'mae': 3.1469938661706554, 'rmse': 4.003633912725977}\n",
            "Best Val metrics for parameters Adam (\n",
            "Parameter Group 0\n",
            "    amsgrad: False\n",
            "    betas: (0.9, 0.999)\n",
            "    capturable: False\n",
            "    differentiable: False\n",
            "    eps: 1e-08\n",
            "    foreach: None\n",
            "    fused: None\n",
            "    lr: 0.001\n",
            "    maximize: False\n",
            "    weight_decay: 0.001\n",
            "), are: {'r2': 0.2535453895968387, 'mae': 3.148108183963345, 'rmse': 4.005456245711029}\n",
            "Training with lr=0.001, batch_size=64, num_layers=3, weight_decay=0.01\n"
          ]
        },
        {
          "name": "stderr",
          "output_type": "stream",
          "text": [
            "100%|██████████| 15/15 [00:46<00:00,  3.07s/it]\n",
            "100%|██████████| 15/15 [00:46<00:00,  3.07s/it]\n",
            "100%|██████████| 15/15 [00:49<00:00,  3.30s/it]\n",
            "100%|██████████| 15/15 [00:45<00:00,  3.03s/it]\n",
            "100%|██████████| 15/15 [00:45<00:00,  3.04s/it]\n",
            "100%|██████████| 15/15 [00:43<00:00,  2.93s/it]\n",
            "100%|██████████| 15/15 [00:44<00:00,  2.99s/it]\n",
            "100%|██████████| 15/15 [00:42<00:00,  2.85s/it]\n",
            "100%|██████████| 15/15 [00:45<00:00,  3.02s/it]\n",
            "100%|██████████| 15/15 [00:45<00:00,  3.01s/it]\n"
          ]
        },
        {
          "name": "stdout",
          "output_type": "stream",
          "text": [
            "Epoch: 10, Train loss: 5.566355277240221, Val metrics: {'r2': -0.0967006436336122, 'mae': 3.9330486825090607, 'rmse': 4.855057064460661}\n"
          ]
        },
        {
          "name": "stderr",
          "output_type": "stream",
          "text": [
            "100%|██████████| 15/15 [00:47<00:00,  3.14s/it]\n",
            "100%|██████████| 15/15 [00:43<00:00,  2.90s/it]\n",
            "100%|██████████| 15/15 [00:43<00:00,  2.89s/it]\n",
            "100%|██████████| 15/15 [00:46<00:00,  3.07s/it]\n",
            "100%|██████████| 15/15 [00:45<00:00,  3.02s/it]\n",
            "100%|██████████| 15/15 [00:46<00:00,  3.13s/it]\n",
            "100%|██████████| 15/15 [00:45<00:00,  3.04s/it]\n",
            "100%|██████████| 15/15 [00:46<00:00,  3.10s/it]\n",
            "100%|██████████| 15/15 [00:43<00:00,  2.93s/it]\n",
            "100%|██████████| 15/15 [00:43<00:00,  2.91s/it]\n"
          ]
        },
        {
          "name": "stdout",
          "output_type": "stream",
          "text": [
            "Epoch: 20, Train loss: 4.866735698488052, Val metrics: {'r2': 0.23918106310654907, 'mae': 3.2369241628474845, 'rmse': 4.043811904935786}\n"
          ]
        },
        {
          "name": "stderr",
          "output_type": "stream",
          "text": [
            "100%|██████████| 15/15 [00:43<00:00,  2.88s/it]\n",
            "100%|██████████| 15/15 [00:42<00:00,  2.84s/it]\n",
            "100%|██████████| 15/15 [00:44<00:00,  2.98s/it]\n",
            "100%|██████████| 15/15 [00:45<00:00,  3.00s/it]\n",
            "100%|██████████| 15/15 [00:44<00:00,  2.96s/it]\n",
            "100%|██████████| 15/15 [00:42<00:00,  2.82s/it]\n",
            "100%|██████████| 15/15 [00:41<00:00,  2.79s/it]\n",
            "100%|██████████| 15/15 [00:42<00:00,  2.82s/it]\n",
            "100%|██████████| 15/15 [00:44<00:00,  2.94s/it]\n",
            "100%|██████████| 15/15 [00:41<00:00,  2.80s/it]\n"
          ]
        },
        {
          "name": "stdout",
          "output_type": "stream",
          "text": [
            "Epoch: 30, Train loss: 4.77448787590681, Val metrics: {'r2': 0.24095170389516152, 'mae': 3.2164795475477526, 'rmse': 4.03910361711313}\n",
            "Best Val metrics for parameters Adam (\n",
            "Parameter Group 0\n",
            "    amsgrad: False\n",
            "    betas: (0.9, 0.999)\n",
            "    capturable: False\n",
            "    differentiable: False\n",
            "    eps: 1e-08\n",
            "    foreach: None\n",
            "    fused: None\n",
            "    lr: 0.001\n",
            "    maximize: False\n",
            "    weight_decay: 0.01\n",
            "), are: {'r2': 0.2541531610987149, 'mae': 3.164780743598301, 'rmse': 4.0038252705283}\n",
            "Training with lr=0.001, batch_size=256, num_layers=1, weight_decay=0.0001\n"
          ]
        },
        {
          "name": "stderr",
          "output_type": "stream",
          "text": [
            "100%|██████████| 15/15 [00:27<00:00,  1.83s/it]\n",
            "100%|██████████| 15/15 [00:29<00:00,  1.98s/it]\n",
            "100%|██████████| 15/15 [00:29<00:00,  1.95s/it]\n",
            "100%|██████████| 15/15 [00:27<00:00,  1.86s/it]\n",
            "100%|██████████| 15/15 [00:36<00:00,  2.43s/it]\n",
            "100%|██████████| 15/15 [00:36<00:00,  2.42s/it]\n",
            "100%|██████████| 15/15 [00:35<00:00,  2.39s/it]\n",
            "100%|██████████| 15/15 [00:37<00:00,  2.47s/it]\n",
            "100%|██████████| 15/15 [00:37<00:00,  2.52s/it]\n",
            "100%|██████████| 15/15 [00:37<00:00,  2.50s/it]\n"
          ]
        },
        {
          "name": "stdout",
          "output_type": "stream",
          "text": [
            "Epoch: 10, Train loss: 5.532991666690177, Val metrics: {'r2': 0.03035689462716351, 'mae': 3.758253627055951, 'rmse': 4.56516255637362}\n"
          ]
        },
        {
          "name": "stderr",
          "output_type": "stream",
          "text": [
            "100%|██████████| 15/15 [00:38<00:00,  2.54s/it]\n",
            "100%|██████████| 15/15 [00:38<00:00,  2.57s/it]\n",
            "100%|██████████| 15/15 [00:35<00:00,  2.37s/it]\n",
            "100%|██████████| 15/15 [00:36<00:00,  2.44s/it]\n",
            "100%|██████████| 15/15 [00:37<00:00,  2.49s/it]\n",
            "100%|██████████| 15/15 [00:37<00:00,  2.48s/it]\n",
            "100%|██████████| 15/15 [00:36<00:00,  2.44s/it]\n",
            "100%|██████████| 15/15 [00:36<00:00,  2.44s/it]\n",
            "100%|██████████| 15/15 [00:36<00:00,  2.42s/it]\n",
            "100%|██████████| 15/15 [00:36<00:00,  2.43s/it]\n"
          ]
        },
        {
          "name": "stdout",
          "output_type": "stream",
          "text": [
            "Epoch: 20, Train loss: 4.770257601398247, Val metrics: {'r2': 0.2384957692600771, 'mae': 3.226174364236489, 'rmse': 4.045632690101863}\n"
          ]
        },
        {
          "name": "stderr",
          "output_type": "stream",
          "text": [
            "100%|██████████| 15/15 [00:36<00:00,  2.41s/it]\n",
            "100%|██████████| 15/15 [00:36<00:00,  2.41s/it]\n",
            "100%|██████████| 15/15 [00:36<00:00,  2.43s/it]\n",
            "100%|██████████| 15/15 [00:37<00:00,  2.50s/it]\n",
            "100%|██████████| 15/15 [00:36<00:00,  2.43s/it]\n",
            "100%|██████████| 15/15 [00:37<00:00,  2.49s/it]\n",
            "100%|██████████| 15/15 [00:35<00:00,  2.38s/it]\n",
            "100%|██████████| 15/15 [00:36<00:00,  2.42s/it]\n",
            "100%|██████████| 15/15 [00:36<00:00,  2.43s/it]\n",
            "100%|██████████| 15/15 [00:36<00:00,  2.47s/it]\n"
          ]
        },
        {
          "name": "stdout",
          "output_type": "stream",
          "text": [
            "Epoch: 30, Train loss: 4.5993271962949835, Val metrics: {'r2': 0.2223892863022079, 'mae': 3.2606961707393567, 'rmse': 4.088193161243328}\n",
            "Best Val metrics for parameters Adam (\n",
            "Parameter Group 0\n",
            "    amsgrad: False\n",
            "    betas: (0.9, 0.999)\n",
            "    capturable: False\n",
            "    differentiable: False\n",
            "    eps: 1e-08\n",
            "    foreach: None\n",
            "    fused: None\n",
            "    lr: 0.001\n",
            "    maximize: False\n",
            "    weight_decay: 0.0001\n",
            "), are: {'r2': 0.2622904870503783, 'mae': 3.155237213993518, 'rmse': 3.9819241359432387}\n",
            "Training with lr=0.001, batch_size=256, num_layers=1, weight_decay=0.001\n"
          ]
        },
        {
          "name": "stderr",
          "output_type": "stream",
          "text": [
            "100%|██████████| 15/15 [00:38<00:00,  2.54s/it]\n",
            "100%|██████████| 15/15 [00:37<00:00,  2.50s/it]\n",
            "100%|██████████| 15/15 [00:38<00:00,  2.55s/it]\n",
            "100%|██████████| 15/15 [00:37<00:00,  2.49s/it]\n",
            "100%|██████████| 15/15 [00:38<00:00,  2.54s/it]\n",
            "100%|██████████| 15/15 [00:36<00:00,  2.41s/it]\n",
            "100%|██████████| 15/15 [00:39<00:00,  2.62s/it]\n",
            "100%|██████████| 15/15 [00:37<00:00,  2.47s/it]\n",
            "100%|██████████| 15/15 [00:36<00:00,  2.44s/it]\n",
            "100%|██████████| 15/15 [00:36<00:00,  2.42s/it]\n"
          ]
        },
        {
          "name": "stdout",
          "output_type": "stream",
          "text": [
            "Epoch: 10, Train loss: 5.502189414222561, Val metrics: {'r2': 0.13338499814573823, 'mae': 3.583853608859565, 'rmse': 4.31582067334247}\n"
          ]
        },
        {
          "name": "stderr",
          "output_type": "stream",
          "text": [
            "100%|██████████| 15/15 [00:36<00:00,  2.42s/it]\n",
            "100%|██████████| 15/15 [00:35<00:00,  2.39s/it]\n",
            "100%|██████████| 15/15 [00:36<00:00,  2.43s/it]\n",
            "100%|██████████| 15/15 [00:36<00:00,  2.41s/it]\n",
            "100%|██████████| 15/15 [00:36<00:00,  2.43s/it]\n",
            "100%|██████████| 15/15 [00:36<00:00,  2.43s/it]\n",
            "100%|██████████| 15/15 [00:36<00:00,  2.43s/it]\n",
            "100%|██████████| 15/15 [00:35<00:00,  2.39s/it]\n",
            "100%|██████████| 15/15 [00:36<00:00,  2.41s/it]\n",
            "100%|██████████| 15/15 [00:35<00:00,  2.39s/it]\n"
          ]
        },
        {
          "name": "stdout",
          "output_type": "stream",
          "text": [
            "Epoch: 20, Train loss: 4.773706460917186, Val metrics: {'r2': 0.18055717323666853, 'mae': 3.335359635031374, 'rmse': 4.19671636635605}\n"
          ]
        },
        {
          "name": "stderr",
          "output_type": "stream",
          "text": [
            "100%|██████████| 15/15 [00:36<00:00,  2.41s/it]\n",
            "100%|██████████| 15/15 [00:36<00:00,  2.40s/it]\n",
            "100%|██████████| 15/15 [00:36<00:00,  2.41s/it]\n",
            "100%|██████████| 15/15 [00:39<00:00,  2.61s/it]\n",
            "100%|██████████| 15/15 [00:41<00:00,  2.76s/it]\n",
            "100%|██████████| 15/15 [00:37<00:00,  2.52s/it]\n",
            "100%|██████████| 15/15 [00:37<00:00,  2.48s/it]\n",
            "100%|██████████| 15/15 [00:38<00:00,  2.59s/it]\n",
            "100%|██████████| 15/15 [00:36<00:00,  2.42s/it]\n",
            "100%|██████████| 15/15 [00:38<00:00,  2.55s/it]\n"
          ]
        },
        {
          "name": "stdout",
          "output_type": "stream",
          "text": [
            "Epoch: 30, Train loss: 4.686483114338011, Val metrics: {'r2': 0.227185774871687, 'mae': 3.328233679756771, 'rmse': 4.075565182200488}\n",
            "Best Val metrics for parameters Adam (\n",
            "Parameter Group 0\n",
            "    amsgrad: False\n",
            "    betas: (0.9, 0.999)\n",
            "    capturable: False\n",
            "    differentiable: False\n",
            "    eps: 1e-08\n",
            "    foreach: None\n",
            "    fused: None\n",
            "    lr: 0.001\n",
            "    maximize: False\n",
            "    weight_decay: 0.001\n",
            "), are: {'r2': 0.25215309963615373, 'mae': 3.1828047323003963, 'rmse': 4.009190001532685}\n",
            "Training with lr=0.001, batch_size=256, num_layers=1, weight_decay=0.01\n"
          ]
        },
        {
          "name": "stderr",
          "output_type": "stream",
          "text": [
            "100%|██████████| 15/15 [00:37<00:00,  2.52s/it]\n",
            "100%|██████████| 15/15 [00:37<00:00,  2.48s/it]\n",
            "100%|██████████| 15/15 [00:36<00:00,  2.45s/it]\n",
            "100%|██████████| 15/15 [00:36<00:00,  2.44s/it]\n",
            "100%|██████████| 15/15 [00:36<00:00,  2.47s/it]\n",
            "100%|██████████| 15/15 [00:36<00:00,  2.43s/it]\n",
            "100%|██████████| 15/15 [00:36<00:00,  2.43s/it]\n",
            "100%|██████████| 15/15 [00:36<00:00,  2.45s/it]\n",
            "100%|██████████| 15/15 [00:37<00:00,  2.53s/it]\n",
            "100%|██████████| 15/15 [00:39<00:00,  2.61s/it]\n"
          ]
        },
        {
          "name": "stdout",
          "output_type": "stream",
          "text": [
            "Epoch: 10, Train loss: 5.615929154506485, Val metrics: {'r2': -0.10906467847136159, 'mae': 3.9623600329728466, 'rmse': 4.882347946058543}\n"
          ]
        },
        {
          "name": "stderr",
          "output_type": "stream",
          "text": [
            "100%|██████████| 15/15 [00:38<00:00,  2.54s/it]\n",
            "100%|██████████| 15/15 [00:38<00:00,  2.55s/it]\n",
            "100%|██████████| 15/15 [00:37<00:00,  2.48s/it]\n",
            "100%|██████████| 15/15 [00:36<00:00,  2.44s/it]\n",
            "100%|██████████| 15/15 [00:38<00:00,  2.59s/it]\n",
            "100%|██████████| 15/15 [00:37<00:00,  2.52s/it]\n",
            "100%|██████████| 15/15 [00:36<00:00,  2.41s/it]\n",
            "100%|██████████| 15/15 [00:36<00:00,  2.44s/it]\n",
            "100%|██████████| 15/15 [00:37<00:00,  2.51s/it]\n",
            "100%|██████████| 15/15 [00:37<00:00,  2.49s/it]\n"
          ]
        },
        {
          "name": "stdout",
          "output_type": "stream",
          "text": [
            "Epoch: 20, Train loss: 4.8370841160790485, Val metrics: {'r2': 0.126733556645787, 'mae': 3.5059935068399333, 'rmse': 4.332351403347191}\n"
          ]
        },
        {
          "name": "stderr",
          "output_type": "stream",
          "text": [
            "100%|██████████| 15/15 [00:36<00:00,  2.46s/it]\n",
            "100%|██████████| 15/15 [00:36<00:00,  2.41s/it]\n",
            "100%|██████████| 15/15 [00:37<00:00,  2.47s/it]\n",
            "100%|██████████| 15/15 [00:37<00:00,  2.47s/it]\n",
            "100%|██████████| 15/15 [00:36<00:00,  2.46s/it]\n",
            "100%|██████████| 15/15 [00:36<00:00,  2.46s/it]\n",
            "100%|██████████| 15/15 [00:36<00:00,  2.45s/it]\n",
            "100%|██████████| 15/15 [00:36<00:00,  2.44s/it]\n",
            "100%|██████████| 15/15 [00:36<00:00,  2.46s/it]\n",
            "100%|██████████| 15/15 [00:36<00:00,  2.44s/it]\n"
          ]
        },
        {
          "name": "stdout",
          "output_type": "stream",
          "text": [
            "Epoch: 30, Train loss: 4.765690896297707, Val metrics: {'r2': 0.057315532550081594, 'mae': 3.606792963482813, 'rmse': 4.501253429602134}\n",
            "Best Val metrics for parameters Adam (\n",
            "Parameter Group 0\n",
            "    amsgrad: False\n",
            "    betas: (0.9, 0.999)\n",
            "    capturable: False\n",
            "    differentiable: False\n",
            "    eps: 1e-08\n",
            "    foreach: None\n",
            "    fused: None\n",
            "    lr: 0.001\n",
            "    maximize: False\n",
            "    weight_decay: 0.01\n",
            "), are: {'r2': 0.22252827494082095, 'mae': 3.2688193376014927, 'rmse': 4.08782778703717}\n",
            "Training with lr=0.001, batch_size=256, num_layers=2, weight_decay=0.0001\n"
          ]
        },
        {
          "name": "stderr",
          "output_type": "stream",
          "text": [
            "100%|██████████| 15/15 [00:51<00:00,  3.43s/it]\n",
            "100%|██████████| 15/15 [00:49<00:00,  3.31s/it]\n",
            "100%|██████████| 15/15 [00:49<00:00,  3.28s/it]\n",
            "100%|██████████| 15/15 [00:49<00:00,  3.29s/it]\n",
            "100%|██████████| 15/15 [00:51<00:00,  3.41s/it]\n",
            "100%|██████████| 15/15 [00:49<00:00,  3.31s/it]\n",
            "100%|██████████| 15/15 [00:50<00:00,  3.33s/it]\n",
            "100%|██████████| 15/15 [00:49<00:00,  3.32s/it]\n",
            "100%|██████████| 15/15 [00:53<00:00,  3.56s/it]\n",
            "100%|██████████| 15/15 [00:56<00:00,  3.74s/it]\n"
          ]
        },
        {
          "name": "stdout",
          "output_type": "stream",
          "text": [
            "Epoch: 10, Train loss: 5.575853766074489, Val metrics: {'r2': -0.1193320049509079, 'mae': 3.969404493241447, 'rmse': 4.904895402907538}\n"
          ]
        },
        {
          "name": "stderr",
          "output_type": "stream",
          "text": [
            "100%|██████████| 15/15 [00:53<00:00,  3.55s/it]\n",
            "100%|██████████| 15/15 [00:52<00:00,  3.51s/it]\n",
            "100%|██████████| 15/15 [00:50<00:00,  3.36s/it]\n",
            "100%|██████████| 15/15 [00:51<00:00,  3.43s/it]\n",
            "100%|██████████| 15/15 [00:52<00:00,  3.49s/it]\n",
            "100%|██████████| 15/15 [00:51<00:00,  3.42s/it]\n",
            "100%|██████████| 15/15 [00:50<00:00,  3.36s/it]\n",
            "100%|██████████| 15/15 [00:52<00:00,  3.47s/it]\n",
            "100%|██████████| 15/15 [00:49<00:00,  3.33s/it]\n",
            "100%|██████████| 15/15 [00:52<00:00,  3.51s/it]\n"
          ]
        },
        {
          "name": "stdout",
          "output_type": "stream",
          "text": [
            "Epoch: 20, Train loss: 4.777760873236913, Val metrics: {'r2': 0.25393687744058957, 'mae': 3.150919830472611, 'rmse': 4.004405751104982}\n"
          ]
        },
        {
          "name": "stderr",
          "output_type": "stream",
          "text": [
            "100%|██████████| 15/15 [00:49<00:00,  3.27s/it]\n",
            "100%|██████████| 15/15 [00:50<00:00,  3.34s/it]\n",
            "100%|██████████| 15/15 [00:49<00:00,  3.31s/it]\n",
            "100%|██████████| 15/15 [00:50<00:00,  3.39s/it]\n",
            "100%|██████████| 15/15 [00:45<00:00,  3.06s/it]\n",
            "100%|██████████| 15/15 [00:39<00:00,  2.61s/it]\n",
            "100%|██████████| 15/15 [00:44<00:00,  2.94s/it]\n",
            "100%|██████████| 15/15 [00:38<00:00,  2.54s/it]\n",
            "100%|██████████| 15/15 [00:40<00:00,  2.67s/it]\n",
            "100%|██████████| 15/15 [00:42<00:00,  2.86s/it]\n"
          ]
        },
        {
          "name": "stdout",
          "output_type": "stream",
          "text": [
            "Epoch: 30, Train loss: 4.54304829434582, Val metrics: {'r2': 0.31733516813634655, 'mae': 3.00972304051131, 'rmse': 3.8304875471425284}\n",
            "Best Val metrics for parameters Adam (\n",
            "Parameter Group 0\n",
            "    amsgrad: False\n",
            "    betas: (0.9, 0.999)\n",
            "    capturable: False\n",
            "    differentiable: False\n",
            "    eps: 1e-08\n",
            "    foreach: None\n",
            "    fused: None\n",
            "    lr: 0.001\n",
            "    maximize: False\n",
            "    weight_decay: 0.0001\n",
            "), are: {'r2': 0.31853724556198304, 'mae': 3.007487224656578, 'rmse': 3.827113584422985}\n",
            "Training with lr=0.001, batch_size=256, num_layers=2, weight_decay=0.001\n"
          ]
        },
        {
          "name": "stderr",
          "output_type": "stream",
          "text": [
            "100%|██████████| 15/15 [00:42<00:00,  2.82s/it]\n",
            "100%|██████████| 15/15 [00:43<00:00,  2.91s/it]\n",
            "100%|██████████| 15/15 [00:41<00:00,  2.74s/it]\n",
            "100%|██████████| 15/15 [00:38<00:00,  2.59s/it]\n",
            "100%|██████████| 15/15 [00:37<00:00,  2.53s/it]\n",
            "100%|██████████| 15/15 [00:44<00:00,  2.96s/it]\n",
            "100%|██████████| 15/15 [00:41<00:00,  2.77s/it]\n",
            "100%|██████████| 15/15 [00:42<00:00,  2.84s/it]\n",
            "100%|██████████| 15/15 [00:39<00:00,  2.67s/it]\n",
            "100%|██████████| 15/15 [00:44<00:00,  2.97s/it]\n"
          ]
        },
        {
          "name": "stdout",
          "output_type": "stream",
          "text": [
            "Epoch: 10, Train loss: 5.5611815398833135, Val metrics: {'r2': 0.18958489761457442, 'mae': 3.466357183615685, 'rmse': 4.17353492829937}\n"
          ]
        },
        {
          "name": "stderr",
          "output_type": "stream",
          "text": [
            "100%|██████████| 15/15 [00:39<00:00,  2.65s/it]\n",
            "100%|██████████| 15/15 [00:41<00:00,  2.77s/it]\n",
            "100%|██████████| 15/15 [00:38<00:00,  2.54s/it]\n",
            "100%|██████████| 15/15 [00:42<00:00,  2.84s/it]\n",
            "100%|██████████| 15/15 [00:54<00:00,  3.63s/it]\n",
            "100%|██████████| 15/15 [00:40<00:00,  2.69s/it]\n",
            "100%|██████████| 15/15 [00:42<00:00,  2.84s/it]\n",
            "100%|██████████| 15/15 [00:41<00:00,  2.78s/it]\n",
            "100%|██████████| 15/15 [00:39<00:00,  2.65s/it]\n",
            "100%|██████████| 15/15 [00:40<00:00,  2.72s/it]\n"
          ]
        },
        {
          "name": "stdout",
          "output_type": "stream",
          "text": [
            "Epoch: 20, Train loss: 4.736214510885546, Val metrics: {'r2': 0.23661363496397458, 'mae': 3.202542532422022, 'rmse': 4.05062919870943}\n"
          ]
        },
        {
          "name": "stderr",
          "output_type": "stream",
          "text": [
            "100%|██████████| 15/15 [00:39<00:00,  2.61s/it]\n",
            "100%|██████████| 15/15 [00:38<00:00,  2.59s/it]\n",
            "100%|██████████| 15/15 [00:40<00:00,  2.67s/it]\n",
            "100%|██████████| 15/15 [00:39<00:00,  2.61s/it]\n",
            "100%|██████████| 15/15 [00:38<00:00,  2.58s/it]\n",
            "100%|██████████| 15/15 [00:39<00:00,  2.61s/it]\n",
            "100%|██████████| 15/15 [00:38<00:00,  2.60s/it]\n",
            "100%|██████████| 15/15 [00:39<00:00,  2.65s/it]\n",
            "100%|██████████| 15/15 [00:39<00:00,  2.62s/it]\n",
            "100%|██████████| 15/15 [00:38<00:00,  2.56s/it]\n"
          ]
        },
        {
          "name": "stdout",
          "output_type": "stream",
          "text": [
            "Epoch: 30, Train loss: 4.549082055150079, Val metrics: {'r2': 0.2570746577058499, 'mae': 3.1573797520272473, 'rmse': 3.995976045778402}\n",
            "Best Val metrics for parameters Adam (\n",
            "Parameter Group 0\n",
            "    amsgrad: False\n",
            "    betas: (0.9, 0.999)\n",
            "    capturable: False\n",
            "    differentiable: False\n",
            "    eps: 1e-08\n",
            "    foreach: None\n",
            "    fused: None\n",
            "    lr: 0.001\n",
            "    maximize: False\n",
            "    weight_decay: 0.001\n",
            "), are: {'r2': 0.3083760249508436, 'mae': 3.035352935357817, 'rmse': 3.8555408548133263}\n",
            "Training with lr=0.001, batch_size=256, num_layers=2, weight_decay=0.01\n"
          ]
        },
        {
          "name": "stderr",
          "output_type": "stream",
          "text": [
            "100%|██████████| 15/15 [00:40<00:00,  2.68s/it]\n",
            "100%|██████████| 15/15 [00:40<00:00,  2.72s/it]\n",
            "100%|██████████| 15/15 [00:39<00:00,  2.65s/it]\n",
            "100%|██████████| 15/15 [00:39<00:00,  2.63s/it]\n",
            "100%|██████████| 15/15 [00:40<00:00,  2.71s/it]\n",
            "100%|██████████| 15/15 [00:39<00:00,  2.61s/it]\n",
            "100%|██████████| 15/15 [00:39<00:00,  2.60s/it]\n",
            "100%|██████████| 15/15 [00:38<00:00,  2.53s/it]\n",
            "100%|██████████| 15/15 [00:39<00:00,  2.62s/it]\n",
            "100%|██████████| 15/15 [00:39<00:00,  2.63s/it]\n"
          ]
        },
        {
          "name": "stdout",
          "output_type": "stream",
          "text": [
            "Epoch: 10, Train loss: 5.562242572105732, Val metrics: {'r2': -0.010395588913294729, 'mae': 3.874219962701689, 'rmse': 4.660108307278152}\n"
          ]
        },
        {
          "name": "stderr",
          "output_type": "stream",
          "text": [
            "100%|██████████| 15/15 [00:40<00:00,  2.67s/it]\n",
            "100%|██████████| 15/15 [00:40<00:00,  2.72s/it]\n",
            "100%|██████████| 15/15 [00:40<00:00,  2.73s/it]\n",
            "100%|██████████| 15/15 [00:39<00:00,  2.61s/it]\n",
            "100%|██████████| 15/15 [00:40<00:00,  2.69s/it]\n",
            "100%|██████████| 15/15 [00:38<00:00,  2.58s/it]\n",
            "100%|██████████| 15/15 [00:39<00:00,  2.63s/it]\n",
            "100%|██████████| 15/15 [00:39<00:00,  2.61s/it]\n",
            "100%|██████████| 15/15 [00:39<00:00,  2.64s/it]\n",
            "100%|██████████| 15/15 [00:39<00:00,  2.66s/it]\n"
          ]
        },
        {
          "name": "stdout",
          "output_type": "stream",
          "text": [
            "Epoch: 20, Train loss: 4.796814486210448, Val metrics: {'r2': 0.24629809320135188, 'mae': 3.186964771472062, 'rmse': 4.0248536802740995}\n"
          ]
        },
        {
          "name": "stderr",
          "output_type": "stream",
          "text": [
            "100%|██████████| 15/15 [00:38<00:00,  2.59s/it]\n",
            "100%|██████████| 15/15 [00:38<00:00,  2.60s/it]\n",
            "100%|██████████| 15/15 [00:39<00:00,  2.63s/it]\n",
            "100%|██████████| 15/15 [00:38<00:00,  2.56s/it]\n",
            "100%|██████████| 15/15 [00:40<00:00,  2.68s/it]\n",
            "100%|██████████| 15/15 [00:39<00:00,  2.63s/it]\n",
            "100%|██████████| 15/15 [00:39<00:00,  2.66s/it]\n",
            "100%|██████████| 15/15 [00:38<00:00,  2.59s/it]\n",
            "100%|██████████| 15/15 [00:38<00:00,  2.59s/it]\n",
            "100%|██████████| 15/15 [00:38<00:00,  2.58s/it]\n"
          ]
        },
        {
          "name": "stdout",
          "output_type": "stream",
          "text": [
            "Epoch: 30, Train loss: 4.731291636706646, Val metrics: {'r2': 0.24797455325285855, 'mae': 3.1689365418815743, 'rmse': 4.02037494494942}\n",
            "Best Val metrics for parameters Adam (\n",
            "Parameter Group 0\n",
            "    amsgrad: False\n",
            "    betas: (0.9, 0.999)\n",
            "    capturable: False\n",
            "    differentiable: False\n",
            "    eps: 1e-08\n",
            "    foreach: None\n",
            "    fused: None\n",
            "    lr: 0.001\n",
            "    maximize: False\n",
            "    weight_decay: 0.01\n",
            "), are: {'r2': 0.2778221242040312, 'mae': 3.0926757390131216, 'rmse': 3.939783702893701}\n",
            "Training with lr=0.001, batch_size=256, num_layers=3, weight_decay=0.0001\n"
          ]
        },
        {
          "name": "stderr",
          "output_type": "stream",
          "text": [
            "100%|██████████| 15/15 [00:47<00:00,  3.14s/it]\n",
            "100%|██████████| 15/15 [00:46<00:00,  3.13s/it]\n",
            "100%|██████████| 15/15 [00:47<00:00,  3.15s/it]\n",
            "100%|██████████| 15/15 [00:47<00:00,  3.14s/it]\n",
            "100%|██████████| 15/15 [00:44<00:00,  2.96s/it]\n",
            "100%|██████████| 15/15 [00:46<00:00,  3.08s/it]\n",
            "100%|██████████| 15/15 [00:46<00:00,  3.12s/it]\n",
            "100%|██████████| 15/15 [00:45<00:00,  3.07s/it]\n",
            "100%|██████████| 15/15 [00:45<00:00,  3.05s/it]\n",
            "100%|██████████| 15/15 [00:46<00:00,  3.10s/it]\n"
          ]
        },
        {
          "name": "stdout",
          "output_type": "stream",
          "text": [
            "Epoch: 10, Train loss: 5.584329004081707, Val metrics: {'r2': -0.11166031335192206, 'mae': 3.961163000974483, 'rmse': 4.888057886490405}\n"
          ]
        },
        {
          "name": "stderr",
          "output_type": "stream",
          "text": [
            "100%|██████████| 15/15 [00:49<00:00,  3.28s/it]\n",
            "100%|██████████| 15/15 [00:44<00:00,  2.98s/it]\n",
            "100%|██████████| 15/15 [00:45<00:00,  3.04s/it]\n",
            "100%|██████████| 15/15 [00:45<00:00,  3.02s/it]\n",
            "100%|██████████| 15/15 [00:45<00:00,  3.04s/it]\n",
            "100%|██████████| 15/15 [00:45<00:00,  3.03s/it]\n",
            "100%|██████████| 15/15 [00:45<00:00,  3.04s/it]\n",
            "100%|██████████| 15/15 [00:44<00:00,  2.95s/it]\n",
            "100%|██████████| 15/15 [00:43<00:00,  2.92s/it]\n",
            "100%|██████████| 15/15 [00:46<00:00,  3.10s/it]\n"
          ]
        },
        {
          "name": "stdout",
          "output_type": "stream",
          "text": [
            "Epoch: 20, Train loss: 4.815365181534815, Val metrics: {'r2': 0.22132959272038322, 'mae': 3.2624850248287096, 'rmse': 4.090977817523824}\n"
          ]
        },
        {
          "name": "stderr",
          "output_type": "stream",
          "text": [
            "100%|██████████| 15/15 [00:46<00:00,  3.07s/it]\n",
            "100%|██████████| 15/15 [00:45<00:00,  3.05s/it]\n",
            "100%|██████████| 15/15 [00:44<00:00,  2.95s/it]\n",
            "100%|██████████| 15/15 [00:44<00:00,  2.99s/it]\n",
            "100%|██████████| 15/15 [00:46<00:00,  3.09s/it]\n",
            "100%|██████████| 15/15 [00:45<00:00,  3.01s/it]\n",
            "100%|██████████| 15/15 [00:45<00:00,  3.04s/it]\n",
            "100%|██████████| 15/15 [00:44<00:00,  3.00s/it]\n",
            "100%|██████████| 15/15 [00:45<00:00,  3.05s/it]\n",
            "100%|██████████| 15/15 [00:44<00:00,  3.00s/it]\n"
          ]
        },
        {
          "name": "stdout",
          "output_type": "stream",
          "text": [
            "Epoch: 30, Train loss: 4.643325995938276, Val metrics: {'r2': 0.24948663447703123, 'mae': 3.1819006064930355, 'rmse': 4.016331070924899}\n",
            "Best Val metrics for parameters Adam (\n",
            "Parameter Group 0\n",
            "    amsgrad: False\n",
            "    betas: (0.9, 0.999)\n",
            "    capturable: False\n",
            "    differentiable: False\n",
            "    eps: 1e-08\n",
            "    foreach: None\n",
            "    fused: None\n",
            "    lr: 0.001\n",
            "    maximize: False\n",
            "    weight_decay: 0.0001\n",
            "), are: {'r2': 0.26675702857512285, 'mae': 3.13293242769872, 'rmse': 3.9698513403881743}\n",
            "Training with lr=0.001, batch_size=256, num_layers=3, weight_decay=0.001\n"
          ]
        },
        {
          "name": "stderr",
          "output_type": "stream",
          "text": [
            "100%|██████████| 15/15 [00:47<00:00,  3.13s/it]\n",
            "100%|██████████| 15/15 [00:46<00:00,  3.09s/it]\n",
            "100%|██████████| 15/15 [00:45<00:00,  3.00s/it]\n",
            "100%|██████████| 15/15 [00:45<00:00,  3.05s/it]\n",
            "100%|██████████| 15/15 [00:45<00:00,  3.05s/it]\n",
            "100%|██████████| 15/15 [00:45<00:00,  3.06s/it]\n",
            "100%|██████████| 15/15 [00:45<00:00,  3.04s/it]\n",
            "100%|██████████| 15/15 [00:46<00:00,  3.07s/it]\n",
            "100%|██████████| 15/15 [00:45<00:00,  3.05s/it]\n",
            "100%|██████████| 15/15 [00:46<00:00,  3.07s/it]\n"
          ]
        },
        {
          "name": "stdout",
          "output_type": "stream",
          "text": [
            "Epoch: 10, Train loss: 5.562342969200107, Val metrics: {'r2': -0.03451391202621368, 'mae': 3.8615091857706294, 'rmse': 4.715399111451544}\n"
          ]
        },
        {
          "name": "stderr",
          "output_type": "stream",
          "text": [
            "100%|██████████| 15/15 [00:45<00:00,  3.01s/it]\n",
            "100%|██████████| 15/15 [00:46<00:00,  3.11s/it]\n",
            "100%|██████████| 15/15 [00:51<00:00,  3.45s/it]\n",
            "100%|██████████| 15/15 [00:45<00:00,  3.06s/it]\n",
            "100%|██████████| 15/15 [00:44<00:00,  2.97s/it]\n",
            "100%|██████████| 15/15 [00:45<00:00,  3.03s/it]\n",
            "100%|██████████| 15/15 [00:45<00:00,  3.00s/it]\n",
            "100%|██████████| 15/15 [00:45<00:00,  3.04s/it]\n",
            "100%|██████████| 15/15 [00:44<00:00,  2.97s/it]\n",
            "100%|██████████| 15/15 [00:45<00:00,  3.01s/it]\n"
          ]
        },
        {
          "name": "stdout",
          "output_type": "stream",
          "text": [
            "Epoch: 20, Train loss: 4.823928837422379, Val metrics: {'r2': 0.22399243184218187, 'mae': 3.2501907716851752, 'rmse': 4.083976816246691}\n"
          ]
        },
        {
          "name": "stderr",
          "output_type": "stream",
          "text": [
            "100%|██████████| 15/15 [00:44<00:00,  3.00s/it]\n",
            "100%|██████████| 15/15 [00:46<00:00,  3.09s/it]\n",
            "100%|██████████| 15/15 [00:45<00:00,  3.05s/it]\n",
            "100%|██████████| 15/15 [00:44<00:00,  2.97s/it]\n",
            "100%|██████████| 15/15 [00:45<00:00,  3.01s/it]\n",
            "100%|██████████| 15/15 [00:45<00:00,  3.02s/it]\n",
            "100%|██████████| 15/15 [00:46<00:00,  3.08s/it]\n",
            "100%|██████████| 15/15 [00:46<00:00,  3.11s/it]\n",
            "100%|██████████| 15/15 [00:45<00:00,  3.05s/it]\n",
            "100%|██████████| 15/15 [00:46<00:00,  3.12s/it]\n"
          ]
        },
        {
          "name": "stdout",
          "output_type": "stream",
          "text": [
            "Epoch: 30, Train loss: 4.6798180316288835, Val metrics: {'r2': 0.23142854630299725, 'mae': 3.2247802594222463, 'rmse': 4.064362302325777}\n",
            "Best Val metrics for parameters Adam (\n",
            "Parameter Group 0\n",
            "    amsgrad: False\n",
            "    betas: (0.9, 0.999)\n",
            "    capturable: False\n",
            "    differentiable: False\n",
            "    eps: 1e-08\n",
            "    foreach: None\n",
            "    fused: None\n",
            "    lr: 0.001\n",
            "    maximize: False\n",
            "    weight_decay: 0.001\n",
            "), are: {'r2': 0.26747097256207975, 'mae': 3.161112740108309, 'rmse': 3.967918187358677}\n",
            "Training with lr=0.001, batch_size=256, num_layers=3, weight_decay=0.01\n"
          ]
        },
        {
          "name": "stderr",
          "output_type": "stream",
          "text": [
            "100%|██████████| 15/15 [00:47<00:00,  3.19s/it]\n",
            "100%|██████████| 15/15 [00:47<00:00,  3.14s/it]\n",
            "100%|██████████| 15/15 [00:45<00:00,  3.02s/it]\n",
            "100%|██████████| 15/15 [00:45<00:00,  3.01s/it]\n",
            "100%|██████████| 15/15 [00:44<00:00,  2.99s/it]\n",
            "100%|██████████| 15/15 [00:46<00:00,  3.09s/it]\n",
            "100%|██████████| 15/15 [00:45<00:00,  3.02s/it]\n",
            "100%|██████████| 15/15 [00:44<00:00,  2.97s/it]\n",
            "100%|██████████| 15/15 [00:44<00:00,  2.96s/it]\n",
            "100%|██████████| 15/15 [00:45<00:00,  3.01s/it]\n"
          ]
        },
        {
          "name": "stdout",
          "output_type": "stream",
          "text": [
            "Epoch: 10, Train loss: 5.595388649454632, Val metrics: {'r2': 0.030644111570180654, 'mae': 3.750143510720375, 'rmse': 4.564486385348615}\n"
          ]
        },
        {
          "name": "stderr",
          "output_type": "stream",
          "text": [
            "100%|██████████| 15/15 [00:45<00:00,  3.05s/it]\n",
            "100%|██████████| 15/15 [00:44<00:00,  2.99s/it]\n",
            "100%|██████████| 15/15 [00:44<00:00,  2.96s/it]\n",
            "100%|██████████| 15/15 [00:45<00:00,  3.02s/it]\n",
            "100%|██████████| 15/15 [00:45<00:00,  3.02s/it]\n",
            "100%|██████████| 15/15 [00:43<00:00,  2.93s/it]\n",
            "100%|██████████| 15/15 [00:47<00:00,  3.16s/it]\n",
            "100%|██████████| 15/15 [00:44<00:00,  2.97s/it]\n",
            "100%|██████████| 15/15 [00:45<00:00,  3.07s/it]\n",
            "100%|██████████| 15/15 [00:44<00:00,  2.99s/it]\n"
          ]
        },
        {
          "name": "stdout",
          "output_type": "stream",
          "text": [
            "Epoch: 20, Train loss: 4.916339154821202, Val metrics: {'r2': 0.11965337274492305, 'mae': 3.4552571321537116, 'rmse': 4.349878655234675}\n"
          ]
        },
        {
          "name": "stderr",
          "output_type": "stream",
          "text": [
            "100%|██████████| 15/15 [00:45<00:00,  3.02s/it]\n",
            "100%|██████████| 15/15 [00:45<00:00,  3.01s/it]\n",
            "100%|██████████| 15/15 [00:44<00:00,  3.00s/it]\n",
            "100%|██████████| 15/15 [00:45<00:00,  3.04s/it]\n",
            "100%|██████████| 15/15 [00:45<00:00,  3.05s/it]\n",
            "100%|██████████| 15/15 [00:45<00:00,  3.01s/it]\n",
            "100%|██████████| 15/15 [00:44<00:00,  2.98s/it]\n",
            "100%|██████████| 15/15 [00:45<00:00,  3.06s/it]\n",
            "100%|██████████| 15/15 [00:44<00:00,  2.99s/it]\n",
            "100%|██████████| 15/15 [00:44<00:00,  2.94s/it]\n"
          ]
        },
        {
          "name": "stdout",
          "output_type": "stream",
          "text": [
            "Epoch: 30, Train loss: 4.770520541742474, Val metrics: {'r2': 0.05524914928283964, 'mae': 3.629438450532352, 'rmse': 4.506184147939653}\n",
            "Best Val metrics for parameters Adam (\n",
            "Parameter Group 0\n",
            "    amsgrad: False\n",
            "    betas: (0.9, 0.999)\n",
            "    capturable: False\n",
            "    differentiable: False\n",
            "    eps: 1e-08\n",
            "    foreach: None\n",
            "    fused: None\n",
            "    lr: 0.001\n",
            "    maximize: False\n",
            "    weight_decay: 0.01\n",
            "), are: {'r2': 0.25602817321133675, 'mae': 3.1816252437048775, 'rmse': 3.998789420942539}\n",
            "Training with lr=0.001, batch_size=512, num_layers=1, weight_decay=0.0001\n"
          ]
        },
        {
          "name": "stderr",
          "output_type": "stream",
          "text": [
            "100%|██████████| 15/15 [00:28<00:00,  1.92s/it]\n",
            "100%|██████████| 15/15 [00:28<00:00,  1.92s/it]\n",
            "100%|██████████| 15/15 [00:29<00:00,  1.94s/it]\n",
            "100%|██████████| 15/15 [00:29<00:00,  1.96s/it]\n",
            "100%|██████████| 15/15 [00:29<00:00,  1.94s/it]\n",
            "100%|██████████| 15/15 [00:28<00:00,  1.93s/it]\n",
            "100%|██████████| 15/15 [00:30<00:00,  2.02s/it]\n",
            "100%|██████████| 15/15 [00:29<00:00,  1.98s/it]\n",
            "100%|██████████| 15/15 [00:29<00:00,  1.96s/it]\n",
            "100%|██████████| 15/15 [00:29<00:00,  1.95s/it]\n"
          ]
        },
        {
          "name": "stdout",
          "output_type": "stream",
          "text": [
            "Epoch: 10, Train loss: 5.603894061087666, Val metrics: {'r2': -0.10108161597457332, 'mae': 3.9506219163128913, 'rmse': 4.86474460843879}\n"
          ]
        },
        {
          "name": "stderr",
          "output_type": "stream",
          "text": [
            "100%|██████████| 15/15 [00:29<00:00,  1.96s/it]\n",
            "100%|██████████| 15/15 [00:29<00:00,  1.95s/it]\n",
            "100%|██████████| 15/15 [00:28<00:00,  1.92s/it]\n",
            "100%|██████████| 15/15 [00:29<00:00,  1.95s/it]\n",
            "100%|██████████| 15/15 [00:29<00:00,  1.95s/it]\n",
            "100%|██████████| 15/15 [00:28<00:00,  1.93s/it]\n",
            "100%|██████████| 15/15 [00:29<00:00,  1.95s/it]\n",
            "100%|██████████| 15/15 [00:29<00:00,  1.97s/it]\n",
            "100%|██████████| 15/15 [00:29<00:00,  1.96s/it]\n",
            "100%|██████████| 15/15 [00:29<00:00,  1.96s/it]\n"
          ]
        },
        {
          "name": "stdout",
          "output_type": "stream",
          "text": [
            "Epoch: 20, Train loss: 4.862749841954425, Val metrics: {'r2': 0.19697139447215517, 'mae': 3.3126268587513774, 'rmse': 4.154471630243928}\n"
          ]
        },
        {
          "name": "stderr",
          "output_type": "stream",
          "text": [
            "100%|██████████| 15/15 [00:30<00:00,  2.00s/it]\n",
            "100%|██████████| 15/15 [00:29<00:00,  1.94s/it]\n",
            "100%|██████████| 15/15 [00:34<00:00,  2.28s/it]\n",
            "100%|██████████| 15/15 [00:36<00:00,  2.42s/it]\n",
            "100%|██████████| 15/15 [00:36<00:00,  2.45s/it]\n",
            "100%|██████████| 15/15 [00:39<00:00,  2.65s/it]\n",
            "100%|██████████| 15/15 [00:37<00:00,  2.51s/it]\n",
            "100%|██████████| 15/15 [00:38<00:00,  2.55s/it]\n",
            "100%|██████████| 15/15 [00:37<00:00,  2.49s/it]\n",
            "100%|██████████| 15/15 [00:36<00:00,  2.43s/it]\n"
          ]
        },
        {
          "name": "stdout",
          "output_type": "stream",
          "text": [
            "Epoch: 30, Train loss: 4.696901626208157, Val metrics: {'r2': 0.16541571315157544, 'mae': 3.452932854151041, 'rmse': 4.235311832009453}\n",
            "Best Val metrics for parameters Adam (\n",
            "Parameter Group 0\n",
            "    amsgrad: False\n",
            "    betas: (0.9, 0.999)\n",
            "    capturable: False\n",
            "    differentiable: False\n",
            "    eps: 1e-08\n",
            "    foreach: None\n",
            "    fused: None\n",
            "    lr: 0.001\n",
            "    maximize: False\n",
            "    weight_decay: 0.0001\n",
            "), are: {'r2': 0.2521578489584577, 'mae': 3.1498318663261378, 'rmse': 4.0091772710087525}\n",
            "Training with lr=0.001, batch_size=512, num_layers=1, weight_decay=0.001\n"
          ]
        },
        {
          "name": "stderr",
          "output_type": "stream",
          "text": [
            "100%|██████████| 15/15 [00:37<00:00,  2.49s/it]\n",
            "100%|██████████| 15/15 [00:37<00:00,  2.49s/it]\n",
            "100%|██████████| 15/15 [00:38<00:00,  2.54s/it]\n",
            "100%|██████████| 15/15 [00:37<00:00,  2.51s/it]\n",
            "100%|██████████| 15/15 [00:39<00:00,  2.60s/it]\n",
            "100%|██████████| 15/15 [00:40<00:00,  2.67s/it]\n",
            "100%|██████████| 15/15 [00:36<00:00,  2.41s/it]\n",
            "100%|██████████| 15/15 [00:37<00:00,  2.47s/it]\n",
            "100%|██████████| 15/15 [00:36<00:00,  2.45s/it]\n",
            "100%|██████████| 15/15 [00:35<00:00,  2.40s/it]\n"
          ]
        },
        {
          "name": "stdout",
          "output_type": "stream",
          "text": [
            "Epoch: 10, Train loss: 5.575309152269178, Val metrics: {'r2': -0.1386990631388907, 'mae': 3.995851108624924, 'rmse': 4.947146499611989}\n"
          ]
        },
        {
          "name": "stderr",
          "output_type": "stream",
          "text": [
            "100%|██████████| 15/15 [00:36<00:00,  2.43s/it]\n",
            "100%|██████████| 15/15 [00:36<00:00,  2.43s/it]\n",
            "100%|██████████| 15/15 [00:36<00:00,  2.47s/it]\n",
            "100%|██████████| 15/15 [00:37<00:00,  2.47s/it]\n",
            "100%|██████████| 15/15 [00:37<00:00,  2.47s/it]\n",
            "100%|██████████| 15/15 [00:36<00:00,  2.43s/it]\n",
            "100%|██████████| 15/15 [00:37<00:00,  2.47s/it]\n",
            "100%|██████████| 15/15 [00:36<00:00,  2.40s/it]\n",
            "100%|██████████| 15/15 [00:36<00:00,  2.46s/it]\n",
            "100%|██████████| 15/15 [00:36<00:00,  2.41s/it]\n"
          ]
        },
        {
          "name": "stdout",
          "output_type": "stream",
          "text": [
            "Epoch: 20, Train loss: 4.8303845566294425, Val metrics: {'r2': 0.18704633707475637, 'mae': 3.3297447802786357, 'rmse': 4.180066449738278}\n"
          ]
        },
        {
          "name": "stderr",
          "output_type": "stream",
          "text": [
            "100%|██████████| 15/15 [00:36<00:00,  2.42s/it]\n",
            "100%|██████████| 15/15 [00:37<00:00,  2.50s/it]\n",
            "100%|██████████| 15/15 [00:36<00:00,  2.47s/it]\n",
            "100%|██████████| 15/15 [00:36<00:00,  2.45s/it]\n",
            "100%|██████████| 15/15 [00:36<00:00,  2.46s/it]\n",
            "100%|██████████| 15/15 [00:36<00:00,  2.46s/it]\n",
            "100%|██████████| 15/15 [00:36<00:00,  2.45s/it]\n",
            "100%|██████████| 15/15 [00:38<00:00,  2.54s/it]\n",
            "100%|██████████| 15/15 [00:36<00:00,  2.44s/it]\n",
            "100%|██████████| 15/15 [00:36<00:00,  2.43s/it]\n"
          ]
        },
        {
          "name": "stdout",
          "output_type": "stream",
          "text": [
            "Epoch: 30, Train loss: 4.713289512430568, Val metrics: {'r2': 0.23999150138644776, 'mae': 3.238432672840799, 'rmse': 4.041657559782162}\n",
            "Best Val metrics for parameters Adam (\n",
            "Parameter Group 0\n",
            "    amsgrad: False\n",
            "    betas: (0.9, 0.999)\n",
            "    capturable: False\n",
            "    differentiable: False\n",
            "    eps: 1e-08\n",
            "    foreach: None\n",
            "    fused: None\n",
            "    lr: 0.001\n",
            "    maximize: False\n",
            "    weight_decay: 0.001\n",
            "), are: {'r2': 0.24662187652999046, 'mae': 3.187481161715113, 'rmse': 4.023989067554698}\n",
            "Training with lr=0.001, batch_size=512, num_layers=1, weight_decay=0.01\n"
          ]
        },
        {
          "name": "stderr",
          "output_type": "stream",
          "text": [
            "100%|██████████| 15/15 [00:37<00:00,  2.48s/it]\n",
            "100%|██████████| 15/15 [00:36<00:00,  2.46s/it]\n",
            "100%|██████████| 15/15 [00:36<00:00,  2.46s/it]\n",
            "100%|██████████| 15/15 [00:37<00:00,  2.50s/it]\n",
            "100%|██████████| 15/15 [00:36<00:00,  2.44s/it]\n",
            "100%|██████████| 15/15 [00:37<00:00,  2.47s/it]\n",
            "100%|██████████| 15/15 [00:36<00:00,  2.41s/it]\n",
            "100%|██████████| 15/15 [00:36<00:00,  2.46s/it]\n",
            "100%|██████████| 15/15 [00:36<00:00,  2.44s/it]\n",
            "100%|██████████| 15/15 [00:37<00:00,  2.50s/it]\n"
          ]
        },
        {
          "name": "stdout",
          "output_type": "stream",
          "text": [
            "Epoch: 10, Train loss: 5.573779218807551, Val metrics: {'r2': -0.1426008973951023, 'mae': 4.001842378120703, 'rmse': 4.955615127910686}\n"
          ]
        },
        {
          "name": "stderr",
          "output_type": "stream",
          "text": [
            "100%|██████████| 15/15 [00:37<00:00,  2.52s/it]\n",
            "100%|██████████| 15/15 [00:36<00:00,  2.46s/it]\n",
            "100%|██████████| 15/15 [00:28<00:00,  1.91s/it]\n",
            "100%|██████████| 15/15 [00:28<00:00,  1.91s/it]\n",
            "100%|██████████| 15/15 [00:27<00:00,  1.86s/it]\n",
            "100%|██████████| 15/15 [00:28<00:00,  1.90s/it]\n",
            "100%|██████████| 15/15 [00:28<00:00,  1.90s/it]\n",
            "100%|██████████| 15/15 [00:28<00:00,  1.91s/it]\n",
            "100%|██████████| 15/15 [00:28<00:00,  1.89s/it]\n",
            "100%|██████████| 15/15 [00:28<00:00,  1.92s/it]\n"
          ]
        },
        {
          "name": "stdout",
          "output_type": "stream",
          "text": [
            "Epoch: 20, Train loss: 4.965362342303189, Val metrics: {'r2': 0.03719114771820953, 'mae': 3.6995304359940584, 'rmse': 4.549045984261059}\n"
          ]
        },
        {
          "name": "stderr",
          "output_type": "stream",
          "text": [
            "100%|██████████| 15/15 [00:30<00:00,  2.01s/it]\n",
            "100%|██████████| 15/15 [00:30<00:00,  2.03s/it]\n",
            "100%|██████████| 15/15 [00:30<00:00,  2.02s/it]\n",
            "100%|██████████| 15/15 [00:30<00:00,  2.03s/it]\n",
            "100%|██████████| 15/15 [00:28<00:00,  1.90s/it]\n",
            "100%|██████████| 15/15 [00:28<00:00,  1.90s/it]\n",
            "100%|██████████| 15/15 [00:29<00:00,  1.94s/it]\n",
            "100%|██████████| 15/15 [00:29<00:00,  1.95s/it]\n",
            "100%|██████████| 15/15 [00:29<00:00,  1.94s/it]\n",
            "100%|██████████| 15/15 [00:29<00:00,  1.98s/it]\n"
          ]
        },
        {
          "name": "stdout",
          "output_type": "stream",
          "text": [
            "Epoch: 30, Train loss: 4.870998159344846, Val metrics: {'r2': 0.2146955534182321, 'mae': 3.284810065267559, 'rmse': 4.108367811262712}\n",
            "Best Val metrics for parameters Adam (\n",
            "Parameter Group 0\n",
            "    amsgrad: False\n",
            "    betas: (0.9, 0.999)\n",
            "    capturable: False\n",
            "    differentiable: False\n",
            "    eps: 1e-08\n",
            "    foreach: None\n",
            "    fused: None\n",
            "    lr: 0.001\n",
            "    maximize: False\n",
            "    weight_decay: 0.01\n",
            "), are: {'r2': 0.21023844918429024, 'mae': 3.260768978294724, 'rmse': 4.120010120727891}\n",
            "Training with lr=0.001, batch_size=512, num_layers=2, weight_decay=0.0001\n"
          ]
        },
        {
          "name": "stderr",
          "output_type": "stream",
          "text": [
            "100%|██████████| 15/15 [00:39<00:00,  2.62s/it]\n",
            "100%|██████████| 15/15 [00:38<00:00,  2.56s/it]\n",
            "100%|██████████| 15/15 [00:37<00:00,  2.51s/it]\n",
            "100%|██████████| 15/15 [00:37<00:00,  2.51s/it]\n",
            "100%|██████████| 15/15 [00:37<00:00,  2.47s/it]\n",
            "100%|██████████| 15/15 [00:36<00:00,  2.46s/it]\n",
            "100%|██████████| 15/15 [00:38<00:00,  2.56s/it]\n",
            "100%|██████████| 15/15 [00:37<00:00,  2.50s/it]\n",
            "100%|██████████| 15/15 [00:37<00:00,  2.53s/it]\n",
            "100%|██████████| 15/15 [00:37<00:00,  2.51s/it]\n"
          ]
        },
        {
          "name": "stdout",
          "output_type": "stream",
          "text": [
            "Epoch: 10, Train loss: 5.5360281355794, Val metrics: {'r2': -0.0762025370619297, 'mae': 3.9025614717441472, 'rmse': 4.809470833981098}\n"
          ]
        },
        {
          "name": "stderr",
          "output_type": "stream",
          "text": [
            "100%|██████████| 15/15 [00:37<00:00,  2.49s/it]\n",
            "100%|██████████| 15/15 [00:37<00:00,  2.52s/it]\n",
            "100%|██████████| 15/15 [00:38<00:00,  2.56s/it]\n",
            "100%|██████████| 15/15 [00:37<00:00,  2.53s/it]\n",
            "100%|██████████| 15/15 [00:38<00:00,  2.60s/it]\n",
            "100%|██████████| 15/15 [00:38<00:00,  2.54s/it]\n",
            "100%|██████████| 15/15 [00:39<00:00,  2.67s/it]\n",
            "100%|██████████| 15/15 [00:38<00:00,  2.55s/it]\n",
            "100%|██████████| 15/15 [00:37<00:00,  2.52s/it]\n",
            "100%|██████████| 15/15 [00:37<00:00,  2.51s/it]\n"
          ]
        },
        {
          "name": "stdout",
          "output_type": "stream",
          "text": [
            "Epoch: 20, Train loss: 4.727402681570541, Val metrics: {'r2': 0.2751133831475747, 'mae': 3.1394652339244735, 'rmse': 3.9471654477286533}\n"
          ]
        },
        {
          "name": "stderr",
          "output_type": "stream",
          "text": [
            "100%|██████████| 15/15 [00:38<00:00,  2.55s/it]\n",
            "100%|██████████| 15/15 [00:37<00:00,  2.49s/it]\n",
            "100%|██████████| 15/15 [00:37<00:00,  2.52s/it]\n",
            "100%|██████████| 15/15 [00:38<00:00,  2.53s/it]\n",
            "100%|██████████| 15/15 [00:37<00:00,  2.52s/it]\n",
            "100%|██████████| 15/15 [00:40<00:00,  2.70s/it]\n",
            "100%|██████████| 15/15 [00:37<00:00,  2.48s/it]\n",
            "100%|██████████| 15/15 [00:37<00:00,  2.52s/it]\n",
            "100%|██████████| 15/15 [00:37<00:00,  2.51s/it]\n",
            "100%|██████████| 15/15 [00:37<00:00,  2.50s/it]\n"
          ]
        },
        {
          "name": "stdout",
          "output_type": "stream",
          "text": [
            "Epoch: 30, Train loss: 4.406447168102236, Val metrics: {'r2': 0.3237362549594538, 'mae': 3.003148377252246, 'rmse': 3.8124867433365313}\n",
            "Best Val metrics for parameters Adam (\n",
            "Parameter Group 0\n",
            "    amsgrad: False\n",
            "    betas: (0.9, 0.999)\n",
            "    capturable: False\n",
            "    differentiable: False\n",
            "    eps: 1e-08\n",
            "    foreach: None\n",
            "    fused: None\n",
            "    lr: 0.001\n",
            "    maximize: False\n",
            "    weight_decay: 0.0001\n",
            "), are: {'r2': 0.3124863334205542, 'mae': 2.987787928355082, 'rmse': 3.844067078366439}\n",
            "Training with lr=0.001, batch_size=512, num_layers=2, weight_decay=0.001\n"
          ]
        },
        {
          "name": "stderr",
          "output_type": "stream",
          "text": [
            "100%|██████████| 15/15 [00:37<00:00,  2.51s/it]\n",
            "100%|██████████| 15/15 [00:39<00:00,  2.60s/it]\n",
            "100%|██████████| 15/15 [00:37<00:00,  2.51s/it]\n",
            "100%|██████████| 15/15 [00:37<00:00,  2.51s/it]\n",
            "100%|██████████| 15/15 [00:37<00:00,  2.48s/it]\n",
            "100%|██████████| 15/15 [00:38<00:00,  2.59s/it]\n",
            "100%|██████████| 15/15 [00:36<00:00,  2.45s/it]\n",
            "100%|██████████| 15/15 [00:39<00:00,  2.60s/it]\n",
            "100%|██████████| 15/15 [00:40<00:00,  2.68s/it]\n",
            "100%|██████████| 15/15 [00:38<00:00,  2.58s/it]\n"
          ]
        },
        {
          "name": "stdout",
          "output_type": "stream",
          "text": [
            "Epoch: 10, Train loss: 5.512003661577579, Val metrics: {'r2': 0.11207614688537149, 'mae': 3.587796773891411, 'rmse': 4.368558453123706}\n"
          ]
        },
        {
          "name": "stderr",
          "output_type": "stream",
          "text": [
            "100%|██████████| 15/15 [00:37<00:00,  2.48s/it]\n",
            "100%|██████████| 15/15 [00:37<00:00,  2.48s/it]\n",
            "100%|██████████| 15/15 [00:36<00:00,  2.45s/it]\n",
            "100%|██████████| 15/15 [00:37<00:00,  2.52s/it]\n",
            "100%|██████████| 15/15 [00:39<00:00,  2.64s/it]\n",
            "100%|██████████| 15/15 [00:38<00:00,  2.59s/it]\n",
            "100%|██████████| 15/15 [00:39<00:00,  2.63s/it]\n",
            "100%|██████████| 15/15 [00:36<00:00,  2.46s/it]\n",
            "100%|██████████| 15/15 [00:38<00:00,  2.59s/it]\n",
            "100%|██████████| 15/15 [00:38<00:00,  2.54s/it]\n"
          ]
        },
        {
          "name": "stdout",
          "output_type": "stream",
          "text": [
            "Epoch: 20, Train loss: 4.750829404526136, Val metrics: {'r2': 0.21912496853516295, 'mae': 3.2357976120316194, 'rmse': 4.096765050302803}\n"
          ]
        },
        {
          "name": "stderr",
          "output_type": "stream",
          "text": [
            "100%|██████████| 15/15 [00:37<00:00,  2.51s/it]\n",
            "100%|██████████| 15/15 [00:38<00:00,  2.56s/it]\n",
            "100%|██████████| 15/15 [00:37<00:00,  2.50s/it]\n",
            "100%|██████████| 15/15 [00:39<00:00,  2.63s/it]\n",
            "100%|██████████| 15/15 [00:37<00:00,  2.52s/it]\n",
            "100%|██████████| 15/15 [00:37<00:00,  2.52s/it]\n",
            "100%|██████████| 15/15 [00:37<00:00,  2.49s/it]\n",
            "100%|██████████| 15/15 [00:37<00:00,  2.52s/it]\n",
            "100%|██████████| 15/15 [00:37<00:00,  2.51s/it]\n",
            "100%|██████████| 15/15 [00:37<00:00,  2.52s/it]\n"
          ]
        },
        {
          "name": "stdout",
          "output_type": "stream",
          "text": [
            "Epoch: 30, Train loss: 4.555687928094202, Val metrics: {'r2': 0.24846260711138368, 'mae': 3.1898151693299526, 'rmse': 4.019070150031999}\n",
            "Best Val metrics for parameters Adam (\n",
            "Parameter Group 0\n",
            "    amsgrad: False\n",
            "    betas: (0.9, 0.999)\n",
            "    capturable: False\n",
            "    differentiable: False\n",
            "    eps: 1e-08\n",
            "    foreach: None\n",
            "    fused: None\n",
            "    lr: 0.001\n",
            "    maximize: False\n",
            "    weight_decay: 0.001\n",
            "), are: {'r2': 0.2580792438754316, 'mae': 3.1619115921203975, 'rmse': 3.993273445666708}\n",
            "Training with lr=0.001, batch_size=512, num_layers=2, weight_decay=0.01\n"
          ]
        },
        {
          "name": "stderr",
          "output_type": "stream",
          "text": [
            "100%|██████████| 15/15 [00:38<00:00,  2.57s/it]\n",
            "100%|██████████| 15/15 [00:38<00:00,  2.59s/it]\n",
            "100%|██████████| 15/15 [00:37<00:00,  2.52s/it]\n",
            "100%|██████████| 15/15 [00:38<00:00,  2.58s/it]\n",
            "100%|██████████| 15/15 [00:37<00:00,  2.51s/it]\n",
            "100%|██████████| 15/15 [00:37<00:00,  2.48s/it]\n",
            "100%|██████████| 15/15 [00:36<00:00,  2.45s/it]\n",
            "100%|██████████| 15/15 [00:37<00:00,  2.52s/it]\n",
            "100%|██████████| 15/15 [00:39<00:00,  2.66s/it]\n",
            "100%|██████████| 15/15 [00:39<00:00,  2.62s/it]\n"
          ]
        },
        {
          "name": "stdout",
          "output_type": "stream",
          "text": [
            "Epoch: 10, Train loss: 5.583353096217129, Val metrics: {'r2': 0.05014070948459981, 'mae': 3.751114386594845, 'rmse': 4.518350602469308}\n"
          ]
        },
        {
          "name": "stderr",
          "output_type": "stream",
          "text": [
            "100%|██████████| 15/15 [00:37<00:00,  2.48s/it]\n",
            "100%|██████████| 15/15 [00:37<00:00,  2.53s/it]\n",
            "100%|██████████| 15/15 [00:37<00:00,  2.49s/it]\n",
            "100%|██████████| 15/15 [00:37<00:00,  2.51s/it]\n",
            "100%|██████████| 15/15 [00:38<00:00,  2.56s/it]\n",
            "100%|██████████| 15/15 [00:39<00:00,  2.62s/it]\n",
            "100%|██████████| 15/15 [00:38<00:00,  2.57s/it]\n",
            "100%|██████████| 15/15 [00:37<00:00,  2.50s/it]\n",
            "100%|██████████| 15/15 [00:37<00:00,  2.48s/it]\n",
            "100%|██████████| 15/15 [00:37<00:00,  2.48s/it]\n"
          ]
        },
        {
          "name": "stdout",
          "output_type": "stream",
          "text": [
            "Epoch: 20, Train loss: 4.895389637050734, Val metrics: {'r2': 0.24834671712892586, 'mae': 3.217691148147634, 'rmse': 4.019380016193744}\n"
          ]
        },
        {
          "name": "stderr",
          "output_type": "stream",
          "text": [
            "100%|██████████| 15/15 [00:42<00:00,  2.82s/it]\n",
            "100%|██████████| 15/15 [00:43<00:00,  2.91s/it]\n",
            "100%|██████████| 15/15 [00:40<00:00,  2.72s/it]\n",
            "100%|██████████| 15/15 [00:39<00:00,  2.67s/it]\n",
            "100%|██████████| 15/15 [00:38<00:00,  2.55s/it]\n",
            "100%|██████████| 15/15 [00:36<00:00,  2.46s/it]\n",
            "100%|██████████| 15/15 [00:38<00:00,  2.53s/it]\n",
            "100%|██████████| 15/15 [00:37<00:00,  2.50s/it]\n",
            "100%|██████████| 15/15 [00:37<00:00,  2.52s/it]\n",
            "100%|██████████| 15/15 [00:38<00:00,  2.55s/it]\n"
          ]
        },
        {
          "name": "stdout",
          "output_type": "stream",
          "text": [
            "Epoch: 30, Train loss: 4.707254696289005, Val metrics: {'r2': 0.251662591142397, 'mae': 3.2378568818112092, 'rmse': 4.01050458837708}\n",
            "Best Val metrics for parameters Adam (\n",
            "Parameter Group 0\n",
            "    amsgrad: False\n",
            "    betas: (0.9, 0.999)\n",
            "    capturable: False\n",
            "    differentiable: False\n",
            "    eps: 1e-08\n",
            "    foreach: None\n",
            "    fused: None\n",
            "    lr: 0.001\n",
            "    maximize: False\n",
            "    weight_decay: 0.01\n",
            "), are: {'r2': 0.27699399725402607, 'mae': 3.134312079600995, 'rmse': 3.9420419458992217}\n",
            "Training with lr=0.001, batch_size=512, num_layers=3, weight_decay=0.0001\n"
          ]
        },
        {
          "name": "stderr",
          "output_type": "stream",
          "text": [
            "100%|██████████| 15/15 [00:47<00:00,  3.17s/it]\n",
            "100%|██████████| 15/15 [00:44<00:00,  3.00s/it]\n",
            "100%|██████████| 15/15 [00:45<00:00,  3.05s/it]\n",
            "100%|██████████| 15/15 [00:43<00:00,  2.92s/it]\n",
            "100%|██████████| 15/15 [00:43<00:00,  2.93s/it]\n",
            "100%|██████████| 15/15 [00:43<00:00,  2.88s/it]\n",
            "100%|██████████| 15/15 [00:43<00:00,  2.91s/it]\n",
            "100%|██████████| 15/15 [00:45<00:00,  3.01s/it]\n",
            "100%|██████████| 15/15 [00:43<00:00,  2.93s/it]\n",
            "100%|██████████| 15/15 [00:43<00:00,  2.91s/it]\n"
          ]
        },
        {
          "name": "stdout",
          "output_type": "stream",
          "text": [
            "Epoch: 10, Train loss: 5.567594056799318, Val metrics: {'r2': -0.06828512656198549, 'mae': 3.9006711061588515, 'rmse': 4.791747010406418}\n"
          ]
        },
        {
          "name": "stderr",
          "output_type": "stream",
          "text": [
            "100%|██████████| 15/15 [00:44<00:00,  2.95s/it]\n",
            "100%|██████████| 15/15 [00:44<00:00,  2.96s/it]\n",
            "100%|██████████| 15/15 [00:45<00:00,  3.05s/it]\n",
            "100%|██████████| 15/15 [00:43<00:00,  2.92s/it]\n",
            "100%|██████████| 15/15 [00:44<00:00,  2.99s/it]\n",
            "100%|██████████| 15/15 [00:43<00:00,  2.91s/it]\n",
            "100%|██████████| 15/15 [00:43<00:00,  2.88s/it]\n",
            "100%|██████████| 15/15 [00:43<00:00,  2.93s/it]\n",
            "100%|██████████| 15/15 [00:45<00:00,  3.06s/it]\n",
            "100%|██████████| 15/15 [00:45<00:00,  3.03s/it]\n"
          ]
        },
        {
          "name": "stdout",
          "output_type": "stream",
          "text": [
            "Epoch: 20, Train loss: 4.715236413339697, Val metrics: {'r2': 0.20895273094594946, 'mae': 3.339747064433738, 'rmse': 4.123362409767351}\n"
          ]
        },
        {
          "name": "stderr",
          "output_type": "stream",
          "text": [
            "100%|██████████| 15/15 [00:43<00:00,  2.93s/it]\n",
            "100%|██████████| 15/15 [00:43<00:00,  2.87s/it]\n",
            "100%|██████████| 15/15 [00:43<00:00,  2.92s/it]\n",
            "100%|██████████| 15/15 [00:42<00:00,  2.83s/it]\n",
            "100%|██████████| 15/15 [00:44<00:00,  2.96s/it]\n",
            "100%|██████████| 15/15 [00:45<00:00,  3.04s/it]\n",
            "100%|██████████| 15/15 [00:44<00:00,  2.98s/it]\n",
            "100%|██████████| 15/15 [00:43<00:00,  2.89s/it]\n",
            "100%|██████████| 15/15 [00:43<00:00,  2.88s/it]\n",
            "100%|██████████| 15/15 [00:43<00:00,  2.90s/it]\n"
          ]
        },
        {
          "name": "stdout",
          "output_type": "stream",
          "text": [
            "Epoch: 30, Train loss: 4.4839951187496165, Val metrics: {'r2': 0.3041625843024093, 'mae': 3.108308915926284, 'rmse': 3.8672671877279106}\n",
            "Best Val metrics for parameters Adam (\n",
            "Parameter Group 0\n",
            "    amsgrad: False\n",
            "    betas: (0.9, 0.999)\n",
            "    capturable: False\n",
            "    differentiable: False\n",
            "    eps: 1e-08\n",
            "    foreach: None\n",
            "    fused: None\n",
            "    lr: 0.001\n",
            "    maximize: False\n",
            "    weight_decay: 0.0001\n",
            "), are: {'r2': 0.30416693788906046, 'mae': 3.1082961684158823, 'rmse': 3.867255089708488}\n",
            "Training with lr=0.001, batch_size=512, num_layers=3, weight_decay=0.001\n"
          ]
        },
        {
          "name": "stderr",
          "output_type": "stream",
          "text": [
            "100%|██████████| 15/15 [00:44<00:00,  3.00s/it]\n",
            "100%|██████████| 15/15 [00:47<00:00,  3.17s/it]\n",
            "100%|██████████| 15/15 [00:46<00:00,  3.10s/it]\n",
            "100%|██████████| 15/15 [00:44<00:00,  2.96s/it]\n",
            "100%|██████████| 15/15 [00:43<00:00,  2.91s/it]\n",
            "100%|██████████| 15/15 [00:45<00:00,  3.02s/it]\n",
            "100%|██████████| 15/15 [00:43<00:00,  2.89s/it]\n",
            "100%|██████████| 15/15 [00:43<00:00,  2.90s/it]\n",
            "100%|██████████| 15/15 [00:48<00:00,  3.23s/it]\n",
            "100%|██████████| 15/15 [00:46<00:00,  3.12s/it]\n"
          ]
        },
        {
          "name": "stdout",
          "output_type": "stream",
          "text": [
            "Epoch: 10, Train loss: 5.583130948834334, Val metrics: {'r2': -0.07179712612225297, 'mae': 3.9104057593590906, 'rmse': 4.799617009060782}\n"
          ]
        },
        {
          "name": "stderr",
          "output_type": "stream",
          "text": [
            "100%|██████████| 15/15 [00:45<00:00,  3.05s/it]\n",
            "100%|██████████| 15/15 [00:43<00:00,  2.92s/it]\n",
            "100%|██████████| 15/15 [00:43<00:00,  2.91s/it]\n",
            "100%|██████████| 15/15 [00:43<00:00,  2.88s/it]\n",
            "100%|██████████| 15/15 [00:45<00:00,  3.02s/it]\n",
            "100%|██████████| 15/15 [00:45<00:00,  3.00s/it]\n",
            "100%|██████████| 15/15 [00:44<00:00,  2.95s/it]\n",
            "100%|██████████| 15/15 [00:46<00:00,  3.07s/it]\n",
            "100%|██████████| 15/15 [00:44<00:00,  2.98s/it]\n",
            "100%|██████████| 15/15 [00:43<00:00,  2.87s/it]\n"
          ]
        },
        {
          "name": "stdout",
          "output_type": "stream",
          "text": [
            "Epoch: 20, Train loss: 4.7875768393937905, Val metrics: {'r2': 0.2588605663446292, 'mae': 3.1584135095039527, 'rmse': 3.991170218260791}\n"
          ]
        },
        {
          "name": "stderr",
          "output_type": "stream",
          "text": [
            "100%|██████████| 15/15 [00:45<00:00,  3.05s/it]\n",
            "100%|██████████| 15/15 [00:50<00:00,  3.34s/it]\n",
            "100%|██████████| 15/15 [00:45<00:00,  3.03s/it]\n",
            "100%|██████████| 15/15 [00:45<00:00,  3.06s/it]\n",
            "100%|██████████| 15/15 [00:43<00:00,  2.87s/it]\n",
            "100%|██████████| 15/15 [00:45<00:00,  3.03s/it]\n",
            "100%|██████████| 15/15 [00:45<00:00,  3.02s/it]\n",
            "100%|██████████| 15/15 [00:48<00:00,  3.21s/it]\n",
            "100%|██████████| 15/15 [00:44<00:00,  2.97s/it]\n",
            "100%|██████████| 15/15 [00:45<00:00,  3.04s/it]\n"
          ]
        },
        {
          "name": "stdout",
          "output_type": "stream",
          "text": [
            "Epoch: 30, Train loss: 4.599382727126635, Val metrics: {'r2': 0.25813567296049456, 'mae': 3.2157535113409192, 'rmse': 3.9931215823781288}\n",
            "Best Val metrics for parameters Adam (\n",
            "Parameter Group 0\n",
            "    amsgrad: False\n",
            "    betas: (0.9, 0.999)\n",
            "    capturable: False\n",
            "    differentiable: False\n",
            "    eps: 1e-08\n",
            "    foreach: None\n",
            "    fused: None\n",
            "    lr: 0.001\n",
            "    maximize: False\n",
            "    weight_decay: 0.001\n",
            "), are: {'r2': 0.2723754706850158, 'mae': 3.1111904623991022, 'rmse': 3.954612686982367}\n",
            "Training with lr=0.001, batch_size=512, num_layers=3, weight_decay=0.01\n"
          ]
        },
        {
          "name": "stderr",
          "output_type": "stream",
          "text": [
            "100%|██████████| 15/15 [00:53<00:00,  3.59s/it]\n",
            "100%|██████████| 15/15 [00:49<00:00,  3.28s/it]\n",
            "100%|██████████| 15/15 [00:50<00:00,  3.35s/it]\n",
            "100%|██████████| 15/15 [00:49<00:00,  3.27s/it]\n",
            "100%|██████████| 15/15 [00:49<00:00,  3.28s/it]\n",
            "100%|██████████| 15/15 [00:50<00:00,  3.35s/it]\n",
            "100%|██████████| 15/15 [00:48<00:00,  3.21s/it]\n",
            "100%|██████████| 15/15 [00:46<00:00,  3.12s/it]\n",
            "100%|██████████| 15/15 [01:02<00:00,  4.17s/it]\n",
            "100%|██████████| 15/15 [00:54<00:00,  3.66s/it]\n"
          ]
        },
        {
          "name": "stdout",
          "output_type": "stream",
          "text": [
            "Epoch: 10, Train loss: 5.535294718827463, Val metrics: {'r2': 0.04276734817505401, 'mae': 3.750036025955108, 'rmse': 4.535853735894975}\n"
          ]
        },
        {
          "name": "stderr",
          "output_type": "stream",
          "text": [
            "100%|██████████| 15/15 [00:52<00:00,  3.50s/it]\n",
            "100%|██████████| 15/15 [00:51<00:00,  3.44s/it]\n",
            "100%|██████████| 15/15 [00:51<00:00,  3.43s/it]\n",
            "100%|██████████| 15/15 [00:50<00:00,  3.34s/it]\n",
            "100%|██████████| 15/15 [00:56<00:00,  3.79s/it]\n",
            "100%|██████████| 15/15 [01:02<00:00,  4.18s/it]\n",
            "100%|██████████| 15/15 [00:59<00:00,  3.99s/it]\n",
            "100%|██████████| 15/15 [01:14<00:00,  4.94s/it]\n",
            "100%|██████████| 15/15 [01:59<00:00,  7.97s/it]\n",
            "100%|██████████| 15/15 [01:56<00:00,  7.75s/it]\n"
          ]
        },
        {
          "name": "stdout",
          "output_type": "stream",
          "text": [
            "Epoch: 20, Train loss: 4.8443773318405485, Val metrics: {'r2': 0.18992623199793157, 'mae': 3.3749427223332975, 'rmse': 4.17265592135563}\n"
          ]
        },
        {
          "name": "stderr",
          "output_type": "stream",
          "text": [
            "100%|██████████| 15/15 [02:47<00:00, 11.14s/it]\n",
            "100%|██████████| 15/15 [02:20<00:00,  9.39s/it]\n",
            "100%|██████████| 15/15 [01:39<00:00,  6.66s/it]\n",
            "100%|██████████| 15/15 [01:46<00:00,  7.10s/it]\n",
            "100%|██████████| 15/15 [01:41<00:00,  6.80s/it]\n",
            "100%|██████████| 15/15 [01:51<00:00,  7.43s/it]\n",
            "100%|██████████| 15/15 [01:54<00:00,  7.65s/it]\n",
            "100%|██████████| 15/15 [01:45<00:00,  7.00s/it]\n",
            "100%|██████████| 15/15 [01:48<00:00,  7.23s/it]\n",
            "100%|██████████| 15/15 [01:49<00:00,  7.29s/it]\n"
          ]
        },
        {
          "name": "stdout",
          "output_type": "stream",
          "text": [
            "Epoch: 30, Train loss: 4.750729834235276, Val metrics: {'r2': 0.006069795564806801, 'mae': 3.7232044290046975, 'rmse': 4.6219818305447}\n",
            "Best Val metrics for parameters Adam (\n",
            "Parameter Group 0\n",
            "    amsgrad: False\n",
            "    betas: (0.9, 0.999)\n",
            "    capturable: False\n",
            "    differentiable: False\n",
            "    eps: 1e-08\n",
            "    foreach: None\n",
            "    fused: None\n",
            "    lr: 0.001\n",
            "    maximize: False\n",
            "    weight_decay: 0.01\n",
            "), are: {'r2': 0.23395396067428165, 'mae': 3.2350095180646528, 'rmse': 4.057679355367786}\n",
            "Training with lr=0.0001, batch_size=64, num_layers=1, weight_decay=0.0001\n"
          ]
        },
        {
          "name": "stderr",
          "output_type": "stream",
          "text": [
            "100%|██████████| 15/15 [01:00<00:00,  4.05s/it]\n",
            "100%|██████████| 15/15 [01:17<00:00,  5.13s/it]\n",
            " 53%|█████▎    | 8/15 [00:42<00:36,  5.28s/it]\n"
          ]
        },
        {
          "ename": "KeyboardInterrupt",
          "evalue": "",
          "output_type": "error",
          "traceback": [
            "\u001b[1;31m---------------------------------------------------------------------------\u001b[0m",
            "\u001b[1;31mKeyboardInterrupt\u001b[0m                         Traceback (most recent call last)",
            "Cell \u001b[1;32mIn[119], line 22\u001b[0m\n\u001b[0;32m     20\u001b[0m \u001b[38;5;28mprint\u001b[39m(\u001b[38;5;124mf\u001b[39m\u001b[38;5;124m\"\u001b[39m\u001b[38;5;124mTraining with lr=\u001b[39m\u001b[38;5;132;01m{\u001b[39;00mlr\u001b[38;5;132;01m}\u001b[39;00m\u001b[38;5;124m, batch_size=\u001b[39m\u001b[38;5;132;01m{\u001b[39;00mbatch_size\u001b[38;5;132;01m}\u001b[39;00m\u001b[38;5;124m, num_layers=\u001b[39m\u001b[38;5;132;01m{\u001b[39;00mnum_layers\u001b[38;5;132;01m}\u001b[39;00m\u001b[38;5;124m, weight_decay=\u001b[39m\u001b[38;5;132;01m{\u001b[39;00mweight_decay\u001b[38;5;132;01m}\u001b[39;00m\u001b[38;5;124m\"\u001b[39m)\n\u001b[0;32m     21\u001b[0m optimizer \u001b[38;5;241m=\u001b[39m torch\u001b[38;5;241m.\u001b[39moptim\u001b[38;5;241m.\u001b[39mAdam(model\u001b[38;5;241m.\u001b[39mparameters(), lr\u001b[38;5;241m=\u001b[39mlr, weight_decay\u001b[38;5;241m=\u001b[39mweight_decay)\n\u001b[1;32m---> 22\u001b[0m \u001b[43mtraining_function\u001b[49m\u001b[43m(\u001b[49m\u001b[43mmodel\u001b[49m\u001b[43m,\u001b[49m\u001b[43m \u001b[49m\u001b[43moptimizer\u001b[49m\u001b[43m,\u001b[49m\u001b[43m \u001b[49m\u001b[43mepochs\u001b[49m\u001b[38;5;241;43m=\u001b[39;49m\u001b[38;5;241;43m30\u001b[39;49m\u001b[43m)\u001b[49m \u001b[38;5;66;03m# Set epochs to a smaller number for testing\u001b[39;00m\n",
            "Cell \u001b[1;32mIn[118], line 6\u001b[0m, in \u001b[0;36mtraining_function\u001b[1;34m(model, optimizer, epochs)\u001b[0m\n\u001b[0;32m      4\u001b[0m best_val_metric \u001b[38;5;241m=\u001b[39m \u001b[38;5;241m-\u001b[39mmath\u001b[38;5;241m.\u001b[39minf \u001b[38;5;28;01mif\u001b[39;00m higher_is_better \u001b[38;5;28;01melse\u001b[39;00m math\u001b[38;5;241m.\u001b[39minf\n\u001b[0;32m      5\u001b[0m \u001b[38;5;28;01mfor\u001b[39;00m epoch \u001b[38;5;129;01min\u001b[39;00m \u001b[38;5;28mrange\u001b[39m(\u001b[38;5;241m1\u001b[39m, epochs \u001b[38;5;241m+\u001b[39m \u001b[38;5;241m1\u001b[39m):\n\u001b[1;32m----> 6\u001b[0m     train_loss \u001b[38;5;241m=\u001b[39m \u001b[43mtrain\u001b[49m\u001b[43m(\u001b[49m\u001b[43mmodel\u001b[49m\u001b[43m,\u001b[49m\u001b[43m \u001b[49m\u001b[43moptimizer\u001b[49m\u001b[43m)\u001b[49m\n\u001b[0;32m      7\u001b[0m     val_pred \u001b[38;5;241m=\u001b[39m test(model, loader_dict[\u001b[38;5;124m\"\u001b[39m\u001b[38;5;124mval\u001b[39m\u001b[38;5;124m\"\u001b[39m])\n\u001b[0;32m      8\u001b[0m     \u001b[38;5;66;03m#val_metrics = task.evaluate(val_pred, val_table)\u001b[39;00m\n",
            "Cell \u001b[1;32mIn[112], line 9\u001b[0m, in \u001b[0;36mtrain\u001b[1;34m(model, optimizer)\u001b[0m\n\u001b[0;32m      6\u001b[0m batch \u001b[38;5;241m=\u001b[39m batch\u001b[38;5;241m.\u001b[39mto(device)\n\u001b[0;32m      8\u001b[0m optimizer\u001b[38;5;241m.\u001b[39mzero_grad()\n\u001b[1;32m----> 9\u001b[0m pred \u001b[38;5;241m=\u001b[39m \u001b[43mmodel\u001b[49m\u001b[43m(\u001b[49m\n\u001b[0;32m     10\u001b[0m \u001b[43m    \u001b[49m\u001b[43mbatch\u001b[49m\u001b[43m,\u001b[49m\n\u001b[0;32m     11\u001b[0m \u001b[43m    \u001b[49m\u001b[43mtask\u001b[49m\u001b[38;5;241;43m.\u001b[39;49m\u001b[43mentity_table\u001b[49m\u001b[43m,\u001b[49m\n\u001b[0;32m     12\u001b[0m \u001b[43m\u001b[49m\u001b[43m)\u001b[49m\n\u001b[0;32m     13\u001b[0m pred \u001b[38;5;241m=\u001b[39m pred\u001b[38;5;241m.\u001b[39mview(\u001b[38;5;241m-\u001b[39m\u001b[38;5;241m1\u001b[39m) \u001b[38;5;28;01mif\u001b[39;00m pred\u001b[38;5;241m.\u001b[39msize(\u001b[38;5;241m1\u001b[39m) \u001b[38;5;241m==\u001b[39m \u001b[38;5;241m1\u001b[39m \u001b[38;5;28;01melse\u001b[39;00m pred\n\u001b[0;32m     15\u001b[0m loss \u001b[38;5;241m=\u001b[39m loss_fn(pred\u001b[38;5;241m.\u001b[39mfloat(), batch[entity_table]\u001b[38;5;241m.\u001b[39my\u001b[38;5;241m.\u001b[39mfloat())\n",
            "File \u001b[1;32mc:\\Users\\andrea\\Desktop\\Tesi (GNN)\\Laboratori GNNs\\venv\\lib\\site-packages\\torch\\nn\\modules\\module.py:1736\u001b[0m, in \u001b[0;36mModule._wrapped_call_impl\u001b[1;34m(self, *args, **kwargs)\u001b[0m\n\u001b[0;32m   1734\u001b[0m     \u001b[38;5;28;01mreturn\u001b[39;00m \u001b[38;5;28mself\u001b[39m\u001b[38;5;241m.\u001b[39m_compiled_call_impl(\u001b[38;5;241m*\u001b[39margs, \u001b[38;5;241m*\u001b[39m\u001b[38;5;241m*\u001b[39mkwargs)  \u001b[38;5;66;03m# type: ignore[misc]\u001b[39;00m\n\u001b[0;32m   1735\u001b[0m \u001b[38;5;28;01melse\u001b[39;00m:\n\u001b[1;32m-> 1736\u001b[0m     \u001b[38;5;28;01mreturn\u001b[39;00m \u001b[38;5;28mself\u001b[39m\u001b[38;5;241m.\u001b[39m_call_impl(\u001b[38;5;241m*\u001b[39margs, \u001b[38;5;241m*\u001b[39m\u001b[38;5;241m*\u001b[39mkwargs)\n",
            "File \u001b[1;32mc:\\Users\\andrea\\Desktop\\Tesi (GNN)\\Laboratori GNNs\\venv\\lib\\site-packages\\torch\\nn\\modules\\module.py:1747\u001b[0m, in \u001b[0;36mModule._call_impl\u001b[1;34m(self, *args, **kwargs)\u001b[0m\n\u001b[0;32m   1742\u001b[0m \u001b[38;5;66;03m# If we don't have any hooks, we want to skip the rest of the logic in\u001b[39;00m\n\u001b[0;32m   1743\u001b[0m \u001b[38;5;66;03m# this function, and just call forward.\u001b[39;00m\n\u001b[0;32m   1744\u001b[0m \u001b[38;5;28;01mif\u001b[39;00m \u001b[38;5;129;01mnot\u001b[39;00m (\u001b[38;5;28mself\u001b[39m\u001b[38;5;241m.\u001b[39m_backward_hooks \u001b[38;5;129;01mor\u001b[39;00m \u001b[38;5;28mself\u001b[39m\u001b[38;5;241m.\u001b[39m_backward_pre_hooks \u001b[38;5;129;01mor\u001b[39;00m \u001b[38;5;28mself\u001b[39m\u001b[38;5;241m.\u001b[39m_forward_hooks \u001b[38;5;129;01mor\u001b[39;00m \u001b[38;5;28mself\u001b[39m\u001b[38;5;241m.\u001b[39m_forward_pre_hooks\n\u001b[0;32m   1745\u001b[0m         \u001b[38;5;129;01mor\u001b[39;00m _global_backward_pre_hooks \u001b[38;5;129;01mor\u001b[39;00m _global_backward_hooks\n\u001b[0;32m   1746\u001b[0m         \u001b[38;5;129;01mor\u001b[39;00m _global_forward_hooks \u001b[38;5;129;01mor\u001b[39;00m _global_forward_pre_hooks):\n\u001b[1;32m-> 1747\u001b[0m     \u001b[38;5;28;01mreturn\u001b[39;00m forward_call(\u001b[38;5;241m*\u001b[39margs, \u001b[38;5;241m*\u001b[39m\u001b[38;5;241m*\u001b[39mkwargs)\n\u001b[0;32m   1749\u001b[0m result \u001b[38;5;241m=\u001b[39m \u001b[38;5;28;01mNone\u001b[39;00m\n\u001b[0;32m   1750\u001b[0m called_always_called_hooks \u001b[38;5;241m=\u001b[39m \u001b[38;5;28mset\u001b[39m()\n",
            "Cell \u001b[1;32mIn[111], line 101\u001b[0m, in \u001b[0;36mModel.forward\u001b[1;34m(self, batch, entity_table)\u001b[0m\n\u001b[0;32m     98\u001b[0m \u001b[38;5;28;01mfor\u001b[39;00m node_type, embedding \u001b[38;5;129;01min\u001b[39;00m \u001b[38;5;28mself\u001b[39m\u001b[38;5;241m.\u001b[39membedding_dict\u001b[38;5;241m.\u001b[39mitems():\n\u001b[0;32m     99\u001b[0m     x_dict[node_type] \u001b[38;5;241m=\u001b[39m x_dict[node_type] \u001b[38;5;241m+\u001b[39m embedding(batch[node_type]\u001b[38;5;241m.\u001b[39mn_id)\n\u001b[1;32m--> 101\u001b[0m x_dict \u001b[38;5;241m=\u001b[39m \u001b[38;5;28;43mself\u001b[39;49m\u001b[38;5;241;43m.\u001b[39;49m\u001b[43mgnn\u001b[49m\u001b[43m(\u001b[49m\n\u001b[0;32m    102\u001b[0m \u001b[43m    \u001b[49m\u001b[43mx_dict\u001b[49m\u001b[43m,\u001b[49m\n\u001b[0;32m    103\u001b[0m \u001b[43m    \u001b[49m\u001b[43mbatch\u001b[49m\u001b[38;5;241;43m.\u001b[39;49m\u001b[43medge_index_dict\u001b[49m\u001b[43m,\u001b[49m\n\u001b[0;32m    104\u001b[0m \u001b[43m    \u001b[49m\u001b[43mbatch\u001b[49m\u001b[38;5;241;43m.\u001b[39;49m\u001b[43mnum_sampled_nodes_dict\u001b[49m\u001b[43m,\u001b[49m\n\u001b[0;32m    105\u001b[0m \u001b[43m    \u001b[49m\u001b[43mbatch\u001b[49m\u001b[38;5;241;43m.\u001b[39;49m\u001b[43mnum_sampled_edges_dict\u001b[49m\u001b[43m,\u001b[49m\n\u001b[0;32m    106\u001b[0m \u001b[43m\u001b[49m\u001b[43m)\u001b[49m\n\u001b[0;32m    108\u001b[0m \u001b[38;5;28;01mreturn\u001b[39;00m \u001b[38;5;28mself\u001b[39m\u001b[38;5;241m.\u001b[39mhead(x_dict[entity_table][: seed_time\u001b[38;5;241m.\u001b[39msize(\u001b[38;5;241m0\u001b[39m)])\n",
            "File \u001b[1;32mc:\\Users\\andrea\\Desktop\\Tesi (GNN)\\Laboratori GNNs\\venv\\lib\\site-packages\\torch\\nn\\modules\\module.py:1736\u001b[0m, in \u001b[0;36mModule._wrapped_call_impl\u001b[1;34m(self, *args, **kwargs)\u001b[0m\n\u001b[0;32m   1734\u001b[0m     \u001b[38;5;28;01mreturn\u001b[39;00m \u001b[38;5;28mself\u001b[39m\u001b[38;5;241m.\u001b[39m_compiled_call_impl(\u001b[38;5;241m*\u001b[39margs, \u001b[38;5;241m*\u001b[39m\u001b[38;5;241m*\u001b[39mkwargs)  \u001b[38;5;66;03m# type: ignore[misc]\u001b[39;00m\n\u001b[0;32m   1735\u001b[0m \u001b[38;5;28;01melse\u001b[39;00m:\n\u001b[1;32m-> 1736\u001b[0m     \u001b[38;5;28;01mreturn\u001b[39;00m \u001b[38;5;28mself\u001b[39m\u001b[38;5;241m.\u001b[39m_call_impl(\u001b[38;5;241m*\u001b[39margs, \u001b[38;5;241m*\u001b[39m\u001b[38;5;241m*\u001b[39mkwargs)\n",
            "File \u001b[1;32mc:\\Users\\andrea\\Desktop\\Tesi (GNN)\\Laboratori GNNs\\venv\\lib\\site-packages\\torch\\nn\\modules\\module.py:1747\u001b[0m, in \u001b[0;36mModule._call_impl\u001b[1;34m(self, *args, **kwargs)\u001b[0m\n\u001b[0;32m   1742\u001b[0m \u001b[38;5;66;03m# If we don't have any hooks, we want to skip the rest of the logic in\u001b[39;00m\n\u001b[0;32m   1743\u001b[0m \u001b[38;5;66;03m# this function, and just call forward.\u001b[39;00m\n\u001b[0;32m   1744\u001b[0m \u001b[38;5;28;01mif\u001b[39;00m \u001b[38;5;129;01mnot\u001b[39;00m (\u001b[38;5;28mself\u001b[39m\u001b[38;5;241m.\u001b[39m_backward_hooks \u001b[38;5;129;01mor\u001b[39;00m \u001b[38;5;28mself\u001b[39m\u001b[38;5;241m.\u001b[39m_backward_pre_hooks \u001b[38;5;129;01mor\u001b[39;00m \u001b[38;5;28mself\u001b[39m\u001b[38;5;241m.\u001b[39m_forward_hooks \u001b[38;5;129;01mor\u001b[39;00m \u001b[38;5;28mself\u001b[39m\u001b[38;5;241m.\u001b[39m_forward_pre_hooks\n\u001b[0;32m   1745\u001b[0m         \u001b[38;5;129;01mor\u001b[39;00m _global_backward_pre_hooks \u001b[38;5;129;01mor\u001b[39;00m _global_backward_hooks\n\u001b[0;32m   1746\u001b[0m         \u001b[38;5;129;01mor\u001b[39;00m _global_forward_hooks \u001b[38;5;129;01mor\u001b[39;00m _global_forward_pre_hooks):\n\u001b[1;32m-> 1747\u001b[0m     \u001b[38;5;28;01mreturn\u001b[39;00m forward_call(\u001b[38;5;241m*\u001b[39margs, \u001b[38;5;241m*\u001b[39m\u001b[38;5;241m*\u001b[39mkwargs)\n\u001b[0;32m   1749\u001b[0m result \u001b[38;5;241m=\u001b[39m \u001b[38;5;28;01mNone\u001b[39;00m\n\u001b[0;32m   1750\u001b[0m called_always_called_hooks \u001b[38;5;241m=\u001b[39m \u001b[38;5;28mset\u001b[39m()\n",
            "File \u001b[1;32mc:\\Users\\andrea\\Desktop\\Tesi (GNN)\\Laboratori GNNs\\venv\\lib\\site-packages\\relbench\\modeling\\nn.py:169\u001b[0m, in \u001b[0;36mHeteroGraphSAGE.forward\u001b[1;34m(self, x_dict, edge_index_dict, num_sampled_nodes_dict, num_sampled_edges_dict)\u001b[0m\n\u001b[0;32m    161\u001b[0m \u001b[38;5;28;01mdef\u001b[39;00m\u001b[38;5;250m \u001b[39m\u001b[38;5;21mforward\u001b[39m(\n\u001b[0;32m    162\u001b[0m     \u001b[38;5;28mself\u001b[39m,\n\u001b[0;32m    163\u001b[0m     x_dict: Dict[NodeType, Tensor],\n\u001b[1;32m   (...)\u001b[0m\n\u001b[0;32m    166\u001b[0m     num_sampled_edges_dict: Optional[Dict[EdgeType, List[\u001b[38;5;28mint\u001b[39m]]] \u001b[38;5;241m=\u001b[39m \u001b[38;5;28;01mNone\u001b[39;00m,\n\u001b[0;32m    167\u001b[0m ) \u001b[38;5;241m-\u001b[39m\u001b[38;5;241m>\u001b[39m Dict[NodeType, Tensor]:\n\u001b[0;32m    168\u001b[0m     \u001b[38;5;28;01mfor\u001b[39;00m _, (conv, norm_dict) \u001b[38;5;129;01min\u001b[39;00m \u001b[38;5;28menumerate\u001b[39m(\u001b[38;5;28mzip\u001b[39m(\u001b[38;5;28mself\u001b[39m\u001b[38;5;241m.\u001b[39mconvs, \u001b[38;5;28mself\u001b[39m\u001b[38;5;241m.\u001b[39mnorms)):\n\u001b[1;32m--> 169\u001b[0m         x_dict \u001b[38;5;241m=\u001b[39m \u001b[43mconv\u001b[49m\u001b[43m(\u001b[49m\u001b[43mx_dict\u001b[49m\u001b[43m,\u001b[49m\u001b[43m \u001b[49m\u001b[43medge_index_dict\u001b[49m\u001b[43m)\u001b[49m\n\u001b[0;32m    170\u001b[0m         x_dict \u001b[38;5;241m=\u001b[39m {key: norm_dict[key](x) \u001b[38;5;28;01mfor\u001b[39;00m key, x \u001b[38;5;129;01min\u001b[39;00m x_dict\u001b[38;5;241m.\u001b[39mitems()}\n\u001b[0;32m    171\u001b[0m         x_dict \u001b[38;5;241m=\u001b[39m {key: x\u001b[38;5;241m.\u001b[39mrelu() \u001b[38;5;28;01mfor\u001b[39;00m key, x \u001b[38;5;129;01min\u001b[39;00m x_dict\u001b[38;5;241m.\u001b[39mitems()}\n",
            "File \u001b[1;32mc:\\Users\\andrea\\Desktop\\Tesi (GNN)\\Laboratori GNNs\\venv\\lib\\site-packages\\torch\\nn\\modules\\module.py:1736\u001b[0m, in \u001b[0;36mModule._wrapped_call_impl\u001b[1;34m(self, *args, **kwargs)\u001b[0m\n\u001b[0;32m   1734\u001b[0m     \u001b[38;5;28;01mreturn\u001b[39;00m \u001b[38;5;28mself\u001b[39m\u001b[38;5;241m.\u001b[39m_compiled_call_impl(\u001b[38;5;241m*\u001b[39margs, \u001b[38;5;241m*\u001b[39m\u001b[38;5;241m*\u001b[39mkwargs)  \u001b[38;5;66;03m# type: ignore[misc]\u001b[39;00m\n\u001b[0;32m   1735\u001b[0m \u001b[38;5;28;01melse\u001b[39;00m:\n\u001b[1;32m-> 1736\u001b[0m     \u001b[38;5;28;01mreturn\u001b[39;00m \u001b[38;5;28mself\u001b[39m\u001b[38;5;241m.\u001b[39m_call_impl(\u001b[38;5;241m*\u001b[39margs, \u001b[38;5;241m*\u001b[39m\u001b[38;5;241m*\u001b[39mkwargs)\n",
            "File \u001b[1;32mc:\\Users\\andrea\\Desktop\\Tesi (GNN)\\Laboratori GNNs\\venv\\lib\\site-packages\\torch\\nn\\modules\\module.py:1747\u001b[0m, in \u001b[0;36mModule._call_impl\u001b[1;34m(self, *args, **kwargs)\u001b[0m\n\u001b[0;32m   1742\u001b[0m \u001b[38;5;66;03m# If we don't have any hooks, we want to skip the rest of the logic in\u001b[39;00m\n\u001b[0;32m   1743\u001b[0m \u001b[38;5;66;03m# this function, and just call forward.\u001b[39;00m\n\u001b[0;32m   1744\u001b[0m \u001b[38;5;28;01mif\u001b[39;00m \u001b[38;5;129;01mnot\u001b[39;00m (\u001b[38;5;28mself\u001b[39m\u001b[38;5;241m.\u001b[39m_backward_hooks \u001b[38;5;129;01mor\u001b[39;00m \u001b[38;5;28mself\u001b[39m\u001b[38;5;241m.\u001b[39m_backward_pre_hooks \u001b[38;5;129;01mor\u001b[39;00m \u001b[38;5;28mself\u001b[39m\u001b[38;5;241m.\u001b[39m_forward_hooks \u001b[38;5;129;01mor\u001b[39;00m \u001b[38;5;28mself\u001b[39m\u001b[38;5;241m.\u001b[39m_forward_pre_hooks\n\u001b[0;32m   1745\u001b[0m         \u001b[38;5;129;01mor\u001b[39;00m _global_backward_pre_hooks \u001b[38;5;129;01mor\u001b[39;00m _global_backward_hooks\n\u001b[0;32m   1746\u001b[0m         \u001b[38;5;129;01mor\u001b[39;00m _global_forward_hooks \u001b[38;5;129;01mor\u001b[39;00m _global_forward_pre_hooks):\n\u001b[1;32m-> 1747\u001b[0m     \u001b[38;5;28;01mreturn\u001b[39;00m forward_call(\u001b[38;5;241m*\u001b[39margs, \u001b[38;5;241m*\u001b[39m\u001b[38;5;241m*\u001b[39mkwargs)\n\u001b[0;32m   1749\u001b[0m result \u001b[38;5;241m=\u001b[39m \u001b[38;5;28;01mNone\u001b[39;00m\n\u001b[0;32m   1750\u001b[0m called_always_called_hooks \u001b[38;5;241m=\u001b[39m \u001b[38;5;28mset\u001b[39m()\n",
            "File \u001b[1;32mc:\\Users\\andrea\\Desktop\\Tesi (GNN)\\Laboratori GNNs\\venv\\lib\\site-packages\\torch_geometric\\nn\\conv\\hetero_conv.py:158\u001b[0m, in \u001b[0;36mHeteroConv.forward\u001b[1;34m(self, *args_dict, **kwargs_dict)\u001b[0m\n\u001b[0;32m    155\u001b[0m \u001b[38;5;28;01mif\u001b[39;00m \u001b[38;5;129;01mnot\u001b[39;00m has_edge_level_arg:\n\u001b[0;32m    156\u001b[0m     \u001b[38;5;28;01mcontinue\u001b[39;00m\n\u001b[1;32m--> 158\u001b[0m out \u001b[38;5;241m=\u001b[39m conv(\u001b[38;5;241m*\u001b[39margs, \u001b[38;5;241m*\u001b[39m\u001b[38;5;241m*\u001b[39mkwargs)\n\u001b[0;32m    160\u001b[0m \u001b[38;5;28;01mif\u001b[39;00m dst \u001b[38;5;129;01mnot\u001b[39;00m \u001b[38;5;129;01min\u001b[39;00m out_dict:\n\u001b[0;32m    161\u001b[0m     out_dict[dst] \u001b[38;5;241m=\u001b[39m [out]\n",
            "File \u001b[1;32mc:\\Users\\andrea\\Desktop\\Tesi (GNN)\\Laboratori GNNs\\venv\\lib\\site-packages\\torch\\nn\\modules\\module.py:1736\u001b[0m, in \u001b[0;36mModule._wrapped_call_impl\u001b[1;34m(self, *args, **kwargs)\u001b[0m\n\u001b[0;32m   1734\u001b[0m     \u001b[38;5;28;01mreturn\u001b[39;00m \u001b[38;5;28mself\u001b[39m\u001b[38;5;241m.\u001b[39m_compiled_call_impl(\u001b[38;5;241m*\u001b[39margs, \u001b[38;5;241m*\u001b[39m\u001b[38;5;241m*\u001b[39mkwargs)  \u001b[38;5;66;03m# type: ignore[misc]\u001b[39;00m\n\u001b[0;32m   1735\u001b[0m \u001b[38;5;28;01melse\u001b[39;00m:\n\u001b[1;32m-> 1736\u001b[0m     \u001b[38;5;28;01mreturn\u001b[39;00m \u001b[38;5;28mself\u001b[39m\u001b[38;5;241m.\u001b[39m_call_impl(\u001b[38;5;241m*\u001b[39margs, \u001b[38;5;241m*\u001b[39m\u001b[38;5;241m*\u001b[39mkwargs)\n",
            "File \u001b[1;32mc:\\Users\\andrea\\Desktop\\Tesi (GNN)\\Laboratori GNNs\\venv\\lib\\site-packages\\torch\\nn\\modules\\module.py:1747\u001b[0m, in \u001b[0;36mModule._call_impl\u001b[1;34m(self, *args, **kwargs)\u001b[0m\n\u001b[0;32m   1742\u001b[0m \u001b[38;5;66;03m# If we don't have any hooks, we want to skip the rest of the logic in\u001b[39;00m\n\u001b[0;32m   1743\u001b[0m \u001b[38;5;66;03m# this function, and just call forward.\u001b[39;00m\n\u001b[0;32m   1744\u001b[0m \u001b[38;5;28;01mif\u001b[39;00m \u001b[38;5;129;01mnot\u001b[39;00m (\u001b[38;5;28mself\u001b[39m\u001b[38;5;241m.\u001b[39m_backward_hooks \u001b[38;5;129;01mor\u001b[39;00m \u001b[38;5;28mself\u001b[39m\u001b[38;5;241m.\u001b[39m_backward_pre_hooks \u001b[38;5;129;01mor\u001b[39;00m \u001b[38;5;28mself\u001b[39m\u001b[38;5;241m.\u001b[39m_forward_hooks \u001b[38;5;129;01mor\u001b[39;00m \u001b[38;5;28mself\u001b[39m\u001b[38;5;241m.\u001b[39m_forward_pre_hooks\n\u001b[0;32m   1745\u001b[0m         \u001b[38;5;129;01mor\u001b[39;00m _global_backward_pre_hooks \u001b[38;5;129;01mor\u001b[39;00m _global_backward_hooks\n\u001b[0;32m   1746\u001b[0m         \u001b[38;5;129;01mor\u001b[39;00m _global_forward_hooks \u001b[38;5;129;01mor\u001b[39;00m _global_forward_pre_hooks):\n\u001b[1;32m-> 1747\u001b[0m     \u001b[38;5;28;01mreturn\u001b[39;00m forward_call(\u001b[38;5;241m*\u001b[39margs, \u001b[38;5;241m*\u001b[39m\u001b[38;5;241m*\u001b[39mkwargs)\n\u001b[0;32m   1749\u001b[0m result \u001b[38;5;241m=\u001b[39m \u001b[38;5;28;01mNone\u001b[39;00m\n\u001b[0;32m   1750\u001b[0m called_always_called_hooks \u001b[38;5;241m=\u001b[39m \u001b[38;5;28mset\u001b[39m()\n",
            "File \u001b[1;32mc:\\Users\\andrea\\Desktop\\Tesi (GNN)\\Laboratori GNNs\\venv\\lib\\site-packages\\torch_geometric\\nn\\conv\\sage_conv.py:134\u001b[0m, in \u001b[0;36mSAGEConv.forward\u001b[1;34m(self, x, edge_index, size)\u001b[0m\n\u001b[0;32m    131\u001b[0m     x \u001b[38;5;241m=\u001b[39m (\u001b[38;5;28mself\u001b[39m\u001b[38;5;241m.\u001b[39mlin(x[\u001b[38;5;241m0\u001b[39m])\u001b[38;5;241m.\u001b[39mrelu(), x[\u001b[38;5;241m1\u001b[39m])\n\u001b[0;32m    133\u001b[0m \u001b[38;5;66;03m# propagate_type: (x: OptPairTensor)\u001b[39;00m\n\u001b[1;32m--> 134\u001b[0m out \u001b[38;5;241m=\u001b[39m \u001b[38;5;28;43mself\u001b[39;49m\u001b[38;5;241;43m.\u001b[39;49m\u001b[43mpropagate\u001b[49m\u001b[43m(\u001b[49m\u001b[43medge_index\u001b[49m\u001b[43m,\u001b[49m\u001b[43m \u001b[49m\u001b[43mx\u001b[49m\u001b[38;5;241;43m=\u001b[39;49m\u001b[43mx\u001b[49m\u001b[43m,\u001b[49m\u001b[43m \u001b[49m\u001b[43msize\u001b[49m\u001b[38;5;241;43m=\u001b[39;49m\u001b[43msize\u001b[49m\u001b[43m)\u001b[49m\n\u001b[0;32m    135\u001b[0m out \u001b[38;5;241m=\u001b[39m \u001b[38;5;28mself\u001b[39m\u001b[38;5;241m.\u001b[39mlin_l(out)\n\u001b[0;32m    137\u001b[0m x_r \u001b[38;5;241m=\u001b[39m x[\u001b[38;5;241m1\u001b[39m]\n",
            "File \u001b[1;32m~\\AppData\\Local\\Temp\\torch_geometric.nn.conv.sage_conv_SAGEConv_propagate_9ufnqnhk.py:229\u001b[0m, in \u001b[0;36mpropagate\u001b[1;34m(self, edge_index, x, size)\u001b[0m\n\u001b[0;32m    221\u001b[0m             kwargs \u001b[38;5;241m=\u001b[39m CollectArgs(\n\u001b[0;32m    222\u001b[0m                 x_j\u001b[38;5;241m=\u001b[39mkwargs\u001b[38;5;241m.\u001b[39mx_j,\n\u001b[0;32m    223\u001b[0m                 index\u001b[38;5;241m=\u001b[39mhook_kwargs[\u001b[38;5;124m'\u001b[39m\u001b[38;5;124mindex\u001b[39m\u001b[38;5;124m'\u001b[39m],\n\u001b[0;32m    224\u001b[0m                 ptr\u001b[38;5;241m=\u001b[39mhook_kwargs[\u001b[38;5;124m'\u001b[39m\u001b[38;5;124mptr\u001b[39m\u001b[38;5;124m'\u001b[39m],\n\u001b[0;32m    225\u001b[0m                 dim_size\u001b[38;5;241m=\u001b[39mhook_kwargs[\u001b[38;5;124m'\u001b[39m\u001b[38;5;124mdim_size\u001b[39m\u001b[38;5;124m'\u001b[39m],\n\u001b[0;32m    226\u001b[0m             )\n\u001b[0;32m    227\u001b[0m \u001b[38;5;66;03m# End Aggregate Forward Pre Hook #######################################\u001b[39;00m\n\u001b[1;32m--> 229\u001b[0m out \u001b[38;5;241m=\u001b[39m \u001b[38;5;28;43mself\u001b[39;49m\u001b[38;5;241;43m.\u001b[39;49m\u001b[43maggregate\u001b[49m\u001b[43m(\u001b[49m\n\u001b[0;32m    230\u001b[0m \u001b[43m    \u001b[49m\u001b[43mout\u001b[49m\u001b[43m,\u001b[49m\n\u001b[0;32m    231\u001b[0m \u001b[43m    \u001b[49m\u001b[43mindex\u001b[49m\u001b[38;5;241;43m=\u001b[39;49m\u001b[43mkwargs\u001b[49m\u001b[38;5;241;43m.\u001b[39;49m\u001b[43mindex\u001b[49m\u001b[43m,\u001b[49m\n\u001b[0;32m    232\u001b[0m \u001b[43m    \u001b[49m\u001b[43mptr\u001b[49m\u001b[38;5;241;43m=\u001b[39;49m\u001b[43mkwargs\u001b[49m\u001b[38;5;241;43m.\u001b[39;49m\u001b[43mptr\u001b[49m\u001b[43m,\u001b[49m\n\u001b[0;32m    233\u001b[0m \u001b[43m    \u001b[49m\u001b[43mdim_size\u001b[49m\u001b[38;5;241;43m=\u001b[39;49m\u001b[43mkwargs\u001b[49m\u001b[38;5;241;43m.\u001b[39;49m\u001b[43mdim_size\u001b[49m\u001b[43m,\u001b[49m\n\u001b[0;32m    234\u001b[0m \u001b[43m\u001b[49m\u001b[43m)\u001b[49m\n\u001b[0;32m    236\u001b[0m \u001b[38;5;66;03m# Begin Aggregate Forward Hook #########################################\u001b[39;00m\n\u001b[0;32m    237\u001b[0m \u001b[38;5;28;01mif\u001b[39;00m \u001b[38;5;129;01mnot\u001b[39;00m torch\u001b[38;5;241m.\u001b[39mjit\u001b[38;5;241m.\u001b[39mis_scripting() \u001b[38;5;129;01mand\u001b[39;00m \u001b[38;5;129;01mnot\u001b[39;00m is_compiling():\n",
            "File \u001b[1;32mc:\\Users\\andrea\\Desktop\\Tesi (GNN)\\Laboratori GNNs\\venv\\lib\\site-packages\\torch_geometric\\nn\\conv\\message_passing.py:594\u001b[0m, in \u001b[0;36mMessagePassing.aggregate\u001b[1;34m(self, inputs, index, ptr, dim_size)\u001b[0m\n\u001b[0;32m    577\u001b[0m \u001b[38;5;28;01mdef\u001b[39;00m\u001b[38;5;250m \u001b[39m\u001b[38;5;21maggregate\u001b[39m(\n\u001b[0;32m    578\u001b[0m     \u001b[38;5;28mself\u001b[39m,\n\u001b[0;32m    579\u001b[0m     inputs: Tensor,\n\u001b[1;32m   (...)\u001b[0m\n\u001b[0;32m    582\u001b[0m     dim_size: Optional[\u001b[38;5;28mint\u001b[39m] \u001b[38;5;241m=\u001b[39m \u001b[38;5;28;01mNone\u001b[39;00m,\n\u001b[0;32m    583\u001b[0m ) \u001b[38;5;241m-\u001b[39m\u001b[38;5;241m>\u001b[39m Tensor:\n\u001b[0;32m    584\u001b[0m \u001b[38;5;250m    \u001b[39m\u001b[38;5;124mr\u001b[39m\u001b[38;5;124;03m\"\"\"Aggregates messages from neighbors as\u001b[39;00m\n\u001b[0;32m    585\u001b[0m \u001b[38;5;124;03m    :math:`\\bigoplus_{j \\in \\mathcal{N}(i)}`.\u001b[39;00m\n\u001b[0;32m    586\u001b[0m \n\u001b[1;32m   (...)\u001b[0m\n\u001b[0;32m    592\u001b[0m \u001b[38;5;124;03m    as specified in :meth:`__init__` by the :obj:`aggr` argument.\u001b[39;00m\n\u001b[0;32m    593\u001b[0m \u001b[38;5;124;03m    \"\"\"\u001b[39;00m\n\u001b[1;32m--> 594\u001b[0m     \u001b[38;5;28;01mreturn\u001b[39;00m \u001b[38;5;28;43mself\u001b[39;49m\u001b[38;5;241;43m.\u001b[39;49m\u001b[43maggr_module\u001b[49m\u001b[43m(\u001b[49m\u001b[43minputs\u001b[49m\u001b[43m,\u001b[49m\u001b[43m \u001b[49m\u001b[43mindex\u001b[49m\u001b[43m,\u001b[49m\u001b[43m \u001b[49m\u001b[43mptr\u001b[49m\u001b[38;5;241;43m=\u001b[39;49m\u001b[43mptr\u001b[49m\u001b[43m,\u001b[49m\u001b[43m \u001b[49m\u001b[43mdim_size\u001b[49m\u001b[38;5;241;43m=\u001b[39;49m\u001b[43mdim_size\u001b[49m\u001b[43m,\u001b[49m\n\u001b[0;32m    595\u001b[0m \u001b[43m                            \u001b[49m\u001b[43mdim\u001b[49m\u001b[38;5;241;43m=\u001b[39;49m\u001b[38;5;28;43mself\u001b[39;49m\u001b[38;5;241;43m.\u001b[39;49m\u001b[43mnode_dim\u001b[49m\u001b[43m)\u001b[49m\n",
            "File \u001b[1;32mc:\\Users\\andrea\\Desktop\\Tesi (GNN)\\Laboratori GNNs\\venv\\lib\\site-packages\\torch_geometric\\experimental.py:117\u001b[0m, in \u001b[0;36mdisable_dynamic_shapes.<locals>.decorator.<locals>.wrapper\u001b[1;34m(*args, **kwargs)\u001b[0m\n\u001b[0;32m    114\u001b[0m \u001b[38;5;129m@functools\u001b[39m\u001b[38;5;241m.\u001b[39mwraps(func)\n\u001b[0;32m    115\u001b[0m \u001b[38;5;28;01mdef\u001b[39;00m\u001b[38;5;250m \u001b[39m\u001b[38;5;21mwrapper\u001b[39m(\u001b[38;5;241m*\u001b[39margs: Any, \u001b[38;5;241m*\u001b[39m\u001b[38;5;241m*\u001b[39mkwargs: Any) \u001b[38;5;241m-\u001b[39m\u001b[38;5;241m>\u001b[39m Any:\n\u001b[0;32m    116\u001b[0m     \u001b[38;5;28;01mif\u001b[39;00m \u001b[38;5;129;01mnot\u001b[39;00m is_experimental_mode_enabled(\u001b[38;5;124m'\u001b[39m\u001b[38;5;124mdisable_dynamic_shapes\u001b[39m\u001b[38;5;124m'\u001b[39m):\n\u001b[1;32m--> 117\u001b[0m         \u001b[38;5;28;01mreturn\u001b[39;00m func(\u001b[38;5;241m*\u001b[39margs, \u001b[38;5;241m*\u001b[39m\u001b[38;5;241m*\u001b[39mkwargs)\n\u001b[0;32m    119\u001b[0m     \u001b[38;5;28;01mfor\u001b[39;00m required_arg \u001b[38;5;129;01min\u001b[39;00m required_args:\n\u001b[0;32m    120\u001b[0m         index \u001b[38;5;241m=\u001b[39m required_args_pos[required_arg]\n",
            "File \u001b[1;32mc:\\Users\\andrea\\Desktop\\Tesi (GNN)\\Laboratori GNNs\\venv\\lib\\site-packages\\torch_geometric\\nn\\aggr\\base.py:131\u001b[0m, in \u001b[0;36mAggregation.__call__\u001b[1;34m(self, x, index, ptr, dim_size, dim, **kwargs)\u001b[0m\n\u001b[0;32m    128\u001b[0m     dim_size \u001b[38;5;241m=\u001b[39m \u001b[38;5;28mint\u001b[39m(index\u001b[38;5;241m.\u001b[39mmax()) \u001b[38;5;241m+\u001b[39m \u001b[38;5;241m1\u001b[39m \u001b[38;5;28;01mif\u001b[39;00m index\u001b[38;5;241m.\u001b[39mnumel() \u001b[38;5;241m>\u001b[39m \u001b[38;5;241m0\u001b[39m \u001b[38;5;28;01melse\u001b[39;00m \u001b[38;5;241m0\u001b[39m\n\u001b[0;32m    130\u001b[0m \u001b[38;5;28;01mtry\u001b[39;00m:\n\u001b[1;32m--> 131\u001b[0m     \u001b[38;5;28;01mreturn\u001b[39;00m \u001b[38;5;28msuper\u001b[39m()\u001b[38;5;241m.\u001b[39m\u001b[38;5;21m__call__\u001b[39m(x, index\u001b[38;5;241m=\u001b[39mindex, ptr\u001b[38;5;241m=\u001b[39mptr, dim_size\u001b[38;5;241m=\u001b[39mdim_size,\n\u001b[0;32m    132\u001b[0m                             dim\u001b[38;5;241m=\u001b[39mdim, \u001b[38;5;241m*\u001b[39m\u001b[38;5;241m*\u001b[39mkwargs)\n\u001b[0;32m    133\u001b[0m \u001b[38;5;28;01mexcept\u001b[39;00m (\u001b[38;5;167;01mIndexError\u001b[39;00m, \u001b[38;5;167;01mRuntimeError\u001b[39;00m) \u001b[38;5;28;01mas\u001b[39;00m e:\n\u001b[0;32m    134\u001b[0m     \u001b[38;5;28;01mif\u001b[39;00m index \u001b[38;5;129;01mis\u001b[39;00m \u001b[38;5;129;01mnot\u001b[39;00m \u001b[38;5;28;01mNone\u001b[39;00m:\n",
            "File \u001b[1;32mc:\\Users\\andrea\\Desktop\\Tesi (GNN)\\Laboratori GNNs\\venv\\lib\\site-packages\\torch\\nn\\modules\\module.py:1736\u001b[0m, in \u001b[0;36mModule._wrapped_call_impl\u001b[1;34m(self, *args, **kwargs)\u001b[0m\n\u001b[0;32m   1734\u001b[0m     \u001b[38;5;28;01mreturn\u001b[39;00m \u001b[38;5;28mself\u001b[39m\u001b[38;5;241m.\u001b[39m_compiled_call_impl(\u001b[38;5;241m*\u001b[39margs, \u001b[38;5;241m*\u001b[39m\u001b[38;5;241m*\u001b[39mkwargs)  \u001b[38;5;66;03m# type: ignore[misc]\u001b[39;00m\n\u001b[0;32m   1735\u001b[0m \u001b[38;5;28;01melse\u001b[39;00m:\n\u001b[1;32m-> 1736\u001b[0m     \u001b[38;5;28;01mreturn\u001b[39;00m \u001b[38;5;28mself\u001b[39m\u001b[38;5;241m.\u001b[39m_call_impl(\u001b[38;5;241m*\u001b[39margs, \u001b[38;5;241m*\u001b[39m\u001b[38;5;241m*\u001b[39mkwargs)\n",
            "File \u001b[1;32mc:\\Users\\andrea\\Desktop\\Tesi (GNN)\\Laboratori GNNs\\venv\\lib\\site-packages\\torch\\nn\\modules\\module.py:1747\u001b[0m, in \u001b[0;36mModule._call_impl\u001b[1;34m(self, *args, **kwargs)\u001b[0m\n\u001b[0;32m   1742\u001b[0m \u001b[38;5;66;03m# If we don't have any hooks, we want to skip the rest of the logic in\u001b[39;00m\n\u001b[0;32m   1743\u001b[0m \u001b[38;5;66;03m# this function, and just call forward.\u001b[39;00m\n\u001b[0;32m   1744\u001b[0m \u001b[38;5;28;01mif\u001b[39;00m \u001b[38;5;129;01mnot\u001b[39;00m (\u001b[38;5;28mself\u001b[39m\u001b[38;5;241m.\u001b[39m_backward_hooks \u001b[38;5;129;01mor\u001b[39;00m \u001b[38;5;28mself\u001b[39m\u001b[38;5;241m.\u001b[39m_backward_pre_hooks \u001b[38;5;129;01mor\u001b[39;00m \u001b[38;5;28mself\u001b[39m\u001b[38;5;241m.\u001b[39m_forward_hooks \u001b[38;5;129;01mor\u001b[39;00m \u001b[38;5;28mself\u001b[39m\u001b[38;5;241m.\u001b[39m_forward_pre_hooks\n\u001b[0;32m   1745\u001b[0m         \u001b[38;5;129;01mor\u001b[39;00m _global_backward_pre_hooks \u001b[38;5;129;01mor\u001b[39;00m _global_backward_hooks\n\u001b[0;32m   1746\u001b[0m         \u001b[38;5;129;01mor\u001b[39;00m _global_forward_hooks \u001b[38;5;129;01mor\u001b[39;00m _global_forward_pre_hooks):\n\u001b[1;32m-> 1747\u001b[0m     \u001b[38;5;28;01mreturn\u001b[39;00m forward_call(\u001b[38;5;241m*\u001b[39margs, \u001b[38;5;241m*\u001b[39m\u001b[38;5;241m*\u001b[39mkwargs)\n\u001b[0;32m   1749\u001b[0m result \u001b[38;5;241m=\u001b[39m \u001b[38;5;28;01mNone\u001b[39;00m\n\u001b[0;32m   1750\u001b[0m called_always_called_hooks \u001b[38;5;241m=\u001b[39m \u001b[38;5;28mset\u001b[39m()\n",
            "File \u001b[1;32mc:\\Users\\andrea\\Desktop\\Tesi (GNN)\\Laboratori GNNs\\venv\\lib\\site-packages\\torch_geometric\\nn\\aggr\\basic.py:22\u001b[0m, in \u001b[0;36mSumAggregation.forward\u001b[1;34m(self, x, index, ptr, dim_size, dim)\u001b[0m\n\u001b[0;32m     19\u001b[0m \u001b[38;5;28;01mdef\u001b[39;00m\u001b[38;5;250m \u001b[39m\u001b[38;5;21mforward\u001b[39m(\u001b[38;5;28mself\u001b[39m, x: Tensor, index: Optional[Tensor] \u001b[38;5;241m=\u001b[39m \u001b[38;5;28;01mNone\u001b[39;00m,\n\u001b[0;32m     20\u001b[0m             ptr: Optional[Tensor] \u001b[38;5;241m=\u001b[39m \u001b[38;5;28;01mNone\u001b[39;00m, dim_size: Optional[\u001b[38;5;28mint\u001b[39m] \u001b[38;5;241m=\u001b[39m \u001b[38;5;28;01mNone\u001b[39;00m,\n\u001b[0;32m     21\u001b[0m             dim: \u001b[38;5;28mint\u001b[39m \u001b[38;5;241m=\u001b[39m \u001b[38;5;241m-\u001b[39m\u001b[38;5;241m2\u001b[39m) \u001b[38;5;241m-\u001b[39m\u001b[38;5;241m>\u001b[39m Tensor:\n\u001b[1;32m---> 22\u001b[0m     \u001b[38;5;28;01mreturn\u001b[39;00m \u001b[38;5;28;43mself\u001b[39;49m\u001b[38;5;241;43m.\u001b[39;49m\u001b[43mreduce\u001b[49m\u001b[43m(\u001b[49m\u001b[43mx\u001b[49m\u001b[43m,\u001b[49m\u001b[43m \u001b[49m\u001b[43mindex\u001b[49m\u001b[43m,\u001b[49m\u001b[43m \u001b[49m\u001b[43mptr\u001b[49m\u001b[43m,\u001b[49m\u001b[43m \u001b[49m\u001b[43mdim_size\u001b[49m\u001b[43m,\u001b[49m\u001b[43m \u001b[49m\u001b[43mdim\u001b[49m\u001b[43m,\u001b[49m\u001b[43m \u001b[49m\u001b[43mreduce\u001b[49m\u001b[38;5;241;43m=\u001b[39;49m\u001b[38;5;124;43m'\u001b[39;49m\u001b[38;5;124;43msum\u001b[39;49m\u001b[38;5;124;43m'\u001b[39;49m\u001b[43m)\u001b[49m\n",
            "File \u001b[1;32mc:\\Users\\andrea\\Desktop\\Tesi (GNN)\\Laboratori GNNs\\venv\\lib\\site-packages\\torch_geometric\\nn\\aggr\\base.py:185\u001b[0m, in \u001b[0;36mAggregation.reduce\u001b[1;34m(self, x, index, ptr, dim_size, dim, reduce)\u001b[0m\n\u001b[0;32m    182\u001b[0m \u001b[38;5;28;01mif\u001b[39;00m index \u001b[38;5;129;01mis\u001b[39;00m \u001b[38;5;28;01mNone\u001b[39;00m:\n\u001b[0;32m    183\u001b[0m     \u001b[38;5;28;01mraise\u001b[39;00m \u001b[38;5;167;01mRuntimeError\u001b[39;00m(\u001b[38;5;124m\"\u001b[39m\u001b[38;5;124mAggregation requires \u001b[39m\u001b[38;5;124m'\u001b[39m\u001b[38;5;124mindex\u001b[39m\u001b[38;5;124m'\u001b[39m\u001b[38;5;124m to be specified\u001b[39m\u001b[38;5;124m\"\u001b[39m)\n\u001b[1;32m--> 185\u001b[0m \u001b[38;5;28;01mreturn\u001b[39;00m \u001b[43mscatter\u001b[49m\u001b[43m(\u001b[49m\u001b[43mx\u001b[49m\u001b[43m,\u001b[49m\u001b[43m \u001b[49m\u001b[43mindex\u001b[49m\u001b[43m,\u001b[49m\u001b[43m \u001b[49m\u001b[43mdim\u001b[49m\u001b[43m,\u001b[49m\u001b[43m \u001b[49m\u001b[43mdim_size\u001b[49m\u001b[43m,\u001b[49m\u001b[43m \u001b[49m\u001b[43mreduce\u001b[49m\u001b[43m)\u001b[49m\n",
            "File \u001b[1;32mc:\\Users\\andrea\\Desktop\\Tesi (GNN)\\Laboratori GNNs\\venv\\lib\\site-packages\\torch_geometric\\utils\\_scatter.py:75\u001b[0m, in \u001b[0;36mscatter\u001b[1;34m(src, index, dim, dim_size, reduce)\u001b[0m\n\u001b[0;32m     73\u001b[0m \u001b[38;5;28;01mif\u001b[39;00m reduce \u001b[38;5;241m==\u001b[39m \u001b[38;5;124m'\u001b[39m\u001b[38;5;124msum\u001b[39m\u001b[38;5;124m'\u001b[39m \u001b[38;5;129;01mor\u001b[39;00m reduce \u001b[38;5;241m==\u001b[39m \u001b[38;5;124m'\u001b[39m\u001b[38;5;124madd\u001b[39m\u001b[38;5;124m'\u001b[39m:\n\u001b[0;32m     74\u001b[0m     index \u001b[38;5;241m=\u001b[39m broadcast(index, src, dim)\n\u001b[1;32m---> 75\u001b[0m     \u001b[38;5;28;01mreturn\u001b[39;00m \u001b[43msrc\u001b[49m\u001b[38;5;241;43m.\u001b[39;49m\u001b[43mnew_zeros\u001b[49m\u001b[43m(\u001b[49m\u001b[43msize\u001b[49m\u001b[43m)\u001b[49m\u001b[38;5;241;43m.\u001b[39;49m\u001b[43mscatter_add_\u001b[49m\u001b[43m(\u001b[49m\u001b[43mdim\u001b[49m\u001b[43m,\u001b[49m\u001b[43m \u001b[49m\u001b[43mindex\u001b[49m\u001b[43m,\u001b[49m\u001b[43m \u001b[49m\u001b[43msrc\u001b[49m\u001b[43m)\u001b[49m\n\u001b[0;32m     77\u001b[0m \u001b[38;5;28;01mif\u001b[39;00m reduce \u001b[38;5;241m==\u001b[39m \u001b[38;5;124m'\u001b[39m\u001b[38;5;124mmean\u001b[39m\u001b[38;5;124m'\u001b[39m:\n\u001b[0;32m     78\u001b[0m     count \u001b[38;5;241m=\u001b[39m src\u001b[38;5;241m.\u001b[39mnew_zeros(dim_size)\n",
            "\u001b[1;31mKeyboardInterrupt\u001b[0m: "
          ]
        }
      ],
      "source": [
        "#cross validation cycle:\n",
        "#possible learning rates: [0.01, 0.001, 0.0001, 0.00001]\n",
        "#possible batch sizes: [64, 256, 512]\n",
        "#possible number of layers: [1, 2, 3]\n",
        "#possible weight decay: [0.0001, 0.001, 0.01]\n",
        "\n",
        "for lr in [0.01, 0.001, 0.0001, 0.00001]:\n",
        "    #for batch_size in [64, 256, 512]:#63\n",
        "        for num_layers in [1, 2, 3]:#2\n",
        "            for weight_decay in [0.0001, 0.001, 0.01]:#0.001\n",
        "                model = Model(\n",
        "                    data=data,\n",
        "                    col_stats_dict=col_stats_dict,\n",
        "                    num_layers=num_layers,\n",
        "                    channels=128,\n",
        "                    out_channels=1,\n",
        "                    aggr=\"sum\",\n",
        "                    norm=\"batch_norm\",\n",
        "                ).to(device)\n",
        "                print(f\"Training with lr={lr}, num_layers={num_layers}, weight_decay={weight_decay}\")\n",
        "                optimizer = torch.optim.Adam(model.parameters(), lr=lr, weight_decay=weight_decay)\n",
        "                training_function(model, optimizer, epochs=30) # Set epochs to a smaller number for testing"
      ]
    },
    {
      "cell_type": "code",
      "execution_count": null,
      "metadata": {
        "colab": {
          "base_uri": "https://localhost:8080/",
          "height": 911
        },
        "id": "yF3W68Eqlew_",
        "outputId": "91ae72b2-0964-4a72-f100-acebbec7c95f"
      },
      "outputs": [
        {
          "name": "stderr",
          "output_type": "stream",
          "text": [
            "  0%|          | 0/15 [00:00<?, ?it/s]"
          ]
        },
        {
          "name": "stderr",
          "output_type": "stream",
          "text": [
            "100%|██████████| 15/15 [01:04<00:00,  4.31s/it]\n"
          ]
        },
        {
          "name": "stdout",
          "output_type": "stream",
          "text": [
            "Epoch: 01, Train loss: 10.928292681255005, Val metrics: {'r2': -2.2564990860389833, 'mae': 7.198385487354511, 'rmse': 8.366152369216735}\n"
          ]
        },
        {
          "name": "stderr",
          "output_type": "stream",
          "text": [
            "100%|██████████| 15/15 [00:58<00:00,  3.92s/it]\n"
          ]
        },
        {
          "name": "stdout",
          "output_type": "stream",
          "text": [
            "Epoch: 02, Train loss: 9.548831551855208, Val metrics: {'r2': -1.5591790081809953, 'mae': 6.285675815717331, 'rmse': 7.416527681204063}\n"
          ]
        },
        {
          "name": "stderr",
          "output_type": "stream",
          "text": [
            "100%|██████████| 15/15 [01:02<00:00,  4.18s/it]\n"
          ]
        },
        {
          "name": "stdout",
          "output_type": "stream",
          "text": [
            "Epoch: 03, Train loss: 8.621392637071363, Val metrics: {'r2': -0.978745931836398, 'mae': 5.463125571236263, 'rmse': 6.521467091983724}\n"
          ]
        },
        {
          "name": "stderr",
          "output_type": "stream",
          "text": [
            "100%|██████████| 15/15 [00:59<00:00,  3.94s/it]\n"
          ]
        },
        {
          "name": "stdout",
          "output_type": "stream",
          "text": [
            "Epoch: 04, Train loss: 7.751200680059026, Val metrics: {'r2': -0.5279749504102453, 'mae': 4.796467647284926, 'rmse': 5.730709671869486}\n"
          ]
        },
        {
          "name": "stderr",
          "output_type": "stream",
          "text": [
            "100%|██████████| 15/15 [00:59<00:00,  3.97s/it]\n"
          ]
        },
        {
          "name": "stdout",
          "output_type": "stream",
          "text": [
            "Epoch: 05, Train loss: 7.04013562256836, Val metrics: {'r2': -0.23359420357330762, 'mae': 4.333361753210197, 'rmse': 5.149160744203923}\n"
          ]
        },
        {
          "name": "stderr",
          "output_type": "stream",
          "text": [
            "100%|██████████| 15/15 [01:01<00:00,  4.08s/it]\n"
          ]
        },
        {
          "name": "stdout",
          "output_type": "stream",
          "text": [
            "Epoch: 06, Train loss: 6.486364720604427, Val metrics: {'r2': -0.0663466955776042, 'mae': 4.047644493240632, 'rmse': 4.787397662084978}\n"
          ]
        },
        {
          "name": "stderr",
          "output_type": "stream",
          "text": [
            "100%|██████████| 15/15 [00:58<00:00,  3.90s/it]\n"
          ]
        },
        {
          "name": "stdout",
          "output_type": "stream",
          "text": [
            "Epoch: 07, Train loss: 6.0794036781549545, Val metrics: {'r2': -0.002529286561464117, 'mae': 3.8810205128325093, 'rmse': 4.641932530829106}\n"
          ]
        },
        {
          "name": "stderr",
          "output_type": "stream",
          "text": [
            "100%|██████████| 15/15 [01:05<00:00,  4.34s/it]\n"
          ]
        },
        {
          "name": "stdout",
          "output_type": "stream",
          "text": [
            "Epoch: 08, Train loss: 5.791192693389151, Val metrics: {'r2': -0.0315042423553904, 'mae': 3.8803979021274975, 'rmse': 4.708534955024133}\n"
          ]
        },
        {
          "name": "stderr",
          "output_type": "stream",
          "text": [
            "100%|██████████| 15/15 [01:00<00:00,  4.06s/it]\n"
          ]
        },
        {
          "name": "stdout",
          "output_type": "stream",
          "text": [
            "Epoch: 09, Train loss: 5.6390259035254555, Val metrics: {'r2': -0.08727227841777707, 'mae': 3.936724068661411, 'rmse': 4.834142487922026}\n"
          ]
        },
        {
          "name": "stderr",
          "output_type": "stream",
          "text": [
            "100%|██████████| 15/15 [01:00<00:00,  4.03s/it]\n"
          ]
        },
        {
          "name": "stdout",
          "output_type": "stream",
          "text": [
            "Epoch: 10, Train loss: 5.571856886304402, Val metrics: {'r2': -0.0686484180721405, 'mae': 3.9024687066903176, 'rmse': 4.792561705374601}\n"
          ]
        },
        {
          "name": "stderr",
          "output_type": "stream",
          "text": [
            "100%|██████████| 15/15 [01:02<00:00,  4.19s/it]\n"
          ]
        },
        {
          "name": "stdout",
          "output_type": "stream",
          "text": [
            "Epoch: 11, Train loss: 5.519861133214085, Val metrics: {'r2': 0.03335723130206958, 'mae': 3.7776233420821135, 'rmse': 4.558094163599346}\n"
          ]
        },
        {
          "name": "stderr",
          "output_type": "stream",
          "text": [
            "100%|██████████| 15/15 [01:05<00:00,  4.36s/it]\n"
          ]
        },
        {
          "name": "stdout",
          "output_type": "stream",
          "text": [
            "Epoch: 12, Train loss: 5.4761660655968685, Val metrics: {'r2': 0.06327482732625278, 'mae': 3.7275158431741824, 'rmse': 4.487003261719791}\n"
          ]
        },
        {
          "name": "stderr",
          "output_type": "stream",
          "text": [
            "100%|██████████| 15/15 [01:02<00:00,  4.17s/it]\n"
          ]
        },
        {
          "name": "stdout",
          "output_type": "stream",
          "text": [
            "Epoch: 13, Train loss: 5.386480448246962, Val metrics: {'r2': 0.2164630595785113, 'mae': 3.379965872245386, 'rmse': 4.103741799018498}\n"
          ]
        },
        {
          "name": "stderr",
          "output_type": "stream",
          "text": [
            "100%|██████████| 15/15 [00:59<00:00,  4.00s/it]\n"
          ]
        },
        {
          "name": "stdout",
          "output_type": "stream",
          "text": [
            "Epoch: 14, Train loss: 5.084470880378673, Val metrics: {'r2': 0.20986798192137457, 'mae': 3.301885331242421, 'rmse': 4.1209763300334465}\n"
          ]
        },
        {
          "name": "stderr",
          "output_type": "stream",
          "text": [
            "100%|██████████| 15/15 [00:59<00:00,  3.95s/it]\n"
          ]
        },
        {
          "name": "stdout",
          "output_type": "stream",
          "text": [
            "Epoch: 15, Train loss: 4.9738413818279525, Val metrics: {'r2': 0.27110258771314966, 'mae': 3.1657957933230967, 'rmse': 3.958070211705788}\n"
          ]
        },
        {
          "name": "stderr",
          "output_type": "stream",
          "text": [
            "100%|██████████| 15/15 [00:58<00:00,  3.92s/it]\n"
          ]
        },
        {
          "name": "stdout",
          "output_type": "stream",
          "text": [
            "Epoch: 16, Train loss: 4.893534035134376, Val metrics: {'r2': 0.2311856986164289, 'mae': 3.269431392081037, 'rmse': 4.065004365612225}\n"
          ]
        },
        {
          "name": "stderr",
          "output_type": "stream",
          "text": [
            "100%|██████████| 15/15 [2:45:59<00:00, 663.99s/it]  \n"
          ]
        },
        {
          "name": "stdout",
          "output_type": "stream",
          "text": [
            "Epoch: 17, Train loss: 4.834643205476098, Val metrics: {'r2': 0.24973609680509434, 'mae': 3.207430163429989, 'rmse': 4.015663523472618}\n"
          ]
        },
        {
          "name": "stderr",
          "output_type": "stream",
          "text": [
            "100%|██████████| 15/15 [01:02<00:00,  4.14s/it]\n"
          ]
        },
        {
          "name": "stdout",
          "output_type": "stream",
          "text": [
            "Epoch: 18, Train loss: 4.818076493995039, Val metrics: {'r2': 0.23463687318639148, 'mae': 3.238905547058575, 'rmse': 4.05587028795229}\n"
          ]
        },
        {
          "name": "stderr",
          "output_type": "stream",
          "text": [
            "100%|██████████| 15/15 [01:01<00:00,  4.09s/it]\n"
          ]
        },
        {
          "name": "stdout",
          "output_type": "stream",
          "text": [
            "Epoch: 19, Train loss: 4.761534392521811, Val metrics: {'r2': 0.20485142909761667, 'mae': 3.294718279771671, 'rmse': 4.134037682646951}\n"
          ]
        },
        {
          "name": "stderr",
          "output_type": "stream",
          "text": [
            "100%|██████████| 15/15 [01:01<00:00,  4.07s/it]\n"
          ]
        },
        {
          "name": "stdout",
          "output_type": "stream",
          "text": [
            "Epoch: 20, Train loss: 4.748755589565398, Val metrics: {'r2': 0.24147104645755835, 'mae': 3.2304871273741536, 'rmse': 4.037721598758734}\n"
          ]
        },
        {
          "name": "stderr",
          "output_type": "stream",
          "text": [
            "100%|██████████| 15/15 [01:02<00:00,  4.18s/it]\n"
          ]
        },
        {
          "name": "stdout",
          "output_type": "stream",
          "text": [
            "Epoch: 21, Train loss: 4.711323806299998, Val metrics: {'r2': 0.22956762625095506, 'mae': 3.2595222233929633, 'rmse': 4.069279789510507}\n"
          ]
        },
        {
          "name": "stderr",
          "output_type": "stream",
          "text": [
            "100%|██████████| 15/15 [01:02<00:00,  4.14s/it]\n"
          ]
        },
        {
          "name": "stdout",
          "output_type": "stream",
          "text": [
            "Epoch: 22, Train loss: 4.692820130715062, Val metrics: {'r2': 0.2389922463669002, 'mae': 3.2574049183584965, 'rmse': 4.04431366164525}\n"
          ]
        },
        {
          "name": "stderr",
          "output_type": "stream",
          "text": [
            "100%|██████████| 15/15 [01:03<00:00,  4.21s/it]\n"
          ]
        },
        {
          "name": "stdout",
          "output_type": "stream",
          "text": [
            "Epoch: 23, Train loss: 4.7023934671803, Val metrics: {'r2': 0.266670271061466, 'mae': 3.144748122865706, 'rmse': 3.970086190402495}\n"
          ]
        },
        {
          "name": "stderr",
          "output_type": "stream",
          "text": [
            "100%|██████████| 15/15 [01:03<00:00,  4.21s/it]\n"
          ]
        },
        {
          "name": "stdout",
          "output_type": "stream",
          "text": [
            "Epoch: 24, Train loss: 4.670735622914257, Val metrics: {'r2': 0.2610253950798419, 'mae': 3.2028022242452434, 'rmse': 3.9853369578746265}\n"
          ]
        },
        {
          "name": "stderr",
          "output_type": "stream",
          "text": [
            "100%|██████████| 15/15 [01:08<00:00,  4.57s/it]\n"
          ]
        },
        {
          "name": "stdout",
          "output_type": "stream",
          "text": [
            "Epoch: 25, Train loss: 4.6194432938833065, Val metrics: {'r2': 0.2635136773505743, 'mae': 3.1913496728411657, 'rmse': 3.978621567949877}\n"
          ]
        },
        {
          "name": "stderr",
          "output_type": "stream",
          "text": [
            "100%|██████████| 15/15 [01:08<00:00,  4.55s/it]\n"
          ]
        },
        {
          "name": "stdout",
          "output_type": "stream",
          "text": [
            "Epoch: 26, Train loss: 4.617296556810333, Val metrics: {'r2': 0.2601947707209127, 'mae': 3.1684650690936214, 'rmse': 3.987576133779907}\n"
          ]
        },
        {
          "name": "stderr",
          "output_type": "stream",
          "text": [
            "100%|██████████| 15/15 [01:00<00:00,  4.00s/it]\n"
          ]
        },
        {
          "name": "stdout",
          "output_type": "stream",
          "text": [
            "Epoch: 27, Train loss: 4.5545301838527665, Val metrics: {'r2': 0.2618546833176292, 'mae': 3.1909394464257086, 'rmse': 3.9831001280908667}\n"
          ]
        },
        {
          "name": "stderr",
          "output_type": "stream",
          "text": [
            "100%|██████████| 15/15 [01:00<00:00,  4.00s/it]\n"
          ]
        },
        {
          "name": "stdout",
          "output_type": "stream",
          "text": [
            "Epoch: 28, Train loss: 4.521451304458891, Val metrics: {'r2': 0.2766520806110373, 'mae': 3.1332496499410056, 'rmse': 3.9429739509091144}\n"
          ]
        },
        {
          "name": "stderr",
          "output_type": "stream",
          "text": [
            "100%|██████████| 15/15 [00:59<00:00,  3.96s/it]\n"
          ]
        },
        {
          "name": "stdout",
          "output_type": "stream",
          "text": [
            "Epoch: 29, Train loss: 4.4893875544972985, Val metrics: {'r2': 0.2588913954433095, 'mae': 3.198236611594975, 'rmse': 3.991087207254689}\n"
          ]
        },
        {
          "name": "stderr",
          "output_type": "stream",
          "text": [
            "100%|██████████| 15/15 [01:02<00:00,  4.19s/it]\n"
          ]
        },
        {
          "name": "stdout",
          "output_type": "stream",
          "text": [
            "Epoch: 30, Train loss: 4.490737140762491, Val metrics: {'r2': 0.2913188017253885, 'mae': 3.137066746809201, 'rmse': 3.9027950459525718}\n",
            "Best Val metrics: {'r2': 0.27652167343957545, 'mae': 3.133577138643386, 'rmse': 3.9433293600375565}\n"
          ]
        },
        {
          "ename": "KeyError",
          "evalue": "'position'",
          "output_type": "error",
          "traceback": [
            "\u001b[1;31m---------------------------------------------------------------------------\u001b[0m",
            "\u001b[1;31mKeyError\u001b[0m                                  Traceback (most recent call last)",
            "File \u001b[1;32mc:\\Users\\andrea\\Desktop\\Tesi (GNN)\\Laboratori GNNs\\venv\\lib\\site-packages\\pandas\\core\\indexes\\base.py:3805\u001b[0m, in \u001b[0;36mIndex.get_loc\u001b[1;34m(self, key)\u001b[0m\n\u001b[0;32m   3804\u001b[0m \u001b[38;5;28;01mtry\u001b[39;00m:\n\u001b[1;32m-> 3805\u001b[0m     \u001b[38;5;28;01mreturn\u001b[39;00m \u001b[38;5;28;43mself\u001b[39;49m\u001b[38;5;241;43m.\u001b[39;49m\u001b[43m_engine\u001b[49m\u001b[38;5;241;43m.\u001b[39;49m\u001b[43mget_loc\u001b[49m\u001b[43m(\u001b[49m\u001b[43mcasted_key\u001b[49m\u001b[43m)\u001b[49m\n\u001b[0;32m   3806\u001b[0m \u001b[38;5;28;01mexcept\u001b[39;00m \u001b[38;5;167;01mKeyError\u001b[39;00m \u001b[38;5;28;01mas\u001b[39;00m err:\n",
            "File \u001b[1;32mindex.pyx:167\u001b[0m, in \u001b[0;36mpandas._libs.index.IndexEngine.get_loc\u001b[1;34m()\u001b[0m\n",
            "File \u001b[1;32mindex.pyx:196\u001b[0m, in \u001b[0;36mpandas._libs.index.IndexEngine.get_loc\u001b[1;34m()\u001b[0m\n",
            "File \u001b[1;32mpandas\\\\_libs\\\\hashtable_class_helper.pxi:7081\u001b[0m, in \u001b[0;36mpandas._libs.hashtable.PyObjectHashTable.get_item\u001b[1;34m()\u001b[0m\n",
            "File \u001b[1;32mpandas\\\\_libs\\\\hashtable_class_helper.pxi:7089\u001b[0m, in \u001b[0;36mpandas._libs.hashtable.PyObjectHashTable.get_item\u001b[1;34m()\u001b[0m\n",
            "\u001b[1;31mKeyError\u001b[0m: 'position'",
            "\nThe above exception was the direct cause of the following exception:\n",
            "\u001b[1;31mKeyError\u001b[0m                                  Traceback (most recent call last)",
            "Cell \u001b[1;32mIn[84], line 25\u001b[0m\n\u001b[0;32m     22\u001b[0m \u001b[38;5;28mprint\u001b[39m(\u001b[38;5;124mf\u001b[39m\u001b[38;5;124m\"\u001b[39m\u001b[38;5;124mBest Val metrics: \u001b[39m\u001b[38;5;132;01m{\u001b[39;00mval_metrics\u001b[38;5;132;01m}\u001b[39;00m\u001b[38;5;124m\"\u001b[39m)\n\u001b[0;32m     24\u001b[0m test_pred \u001b[38;5;241m=\u001b[39m test(loader_dict[\u001b[38;5;124m\"\u001b[39m\u001b[38;5;124mtest\u001b[39m\u001b[38;5;124m\"\u001b[39m])\n\u001b[1;32m---> 25\u001b[0m test_metrics \u001b[38;5;241m=\u001b[39m \u001b[43mcustom_evaluate\u001b[49m\u001b[43m(\u001b[49m\u001b[43mtest_pred\u001b[49m\u001b[43m,\u001b[49m\u001b[43m \u001b[49m\u001b[43mtest_table\u001b[49m\u001b[43m,\u001b[49m\u001b[43m \u001b[49m\u001b[43mtask\u001b[49m\u001b[38;5;241;43m.\u001b[39;49m\u001b[43mmetrics\u001b[49m\u001b[43m)\u001b[49m\n\u001b[0;32m     26\u001b[0m \u001b[38;5;28mprint\u001b[39m(\u001b[38;5;124mf\u001b[39m\u001b[38;5;124m\"\u001b[39m\u001b[38;5;124mBest test metrics: \u001b[39m\u001b[38;5;132;01m{\u001b[39;00mtest_metrics\u001b[38;5;132;01m}\u001b[39;00m\u001b[38;5;124m\"\u001b[39m)\n",
            "Cell \u001b[1;32mIn[83], line 7\u001b[0m, in \u001b[0;36mcustom_evaluate\u001b[1;34m(pred, target_table, metrics)\u001b[0m\n\u001b[0;32m      4\u001b[0m \u001b[38;5;250m\u001b[39m\u001b[38;5;124;03m\"\"\"Custom evaluation function to replace task.evaluate.\"\"\"\u001b[39;00m\n\u001b[0;32m      6\u001b[0m \u001b[38;5;66;03m# Extract target values from the target table\u001b[39;00m\n\u001b[1;32m----> 7\u001b[0m target \u001b[38;5;241m=\u001b[39m \u001b[43mtarget_table\u001b[49m\u001b[38;5;241;43m.\u001b[39;49m\u001b[43mdf\u001b[49m\u001b[43m[\u001b[49m\u001b[43mtask\u001b[49m\u001b[38;5;241;43m.\u001b[39;49m\u001b[43mtarget_col\u001b[49m\u001b[43m]\u001b[49m\u001b[38;5;241m.\u001b[39mto_numpy()\n\u001b[0;32m      9\u001b[0m \u001b[38;5;66;03m# Check for length mismatch\u001b[39;00m\n\u001b[0;32m     10\u001b[0m \u001b[38;5;28;01mif\u001b[39;00m \u001b[38;5;28mlen\u001b[39m(pred) \u001b[38;5;241m!=\u001b[39m \u001b[38;5;28mlen\u001b[39m(target):\n",
            "File \u001b[1;32mc:\\Users\\andrea\\Desktop\\Tesi (GNN)\\Laboratori GNNs\\venv\\lib\\site-packages\\pandas\\core\\frame.py:4102\u001b[0m, in \u001b[0;36mDataFrame.__getitem__\u001b[1;34m(self, key)\u001b[0m\n\u001b[0;32m   4100\u001b[0m \u001b[38;5;28;01mif\u001b[39;00m \u001b[38;5;28mself\u001b[39m\u001b[38;5;241m.\u001b[39mcolumns\u001b[38;5;241m.\u001b[39mnlevels \u001b[38;5;241m>\u001b[39m \u001b[38;5;241m1\u001b[39m:\n\u001b[0;32m   4101\u001b[0m     \u001b[38;5;28;01mreturn\u001b[39;00m \u001b[38;5;28mself\u001b[39m\u001b[38;5;241m.\u001b[39m_getitem_multilevel(key)\n\u001b[1;32m-> 4102\u001b[0m indexer \u001b[38;5;241m=\u001b[39m \u001b[38;5;28;43mself\u001b[39;49m\u001b[38;5;241;43m.\u001b[39;49m\u001b[43mcolumns\u001b[49m\u001b[38;5;241;43m.\u001b[39;49m\u001b[43mget_loc\u001b[49m\u001b[43m(\u001b[49m\u001b[43mkey\u001b[49m\u001b[43m)\u001b[49m\n\u001b[0;32m   4103\u001b[0m \u001b[38;5;28;01mif\u001b[39;00m is_integer(indexer):\n\u001b[0;32m   4104\u001b[0m     indexer \u001b[38;5;241m=\u001b[39m [indexer]\n",
            "File \u001b[1;32mc:\\Users\\andrea\\Desktop\\Tesi (GNN)\\Laboratori GNNs\\venv\\lib\\site-packages\\pandas\\core\\indexes\\base.py:3812\u001b[0m, in \u001b[0;36mIndex.get_loc\u001b[1;34m(self, key)\u001b[0m\n\u001b[0;32m   3807\u001b[0m     \u001b[38;5;28;01mif\u001b[39;00m \u001b[38;5;28misinstance\u001b[39m(casted_key, \u001b[38;5;28mslice\u001b[39m) \u001b[38;5;129;01mor\u001b[39;00m (\n\u001b[0;32m   3808\u001b[0m         \u001b[38;5;28misinstance\u001b[39m(casted_key, abc\u001b[38;5;241m.\u001b[39mIterable)\n\u001b[0;32m   3809\u001b[0m         \u001b[38;5;129;01mand\u001b[39;00m \u001b[38;5;28many\u001b[39m(\u001b[38;5;28misinstance\u001b[39m(x, \u001b[38;5;28mslice\u001b[39m) \u001b[38;5;28;01mfor\u001b[39;00m x \u001b[38;5;129;01min\u001b[39;00m casted_key)\n\u001b[0;32m   3810\u001b[0m     ):\n\u001b[0;32m   3811\u001b[0m         \u001b[38;5;28;01mraise\u001b[39;00m InvalidIndexError(key)\n\u001b[1;32m-> 3812\u001b[0m     \u001b[38;5;28;01mraise\u001b[39;00m \u001b[38;5;167;01mKeyError\u001b[39;00m(key) \u001b[38;5;28;01mfrom\u001b[39;00m\u001b[38;5;250m \u001b[39m\u001b[38;5;21;01merr\u001b[39;00m\n\u001b[0;32m   3813\u001b[0m \u001b[38;5;28;01mexcept\u001b[39;00m \u001b[38;5;167;01mTypeError\u001b[39;00m:\n\u001b[0;32m   3814\u001b[0m     \u001b[38;5;66;03m# If we have a listlike key, _check_indexing_error will raise\u001b[39;00m\n\u001b[0;32m   3815\u001b[0m     \u001b[38;5;66;03m#  InvalidIndexError. Otherwise we fall through and re-raise\u001b[39;00m\n\u001b[0;32m   3816\u001b[0m     \u001b[38;5;66;03m#  the TypeError.\u001b[39;00m\n\u001b[0;32m   3817\u001b[0m     \u001b[38;5;28mself\u001b[39m\u001b[38;5;241m.\u001b[39m_check_indexing_error(key)\n",
            "\u001b[1;31mKeyError\u001b[0m: 'position'"
          ]
        }
      ],
      "source": [
        "# from sklearn.metrics import mean_squared_error\n",
        "# epochs = 30\n",
        "# state_dict = None\n",
        "# best_val_metric = -math.inf if higher_is_better else math.inf\n",
        "# for epoch in range(1, epochs + 1):\n",
        "#     train_loss = train(model, optimizer)\n",
        "#     val_pred = test(model, loader_dict[\"val\"])\n",
        "#     #val_metrics = task.evaluate(val_pred, val_table)\n",
        "#     val_metrics = custom_evaluate(val_pred, val_table, task.metrics)\n",
        "#     print(f\"Epoch: {epoch:02d}, Train loss: {train_loss}, Val metrics: {val_metrics}\")\n",
        "\n",
        "#     if (higher_is_better and val_metrics[tune_metric] > best_val_metric) or (\n",
        "#         not higher_is_better and val_metrics[tune_metric] < best_val_metric\n",
        "#     ):\n",
        "#         best_val_metric = val_metrics[tune_metric]\n",
        "#         state_dict = copy.deepcopy(model.state_dict())\n",
        "\n",
        "\n",
        "# model.load_state_dict(state_dict)\n",
        "# val_pred = test(loader_dict[\"val\"])\n",
        "# val_metrics = custom_evaluate(val_pred, val_table, task.metrics)\n",
        "# print(f\"Best Val metrics: {val_metrics}\")\n",
        "\n",
        "# # test_pred = test(loader_dict[\"test\"])\n",
        "# # test_metrics = custom_evaluate(test_pred, test_table, task.metrics)\n",
        "# # print(f\"Best test metrics: {test_metrics}\")"
      ]
    },
    {
      "cell_type": "code",
      "execution_count": null,
      "metadata": {},
      "outputs": [
        {
          "ename": "KeyError",
          "evalue": "'position'",
          "output_type": "error",
          "traceback": [
            "\u001b[1;31m---------------------------------------------------------------------------\u001b[0m",
            "\u001b[1;31mKeyError\u001b[0m                                  Traceback (most recent call last)",
            "File \u001b[1;32mc:\\Users\\andrea\\Desktop\\Tesi (GNN)\\Laboratori GNNs\\venv\\lib\\site-packages\\pandas\\core\\indexes\\base.py:3805\u001b[0m, in \u001b[0;36mIndex.get_loc\u001b[1;34m(self, key)\u001b[0m\n\u001b[0;32m   3804\u001b[0m \u001b[38;5;28;01mtry\u001b[39;00m:\n\u001b[1;32m-> 3805\u001b[0m     \u001b[38;5;28;01mreturn\u001b[39;00m \u001b[38;5;28;43mself\u001b[39;49m\u001b[38;5;241;43m.\u001b[39;49m\u001b[43m_engine\u001b[49m\u001b[38;5;241;43m.\u001b[39;49m\u001b[43mget_loc\u001b[49m\u001b[43m(\u001b[49m\u001b[43mcasted_key\u001b[49m\u001b[43m)\u001b[49m\n\u001b[0;32m   3806\u001b[0m \u001b[38;5;28;01mexcept\u001b[39;00m \u001b[38;5;167;01mKeyError\u001b[39;00m \u001b[38;5;28;01mas\u001b[39;00m err:\n",
            "File \u001b[1;32mindex.pyx:167\u001b[0m, in \u001b[0;36mpandas._libs.index.IndexEngine.get_loc\u001b[1;34m()\u001b[0m\n",
            "File \u001b[1;32mindex.pyx:196\u001b[0m, in \u001b[0;36mpandas._libs.index.IndexEngine.get_loc\u001b[1;34m()\u001b[0m\n",
            "File \u001b[1;32mpandas\\\\_libs\\\\hashtable_class_helper.pxi:7081\u001b[0m, in \u001b[0;36mpandas._libs.hashtable.PyObjectHashTable.get_item\u001b[1;34m()\u001b[0m\n",
            "File \u001b[1;32mpandas\\\\_libs\\\\hashtable_class_helper.pxi:7089\u001b[0m, in \u001b[0;36mpandas._libs.hashtable.PyObjectHashTable.get_item\u001b[1;34m()\u001b[0m\n",
            "\u001b[1;31mKeyError\u001b[0m: 'position'",
            "\nThe above exception was the direct cause of the following exception:\n",
            "\u001b[1;31mKeyError\u001b[0m                                  Traceback (most recent call last)",
            "Cell \u001b[1;32mIn[87], line 2\u001b[0m\n\u001b[0;32m      1\u001b[0m test_pred \u001b[38;5;241m=\u001b[39m test(loader_dict[\u001b[38;5;124m\"\u001b[39m\u001b[38;5;124mtest\u001b[39m\u001b[38;5;124m\"\u001b[39m])\n\u001b[1;32m----> 2\u001b[0m test_metrics \u001b[38;5;241m=\u001b[39m \u001b[43mcustom_evaluate\u001b[49m\u001b[43m(\u001b[49m\u001b[43mtest_pred\u001b[49m\u001b[43m,\u001b[49m\u001b[43m \u001b[49m\u001b[43mtest_table\u001b[49m\u001b[43m,\u001b[49m\u001b[43m \u001b[49m\u001b[43mtask\u001b[49m\u001b[38;5;241;43m.\u001b[39;49m\u001b[43mmetrics\u001b[49m\u001b[43m)\u001b[49m\n\u001b[0;32m      3\u001b[0m \u001b[38;5;28mprint\u001b[39m(\u001b[38;5;124mf\u001b[39m\u001b[38;5;124m\"\u001b[39m\u001b[38;5;124mBest test metrics: \u001b[39m\u001b[38;5;132;01m{\u001b[39;00mtest_metrics\u001b[38;5;132;01m}\u001b[39;00m\u001b[38;5;124m\"\u001b[39m)\n",
            "Cell \u001b[1;32mIn[83], line 7\u001b[0m, in \u001b[0;36mcustom_evaluate\u001b[1;34m(pred, target_table, metrics)\u001b[0m\n\u001b[0;32m      4\u001b[0m \u001b[38;5;250m\u001b[39m\u001b[38;5;124;03m\"\"\"Custom evaluation function to replace task.evaluate.\"\"\"\u001b[39;00m\n\u001b[0;32m      6\u001b[0m \u001b[38;5;66;03m# Extract target values from the target table\u001b[39;00m\n\u001b[1;32m----> 7\u001b[0m target \u001b[38;5;241m=\u001b[39m \u001b[43mtarget_table\u001b[49m\u001b[38;5;241;43m.\u001b[39;49m\u001b[43mdf\u001b[49m\u001b[43m[\u001b[49m\u001b[43mtask\u001b[49m\u001b[38;5;241;43m.\u001b[39;49m\u001b[43mtarget_col\u001b[49m\u001b[43m]\u001b[49m\u001b[38;5;241m.\u001b[39mto_numpy()\n\u001b[0;32m      9\u001b[0m \u001b[38;5;66;03m# Check for length mismatch\u001b[39;00m\n\u001b[0;32m     10\u001b[0m \u001b[38;5;28;01mif\u001b[39;00m \u001b[38;5;28mlen\u001b[39m(pred) \u001b[38;5;241m!=\u001b[39m \u001b[38;5;28mlen\u001b[39m(target):\n",
            "File \u001b[1;32mc:\\Users\\andrea\\Desktop\\Tesi (GNN)\\Laboratori GNNs\\venv\\lib\\site-packages\\pandas\\core\\frame.py:4102\u001b[0m, in \u001b[0;36mDataFrame.__getitem__\u001b[1;34m(self, key)\u001b[0m\n\u001b[0;32m   4100\u001b[0m \u001b[38;5;28;01mif\u001b[39;00m \u001b[38;5;28mself\u001b[39m\u001b[38;5;241m.\u001b[39mcolumns\u001b[38;5;241m.\u001b[39mnlevels \u001b[38;5;241m>\u001b[39m \u001b[38;5;241m1\u001b[39m:\n\u001b[0;32m   4101\u001b[0m     \u001b[38;5;28;01mreturn\u001b[39;00m \u001b[38;5;28mself\u001b[39m\u001b[38;5;241m.\u001b[39m_getitem_multilevel(key)\n\u001b[1;32m-> 4102\u001b[0m indexer \u001b[38;5;241m=\u001b[39m \u001b[38;5;28;43mself\u001b[39;49m\u001b[38;5;241;43m.\u001b[39;49m\u001b[43mcolumns\u001b[49m\u001b[38;5;241;43m.\u001b[39;49m\u001b[43mget_loc\u001b[49m\u001b[43m(\u001b[49m\u001b[43mkey\u001b[49m\u001b[43m)\u001b[49m\n\u001b[0;32m   4103\u001b[0m \u001b[38;5;28;01mif\u001b[39;00m is_integer(indexer):\n\u001b[0;32m   4104\u001b[0m     indexer \u001b[38;5;241m=\u001b[39m [indexer]\n",
            "File \u001b[1;32mc:\\Users\\andrea\\Desktop\\Tesi (GNN)\\Laboratori GNNs\\venv\\lib\\site-packages\\pandas\\core\\indexes\\base.py:3812\u001b[0m, in \u001b[0;36mIndex.get_loc\u001b[1;34m(self, key)\u001b[0m\n\u001b[0;32m   3807\u001b[0m     \u001b[38;5;28;01mif\u001b[39;00m \u001b[38;5;28misinstance\u001b[39m(casted_key, \u001b[38;5;28mslice\u001b[39m) \u001b[38;5;129;01mor\u001b[39;00m (\n\u001b[0;32m   3808\u001b[0m         \u001b[38;5;28misinstance\u001b[39m(casted_key, abc\u001b[38;5;241m.\u001b[39mIterable)\n\u001b[0;32m   3809\u001b[0m         \u001b[38;5;129;01mand\u001b[39;00m \u001b[38;5;28many\u001b[39m(\u001b[38;5;28misinstance\u001b[39m(x, \u001b[38;5;28mslice\u001b[39m) \u001b[38;5;28;01mfor\u001b[39;00m x \u001b[38;5;129;01min\u001b[39;00m casted_key)\n\u001b[0;32m   3810\u001b[0m     ):\n\u001b[0;32m   3811\u001b[0m         \u001b[38;5;28;01mraise\u001b[39;00m InvalidIndexError(key)\n\u001b[1;32m-> 3812\u001b[0m     \u001b[38;5;28;01mraise\u001b[39;00m \u001b[38;5;167;01mKeyError\u001b[39;00m(key) \u001b[38;5;28;01mfrom\u001b[39;00m\u001b[38;5;250m \u001b[39m\u001b[38;5;21;01merr\u001b[39;00m\n\u001b[0;32m   3813\u001b[0m \u001b[38;5;28;01mexcept\u001b[39;00m \u001b[38;5;167;01mTypeError\u001b[39;00m:\n\u001b[0;32m   3814\u001b[0m     \u001b[38;5;66;03m# If we have a listlike key, _check_indexing_error will raise\u001b[39;00m\n\u001b[0;32m   3815\u001b[0m     \u001b[38;5;66;03m#  InvalidIndexError. Otherwise we fall through and re-raise\u001b[39;00m\n\u001b[0;32m   3816\u001b[0m     \u001b[38;5;66;03m#  the TypeError.\u001b[39;00m\n\u001b[0;32m   3817\u001b[0m     \u001b[38;5;28mself\u001b[39m\u001b[38;5;241m.\u001b[39m_check_indexing_error(key)\n",
            "\u001b[1;31mKeyError\u001b[0m: 'position'"
          ]
        }
      ],
      "source": [
        "#test_pred = test(loader_dict[\"test\"])\n",
        "#test_metrics = custom_evaluate(test_pred, test_table, task.metrics)\n",
        "#print(f\"Best test metrics: {test_metrics}\")"
      ]
    }
  ],
  "metadata": {
    "colab": {
      "include_colab_link": true,
      "provenance": []
    },
    "kernelspec": {
      "display_name": "venv",
      "language": "python",
      "name": "python3"
    },
    "language_info": {
      "codemirror_mode": {
        "name": "ipython",
        "version": 3
      },
      "file_extension": ".py",
      "mimetype": "text/x-python",
      "name": "python",
      "nbconvert_exporter": "python",
      "pygments_lexer": "ipython3",
      "version": "3.10.0"
    }
  },
  "nbformat": 4,
  "nbformat_minor": 0
}
